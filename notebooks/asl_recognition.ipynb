{
 "cells": [
  {
   "cell_type": "markdown",
   "metadata": {},
   "source": [
    "## Device Stuff"
   ]
  },
  {
   "cell_type": "code",
   "execution_count": 74,
   "metadata": {},
   "outputs": [
    {
     "name": "stdout",
     "output_type": "stream",
     "text": [
      "cuda\n"
     ]
    }
   ],
   "source": [
    "import torch\n",
    "\n",
    "#Set up device\n",
    "use_cuda = torch.cuda.is_available()\n",
    "device = torch.device(\"cuda\" if use_cuda else \"cpu\")\n",
    "print(device)"
   ]
  },
  {
   "cell_type": "markdown",
   "metadata": {},
   "source": [
    "## Dataset"
   ]
  },
  {
   "cell_type": "code",
   "execution_count": 75,
   "metadata": {},
   "outputs": [],
   "source": [
    "import os\n",
    "import sys\n",
    "from pathlib import Path\n",
    "import torch\n",
    "import numpy as np\n",
    "import pandas as pd\n",
    "from torch.utils.data import Dataset, DataLoader"
   ]
  },
  {
   "cell_type": "code",
   "execution_count": 76,
   "metadata": {},
   "outputs": [],
   "source": [
    "scriptpath = \"../src/\"\n",
    "sys.path.append(os.path.abspath(scriptpath))\n",
    "from utils import get_classes_indexes"
   ]
  },
  {
   "cell_type": "code",
   "execution_count": 77,
   "metadata": {},
   "outputs": [
    {
     "data": {
      "text/html": [
       "<div>\n",
       "<style scoped>\n",
       "    .dataframe tbody tr th:only-of-type {\n",
       "        vertical-align: middle;\n",
       "    }\n",
       "\n",
       "    .dataframe tbody tr th {\n",
       "        vertical-align: top;\n",
       "    }\n",
       "\n",
       "    .dataframe thead th {\n",
       "        text-align: right;\n",
       "    }\n",
       "</style>\n",
       "<table border=\"1\" class=\"dataframe\">\n",
       "  <thead>\n",
       "    <tr style=\"text-align: right;\">\n",
       "      <th></th>\n",
       "      <th>video_name</th>\n",
       "      <th>class_id</th>\n",
       "      <th>class_name</th>\n",
       "    </tr>\n",
       "  </thead>\n",
       "  <tbody>\n",
       "    <tr>\n",
       "      <th>122</th>\n",
       "      <td>31897</td>\n",
       "      <td>159</td>\n",
       "      <td>know</td>\n",
       "    </tr>\n",
       "    <tr>\n",
       "      <th>326</th>\n",
       "      <td>WIN_20231127_20_25_15_Pro</td>\n",
       "      <td>179</td>\n",
       "      <td>you</td>\n",
       "    </tr>\n",
       "    <tr>\n",
       "      <th>51</th>\n",
       "      <td>WIN_20231127_19_32_27_Pro</td>\n",
       "      <td>1636</td>\n",
       "      <td>blow</td>\n",
       "    </tr>\n",
       "    <tr>\n",
       "      <th>306</th>\n",
       "      <td>64379</td>\n",
       "      <td>179</td>\n",
       "      <td>you</td>\n",
       "    </tr>\n",
       "    <tr>\n",
       "      <th>165</th>\n",
       "      <td>WIN_20231127_19_44_00_Pro</td>\n",
       "      <td>1805</td>\n",
       "      <td>let</td>\n",
       "    </tr>\n",
       "    <tr>\n",
       "      <th>303</th>\n",
       "      <td>WIN_20231127_20_21_30_Pro</td>\n",
       "      <td>1999</td>\n",
       "      <td>whistle</td>\n",
       "    </tr>\n",
       "    <tr>\n",
       "      <th>213</th>\n",
       "      <td>WIN_20231127_20_11_47_Pro</td>\n",
       "      <td>1164</td>\n",
       "      <td>me</td>\n",
       "    </tr>\n",
       "    <tr>\n",
       "      <th>286</th>\n",
       "      <td>WIN_20231127_20_19_57_Pro</td>\n",
       "      <td>1999</td>\n",
       "      <td>whistle</td>\n",
       "    </tr>\n",
       "    <tr>\n",
       "      <th>105</th>\n",
       "      <td>WIN_20231127_00_26_45_Pro</td>\n",
       "      <td>1721</td>\n",
       "      <td>due</td>\n",
       "    </tr>\n",
       "    <tr>\n",
       "      <th>5</th>\n",
       "      <td>01734</td>\n",
       "      <td>632</td>\n",
       "      <td>airplane</td>\n",
       "    </tr>\n",
       "    <tr>\n",
       "      <th>189</th>\n",
       "      <td>WIN_20231127_19_46_15_Pro</td>\n",
       "      <td>1805</td>\n",
       "      <td>let</td>\n",
       "    </tr>\n",
       "    <tr>\n",
       "      <th>58</th>\n",
       "      <td>WIN_20231127_19_33_24_Pro</td>\n",
       "      <td>1636</td>\n",
       "      <td>blow</td>\n",
       "    </tr>\n",
       "    <tr>\n",
       "      <th>25</th>\n",
       "      <td>69217</td>\n",
       "      <td>259</td>\n",
       "      <td>baby</td>\n",
       "    </tr>\n",
       "    <tr>\n",
       "      <th>334</th>\n",
       "      <td>WIN_20231127_20_26_02_Pro</td>\n",
       "      <td>179</td>\n",
       "      <td>you</td>\n",
       "    </tr>\n",
       "    <tr>\n",
       "      <th>231</th>\n",
       "      <td>69404</td>\n",
       "      <td>566</td>\n",
       "      <td>my</td>\n",
       "    </tr>\n",
       "    <tr>\n",
       "      <th>238</th>\n",
       "      <td>WIN_20231127_20_14_35_Pro</td>\n",
       "      <td>566</td>\n",
       "      <td>my</td>\n",
       "    </tr>\n",
       "    <tr>\n",
       "      <th>329</th>\n",
       "      <td>WIN_20231127_20_25_31_Pro</td>\n",
       "      <td>179</td>\n",
       "      <td>you</td>\n",
       "    </tr>\n",
       "    <tr>\n",
       "      <th>351</th>\n",
       "      <td>WIN_20231127_20_27_40_Pro</td>\n",
       "      <td>179</td>\n",
       "      <td>you</td>\n",
       "    </tr>\n",
       "    <tr>\n",
       "      <th>120</th>\n",
       "      <td>WIN_20231127_00_34_43_Pro</td>\n",
       "      <td>1133</td>\n",
       "      <td>heavy</td>\n",
       "    </tr>\n",
       "    <tr>\n",
       "      <th>317</th>\n",
       "      <td>WIN_20231127_20_24_29_Pro</td>\n",
       "      <td>179</td>\n",
       "      <td>you</td>\n",
       "    </tr>\n",
       "  </tbody>\n",
       "</table>\n",
       "</div>"
      ],
      "text/plain": [
       "                    video_name  class_id class_name\n",
       "122                      31897       159       know\n",
       "326  WIN_20231127_20_25_15_Pro       179        you\n",
       "51   WIN_20231127_19_32_27_Pro      1636       blow\n",
       "306                      64379       179        you\n",
       "165  WIN_20231127_19_44_00_Pro      1805        let\n",
       "303  WIN_20231127_20_21_30_Pro      1999    whistle\n",
       "213  WIN_20231127_20_11_47_Pro      1164         me\n",
       "286  WIN_20231127_20_19_57_Pro      1999    whistle\n",
       "105  WIN_20231127_00_26_45_Pro      1721        due\n",
       "5                        01734       632   airplane\n",
       "189  WIN_20231127_19_46_15_Pro      1805        let\n",
       "58   WIN_20231127_19_33_24_Pro      1636       blow\n",
       "25                       69217       259       baby\n",
       "334  WIN_20231127_20_26_02_Pro       179        you\n",
       "231                      69404       566         my\n",
       "238  WIN_20231127_20_14_35_Pro       566         my\n",
       "329  WIN_20231127_20_25_31_Pro       179        you\n",
       "351  WIN_20231127_20_27_40_Pro       179        you\n",
       "120  WIN_20231127_00_34_43_Pro      1133      heavy\n",
       "317  WIN_20231127_20_24_29_Pro       179        you"
      ]
     },
     "execution_count": 77,
     "metadata": {},
     "output_type": "execute_result"
    }
   ],
   "source": [
    "source_folder = os.path.join('..', 'data', 'internal', 'preprocessed_videos')\n",
    "\n",
    "def create_dataframe(videos_root):\n",
    "    data = []\n",
    "    \n",
    "    classes_to_extract = os.listdir(videos_root)\n",
    "    \n",
    "    classes_data = get_classes_indexes(class_file_name=\"../data/raw/dataset/wlasl_class_list.txt\", classes_to_extract=classes_to_extract)\n",
    "\n",
    "    CLASS_TO_IDX = {class_name : idx for (idx, class_name) in  classes_data}\n",
    "    IDX_TO_CLASS = {idx : class_name for (idx, class_name) in  classes_data}\n",
    "    \n",
    "    for class_name in os.listdir(videos_root):\n",
    "        class_path = os.path.join(videos_root, class_name)\n",
    "        for name in os.listdir(class_path):\n",
    "            name = Path(name).stem\n",
    "            data.append([name, CLASS_TO_IDX[class_name], class_name])\n",
    "    return pd.DataFrame(data, columns=['video_name', 'class_id', 'class_name'])\n",
    "\n",
    "dataset = create_dataframe(source_folder)\n",
    "\n",
    "dataset.sample(20)"
   ]
  },
  {
   "cell_type": "code",
   "execution_count": 78,
   "metadata": {},
   "outputs": [
    {
     "name": "stdout",
     "output_type": "stream",
     "text": [
      "Maximum frame count: 168\n"
     ]
    }
   ],
   "source": [
    "import cv2\n",
    "\n",
    "max_frame_count = 0\n",
    "\n",
    "for key, row in dataset.iterrows():\n",
    "    class_name = row['class_name']\n",
    "    file_name = row['video_name']\n",
    "    file_path = os.path.join(source_folder, class_name, file_name+'.mp4')\n",
    "    cap = cv2.VideoCapture(file_path)\n",
    "    length = int(cap.get(cv2.CAP_PROP_FRAME_COUNT))\n",
    "    max_frame_count = max(max_frame_count, length)\n",
    "    \n",
    "print('Maximum frame count:',max_frame_count)"
   ]
  },
  {
   "cell_type": "code",
   "execution_count": 79,
   "metadata": {},
   "outputs": [],
   "source": [
    "IDX_TO_CLASS = [ c_id for i, c_id in enumerate(set(dataset.class_id))]\n",
    "CLASS_TO_IDX = { c_id: i for i, c_id in enumerate(IDX_TO_CLASS)}"
   ]
  },
  {
   "cell_type": "code",
   "execution_count": 80,
   "metadata": {
    "id": "mo19lj56lIbi"
   },
   "outputs": [],
   "source": [
    "from os.path import exists\n",
    "import torch.nn.functional as F\n",
    "\n",
    "class ASLDataset(Dataset):\n",
    "    \"\"\"\n",
    "    A custom dataset class for loading American Sign Language (ASL) videos and their corresponding labels.\n",
    "\n",
    "    Args:\n",
    "        tensors_folder (str): Path to the folder containing the .pt arrays (converted videos).\n",
    "        dataset_df (DataFrame): Pandas dataframe with information about videos\n",
    "        max_frame_count (int): Maximum length of video in frames.\n",
    "        ohe (OneHotEncoder): Required to encode class id to one hot numeric array.\n",
    "\n",
    "    Attributes:\n",
    "        tensors_folder (str): Path to the folder containing the .pt arrays (converted videos).\n",
    "        name_with_label (dict): A dictionary mapping video names to their labels.\n",
    "        classes (list): A list of class names.\n",
    "    \"\"\"\n",
    "\n",
    "    def __init__(self, tensors_folder: str, dataset_df: pd.DataFrame, max_frame_count: int) -> None:\n",
    "        # Default frame (set of points) to insert in short videos to make all videos equal in length\n",
    "        default_frame = [0] * (21 * 3 * 2 + 33 * 3)\n",
    "        \n",
    "        self.tensor_sequences = []\n",
    "        self.targets = []\n",
    "        for i, row in dataset_df.iterrows():\n",
    "            path_to_tensor = tensors_folder + '/' + row[\"video_name\"] + '.pt'\n",
    "            \n",
    "            if not exists(path_to_tensor):\n",
    "                continue\n",
    "            \n",
    "            # Open the video file using OpenCV\n",
    "            tensor = torch.load(path_to_tensor)\n",
    "\n",
    "            # Change length of video (not a video but sequence of frames with points coordinates in each frame)\n",
    "            # pad_right = [default_frame for _ in range(0, max_frame_count - tensor.shape[0])]\n",
    "            # pad_right = torch.tensor(pad_right)\n",
    "            # self.tensor_sequences.append(torch.cat((pad_right, F.normalize(tensor.float(), dim=1))))\n",
    "            self.tensor_sequences.append(F.normalize(tensor.float(), dim=1))\n",
    "            self.targets.append(CLASS_TO_IDX[dataset_df[\"class_id\"][i]])\n",
    "        self.targets = torch.tensor(self.targets)\n",
    "            \n",
    "            \n",
    "    def __len__(self):\n",
    "        \"\"\"\n",
    "        Returns the number of videos in the dataset.\n",
    "\n",
    "        Returns:\n",
    "            int: The number of videos in the dataset.\n",
    "        \"\"\"\n",
    "        return len(self.targets)\n",
    "\n",
    "    def __getitem__(self, index):\n",
    "        \"\"\"\n",
    "        Retrieves a video and its corresponding label from the dataset.\n",
    "\n",
    "        Args:\n",
    "            index (int): The index of the video to retrieve.\n",
    "\n",
    "        Returns:\n",
    "            tuple: A tuple containing the video frames as a PyTorch tensor and the label.\n",
    "        \"\"\"\n",
    "\n",
    "        return self.tensor_sequences[index].float(), self.targets[index].long()\n"
   ]
  },
  {
   "cell_type": "code",
   "execution_count": 81,
   "metadata": {},
   "outputs": [],
   "source": [
    "def read_classes(path):\n",
    "    classes = dict()\n",
    "    with open(path, 'r') as file:\n",
    "        for line in file:\n",
    "            line = line.strip().split('\\t')\n",
    "            key = int(line[0])\n",
    "            value = line[1]\n",
    "            classes[key] = value\n",
    "    return classes"
   ]
  },
  {
   "cell_type": "code",
   "execution_count": 82,
   "metadata": {},
   "outputs": [],
   "source": [
    "from sklearn.model_selection import train_test_split\n",
    "\n",
    "train, test = train_test_split(dataset, test_size=0.2, random_state=42)"
   ]
  },
  {
   "cell_type": "code",
   "execution_count": 83,
   "metadata": {
    "pycharm": {
     "name": "#%%\n"
    }
   },
   "outputs": [],
   "source": [
    "classes = read_classes('../data/raw/dataset/wlasl_class_list.txt')\n",
    "\n",
    "train_dataset = ASLDataset('../data/internal/features', train, max_frame_count)\n",
    "test_dataset = ASLDataset('../data/internal/features', test, max_frame_count)"
   ]
  },
  {
   "cell_type": "code",
   "execution_count": 84,
   "metadata": {},
   "outputs": [
    {
     "name": "stdout",
     "output_type": "stream",
     "text": [
      "Train size: 284\n",
      "Test size: 71\n"
     ]
    }
   ],
   "source": [
    "# Create dataloaders\n",
    "batch_size = 1\n",
    "\n",
    "train_dataloader = DataLoader(train_dataset, batch_size=batch_size, shuffle=True)\n",
    "# val_dataloader = DataLoader(val_dataset, batch_size=batch_size, shuffle=True)\n",
    "test_dataloader = DataLoader(test_dataset, batch_size=batch_size, shuffle=False)\n",
    "\n",
    "print(f\"Train size: {len(train_dataset)}\")\n",
    "#print(f\"Validation size: {len(val_dataset)}\")\n",
    "print(f\"Test size: {len(test_dataset)}\")"
   ]
  },
  {
   "cell_type": "markdown",
   "metadata": {
    "pycharm": {
     "name": "#%%\n"
    }
   },
   "source": [
    "## Model"
   ]
  },
  {
   "cell_type": "code",
   "execution_count": 85,
   "metadata": {},
   "outputs": [],
   "source": [
    "import torch.nn as nn\n",
    "\n",
    "class SequenceModel(nn.Module):\n",
    "    def __init__(self, input_size, output_size) -> None:\n",
    "        super().__init__()\n",
    "        self.lstm = nn.Sequential(\n",
    "            nn.LSTM(input_size, 64, 1, batch_first=True, bidirectional=True),\n",
    "        )\n",
    "        self.linear = nn.Sequential(\n",
    "            nn.Linear(64 * 2, 16),\n",
    "            nn.ReLU(),\n",
    "            nn.Linear(16, output_size),\n",
    "        )\n",
    "\n",
    "    def forward(self, x):\n",
    "        x, _ = self.lstm(x)\n",
    "        x = self.linear(x[:,-1,:])\n",
    "\n",
    "        return x"
   ]
  },
  {
   "cell_type": "markdown",
   "metadata": {},
   "source": [
    "## Training"
   ]
  },
  {
   "cell_type": "code",
   "execution_count": 86,
   "metadata": {},
   "outputs": [],
   "source": [
    "from sklearn.metrics import f1_score, accuracy_score\n",
    "from tqdm import tqdm\n",
    "\n",
    "\n",
    "def train_model(model: nn.Module, epochs: int, criterion, optimizer, ckpt_path='models/best.pt'):\n",
    "    \"\"\"\n",
    "    Function that trains model using number of epochs, loss function, optimizer.\n",
    "    Can use validation or test data set for evaluation.\n",
    "    Calculates f1 score.\n",
    "\n",
    "    Parameter\n",
    "    ---------\n",
    "    model : nn.Module\n",
    "      Model to train.\n",
    "    epochs: int\n",
    "      Number of train epochs\n",
    "    criterion\n",
    "      The loss function from pytorch\n",
    "    optimizer\n",
    "      The optimizer from pytorch\n",
    "    \"\"\"\n",
    "\n",
    "    model.train()\n",
    "    model.to(device)\n",
    "\n",
    "    history = {'train_losses': [], 'test_losses': [],\n",
    "               'train_scores': [], 'test_scores': []}\n",
    "\n",
    "    # Train the model\n",
    "    for epoch in range(epochs):\n",
    "        model.train()\n",
    "\n",
    "        predicted_train = []\n",
    "        true_train = []\n",
    "\n",
    "        train_loss = 0.0\n",
    "\n",
    "        bar = tqdm(train_dataloader)\n",
    "        iterations = 0\n",
    "\n",
    "        for inputs, targets in bar:\n",
    "          \n",
    "            inputs, targets = inputs.to(device), targets.to(device)\n",
    "\n",
    "            # Zero the gradients\n",
    "            optimizer.zero_grad()\n",
    "\n",
    "            # Forward pass\n",
    "            outputs = model(inputs)\n",
    "            loss = criterion(outputs, targets)\n",
    "\n",
    "            train_loss += loss.item()\n",
    "\n",
    "            # Backward pass\n",
    "            loss.backward()\n",
    "            optimizer.step()\n",
    "\n",
    "            # Get predicted classes and true classes from data\n",
    "            predictions = torch.argmax(outputs, dim=1)\n",
    "            for item in predictions:\n",
    "                predicted_train.append(item.cpu().numpy())\n",
    "            for item in targets:\n",
    "                true_train.append(item.cpu().numpy())\n",
    "            iterations += 1\n",
    "            bar.set_postfix(\n",
    "                ({\"loss\": f\"{train_loss/(iterations*train_dataloader.batch_size)}\"}))\n",
    "\n",
    "        # Computing loss\n",
    "        train_loss /= len(train_dataset)\n",
    "        # Computing f1 score\n",
    "        train_f1 = f1_score(true_train, predicted_train, average=\"macro\")\n",
    "\n",
    "        # Printing information in the end of train loop\n",
    "        test_loss, test_f1 = test_model(model, criterion, test_dataloader)\n",
    "\n",
    "        if not history['test_scores'] or test_f1 > max(history['test_scores']):\n",
    "          torch.save(model.state_dict(), ckpt_path)\n",
    "\n",
    "        history['train_losses'].append(train_loss)\n",
    "        history['test_losses'].append(test_loss)\n",
    "        history['train_scores'].append(train_f1)\n",
    "        history['test_scores'].append(test_f1)\n",
    "\n",
    "        print(f\"Epoch {epoch+1} train (loss: {train_loss:.4f}, f1 score: {train_f1:.4f}) test (loss: {test_loss:.4f}, f1 score: {test_f1:.4f})\")\n",
    "\n",
    "    return history\n",
    "\n",
    "\n",
    "def test_model(model: nn.Module, criterion, test_dataloader: DataLoader):\n",
    "    \"\"\"\n",
    "    Function that evaluates model on specified dataloader\n",
    "    by specified loss function.\n",
    "\n",
    "    Parameter\n",
    "    ---------\n",
    "    model : nn.Module\n",
    "      Model to train.\n",
    "    criterion\n",
    "      The loss function from pytorch\n",
    "    test_dataloader: DataLoader\n",
    "      The dataset for testing model\n",
    "\n",
    "    Returns\n",
    "    -------\n",
    "    float: loss of model on given dataset\n",
    "    float: f1 score of model on given dataset\n",
    "    \"\"\"\n",
    "\n",
    "    model.eval()\n",
    "    model.to(device)\n",
    "\n",
    "    # Test loss value\n",
    "    test_loss = 0.0\n",
    "\n",
    "    # Lists for calculation f1 score\n",
    "    predicted_test = []\n",
    "    true_test = []\n",
    "\n",
    "    with torch.no_grad():\n",
    "        for inputs, targets in test_dataloader:\n",
    "            inputs, targets = inputs.to(device), targets.to(device)\n",
    "\n",
    "            # Forward pass\n",
    "            outputs = model(inputs)\n",
    "            test_loss += criterion(outputs, targets)\n",
    "\n",
    "            # Get predicted classes and true classes from data\n",
    "            predictions = torch.argmax(outputs, dim=1)\n",
    "            for item in predictions:\n",
    "                predicted_test.append(item.cpu().numpy())\n",
    "            for item in targets:\n",
    "                true_test.append(item.cpu().numpy())\n",
    "\n",
    "    # Computation of test loss\n",
    "    test_loss /= len(test_dataloader)\n",
    "\n",
    "    # Computation of f1 score\n",
    "    test_f1 = f1_score(true_test, predicted_test, average=\"macro\")\n",
    "    return test_loss.item(), test_f1"
   ]
  },
  {
   "cell_type": "code",
   "execution_count": 87,
   "metadata": {},
   "outputs": [],
   "source": [
    "model = SequenceModel(input_size=225, output_size=len(IDX_TO_CLASS))\n",
    "criterion = nn.CrossEntropyLoss()\n",
    "optimizer = torch.optim.Adam(model.parameters(), lr=0.001)"
   ]
  },
  {
   "cell_type": "code",
   "execution_count": 88,
   "metadata": {},
   "outputs": [
    {
     "name": "stderr",
     "output_type": "stream",
     "text": [
      "100%|██████████| 284/284 [00:03<00:00, 73.73it/s, loss=2.4702513981872882]\n"
     ]
    },
    {
     "name": "stdout",
     "output_type": "stream",
     "text": [
      "Epoch 1 train (loss: 2.4703, f1 score: 0.0304) test (loss: 2.4570, f1 score: 0.0110)\n"
     ]
    },
    {
     "name": "stderr",
     "output_type": "stream",
     "text": [
      "100%|██████████| 284/284 [00:03<00:00, 78.50it/s, loss=2.437996466394881] \n"
     ]
    },
    {
     "name": "stdout",
     "output_type": "stream",
     "text": [
      "Epoch 2 train (loss: 2.4380, f1 score: 0.0346) test (loss: 2.4418, f1 score: 0.0110)\n"
     ]
    },
    {
     "name": "stderr",
     "output_type": "stream",
     "text": [
      "100%|██████████| 284/284 [00:03<00:00, 74.91it/s, loss=2.416597312185126] \n"
     ]
    },
    {
     "name": "stdout",
     "output_type": "stream",
     "text": [
      "Epoch 3 train (loss: 2.4166, f1 score: 0.0377) test (loss: 2.4454, f1 score: 0.0110)\n"
     ]
    },
    {
     "name": "stderr",
     "output_type": "stream",
     "text": [
      "100%|██████████| 284/284 [00:03<00:00, 83.09it/s, loss=2.4106087646853758]\n"
     ]
    },
    {
     "name": "stdout",
     "output_type": "stream",
     "text": [
      "Epoch 4 train (loss: 2.4106, f1 score: 0.0462) test (loss: 2.4301, f1 score: 0.0337)\n"
     ]
    },
    {
     "name": "stderr",
     "output_type": "stream",
     "text": [
      "100%|██████████| 284/284 [00:03<00:00, 82.03it/s, loss=2.396026242366979] \n"
     ]
    },
    {
     "name": "stdout",
     "output_type": "stream",
     "text": [
      "Epoch 5 train (loss: 2.3960, f1 score: 0.0423) test (loss: 2.4415, f1 score: 0.0362)\n"
     ]
    },
    {
     "name": "stderr",
     "output_type": "stream",
     "text": [
      "100%|██████████| 284/284 [00:03<00:00, 82.29it/s, loss=2.3815710615943857]\n"
     ]
    },
    {
     "name": "stdout",
     "output_type": "stream",
     "text": [
      "Epoch 6 train (loss: 2.3816, f1 score: 0.0438) test (loss: 2.4023, f1 score: 0.0308)\n"
     ]
    },
    {
     "name": "stderr",
     "output_type": "stream",
     "text": [
      "100%|██████████| 284/284 [00:03<00:00, 86.53it/s, loss=2.334929809394017] \n"
     ]
    },
    {
     "name": "stdout",
     "output_type": "stream",
     "text": [
      "Epoch 7 train (loss: 2.3349, f1 score: 0.0602) test (loss: 2.3994, f1 score: 0.0393)\n"
     ]
    },
    {
     "name": "stderr",
     "output_type": "stream",
     "text": [
      "100%|██████████| 284/284 [00:03<00:00, 78.45it/s, loss=2.264632690330626] \n"
     ]
    },
    {
     "name": "stdout",
     "output_type": "stream",
     "text": [
      "Epoch 8 train (loss: 2.2646, f1 score: 0.0722) test (loss: 2.3397, f1 score: 0.0738)\n"
     ]
    },
    {
     "name": "stderr",
     "output_type": "stream",
     "text": [
      "100%|██████████| 284/284 [00:03<00:00, 76.38it/s, loss=2.1319674713091112]\n"
     ]
    },
    {
     "name": "stdout",
     "output_type": "stream",
     "text": [
      "Epoch 9 train (loss: 2.1320, f1 score: 0.0928) test (loss: 2.2343, f1 score: 0.0738)\n"
     ]
    },
    {
     "name": "stderr",
     "output_type": "stream",
     "text": [
      "100%|██████████| 284/284 [00:04<00:00, 66.97it/s, loss=2.0815554013947994]\n"
     ]
    },
    {
     "name": "stdout",
     "output_type": "stream",
     "text": [
      "Epoch 10 train (loss: 2.0816, f1 score: 0.1280) test (loss: 2.3012, f1 score: 0.0603)\n"
     ]
    },
    {
     "name": "stderr",
     "output_type": "stream",
     "text": [
      "100%|██████████| 284/284 [00:03<00:00, 81.56it/s, loss=2.038689220088049] \n"
     ]
    },
    {
     "name": "stdout",
     "output_type": "stream",
     "text": [
      "Epoch 11 train (loss: 2.0387, f1 score: 0.1236) test (loss: 2.0548, f1 score: 0.0730)\n"
     ]
    },
    {
     "name": "stderr",
     "output_type": "stream",
     "text": [
      "100%|██████████| 284/284 [00:03<00:00, 71.33it/s, loss=1.8438983639623499]\n"
     ]
    },
    {
     "name": "stdout",
     "output_type": "stream",
     "text": [
      "Epoch 12 train (loss: 1.8439, f1 score: 0.1547) test (loss: 1.8872, f1 score: 0.1354)\n"
     ]
    },
    {
     "name": "stderr",
     "output_type": "stream",
     "text": [
      "100%|██████████| 284/284 [00:03<00:00, 87.34it/s, loss=1.8124495088581887]\n"
     ]
    },
    {
     "name": "stdout",
     "output_type": "stream",
     "text": [
      "Epoch 13 train (loss: 1.8124, f1 score: 0.1762) test (loss: 1.8644, f1 score: 0.0761)\n"
     ]
    },
    {
     "name": "stderr",
     "output_type": "stream",
     "text": [
      "100%|██████████| 284/284 [00:03<00:00, 85.11it/s, loss=1.7523545374254315]\n"
     ]
    },
    {
     "name": "stdout",
     "output_type": "stream",
     "text": [
      "Epoch 14 train (loss: 1.7524, f1 score: 0.2218) test (loss: 1.8359, f1 score: 0.1298)\n"
     ]
    },
    {
     "name": "stderr",
     "output_type": "stream",
     "text": [
      "100%|██████████| 284/284 [00:02<00:00, 122.59it/s, loss=1.718824100615063] \n"
     ]
    },
    {
     "name": "stdout",
     "output_type": "stream",
     "text": [
      "Epoch 15 train (loss: 1.7188, f1 score: 0.2005) test (loss: 1.8368, f1 score: 0.1990)\n"
     ]
    },
    {
     "name": "stderr",
     "output_type": "stream",
     "text": [
      "100%|██████████| 284/284 [00:01<00:00, 218.91it/s, loss=1.74088075472383]  \n"
     ]
    },
    {
     "name": "stdout",
     "output_type": "stream",
     "text": [
      "Epoch 16 train (loss: 1.7409, f1 score: 0.2600) test (loss: 1.9482, f1 score: 0.1617)\n"
     ]
    },
    {
     "name": "stderr",
     "output_type": "stream",
     "text": [
      "100%|██████████| 284/284 [00:01<00:00, 226.14it/s, loss=1.675205755165555] \n"
     ]
    },
    {
     "name": "stdout",
     "output_type": "stream",
     "text": [
      "Epoch 17 train (loss: 1.6752, f1 score: 0.2295) test (loss: 1.7848, f1 score: 0.1351)\n"
     ]
    },
    {
     "name": "stderr",
     "output_type": "stream",
     "text": [
      "100%|██████████| 284/284 [00:01<00:00, 198.89it/s, loss=1.658587110438712] \n"
     ]
    },
    {
     "name": "stdout",
     "output_type": "stream",
     "text": [
      "Epoch 18 train (loss: 1.6586, f1 score: 0.2475) test (loss: 1.7933, f1 score: 0.1649)\n"
     ]
    },
    {
     "name": "stderr",
     "output_type": "stream",
     "text": [
      "100%|██████████| 284/284 [00:01<00:00, 187.58it/s, loss=1.5806411947451637]\n"
     ]
    },
    {
     "name": "stdout",
     "output_type": "stream",
     "text": [
      "Epoch 19 train (loss: 1.5806, f1 score: 0.2564) test (loss: 1.6724, f1 score: 0.1825)\n"
     ]
    },
    {
     "name": "stderr",
     "output_type": "stream",
     "text": [
      "100%|██████████| 284/284 [00:01<00:00, 192.64it/s, loss=1.5298107651777197]\n"
     ]
    },
    {
     "name": "stdout",
     "output_type": "stream",
     "text": [
      "Epoch 20 train (loss: 1.5298, f1 score: 0.2975) test (loss: 1.6742, f1 score: 0.2589)\n"
     ]
    },
    {
     "name": "stderr",
     "output_type": "stream",
     "text": [
      "100%|██████████| 284/284 [00:01<00:00, 200.79it/s, loss=1.6118219510560305]\n"
     ]
    },
    {
     "name": "stdout",
     "output_type": "stream",
     "text": [
      "Epoch 21 train (loss: 1.6118, f1 score: 0.2777) test (loss: 1.7294, f1 score: 0.2070)\n"
     ]
    },
    {
     "name": "stderr",
     "output_type": "stream",
     "text": [
      "100%|██████████| 284/284 [00:01<00:00, 200.36it/s, loss=1.5935289858197663]\n"
     ]
    },
    {
     "name": "stdout",
     "output_type": "stream",
     "text": [
      "Epoch 22 train (loss: 1.5935, f1 score: 0.3208) test (loss: 1.6416, f1 score: 0.2727)\n"
     ]
    },
    {
     "name": "stderr",
     "output_type": "stream",
     "text": [
      "100%|██████████| 284/284 [00:01<00:00, 198.65it/s, loss=1.5170853735196967]\n"
     ]
    },
    {
     "name": "stdout",
     "output_type": "stream",
     "text": [
      "Epoch 23 train (loss: 1.5171, f1 score: 0.3594) test (loss: 1.7024, f1 score: 0.2935)\n"
     ]
    },
    {
     "name": "stderr",
     "output_type": "stream",
     "text": [
      "100%|██████████| 284/284 [00:01<00:00, 214.89it/s, loss=1.4735077633456866]\n"
     ]
    },
    {
     "name": "stdout",
     "output_type": "stream",
     "text": [
      "Epoch 24 train (loss: 1.4735, f1 score: 0.3209) test (loss: 1.5928, f1 score: 0.3464)\n"
     ]
    },
    {
     "name": "stderr",
     "output_type": "stream",
     "text": [
      "100%|██████████| 284/284 [00:01<00:00, 215.43it/s, loss=1.4242377167265914]\n"
     ]
    },
    {
     "name": "stdout",
     "output_type": "stream",
     "text": [
      "Epoch 25 train (loss: 1.4242, f1 score: 0.3865) test (loss: 1.5882, f1 score: 0.3219)\n"
     ]
    },
    {
     "name": "stderr",
     "output_type": "stream",
     "text": [
      "100%|██████████| 284/284 [00:01<00:00, 211.99it/s, loss=1.4130699157478734]\n"
     ]
    },
    {
     "name": "stdout",
     "output_type": "stream",
     "text": [
      "Epoch 26 train (loss: 1.4131, f1 score: 0.4371) test (loss: 1.5690, f1 score: 0.3494)\n"
     ]
    },
    {
     "name": "stderr",
     "output_type": "stream",
     "text": [
      "100%|██████████| 284/284 [00:01<00:00, 215.20it/s, loss=1.470318614780693] \n"
     ]
    },
    {
     "name": "stdout",
     "output_type": "stream",
     "text": [
      "Epoch 27 train (loss: 1.4703, f1 score: 0.3652) test (loss: 1.6292, f1 score: 0.3348)\n"
     ]
    },
    {
     "name": "stderr",
     "output_type": "stream",
     "text": [
      "100%|██████████| 284/284 [00:01<00:00, 209.52it/s, loss=1.3872290055306864]\n"
     ]
    },
    {
     "name": "stdout",
     "output_type": "stream",
     "text": [
      "Epoch 28 train (loss: 1.3872, f1 score: 0.4150) test (loss: 1.5324, f1 score: 0.3301)\n"
     ]
    },
    {
     "name": "stderr",
     "output_type": "stream",
     "text": [
      "100%|██████████| 284/284 [00:01<00:00, 218.13it/s, loss=1.3898696106609325]\n"
     ]
    },
    {
     "name": "stdout",
     "output_type": "stream",
     "text": [
      "Epoch 29 train (loss: 1.3899, f1 score: 0.4233) test (loss: 1.6101, f1 score: 0.2762)\n"
     ]
    },
    {
     "name": "stderr",
     "output_type": "stream",
     "text": [
      "100%|██████████| 284/284 [00:01<00:00, 214.70it/s, loss=1.3607835310452263]\n"
     ]
    },
    {
     "name": "stdout",
     "output_type": "stream",
     "text": [
      "Epoch 30 train (loss: 1.3608, f1 score: 0.4050) test (loss: 1.6020, f1 score: 0.4236)\n"
     ]
    },
    {
     "name": "stderr",
     "output_type": "stream",
     "text": [
      "100%|██████████| 284/284 [00:01<00:00, 210.42it/s, loss=1.289231485457645] \n"
     ]
    },
    {
     "name": "stdout",
     "output_type": "stream",
     "text": [
      "Epoch 31 train (loss: 1.2892, f1 score: 0.4907) test (loss: 1.4999, f1 score: 0.3460)\n"
     ]
    },
    {
     "name": "stderr",
     "output_type": "stream",
     "text": [
      "100%|██████████| 284/284 [00:01<00:00, 207.08it/s, loss=1.3476805668717748]\n"
     ]
    },
    {
     "name": "stdout",
     "output_type": "stream",
     "text": [
      "Epoch 32 train (loss: 1.3477, f1 score: 0.5012) test (loss: 1.5946, f1 score: 0.3612)\n"
     ]
    },
    {
     "name": "stderr",
     "output_type": "stream",
     "text": [
      "100%|██████████| 284/284 [00:01<00:00, 209.39it/s, loss=1.3659274490348483]\n"
     ]
    },
    {
     "name": "stdout",
     "output_type": "stream",
     "text": [
      "Epoch 33 train (loss: 1.3659, f1 score: 0.4826) test (loss: 1.5100, f1 score: 0.3745)\n"
     ]
    },
    {
     "name": "stderr",
     "output_type": "stream",
     "text": [
      "100%|██████████| 284/284 [00:01<00:00, 221.70it/s, loss=1.2669856584742403]\n"
     ]
    },
    {
     "name": "stdout",
     "output_type": "stream",
     "text": [
      "Epoch 34 train (loss: 1.2670, f1 score: 0.4613) test (loss: 1.5795, f1 score: 0.3359)\n"
     ]
    },
    {
     "name": "stderr",
     "output_type": "stream",
     "text": [
      "100%|██████████| 284/284 [00:01<00:00, 224.07it/s, loss=1.2276671519880118]\n"
     ]
    },
    {
     "name": "stdout",
     "output_type": "stream",
     "text": [
      "Epoch 35 train (loss: 1.2277, f1 score: 0.4688) test (loss: 1.4745, f1 score: 0.4084)\n"
     ]
    },
    {
     "name": "stderr",
     "output_type": "stream",
     "text": [
      "100%|██████████| 284/284 [00:01<00:00, 198.35it/s, loss=1.232374215846173] \n"
     ]
    },
    {
     "name": "stdout",
     "output_type": "stream",
     "text": [
      "Epoch 36 train (loss: 1.2324, f1 score: 0.5188) test (loss: 1.5155, f1 score: 0.4190)\n"
     ]
    },
    {
     "name": "stderr",
     "output_type": "stream",
     "text": [
      "100%|██████████| 284/284 [00:01<00:00, 216.47it/s, loss=1.1870474702035878]\n"
     ]
    },
    {
     "name": "stdout",
     "output_type": "stream",
     "text": [
      "Epoch 37 train (loss: 1.1870, f1 score: 0.5019) test (loss: 1.4068, f1 score: 0.4190)\n"
     ]
    },
    {
     "name": "stderr",
     "output_type": "stream",
     "text": [
      "100%|██████████| 284/284 [00:01<00:00, 215.07it/s, loss=1.1492385758139507]\n"
     ]
    },
    {
     "name": "stdout",
     "output_type": "stream",
     "text": [
      "Epoch 38 train (loss: 1.1492, f1 score: 0.5644) test (loss: 1.4762, f1 score: 0.4494)\n"
     ]
    },
    {
     "name": "stderr",
     "output_type": "stream",
     "text": [
      "100%|██████████| 284/284 [00:01<00:00, 210.29it/s, loss=1.1665135543911496]\n"
     ]
    },
    {
     "name": "stdout",
     "output_type": "stream",
     "text": [
      "Epoch 39 train (loss: 1.1665, f1 score: 0.5400) test (loss: 1.5612, f1 score: 0.3623)\n"
     ]
    },
    {
     "name": "stderr",
     "output_type": "stream",
     "text": [
      "100%|██████████| 284/284 [00:01<00:00, 224.11it/s, loss=1.1716784462103174]\n"
     ]
    },
    {
     "name": "stdout",
     "output_type": "stream",
     "text": [
      "Epoch 40 train (loss: 1.1717, f1 score: 0.5387) test (loss: 1.5160, f1 score: 0.4864)\n"
     ]
    },
    {
     "name": "stderr",
     "output_type": "stream",
     "text": [
      "100%|██████████| 284/284 [00:01<00:00, 221.45it/s, loss=1.1195587540655332]\n"
     ]
    },
    {
     "name": "stdout",
     "output_type": "stream",
     "text": [
      "Epoch 41 train (loss: 1.1196, f1 score: 0.5686) test (loss: 1.6342, f1 score: 0.3543)\n"
     ]
    },
    {
     "name": "stderr",
     "output_type": "stream",
     "text": [
      "100%|██████████| 284/284 [00:01<00:00, 222.14it/s, loss=1.1984307289280942]\n"
     ]
    },
    {
     "name": "stdout",
     "output_type": "stream",
     "text": [
      "Epoch 42 train (loss: 1.1984, f1 score: 0.5305) test (loss: 1.5070, f1 score: 0.4362)\n"
     ]
    },
    {
     "name": "stderr",
     "output_type": "stream",
     "text": [
      "100%|██████████| 284/284 [00:01<00:00, 229.04it/s, loss=1.1575230417041842]\n"
     ]
    },
    {
     "name": "stdout",
     "output_type": "stream",
     "text": [
      "Epoch 43 train (loss: 1.1575, f1 score: 0.5323) test (loss: 1.5240, f1 score: 0.4451)\n"
     ]
    },
    {
     "name": "stderr",
     "output_type": "stream",
     "text": [
      "100%|██████████| 284/284 [00:01<00:00, 212.95it/s, loss=1.0439296907312434]\n"
     ]
    },
    {
     "name": "stdout",
     "output_type": "stream",
     "text": [
      "Epoch 44 train (loss: 1.0439, f1 score: 0.6077) test (loss: 1.4865, f1 score: 0.4419)\n"
     ]
    },
    {
     "name": "stderr",
     "output_type": "stream",
     "text": [
      "100%|██████████| 284/284 [00:01<00:00, 212.93it/s, loss=1.071018224809168] \n"
     ]
    },
    {
     "name": "stdout",
     "output_type": "stream",
     "text": [
      "Epoch 45 train (loss: 1.0710, f1 score: 0.5740) test (loss: 2.0444, f1 score: 0.4040)\n"
     ]
    },
    {
     "name": "stderr",
     "output_type": "stream",
     "text": [
      "100%|██████████| 284/284 [00:01<00:00, 229.03it/s, loss=1.117874916078864] \n"
     ]
    },
    {
     "name": "stdout",
     "output_type": "stream",
     "text": [
      "Epoch 46 train (loss: 1.1179, f1 score: 0.5501) test (loss: 1.6284, f1 score: 0.4384)\n"
     ]
    },
    {
     "name": "stderr",
     "output_type": "stream",
     "text": [
      "100%|██████████| 284/284 [00:01<00:00, 215.47it/s, loss=0.9878104754123496]\n"
     ]
    },
    {
     "name": "stdout",
     "output_type": "stream",
     "text": [
      "Epoch 47 train (loss: 0.9878, f1 score: 0.6429) test (loss: 1.7078, f1 score: 0.4109)\n"
     ]
    },
    {
     "name": "stderr",
     "output_type": "stream",
     "text": [
      "100%|██████████| 284/284 [00:01<00:00, 201.09it/s, loss=1.1082969410033425]\n"
     ]
    },
    {
     "name": "stdout",
     "output_type": "stream",
     "text": [
      "Epoch 48 train (loss: 1.1083, f1 score: 0.5851) test (loss: 1.4344, f1 score: 0.4224)\n"
     ]
    },
    {
     "name": "stderr",
     "output_type": "stream",
     "text": [
      "100%|██████████| 284/284 [00:01<00:00, 198.93it/s, loss=1.0376168458237194]\n"
     ]
    },
    {
     "name": "stdout",
     "output_type": "stream",
     "text": [
      "Epoch 49 train (loss: 1.0376, f1 score: 0.5744) test (loss: 1.4435, f1 score: 0.4412)\n"
     ]
    },
    {
     "name": "stderr",
     "output_type": "stream",
     "text": [
      "100%|██████████| 284/284 [00:01<00:00, 203.08it/s, loss=0.9904821472763884]\n"
     ]
    },
    {
     "name": "stdout",
     "output_type": "stream",
     "text": [
      "Epoch 50 train (loss: 0.9905, f1 score: 0.5885) test (loss: 1.4817, f1 score: 0.4426)\n"
     ]
    },
    {
     "name": "stderr",
     "output_type": "stream",
     "text": [
      "100%|██████████| 284/284 [00:01<00:00, 203.43it/s, loss=1.0807896856592418]\n"
     ]
    },
    {
     "name": "stdout",
     "output_type": "stream",
     "text": [
      "Epoch 51 train (loss: 1.0808, f1 score: 0.5516) test (loss: 1.4114, f1 score: 0.5226)\n"
     ]
    },
    {
     "name": "stderr",
     "output_type": "stream",
     "text": [
      "100%|██████████| 284/284 [00:01<00:00, 210.53it/s, loss=1.034027464033603] \n"
     ]
    },
    {
     "name": "stdout",
     "output_type": "stream",
     "text": [
      "Epoch 52 train (loss: 1.0340, f1 score: 0.5833) test (loss: 1.4218, f1 score: 0.4798)\n"
     ]
    },
    {
     "name": "stderr",
     "output_type": "stream",
     "text": [
      "100%|██████████| 284/284 [00:01<00:00, 205.44it/s, loss=1.0073233223930131]\n"
     ]
    },
    {
     "name": "stdout",
     "output_type": "stream",
     "text": [
      "Epoch 53 train (loss: 1.0073, f1 score: 0.6174) test (loss: 1.5560, f1 score: 0.4071)\n"
     ]
    },
    {
     "name": "stderr",
     "output_type": "stream",
     "text": [
      "100%|██████████| 284/284 [00:01<00:00, 203.18it/s, loss=0.971960581275864] \n"
     ]
    },
    {
     "name": "stdout",
     "output_type": "stream",
     "text": [
      "Epoch 54 train (loss: 0.9720, f1 score: 0.6036) test (loss: 1.6686, f1 score: 0.4563)\n"
     ]
    },
    {
     "name": "stderr",
     "output_type": "stream",
     "text": [
      "100%|██████████| 284/284 [00:01<00:00, 203.32it/s, loss=0.8529936027447497]\n"
     ]
    },
    {
     "name": "stdout",
     "output_type": "stream",
     "text": [
      "Epoch 55 train (loss: 0.8530, f1 score: 0.6954) test (loss: 1.5102, f1 score: 0.4312)\n"
     ]
    },
    {
     "name": "stderr",
     "output_type": "stream",
     "text": [
      "100%|██████████| 284/284 [00:01<00:00, 210.26it/s, loss=0.8159576757961858]\n"
     ]
    },
    {
     "name": "stdout",
     "output_type": "stream",
     "text": [
      "Epoch 56 train (loss: 0.8160, f1 score: 0.6897) test (loss: 1.4631, f1 score: 0.4776)\n"
     ]
    },
    {
     "name": "stderr",
     "output_type": "stream",
     "text": [
      "100%|██████████| 284/284 [00:01<00:00, 220.55it/s, loss=0.8325879373161358]\n"
     ]
    },
    {
     "name": "stdout",
     "output_type": "stream",
     "text": [
      "Epoch 57 train (loss: 0.8326, f1 score: 0.6609) test (loss: 1.5994, f1 score: 0.4120)\n"
     ]
    },
    {
     "name": "stderr",
     "output_type": "stream",
     "text": [
      "100%|██████████| 284/284 [00:01<00:00, 192.36it/s, loss=0.7779062484459899]\n"
     ]
    },
    {
     "name": "stdout",
     "output_type": "stream",
     "text": [
      "Epoch 58 train (loss: 0.7779, f1 score: 0.6700) test (loss: 1.5574, f1 score: 0.4761)\n"
     ]
    },
    {
     "name": "stderr",
     "output_type": "stream",
     "text": [
      "100%|██████████| 284/284 [00:01<00:00, 212.09it/s, loss=0.7646132932412668]\n"
     ]
    },
    {
     "name": "stdout",
     "output_type": "stream",
     "text": [
      "Epoch 59 train (loss: 0.7646, f1 score: 0.7192) test (loss: 1.4048, f1 score: 0.5171)\n"
     ]
    },
    {
     "name": "stderr",
     "output_type": "stream",
     "text": [
      "100%|██████████| 284/284 [00:01<00:00, 212.02it/s, loss=0.8071372897821663]\n"
     ]
    },
    {
     "name": "stdout",
     "output_type": "stream",
     "text": [
      "Epoch 60 train (loss: 0.8071, f1 score: 0.6903) test (loss: 1.4930, f1 score: 0.5110)\n"
     ]
    },
    {
     "name": "stderr",
     "output_type": "stream",
     "text": [
      "100%|██████████| 284/284 [00:01<00:00, 215.99it/s, loss=0.7844165055885498]\n"
     ]
    },
    {
     "name": "stdout",
     "output_type": "stream",
     "text": [
      "Epoch 61 train (loss: 0.7844, f1 score: 0.7029) test (loss: 1.4454, f1 score: 0.4685)\n"
     ]
    },
    {
     "name": "stderr",
     "output_type": "stream",
     "text": [
      "100%|██████████| 284/284 [00:01<00:00, 210.27it/s, loss=0.783110821939567] \n"
     ]
    },
    {
     "name": "stdout",
     "output_type": "stream",
     "text": [
      "Epoch 62 train (loss: 0.7831, f1 score: 0.7100) test (loss: 1.5221, f1 score: 0.4409)\n"
     ]
    },
    {
     "name": "stderr",
     "output_type": "stream",
     "text": [
      "100%|██████████| 284/284 [00:01<00:00, 218.27it/s, loss=0.7132222089087623]\n"
     ]
    },
    {
     "name": "stdout",
     "output_type": "stream",
     "text": [
      "Epoch 63 train (loss: 0.7132, f1 score: 0.7375) test (loss: 1.4700, f1 score: 0.4091)\n"
     ]
    },
    {
     "name": "stderr",
     "output_type": "stream",
     "text": [
      "100%|██████████| 284/284 [00:01<00:00, 189.48it/s, loss=0.7292240796781647]\n"
     ]
    },
    {
     "name": "stdout",
     "output_type": "stream",
     "text": [
      "Epoch 64 train (loss: 0.7292, f1 score: 0.7384) test (loss: 1.3509, f1 score: 0.5533)\n"
     ]
    },
    {
     "name": "stderr",
     "output_type": "stream",
     "text": [
      "100%|██████████| 284/284 [00:01<00:00, 214.94it/s, loss=0.7942501985245387]\n"
     ]
    },
    {
     "name": "stdout",
     "output_type": "stream",
     "text": [
      "Epoch 65 train (loss: 0.7943, f1 score: 0.6934) test (loss: 1.4986, f1 score: 0.4814)\n"
     ]
    },
    {
     "name": "stderr",
     "output_type": "stream",
     "text": [
      "100%|██████████| 284/284 [00:01<00:00, 207.87it/s, loss=0.7239271225682874]\n"
     ]
    },
    {
     "name": "stdout",
     "output_type": "stream",
     "text": [
      "Epoch 66 train (loss: 0.7239, f1 score: 0.7530) test (loss: 1.5178, f1 score: 0.4874)\n"
     ]
    },
    {
     "name": "stderr",
     "output_type": "stream",
     "text": [
      "100%|██████████| 284/284 [00:01<00:00, 202.65it/s, loss=0.7596128433233645]\n"
     ]
    },
    {
     "name": "stdout",
     "output_type": "stream",
     "text": [
      "Epoch 67 train (loss: 0.7596, f1 score: 0.7231) test (loss: 1.4464, f1 score: 0.4880)\n"
     ]
    },
    {
     "name": "stderr",
     "output_type": "stream",
     "text": [
      "100%|██████████| 284/284 [00:01<00:00, 214.84it/s, loss=0.9107202865504828]\n"
     ]
    },
    {
     "name": "stdout",
     "output_type": "stream",
     "text": [
      "Epoch 68 train (loss: 0.9107, f1 score: 0.6648) test (loss: 1.5323, f1 score: 0.5046)\n"
     ]
    },
    {
     "name": "stderr",
     "output_type": "stream",
     "text": [
      "100%|██████████| 284/284 [00:01<00:00, 213.09it/s, loss=0.6592674057395361]\n"
     ]
    },
    {
     "name": "stdout",
     "output_type": "stream",
     "text": [
      "Epoch 69 train (loss: 0.6593, f1 score: 0.7539) test (loss: 1.2432, f1 score: 0.5579)\n"
     ]
    },
    {
     "name": "stderr",
     "output_type": "stream",
     "text": [
      "100%|██████████| 284/284 [00:01<00:00, 218.46it/s, loss=0.6592793587462412]\n"
     ]
    },
    {
     "name": "stdout",
     "output_type": "stream",
     "text": [
      "Epoch 70 train (loss: 0.6593, f1 score: 0.7637) test (loss: 1.6882, f1 score: 0.3791)\n"
     ]
    },
    {
     "name": "stderr",
     "output_type": "stream",
     "text": [
      "100%|██████████| 284/284 [00:01<00:00, 221.76it/s, loss=0.6190714667751872]\n"
     ]
    },
    {
     "name": "stdout",
     "output_type": "stream",
     "text": [
      "Epoch 71 train (loss: 0.6191, f1 score: 0.7760) test (loss: 1.4933, f1 score: 0.5506)\n"
     ]
    },
    {
     "name": "stderr",
     "output_type": "stream",
     "text": [
      "100%|██████████| 284/284 [00:01<00:00, 211.97it/s, loss=0.5181949504090163] \n"
     ]
    },
    {
     "name": "stdout",
     "output_type": "stream",
     "text": [
      "Epoch 72 train (loss: 0.5182, f1 score: 0.8121) test (loss: 1.5109, f1 score: 0.5318)\n"
     ]
    },
    {
     "name": "stderr",
     "output_type": "stream",
     "text": [
      "100%|██████████| 284/284 [00:01<00:00, 218.24it/s, loss=0.6381139220824813]\n"
     ]
    },
    {
     "name": "stdout",
     "output_type": "stream",
     "text": [
      "Epoch 73 train (loss: 0.6381, f1 score: 0.7623) test (loss: 1.5448, f1 score: 0.5882)\n"
     ]
    },
    {
     "name": "stderr",
     "output_type": "stream",
     "text": [
      "100%|██████████| 284/284 [00:01<00:00, 223.92it/s, loss=0.52075647641712]  \n"
     ]
    },
    {
     "name": "stdout",
     "output_type": "stream",
     "text": [
      "Epoch 74 train (loss: 0.5208, f1 score: 0.8143) test (loss: 1.4934, f1 score: 0.5188)\n"
     ]
    },
    {
     "name": "stderr",
     "output_type": "stream",
     "text": [
      "100%|██████████| 284/284 [00:01<00:00, 226.79it/s, loss=0.5195563496174503] \n"
     ]
    },
    {
     "name": "stdout",
     "output_type": "stream",
     "text": [
      "Epoch 75 train (loss: 0.5196, f1 score: 0.8309) test (loss: 1.7877, f1 score: 0.4439)\n"
     ]
    },
    {
     "name": "stderr",
     "output_type": "stream",
     "text": [
      "100%|██████████| 284/284 [00:01<00:00, 226.98it/s, loss=0.6163137845003445]\n"
     ]
    },
    {
     "name": "stdout",
     "output_type": "stream",
     "text": [
      "Epoch 76 train (loss: 0.6163, f1 score: 0.8042) test (loss: 1.4085, f1 score: 0.5244)\n"
     ]
    },
    {
     "name": "stderr",
     "output_type": "stream",
     "text": [
      "100%|██████████| 284/284 [00:01<00:00, 224.90it/s, loss=0.6175703663939716]\n"
     ]
    },
    {
     "name": "stdout",
     "output_type": "stream",
     "text": [
      "Epoch 77 train (loss: 0.6176, f1 score: 0.7453) test (loss: 1.4378, f1 score: 0.5105)\n"
     ]
    },
    {
     "name": "stderr",
     "output_type": "stream",
     "text": [
      "100%|██████████| 284/284 [00:01<00:00, 228.84it/s, loss=0.4726273231681774] \n"
     ]
    },
    {
     "name": "stdout",
     "output_type": "stream",
     "text": [
      "Epoch 78 train (loss: 0.4726, f1 score: 0.8272) test (loss: 1.7314, f1 score: 0.4822)\n"
     ]
    },
    {
     "name": "stderr",
     "output_type": "stream",
     "text": [
      "100%|██████████| 284/284 [00:01<00:00, 226.73it/s, loss=0.4108711991037536] \n"
     ]
    },
    {
     "name": "stdout",
     "output_type": "stream",
     "text": [
      "Epoch 79 train (loss: 0.4109, f1 score: 0.8766) test (loss: 1.5975, f1 score: 0.5846)\n"
     ]
    },
    {
     "name": "stderr",
     "output_type": "stream",
     "text": [
      "100%|██████████| 284/284 [00:01<00:00, 230.71it/s, loss=0.40711958708274787]\n"
     ]
    },
    {
     "name": "stdout",
     "output_type": "stream",
     "text": [
      "Epoch 80 train (loss: 0.4071, f1 score: 0.8631) test (loss: 1.4095, f1 score: 0.5428)\n"
     ]
    },
    {
     "name": "stderr",
     "output_type": "stream",
     "text": [
      "100%|██████████| 284/284 [00:01<00:00, 218.75it/s, loss=0.41716347893324524]\n"
     ]
    },
    {
     "name": "stdout",
     "output_type": "stream",
     "text": [
      "Epoch 81 train (loss: 0.4172, f1 score: 0.8500) test (loss: 1.4267, f1 score: 0.4824)\n"
     ]
    },
    {
     "name": "stderr",
     "output_type": "stream",
     "text": [
      "100%|██████████| 284/284 [00:01<00:00, 221.19it/s, loss=0.38242949697051304]\n"
     ]
    },
    {
     "name": "stdout",
     "output_type": "stream",
     "text": [
      "Epoch 82 train (loss: 0.3824, f1 score: 0.8963) test (loss: 1.7769, f1 score: 0.4850)\n"
     ]
    },
    {
     "name": "stderr",
     "output_type": "stream",
     "text": [
      "100%|██████████| 284/284 [00:01<00:00, 193.42it/s, loss=0.44970595048612205]\n"
     ]
    },
    {
     "name": "stdout",
     "output_type": "stream",
     "text": [
      "Epoch 83 train (loss: 0.4497, f1 score: 0.8612) test (loss: 1.4480, f1 score: 0.4460)\n"
     ]
    },
    {
     "name": "stderr",
     "output_type": "stream",
     "text": [
      "100%|██████████| 284/284 [00:01<00:00, 187.16it/s, loss=0.49259740317682654]\n"
     ]
    },
    {
     "name": "stdout",
     "output_type": "stream",
     "text": [
      "Epoch 84 train (loss: 0.4926, f1 score: 0.8444) test (loss: 1.4347, f1 score: 0.4844)\n"
     ]
    },
    {
     "name": "stderr",
     "output_type": "stream",
     "text": [
      "100%|██████████| 284/284 [00:01<00:00, 191.52it/s, loss=0.951964834460482] \n"
     ]
    },
    {
     "name": "stdout",
     "output_type": "stream",
     "text": [
      "Epoch 85 train (loss: 0.9520, f1 score: 0.7262) test (loss: 1.2794, f1 score: 0.5101)\n"
     ]
    },
    {
     "name": "stderr",
     "output_type": "stream",
     "text": [
      "100%|██████████| 284/284 [00:01<00:00, 210.04it/s, loss=0.43855003320051866]\n"
     ]
    },
    {
     "name": "stdout",
     "output_type": "stream",
     "text": [
      "Epoch 86 train (loss: 0.4386, f1 score: 0.8560) test (loss: 1.3932, f1 score: 0.4242)\n"
     ]
    },
    {
     "name": "stderr",
     "output_type": "stream",
     "text": [
      "100%|██████████| 284/284 [00:01<00:00, 215.99it/s, loss=0.32923752916447896]\n"
     ]
    },
    {
     "name": "stdout",
     "output_type": "stream",
     "text": [
      "Epoch 87 train (loss: 0.3292, f1 score: 0.8880) test (loss: 1.3685, f1 score: 0.5260)\n"
     ]
    },
    {
     "name": "stderr",
     "output_type": "stream",
     "text": [
      "100%|██████████| 284/284 [00:01<00:00, 200.82it/s, loss=0.3223764430606832] \n"
     ]
    },
    {
     "name": "stdout",
     "output_type": "stream",
     "text": [
      "Epoch 88 train (loss: 0.3224, f1 score: 0.8883) test (loss: 1.6489, f1 score: 0.4671)\n"
     ]
    },
    {
     "name": "stderr",
     "output_type": "stream",
     "text": [
      "100%|██████████| 284/284 [00:01<00:00, 198.07it/s, loss=0.46176334468037555]\n"
     ]
    },
    {
     "name": "stdout",
     "output_type": "stream",
     "text": [
      "Epoch 89 train (loss: 0.4618, f1 score: 0.8666) test (loss: 1.3427, f1 score: 0.4595)\n"
     ]
    },
    {
     "name": "stderr",
     "output_type": "stream",
     "text": [
      "100%|██████████| 284/284 [00:01<00:00, 221.23it/s, loss=0.31772778040296645]\n"
     ]
    },
    {
     "name": "stdout",
     "output_type": "stream",
     "text": [
      "Epoch 90 train (loss: 0.3177, f1 score: 0.8943) test (loss: 1.4826, f1 score: 0.4584)\n"
     ]
    },
    {
     "name": "stderr",
     "output_type": "stream",
     "text": [
      "100%|██████████| 284/284 [00:01<00:00, 208.20it/s, loss=0.4838095821421928] \n"
     ]
    },
    {
     "name": "stdout",
     "output_type": "stream",
     "text": [
      "Epoch 91 train (loss: 0.4838, f1 score: 0.8349) test (loss: 1.3958, f1 score: 0.5743)\n"
     ]
    },
    {
     "name": "stderr",
     "output_type": "stream",
     "text": [
      "100%|██████████| 284/284 [00:01<00:00, 221.32it/s, loss=0.3913494218279186] \n"
     ]
    },
    {
     "name": "stdout",
     "output_type": "stream",
     "text": [
      "Epoch 92 train (loss: 0.3913, f1 score: 0.8419) test (loss: 1.4353, f1 score: 0.5655)\n"
     ]
    },
    {
     "name": "stderr",
     "output_type": "stream",
     "text": [
      "100%|██████████| 284/284 [00:01<00:00, 221.98it/s, loss=0.3099436279736681] \n"
     ]
    },
    {
     "name": "stdout",
     "output_type": "stream",
     "text": [
      "Epoch 93 train (loss: 0.3099, f1 score: 0.8937) test (loss: 1.3135, f1 score: 0.5856)\n"
     ]
    },
    {
     "name": "stderr",
     "output_type": "stream",
     "text": [
      "100%|██████████| 284/284 [00:01<00:00, 227.31it/s, loss=0.3063830746440813] \n"
     ]
    },
    {
     "name": "stdout",
     "output_type": "stream",
     "text": [
      "Epoch 94 train (loss: 0.3064, f1 score: 0.9084) test (loss: 1.4236, f1 score: 0.5527)\n"
     ]
    },
    {
     "name": "stderr",
     "output_type": "stream",
     "text": [
      "100%|██████████| 284/284 [00:01<00:00, 221.06it/s, loss=0.23919698632488062]\n"
     ]
    },
    {
     "name": "stdout",
     "output_type": "stream",
     "text": [
      "Epoch 95 train (loss: 0.2392, f1 score: 0.9366) test (loss: 1.4812, f1 score: 0.5867)\n"
     ]
    },
    {
     "name": "stderr",
     "output_type": "stream",
     "text": [
      "100%|██████████| 284/284 [00:01<00:00, 227.16it/s, loss=0.22221746521552657]\n"
     ]
    },
    {
     "name": "stdout",
     "output_type": "stream",
     "text": [
      "Epoch 96 train (loss: 0.2222, f1 score: 0.9445) test (loss: 1.3566, f1 score: 0.5942)\n"
     ]
    },
    {
     "name": "stderr",
     "output_type": "stream",
     "text": [
      "100%|██████████| 284/284 [00:01<00:00, 227.51it/s, loss=0.29950852921647825]\n"
     ]
    },
    {
     "name": "stdout",
     "output_type": "stream",
     "text": [
      "Epoch 97 train (loss: 0.2995, f1 score: 0.9151) test (loss: 1.3981, f1 score: 0.5845)\n"
     ]
    },
    {
     "name": "stderr",
     "output_type": "stream",
     "text": [
      "100%|██████████| 284/284 [00:01<00:00, 218.16it/s, loss=0.2682270410664707] \n"
     ]
    },
    {
     "name": "stdout",
     "output_type": "stream",
     "text": [
      "Epoch 98 train (loss: 0.2682, f1 score: 0.9226) test (loss: 1.3832, f1 score: 0.5221)\n"
     ]
    },
    {
     "name": "stderr",
     "output_type": "stream",
     "text": [
      "100%|██████████| 284/284 [00:01<00:00, 221.85it/s, loss=0.2261501259189521] \n"
     ]
    },
    {
     "name": "stdout",
     "output_type": "stream",
     "text": [
      "Epoch 99 train (loss: 0.2262, f1 score: 0.9304) test (loss: 1.4656, f1 score: 0.5218)\n"
     ]
    },
    {
     "name": "stderr",
     "output_type": "stream",
     "text": [
      "100%|██████████| 284/284 [00:01<00:00, 223.21it/s, loss=0.29078739532845976]\n"
     ]
    },
    {
     "name": "stdout",
     "output_type": "stream",
     "text": [
      "Epoch 100 train (loss: 0.2908, f1 score: 0.9000) test (loss: 1.2601, f1 score: 0.5723)\n"
     ]
    },
    {
     "name": "stderr",
     "output_type": "stream",
     "text": [
      "100%|██████████| 284/284 [00:01<00:00, 205.84it/s, loss=0.21856883135865565]\n"
     ]
    },
    {
     "name": "stdout",
     "output_type": "stream",
     "text": [
      "Epoch 101 train (loss: 0.2186, f1 score: 0.9350) test (loss: 1.5173, f1 score: 0.5359)\n"
     ]
    },
    {
     "name": "stderr",
     "output_type": "stream",
     "text": [
      "100%|██████████| 284/284 [00:01<00:00, 198.83it/s, loss=0.1608489433665198] \n"
     ]
    },
    {
     "name": "stdout",
     "output_type": "stream",
     "text": [
      "Epoch 102 train (loss: 0.1608, f1 score: 0.9569) test (loss: 1.4772, f1 score: 0.6051)\n"
     ]
    },
    {
     "name": "stderr",
     "output_type": "stream",
     "text": [
      "100%|██████████| 284/284 [00:01<00:00, 212.81it/s, loss=0.26568715605993365]\n"
     ]
    },
    {
     "name": "stdout",
     "output_type": "stream",
     "text": [
      "Epoch 103 train (loss: 0.2657, f1 score: 0.9230) test (loss: 1.8302, f1 score: 0.5099)\n"
     ]
    },
    {
     "name": "stderr",
     "output_type": "stream",
     "text": [
      "100%|██████████| 284/284 [00:01<00:00, 169.19it/s, loss=0.6352098596132788]\n"
     ]
    },
    {
     "name": "stdout",
     "output_type": "stream",
     "text": [
      "Epoch 104 train (loss: 0.6352, f1 score: 0.7866) test (loss: 2.0977, f1 score: 0.3587)\n"
     ]
    },
    {
     "name": "stderr",
     "output_type": "stream",
     "text": [
      "100%|██████████| 284/284 [00:01<00:00, 200.07it/s, loss=0.4606153477662945] \n"
     ]
    },
    {
     "name": "stdout",
     "output_type": "stream",
     "text": [
      "Epoch 105 train (loss: 0.4606, f1 score: 0.8262) test (loss: 1.3617, f1 score: 0.5673)\n"
     ]
    },
    {
     "name": "stderr",
     "output_type": "stream",
     "text": [
      "100%|██████████| 284/284 [00:01<00:00, 197.25it/s, loss=0.19515798279867405]\n"
     ]
    },
    {
     "name": "stdout",
     "output_type": "stream",
     "text": [
      "Epoch 106 train (loss: 0.1952, f1 score: 0.9504) test (loss: 1.3910, f1 score: 0.5331)\n"
     ]
    },
    {
     "name": "stderr",
     "output_type": "stream",
     "text": [
      "100%|██████████| 284/284 [00:01<00:00, 201.46it/s, loss=0.14762182126881745]\n"
     ]
    },
    {
     "name": "stdout",
     "output_type": "stream",
     "text": [
      "Epoch 107 train (loss: 0.1476, f1 score: 0.9786) test (loss: 1.4723, f1 score: 0.5576)\n"
     ]
    },
    {
     "name": "stderr",
     "output_type": "stream",
     "text": [
      "100%|██████████| 284/284 [00:01<00:00, 215.47it/s, loss=0.15207849528621703]\n"
     ]
    },
    {
     "name": "stdout",
     "output_type": "stream",
     "text": [
      "Epoch 108 train (loss: 0.1521, f1 score: 0.9572) test (loss: 1.4537, f1 score: 0.5667)\n"
     ]
    },
    {
     "name": "stderr",
     "output_type": "stream",
     "text": [
      "100%|██████████| 284/284 [00:01<00:00, 202.24it/s, loss=0.21567831052498407]\n"
     ]
    },
    {
     "name": "stdout",
     "output_type": "stream",
     "text": [
      "Epoch 109 train (loss: 0.2157, f1 score: 0.9339) test (loss: 1.4525, f1 score: 0.5874)\n"
     ]
    },
    {
     "name": "stderr",
     "output_type": "stream",
     "text": [
      "100%|██████████| 284/284 [00:01<00:00, 224.17it/s, loss=0.16707660437747351]\n"
     ]
    },
    {
     "name": "stdout",
     "output_type": "stream",
     "text": [
      "Epoch 110 train (loss: 0.1671, f1 score: 0.9520) test (loss: 1.7942, f1 score: 0.5227)\n"
     ]
    },
    {
     "name": "stderr",
     "output_type": "stream",
     "text": [
      "100%|██████████| 284/284 [00:01<00:00, 207.27it/s, loss=0.24851500602480275]\n"
     ]
    },
    {
     "name": "stdout",
     "output_type": "stream",
     "text": [
      "Epoch 111 train (loss: 0.2485, f1 score: 0.9423) test (loss: 1.7247, f1 score: 0.4733)\n"
     ]
    },
    {
     "name": "stderr",
     "output_type": "stream",
     "text": [
      "100%|██████████| 284/284 [00:01<00:00, 223.51it/s, loss=0.4134245566093632] \n"
     ]
    },
    {
     "name": "stdout",
     "output_type": "stream",
     "text": [
      "Epoch 112 train (loss: 0.4134, f1 score: 0.8640) test (loss: 1.5825, f1 score: 0.5261)\n"
     ]
    },
    {
     "name": "stderr",
     "output_type": "stream",
     "text": [
      "100%|██████████| 284/284 [00:01<00:00, 223.41it/s, loss=0.8005895015094083] \n"
     ]
    },
    {
     "name": "stdout",
     "output_type": "stream",
     "text": [
      "Epoch 113 train (loss: 0.8006, f1 score: 0.7673) test (loss: 2.1654, f1 score: 0.4940)\n"
     ]
    },
    {
     "name": "stderr",
     "output_type": "stream",
     "text": [
      "100%|██████████| 284/284 [00:01<00:00, 221.18it/s, loss=0.3373759636357059] \n"
     ]
    },
    {
     "name": "stdout",
     "output_type": "stream",
     "text": [
      "Epoch 114 train (loss: 0.3374, f1 score: 0.8854) test (loss: 1.5425, f1 score: 0.5340)\n"
     ]
    },
    {
     "name": "stderr",
     "output_type": "stream",
     "text": [
      "100%|██████████| 284/284 [00:01<00:00, 200.39it/s, loss=0.23301386348908687]\n"
     ]
    },
    {
     "name": "stdout",
     "output_type": "stream",
     "text": [
      "Epoch 115 train (loss: 0.2330, f1 score: 0.9273) test (loss: 1.7560, f1 score: 0.4789)\n"
     ]
    },
    {
     "name": "stderr",
     "output_type": "stream",
     "text": [
      "100%|██████████| 284/284 [00:01<00:00, 215.74it/s, loss=0.19537184685322898]\n"
     ]
    },
    {
     "name": "stdout",
     "output_type": "stream",
     "text": [
      "Epoch 116 train (loss: 0.1954, f1 score: 0.9379) test (loss: 1.7700, f1 score: 0.4596)\n"
     ]
    },
    {
     "name": "stderr",
     "output_type": "stream",
     "text": [
      "100%|██████████| 284/284 [00:01<00:00, 215.25it/s, loss=0.12213762213471288]\n"
     ]
    },
    {
     "name": "stdout",
     "output_type": "stream",
     "text": [
      "Epoch 117 train (loss: 0.1221, f1 score: 0.9707) test (loss: 1.6098, f1 score: 0.5531)\n"
     ]
    },
    {
     "name": "stderr",
     "output_type": "stream",
     "text": [
      "100%|██████████| 284/284 [00:01<00:00, 189.55it/s, loss=0.0944360673777955]  \n"
     ]
    },
    {
     "name": "stdout",
     "output_type": "stream",
     "text": [
      "Epoch 118 train (loss: 0.0944, f1 score: 0.9777) test (loss: 1.6814, f1 score: 0.5169)\n"
     ]
    },
    {
     "name": "stderr",
     "output_type": "stream",
     "text": [
      "100%|██████████| 284/284 [00:01<00:00, 184.40it/s, loss=0.3454699355853307] \n"
     ]
    },
    {
     "name": "stdout",
     "output_type": "stream",
     "text": [
      "Epoch 119 train (loss: 0.3455, f1 score: 0.9045) test (loss: 1.5975, f1 score: 0.4843)\n"
     ]
    },
    {
     "name": "stderr",
     "output_type": "stream",
     "text": [
      "100%|██████████| 284/284 [00:01<00:00, 204.89it/s, loss=0.20478854825492676]\n"
     ]
    },
    {
     "name": "stdout",
     "output_type": "stream",
     "text": [
      "Epoch 120 train (loss: 0.2048, f1 score: 0.9371) test (loss: 1.4306, f1 score: 0.5369)\n"
     ]
    },
    {
     "name": "stderr",
     "output_type": "stream",
     "text": [
      "100%|██████████| 284/284 [00:01<00:00, 194.24it/s, loss=0.11918123648449733] \n"
     ]
    },
    {
     "name": "stdout",
     "output_type": "stream",
     "text": [
      "Epoch 121 train (loss: 0.1192, f1 score: 0.9715) test (loss: 1.5861, f1 score: 0.5010)\n"
     ]
    },
    {
     "name": "stderr",
     "output_type": "stream",
     "text": [
      "100%|██████████| 284/284 [00:01<00:00, 196.51it/s, loss=0.36574478698263674]\n"
     ]
    },
    {
     "name": "stdout",
     "output_type": "stream",
     "text": [
      "Epoch 122 train (loss: 0.3657, f1 score: 0.9078) test (loss: 1.6253, f1 score: 0.5621)\n"
     ]
    },
    {
     "name": "stderr",
     "output_type": "stream",
     "text": [
      "100%|██████████| 284/284 [00:01<00:00, 200.00it/s, loss=0.16109544210974835]\n"
     ]
    },
    {
     "name": "stdout",
     "output_type": "stream",
     "text": [
      "Epoch 123 train (loss: 0.1611, f1 score: 0.9553) test (loss: 1.7034, f1 score: 0.4633)\n"
     ]
    },
    {
     "name": "stderr",
     "output_type": "stream",
     "text": [
      "100%|██████████| 284/284 [00:01<00:00, 196.30it/s, loss=0.11877495634443666] \n"
     ]
    },
    {
     "name": "stdout",
     "output_type": "stream",
     "text": [
      "Epoch 124 train (loss: 0.1188, f1 score: 0.9548) test (loss: 1.5951, f1 score: 0.6202)\n"
     ]
    },
    {
     "name": "stderr",
     "output_type": "stream",
     "text": [
      "100%|██████████| 284/284 [00:01<00:00, 200.49it/s, loss=0.09195606458556332] \n"
     ]
    },
    {
     "name": "stdout",
     "output_type": "stream",
     "text": [
      "Epoch 125 train (loss: 0.0920, f1 score: 0.9756) test (loss: 1.7690, f1 score: 0.5282)\n"
     ]
    },
    {
     "name": "stderr",
     "output_type": "stream",
     "text": [
      "100%|██████████| 284/284 [00:01<00:00, 215.60it/s, loss=0.519477540561011] \n"
     ]
    },
    {
     "name": "stdout",
     "output_type": "stream",
     "text": [
      "Epoch 126 train (loss: 0.5195, f1 score: 0.8347) test (loss: 1.6082, f1 score: 0.4776)\n"
     ]
    },
    {
     "name": "stderr",
     "output_type": "stream",
     "text": [
      "100%|██████████| 284/284 [00:01<00:00, 204.77it/s, loss=0.20121235603236892]\n"
     ]
    },
    {
     "name": "stdout",
     "output_type": "stream",
     "text": [
      "Epoch 127 train (loss: 0.2012, f1 score: 0.9457) test (loss: 1.8331, f1 score: 0.4574)\n"
     ]
    },
    {
     "name": "stderr",
     "output_type": "stream",
     "text": [
      "100%|██████████| 284/284 [00:01<00:00, 202.97it/s, loss=0.14494171364713007]\n"
     ]
    },
    {
     "name": "stdout",
     "output_type": "stream",
     "text": [
      "Epoch 128 train (loss: 0.1449, f1 score: 0.9508) test (loss: 1.6168, f1 score: 0.5270)\n"
     ]
    },
    {
     "name": "stderr",
     "output_type": "stream",
     "text": [
      "100%|██████████| 284/284 [00:01<00:00, 199.38it/s, loss=0.11502593950650218]\n"
     ]
    },
    {
     "name": "stdout",
     "output_type": "stream",
     "text": [
      "Epoch 129 train (loss: 0.1150, f1 score: 0.9565) test (loss: 1.4576, f1 score: 0.5392)\n"
     ]
    },
    {
     "name": "stderr",
     "output_type": "stream",
     "text": [
      "100%|██████████| 284/284 [00:01<00:00, 202.77it/s, loss=0.06873693883126084] \n"
     ]
    },
    {
     "name": "stdout",
     "output_type": "stream",
     "text": [
      "Epoch 130 train (loss: 0.0687, f1 score: 0.9864) test (loss: 1.5765, f1 score: 0.5204)\n"
     ]
    },
    {
     "name": "stderr",
     "output_type": "stream",
     "text": [
      "100%|██████████| 284/284 [00:01<00:00, 209.90it/s, loss=0.049685016910954394]\n"
     ]
    },
    {
     "name": "stdout",
     "output_type": "stream",
     "text": [
      "Epoch 131 train (loss: 0.0497, f1 score: 0.9916) test (loss: 1.6277, f1 score: 0.5698)\n"
     ]
    },
    {
     "name": "stderr",
     "output_type": "stream",
     "text": [
      "100%|██████████| 284/284 [00:01<00:00, 202.36it/s, loss=0.08335315656583915] \n"
     ]
    },
    {
     "name": "stdout",
     "output_type": "stream",
     "text": [
      "Epoch 132 train (loss: 0.0834, f1 score: 0.9754) test (loss: 1.8127, f1 score: 0.5210)\n"
     ]
    },
    {
     "name": "stderr",
     "output_type": "stream",
     "text": [
      "100%|██████████| 284/284 [00:01<00:00, 205.30it/s, loss=0.19669941323259146]\n"
     ]
    },
    {
     "name": "stdout",
     "output_type": "stream",
     "text": [
      "Epoch 133 train (loss: 0.1967, f1 score: 0.9444) test (loss: 1.8909, f1 score: 0.4883)\n"
     ]
    },
    {
     "name": "stderr",
     "output_type": "stream",
     "text": [
      "100%|██████████| 284/284 [00:01<00:00, 199.49it/s, loss=0.20383122498558381]\n"
     ]
    },
    {
     "name": "stdout",
     "output_type": "stream",
     "text": [
      "Epoch 134 train (loss: 0.2038, f1 score: 0.9301) test (loss: 1.5005, f1 score: 0.6386)\n"
     ]
    },
    {
     "name": "stderr",
     "output_type": "stream",
     "text": [
      "100%|██████████| 284/284 [00:01<00:00, 203.15it/s, loss=0.30461049172625493]\n"
     ]
    },
    {
     "name": "stdout",
     "output_type": "stream",
     "text": [
      "Epoch 135 train (loss: 0.3046, f1 score: 0.9047) test (loss: 1.5216, f1 score: 0.5522)\n"
     ]
    },
    {
     "name": "stderr",
     "output_type": "stream",
     "text": [
      "100%|██████████| 284/284 [00:01<00:00, 200.03it/s, loss=0.13134095301455972]\n"
     ]
    },
    {
     "name": "stdout",
     "output_type": "stream",
     "text": [
      "Epoch 136 train (loss: 0.1313, f1 score: 0.9486) test (loss: 1.4432, f1 score: 0.5335)\n"
     ]
    },
    {
     "name": "stderr",
     "output_type": "stream",
     "text": [
      "100%|██████████| 284/284 [00:01<00:00, 185.03it/s, loss=0.07824170170735516] \n"
     ]
    },
    {
     "name": "stdout",
     "output_type": "stream",
     "text": [
      "Epoch 137 train (loss: 0.0782, f1 score: 0.9764) test (loss: 1.2743, f1 score: 0.5477)\n"
     ]
    },
    {
     "name": "stderr",
     "output_type": "stream",
     "text": [
      "100%|██████████| 284/284 [00:01<00:00, 156.10it/s, loss=0.052459891109926604]\n"
     ]
    },
    {
     "name": "stdout",
     "output_type": "stream",
     "text": [
      "Epoch 138 train (loss: 0.0525, f1 score: 0.9877) test (loss: 1.4734, f1 score: 0.6366)\n"
     ]
    },
    {
     "name": "stderr",
     "output_type": "stream",
     "text": [
      "100%|██████████| 284/284 [00:01<00:00, 152.05it/s, loss=0.05040266758177716] \n"
     ]
    },
    {
     "name": "stdout",
     "output_type": "stream",
     "text": [
      "Epoch 139 train (loss: 0.0504, f1 score: 0.9908) test (loss: 1.5829, f1 score: 0.5202)\n"
     ]
    },
    {
     "name": "stderr",
     "output_type": "stream",
     "text": [
      "100%|██████████| 284/284 [00:01<00:00, 150.82it/s, loss=0.5447946491048047] \n"
     ]
    },
    {
     "name": "stdout",
     "output_type": "stream",
     "text": [
      "Epoch 140 train (loss: 0.5448, f1 score: 0.8244) test (loss: 1.9045, f1 score: 0.4244)\n"
     ]
    },
    {
     "name": "stderr",
     "output_type": "stream",
     "text": [
      "100%|██████████| 284/284 [00:01<00:00, 223.89it/s, loss=0.4304238365742856] \n"
     ]
    },
    {
     "name": "stdout",
     "output_type": "stream",
     "text": [
      "Epoch 141 train (loss: 0.4304, f1 score: 0.8635) test (loss: 1.3924, f1 score: 0.5270)\n"
     ]
    },
    {
     "name": "stderr",
     "output_type": "stream",
     "text": [
      "100%|██████████| 284/284 [00:01<00:00, 216.15it/s, loss=0.101997763251421]  \n"
     ]
    },
    {
     "name": "stdout",
     "output_type": "stream",
     "text": [
      "Epoch 142 train (loss: 0.1020, f1 score: 0.9860) test (loss: 1.3916, f1 score: 0.4933)\n"
     ]
    },
    {
     "name": "stderr",
     "output_type": "stream",
     "text": [
      "100%|██████████| 284/284 [00:01<00:00, 213.36it/s, loss=0.06454549601603207] \n"
     ]
    },
    {
     "name": "stdout",
     "output_type": "stream",
     "text": [
      "Epoch 143 train (loss: 0.0645, f1 score: 0.9833) test (loss: 1.4441, f1 score: 0.5396)\n"
     ]
    },
    {
     "name": "stderr",
     "output_type": "stream",
     "text": [
      "100%|██████████| 284/284 [00:01<00:00, 223.49it/s, loss=0.1397534632031552] \n"
     ]
    },
    {
     "name": "stdout",
     "output_type": "stream",
     "text": [
      "Epoch 144 train (loss: 0.1398, f1 score: 0.9604) test (loss: 1.5298, f1 score: 0.5140)\n"
     ]
    },
    {
     "name": "stderr",
     "output_type": "stream",
     "text": [
      "100%|██████████| 284/284 [00:01<00:00, 210.76it/s, loss=0.1832281007391934] \n"
     ]
    },
    {
     "name": "stdout",
     "output_type": "stream",
     "text": [
      "Epoch 145 train (loss: 0.1832, f1 score: 0.9557) test (loss: 1.5303, f1 score: 0.5236)\n"
     ]
    },
    {
     "name": "stderr",
     "output_type": "stream",
     "text": [
      "100%|██████████| 284/284 [00:01<00:00, 217.95it/s, loss=0.04688963288488804] \n"
     ]
    },
    {
     "name": "stdout",
     "output_type": "stream",
     "text": [
      "Epoch 146 train (loss: 0.0469, f1 score: 0.9877) test (loss: 1.6247, f1 score: 0.5317)\n"
     ]
    },
    {
     "name": "stderr",
     "output_type": "stream",
     "text": [
      "100%|██████████| 284/284 [00:01<00:00, 213.03it/s, loss=0.030197535277458953]\n"
     ]
    },
    {
     "name": "stdout",
     "output_type": "stream",
     "text": [
      "Epoch 147 train (loss: 0.0302, f1 score: 0.9969) test (loss: 1.5755, f1 score: 0.5777)\n"
     ]
    },
    {
     "name": "stderr",
     "output_type": "stream",
     "text": [
      "100%|██████████| 284/284 [00:01<00:00, 218.13it/s, loss=0.021337472008143645]\n"
     ]
    },
    {
     "name": "stdout",
     "output_type": "stream",
     "text": [
      "Epoch 148 train (loss: 0.0213, f1 score: 1.0000) test (loss: 1.5078, f1 score: 0.5729)\n"
     ]
    },
    {
     "name": "stderr",
     "output_type": "stream",
     "text": [
      "100%|██████████| 284/284 [00:01<00:00, 213.04it/s, loss=0.026516163348345875]\n"
     ]
    },
    {
     "name": "stdout",
     "output_type": "stream",
     "text": [
      "Epoch 149 train (loss: 0.0265, f1 score: 0.9908) test (loss: 1.8537, f1 score: 0.5531)\n"
     ]
    },
    {
     "name": "stderr",
     "output_type": "stream",
     "text": [
      "100%|██████████| 284/284 [00:01<00:00, 200.19it/s, loss=0.5958988450004207] \n"
     ]
    },
    {
     "name": "stdout",
     "output_type": "stream",
     "text": [
      "Epoch 150 train (loss: 0.5959, f1 score: 0.8242) test (loss: 2.6206, f1 score: 0.4230)\n"
     ]
    },
    {
     "name": "stderr",
     "output_type": "stream",
     "text": [
      "100%|██████████| 284/284 [00:01<00:00, 175.40it/s, loss=0.39025562732930946]\n"
     ]
    },
    {
     "name": "stdout",
     "output_type": "stream",
     "text": [
      "Epoch 151 train (loss: 0.3903, f1 score: 0.8732) test (loss: 1.3135, f1 score: 0.5364)\n"
     ]
    },
    {
     "name": "stderr",
     "output_type": "stream",
     "text": [
      "100%|██████████| 284/284 [00:01<00:00, 181.44it/s, loss=0.22415189045071035]\n"
     ]
    },
    {
     "name": "stdout",
     "output_type": "stream",
     "text": [
      "Epoch 152 train (loss: 0.2242, f1 score: 0.9437) test (loss: 1.4637, f1 score: 0.5587)\n"
     ]
    },
    {
     "name": "stderr",
     "output_type": "stream",
     "text": [
      "100%|██████████| 284/284 [00:01<00:00, 189.37it/s, loss=0.14513160516190657]\n"
     ]
    },
    {
     "name": "stdout",
     "output_type": "stream",
     "text": [
      "Epoch 153 train (loss: 0.1451, f1 score: 0.9642) test (loss: 1.3330, f1 score: 0.5529)\n"
     ]
    },
    {
     "name": "stderr",
     "output_type": "stream",
     "text": [
      "100%|██████████| 284/284 [00:01<00:00, 193.55it/s, loss=0.06668496288450473] \n"
     ]
    },
    {
     "name": "stdout",
     "output_type": "stream",
     "text": [
      "Epoch 154 train (loss: 0.0667, f1 score: 0.9861) test (loss: 1.6401, f1 score: 0.5302)\n"
     ]
    },
    {
     "name": "stderr",
     "output_type": "stream",
     "text": [
      "100%|██████████| 284/284 [00:01<00:00, 185.83it/s, loss=0.05386142527932496] \n"
     ]
    },
    {
     "name": "stdout",
     "output_type": "stream",
     "text": [
      "Epoch 155 train (loss: 0.0539, f1 score: 0.9852) test (loss: 1.3153, f1 score: 0.5574)\n"
     ]
    },
    {
     "name": "stderr",
     "output_type": "stream",
     "text": [
      "100%|██████████| 284/284 [00:01<00:00, 189.30it/s, loss=0.03298832172583683] \n"
     ]
    },
    {
     "name": "stdout",
     "output_type": "stream",
     "text": [
      "Epoch 156 train (loss: 0.0330, f1 score: 0.9938) test (loss: 1.5605, f1 score: 0.5787)\n"
     ]
    },
    {
     "name": "stderr",
     "output_type": "stream",
     "text": [
      "100%|██████████| 284/284 [00:01<00:00, 200.56it/s, loss=0.05595630668030503] \n"
     ]
    },
    {
     "name": "stdout",
     "output_type": "stream",
     "text": [
      "Epoch 157 train (loss: 0.0560, f1 score: 0.9842) test (loss: 1.4660, f1 score: 0.5603)\n"
     ]
    },
    {
     "name": "stderr",
     "output_type": "stream",
     "text": [
      "100%|██████████| 284/284 [00:01<00:00, 184.52it/s, loss=0.10916927501411086]\n"
     ]
    },
    {
     "name": "stdout",
     "output_type": "stream",
     "text": [
      "Epoch 158 train (loss: 0.1092, f1 score: 0.9710) test (loss: 1.3250, f1 score: 0.6068)\n"
     ]
    },
    {
     "name": "stderr",
     "output_type": "stream",
     "text": [
      "100%|██████████| 284/284 [00:01<00:00, 195.36it/s, loss=0.03243158247471536] \n"
     ]
    },
    {
     "name": "stdout",
     "output_type": "stream",
     "text": [
      "Epoch 159 train (loss: 0.0324, f1 score: 0.9969) test (loss: 1.3423, f1 score: 0.5919)\n"
     ]
    },
    {
     "name": "stderr",
     "output_type": "stream",
     "text": [
      "100%|██████████| 284/284 [00:01<00:00, 160.64it/s, loss=0.02972263330276663] \n"
     ]
    },
    {
     "name": "stdout",
     "output_type": "stream",
     "text": [
      "Epoch 160 train (loss: 0.0297, f1 score: 0.9938) test (loss: 1.6315, f1 score: 0.5741)\n"
     ]
    },
    {
     "name": "stderr",
     "output_type": "stream",
     "text": [
      "100%|██████████| 284/284 [00:01<00:00, 162.34it/s, loss=0.01849725965455787] \n"
     ]
    },
    {
     "name": "stdout",
     "output_type": "stream",
     "text": [
      "Epoch 161 train (loss: 0.0185, f1 score: 0.9969) test (loss: 1.4616, f1 score: 0.6287)\n"
     ]
    },
    {
     "name": "stderr",
     "output_type": "stream",
     "text": [
      "100%|██████████| 284/284 [00:01<00:00, 157.89it/s, loss=0.025934386541014817]\n"
     ]
    },
    {
     "name": "stdout",
     "output_type": "stream",
     "text": [
      "Epoch 162 train (loss: 0.0259, f1 score: 0.9938) test (loss: 1.4481, f1 score: 0.6154)\n"
     ]
    },
    {
     "name": "stderr",
     "output_type": "stream",
     "text": [
      "100%|██████████| 284/284 [00:01<00:00, 145.18it/s, loss=0.28604101597967174] \n"
     ]
    },
    {
     "name": "stdout",
     "output_type": "stream",
     "text": [
      "Epoch 163 train (loss: 0.2860, f1 score: 0.9294) test (loss: 2.1059, f1 score: 0.5524)\n"
     ]
    },
    {
     "name": "stderr",
     "output_type": "stream",
     "text": [
      "100%|██████████| 284/284 [00:01<00:00, 184.88it/s, loss=0.36711879961257665]\n"
     ]
    },
    {
     "name": "stdout",
     "output_type": "stream",
     "text": [
      "Epoch 164 train (loss: 0.3671, f1 score: 0.8856) test (loss: 2.1342, f1 score: 0.4814)\n"
     ]
    },
    {
     "name": "stderr",
     "output_type": "stream",
     "text": [
      "100%|██████████| 284/284 [00:01<00:00, 195.79it/s, loss=0.15875452027700182]\n"
     ]
    },
    {
     "name": "stdout",
     "output_type": "stream",
     "text": [
      "Epoch 165 train (loss: 0.1588, f1 score: 0.9535) test (loss: 1.3740, f1 score: 0.5794)\n"
     ]
    },
    {
     "name": "stderr",
     "output_type": "stream",
     "text": [
      "100%|██████████| 284/284 [00:01<00:00, 196.52it/s, loss=0.03760707942152473] \n"
     ]
    },
    {
     "name": "stdout",
     "output_type": "stream",
     "text": [
      "Epoch 166 train (loss: 0.0376, f1 score: 1.0000) test (loss: 1.6634, f1 score: 0.5766)\n"
     ]
    },
    {
     "name": "stderr",
     "output_type": "stream",
     "text": [
      "100%|██████████| 284/284 [00:01<00:00, 193.67it/s, loss=0.19409454627877726] \n"
     ]
    },
    {
     "name": "stdout",
     "output_type": "stream",
     "text": [
      "Epoch 167 train (loss: 0.1941, f1 score: 0.9303) test (loss: 2.0326, f1 score: 0.5668)\n"
     ]
    },
    {
     "name": "stderr",
     "output_type": "stream",
     "text": [
      "100%|██████████| 284/284 [00:01<00:00, 195.57it/s, loss=0.11671256684538824] \n"
     ]
    },
    {
     "name": "stdout",
     "output_type": "stream",
     "text": [
      "Epoch 168 train (loss: 0.1167, f1 score: 0.9790) test (loss: 1.5289, f1 score: 0.6475)\n"
     ]
    },
    {
     "name": "stderr",
     "output_type": "stream",
     "text": [
      "100%|██████████| 284/284 [00:01<00:00, 195.30it/s, loss=0.11807047734252663]\n"
     ]
    },
    {
     "name": "stdout",
     "output_type": "stream",
     "text": [
      "Epoch 169 train (loss: 0.1181, f1 score: 0.9616) test (loss: 1.7053, f1 score: 0.5251)\n"
     ]
    },
    {
     "name": "stderr",
     "output_type": "stream",
     "text": [
      "100%|██████████| 284/284 [00:01<00:00, 195.52it/s, loss=0.1538479459512188] \n"
     ]
    },
    {
     "name": "stdout",
     "output_type": "stream",
     "text": [
      "Epoch 170 train (loss: 0.1538, f1 score: 0.9534) test (loss: 1.4763, f1 score: 0.6041)\n"
     ]
    },
    {
     "name": "stderr",
     "output_type": "stream",
     "text": [
      "100%|██████████| 284/284 [00:01<00:00, 196.48it/s, loss=0.04807457079818063] \n"
     ]
    },
    {
     "name": "stdout",
     "output_type": "stream",
     "text": [
      "Epoch 171 train (loss: 0.0481, f1 score: 0.9811) test (loss: 1.5095, f1 score: 0.5996)\n"
     ]
    },
    {
     "name": "stderr",
     "output_type": "stream",
     "text": [
      "100%|██████████| 284/284 [00:01<00:00, 194.17it/s, loss=0.13548755991951011]\n"
     ]
    },
    {
     "name": "stdout",
     "output_type": "stream",
     "text": [
      "Epoch 172 train (loss: 0.1355, f1 score: 0.9660) test (loss: 1.3116, f1 score: 0.6173)\n"
     ]
    },
    {
     "name": "stderr",
     "output_type": "stream",
     "text": [
      "100%|██████████| 284/284 [00:01<00:00, 199.77it/s, loss=0.11945037181431312]\n"
     ]
    },
    {
     "name": "stdout",
     "output_type": "stream",
     "text": [
      "Epoch 173 train (loss: 0.1195, f1 score: 0.9665) test (loss: 1.5298, f1 score: 0.6051)\n"
     ]
    },
    {
     "name": "stderr",
     "output_type": "stream",
     "text": [
      "100%|██████████| 284/284 [00:01<00:00, 194.17it/s, loss=0.044727690620978984]\n"
     ]
    },
    {
     "name": "stdout",
     "output_type": "stream",
     "text": [
      "Epoch 174 train (loss: 0.0447, f1 score: 0.9895) test (loss: 1.4060, f1 score: 0.5886)\n"
     ]
    },
    {
     "name": "stderr",
     "output_type": "stream",
     "text": [
      "100%|██████████| 284/284 [00:01<00:00, 196.81it/s, loss=0.15223883035536434]\n"
     ]
    },
    {
     "name": "stdout",
     "output_type": "stream",
     "text": [
      "Epoch 175 train (loss: 0.1522, f1 score: 0.9573) test (loss: 1.4423, f1 score: 0.5532)\n"
     ]
    },
    {
     "name": "stderr",
     "output_type": "stream",
     "text": [
      "100%|██████████| 284/284 [00:01<00:00, 193.68it/s, loss=0.2430265669866271] \n"
     ]
    },
    {
     "name": "stdout",
     "output_type": "stream",
     "text": [
      "Epoch 176 train (loss: 0.2430, f1 score: 0.9169) test (loss: 2.3013, f1 score: 0.4922)\n"
     ]
    },
    {
     "name": "stderr",
     "output_type": "stream",
     "text": [
      "100%|██████████| 284/284 [00:01<00:00, 197.93it/s, loss=0.14098606826677745]\n"
     ]
    },
    {
     "name": "stdout",
     "output_type": "stream",
     "text": [
      "Epoch 177 train (loss: 0.1410, f1 score: 0.9648) test (loss: 1.5607, f1 score: 0.5764)\n"
     ]
    },
    {
     "name": "stderr",
     "output_type": "stream",
     "text": [
      "100%|██████████| 284/284 [00:01<00:00, 198.02it/s, loss=0.2845343490823433] \n"
     ]
    },
    {
     "name": "stdout",
     "output_type": "stream",
     "text": [
      "Epoch 178 train (loss: 0.2845, f1 score: 0.9152) test (loss: 1.7485, f1 score: 0.5198)\n"
     ]
    },
    {
     "name": "stderr",
     "output_type": "stream",
     "text": [
      "100%|██████████| 284/284 [00:01<00:00, 194.21it/s, loss=0.09210923302304778]\n"
     ]
    },
    {
     "name": "stdout",
     "output_type": "stream",
     "text": [
      "Epoch 179 train (loss: 0.0921, f1 score: 0.9772) test (loss: 1.5335, f1 score: 0.5692)\n"
     ]
    },
    {
     "name": "stderr",
     "output_type": "stream",
     "text": [
      "100%|██████████| 284/284 [00:01<00:00, 187.30it/s, loss=0.028633101570072785]\n"
     ]
    },
    {
     "name": "stdout",
     "output_type": "stream",
     "text": [
      "Epoch 180 train (loss: 0.0286, f1 score: 0.9978) test (loss: 1.4200, f1 score: 0.6283)\n"
     ]
    },
    {
     "name": "stderr",
     "output_type": "stream",
     "text": [
      "100%|██████████| 284/284 [00:01<00:00, 188.82it/s, loss=0.023247044864777782]\n"
     ]
    },
    {
     "name": "stdout",
     "output_type": "stream",
     "text": [
      "Epoch 181 train (loss: 0.0232, f1 score: 1.0000) test (loss: 1.5379, f1 score: 0.5855)\n"
     ]
    },
    {
     "name": "stderr",
     "output_type": "stream",
     "text": [
      "100%|██████████| 284/284 [00:01<00:00, 186.39it/s, loss=0.03249638672403461] \n"
     ]
    },
    {
     "name": "stdout",
     "output_type": "stream",
     "text": [
      "Epoch 182 train (loss: 0.0325, f1 score: 0.9908) test (loss: 1.3015, f1 score: 0.6359)\n"
     ]
    },
    {
     "name": "stderr",
     "output_type": "stream",
     "text": [
      "100%|██████████| 284/284 [00:01<00:00, 185.00it/s, loss=0.015631091949385008]\n"
     ]
    },
    {
     "name": "stdout",
     "output_type": "stream",
     "text": [
      "Epoch 183 train (loss: 0.0156, f1 score: 0.9969) test (loss: 1.4623, f1 score: 0.5952)\n"
     ]
    },
    {
     "name": "stderr",
     "output_type": "stream",
     "text": [
      "100%|██████████| 284/284 [00:01<00:00, 185.16it/s, loss=0.010671394317195253]\n"
     ]
    },
    {
     "name": "stdout",
     "output_type": "stream",
     "text": [
      "Epoch 184 train (loss: 0.0107, f1 score: 1.0000) test (loss: 1.4193, f1 score: 0.6053)\n"
     ]
    },
    {
     "name": "stderr",
     "output_type": "stream",
     "text": [
      "100%|██████████| 284/284 [00:01<00:00, 187.12it/s, loss=0.0206654139835403]  \n"
     ]
    },
    {
     "name": "stdout",
     "output_type": "stream",
     "text": [
      "Epoch 185 train (loss: 0.0207, f1 score: 0.9938) test (loss: 1.4286, f1 score: 0.6123)\n"
     ]
    },
    {
     "name": "stderr",
     "output_type": "stream",
     "text": [
      "100%|██████████| 284/284 [00:01<00:00, 182.53it/s, loss=0.020627771528303338]\n"
     ]
    },
    {
     "name": "stdout",
     "output_type": "stream",
     "text": [
      "Epoch 186 train (loss: 0.0206, f1 score: 0.9938) test (loss: 1.8381, f1 score: 0.5930)\n"
     ]
    },
    {
     "name": "stderr",
     "output_type": "stream",
     "text": [
      "100%|██████████| 284/284 [00:01<00:00, 188.91it/s, loss=0.0768008714436999] \n"
     ]
    },
    {
     "name": "stdout",
     "output_type": "stream",
     "text": [
      "Epoch 187 train (loss: 0.0768, f1 score: 0.9665) test (loss: 1.6379, f1 score: 0.6120)\n"
     ]
    },
    {
     "name": "stderr",
     "output_type": "stream",
     "text": [
      "100%|██████████| 284/284 [00:01<00:00, 198.39it/s, loss=0.22764732462279344]\n"
     ]
    },
    {
     "name": "stdout",
     "output_type": "stream",
     "text": [
      "Epoch 188 train (loss: 0.2276, f1 score: 0.9373) test (loss: 2.1938, f1 score: 0.5195)\n"
     ]
    },
    {
     "name": "stderr",
     "output_type": "stream",
     "text": [
      "100%|██████████| 284/284 [00:01<00:00, 192.57it/s, loss=0.20103497091832775]\n"
     ]
    },
    {
     "name": "stdout",
     "output_type": "stream",
     "text": [
      "Epoch 189 train (loss: 0.2010, f1 score: 0.9524) test (loss: 1.9674, f1 score: 0.5577)\n"
     ]
    },
    {
     "name": "stderr",
     "output_type": "stream",
     "text": [
      "100%|██████████| 284/284 [00:01<00:00, 190.95it/s, loss=0.11886804843727056]\n"
     ]
    },
    {
     "name": "stdout",
     "output_type": "stream",
     "text": [
      "Epoch 190 train (loss: 0.1189, f1 score: 0.9635) test (loss: 1.5357, f1 score: 0.6124)\n"
     ]
    },
    {
     "name": "stderr",
     "output_type": "stream",
     "text": [
      "100%|██████████| 284/284 [00:01<00:00, 194.36it/s, loss=0.07335114391819801] \n"
     ]
    },
    {
     "name": "stdout",
     "output_type": "stream",
     "text": [
      "Epoch 191 train (loss: 0.0734, f1 score: 0.9834) test (loss: 2.1705, f1 score: 0.4676)\n"
     ]
    },
    {
     "name": "stderr",
     "output_type": "stream",
     "text": [
      "100%|██████████| 284/284 [00:01<00:00, 197.44it/s, loss=0.09843119793067776]\n"
     ]
    },
    {
     "name": "stdout",
     "output_type": "stream",
     "text": [
      "Epoch 192 train (loss: 0.0984, f1 score: 0.9786) test (loss: 1.6529, f1 score: 0.5445)\n"
     ]
    },
    {
     "name": "stderr",
     "output_type": "stream",
     "text": [
      "100%|██████████| 284/284 [00:01<00:00, 198.05it/s, loss=0.022519089168893034]\n"
     ]
    },
    {
     "name": "stdout",
     "output_type": "stream",
     "text": [
      "Epoch 193 train (loss: 0.0225, f1 score: 0.9939) test (loss: 1.5865, f1 score: 0.5612)\n"
     ]
    },
    {
     "name": "stderr",
     "output_type": "stream",
     "text": [
      "100%|██████████| 284/284 [00:01<00:00, 195.84it/s, loss=0.017331387586774098]\n"
     ]
    },
    {
     "name": "stdout",
     "output_type": "stream",
     "text": [
      "Epoch 194 train (loss: 0.0173, f1 score: 0.9969) test (loss: 1.6705, f1 score: 0.5710)\n"
     ]
    },
    {
     "name": "stderr",
     "output_type": "stream",
     "text": [
      "100%|██████████| 284/284 [00:01<00:00, 191.62it/s, loss=0.01121307132991464] \n"
     ]
    },
    {
     "name": "stdout",
     "output_type": "stream",
     "text": [
      "Epoch 195 train (loss: 0.0112, f1 score: 1.0000) test (loss: 1.7622, f1 score: 0.6027)\n"
     ]
    },
    {
     "name": "stderr",
     "output_type": "stream",
     "text": [
      "100%|██████████| 284/284 [00:01<00:00, 184.69it/s, loss=0.015110185562349544] \n"
     ]
    },
    {
     "name": "stdout",
     "output_type": "stream",
     "text": [
      "Epoch 196 train (loss: 0.0151, f1 score: 0.9938) test (loss: 1.7641, f1 score: 0.5734)\n"
     ]
    },
    {
     "name": "stderr",
     "output_type": "stream",
     "text": [
      "100%|██████████| 284/284 [00:01<00:00, 188.08it/s, loss=0.00981527818049769] \n"
     ]
    },
    {
     "name": "stdout",
     "output_type": "stream",
     "text": [
      "Epoch 197 train (loss: 0.0098, f1 score: 1.0000) test (loss: 1.7775, f1 score: 0.5661)\n"
     ]
    },
    {
     "name": "stderr",
     "output_type": "stream",
     "text": [
      "100%|██████████| 284/284 [00:01<00:00, 191.52it/s, loss=0.008802741519080566] \n"
     ]
    },
    {
     "name": "stdout",
     "output_type": "stream",
     "text": [
      "Epoch 198 train (loss: 0.0088, f1 score: 0.9969) test (loss: 1.9533, f1 score: 0.5695)\n"
     ]
    },
    {
     "name": "stderr",
     "output_type": "stream",
     "text": [
      "100%|██████████| 284/284 [00:01<00:00, 183.02it/s, loss=0.03909705713920275]  \n"
     ]
    },
    {
     "name": "stdout",
     "output_type": "stream",
     "text": [
      "Epoch 199 train (loss: 0.0391, f1 score: 0.9907) test (loss: 1.8536, f1 score: 0.5893)\n"
     ]
    },
    {
     "name": "stderr",
     "output_type": "stream",
     "text": [
      "100%|██████████| 284/284 [00:01<00:00, 193.24it/s, loss=0.5036176649492538] \n"
     ]
    },
    {
     "name": "stdout",
     "output_type": "stream",
     "text": [
      "Epoch 200 train (loss: 0.5036, f1 score: 0.8544) test (loss: 2.6346, f1 score: 0.4443)\n"
     ]
    }
   ],
   "source": [
    "history = train_model(model, 200, criterion, optimizer, ckpt_path='../models/simple_lstm/best.pt')"
   ]
  },
  {
   "cell_type": "code",
   "execution_count": 93,
   "metadata": {},
   "outputs": [
    {
     "name": "stdout",
     "output_type": "stream",
     "text": [
      "Best F1 score: 0.647518004870946\n"
     ]
    }
   ],
   "source": [
    "print(f\"Best F1 score: {max(history['test_scores'])}\")"
   ]
  },
  {
   "cell_type": "markdown",
   "metadata": {},
   "source": [
    "# Results visualization"
   ]
  },
  {
   "cell_type": "code",
   "execution_count": 94,
   "metadata": {},
   "outputs": [],
   "source": [
    "from matplotlib import pyplot as plt"
   ]
  },
  {
   "cell_type": "code",
   "execution_count": 95,
   "metadata": {},
   "outputs": [
    {
     "data": {
      "image/png": "[encoded data removed]",
      "text/plain": [
       "<Figure size 640x480 with 1 Axes>"
      ]
     },
     "metadata": {},
     "output_type": "display_data"
    }
   ],
   "source": [
    "plt.plot(history['train_losses'], label='Train Loss')\n",
    "plt.plot(history['test_losses'], label='Test Loss')\n",
    "plt.title(\"Losses\")\n",
    "plt.legend()\n",
    "plt.show()"
   ]
  },
  {
   "cell_type": "code",
   "execution_count": 96,
   "metadata": {},
   "outputs": [
    {
     "data": {
      "image/png": "[encoded data removed]",
      "text/plain": [
       "<Figure size 640x480 with 1 Axes>"
      ]
     },
     "metadata": {},
     "output_type": "display_data"
    }
   ],
   "source": [
    "plt.plot(history['train_scores'], label=\"Train F1\")\n",
    "plt.plot(history['test_scores'], label=\"Test F1\")\n",
    "plt.title(\"Scores\")\n",
    "plt.legend()\n",
    "plt.show()"
   ]
  },
  {
   "cell_type": "code",
   "execution_count": null,
   "metadata": {},
   "outputs": [],
   "source": []
  }
 ],
 "metadata": {
  "colab": {
   "provenance": []
  },
  "kernelspec": {
   "display_name": "Python 3 (ipykernel)",
   "language": "python",
   "name": "python3"
  },
  "language_info": {
   "codemirror_mode": {
    "name": "ipython",
    "version": 3
   },
   "file_extension": ".py",
   "mimetype": "text/x-python",
   "name": "python",
   "nbconvert_exporter": "python",
   "pygments_lexer": "ipython3",
   "version": "3.11.4"
  }
 },
 "nbformat": 4,
 "nbformat_minor": 4
}
