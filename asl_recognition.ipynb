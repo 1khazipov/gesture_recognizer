{
 "cells": [
  {
   "cell_type": "markdown",
   "metadata": {},
   "source": [
    "## Device Stuff"
   ]
  },
  {
   "cell_type": "code",
   "execution_count": 53,
   "metadata": {},
   "outputs": [
    {
     "name": "stdout",
     "output_type": "stream",
     "text": [
      "cuda\n"
     ]
    }
   ],
   "source": [
    "import torch\n",
    "\n",
    "#Set up device\n",
    "use_cuda = torch.cuda.is_available()\n",
    "device = torch.device(\"cuda\" if use_cuda else \"cpu\")\n",
    "print(device)"
   ]
  },
  {
   "cell_type": "markdown",
   "metadata": {},
   "source": [
    "## Dataset"
   ]
  },
  {
   "cell_type": "code",
   "execution_count": 54,
   "metadata": {},
   "outputs": [],
   "source": [
    "import os\n",
    "from pathlib import Path\n",
    "import torch\n",
    "import numpy as np\n",
    "import pandas as pd\n",
    "from torch.utils.data import Dataset, DataLoader"
   ]
  },
  {
   "cell_type": "code",
   "execution_count": 55,
   "metadata": {},
   "outputs": [],
   "source": [
    "from utils import get_classes_indexes"
   ]
  },
  {
   "cell_type": "code",
   "execution_count": 56,
   "metadata": {},
   "outputs": [
    {
     "data": {
      "text/html": [
       "<div>\n",
       "<style scoped>\n",
       "    .dataframe tbody tr th:only-of-type {\n",
       "        vertical-align: middle;\n",
       "    }\n",
       "\n",
       "    .dataframe tbody tr th {\n",
       "        vertical-align: top;\n",
       "    }\n",
       "\n",
       "    .dataframe thead th {\n",
       "        text-align: right;\n",
       "    }\n",
       "</style>\n",
       "<table border=\"1\" class=\"dataframe\">\n",
       "  <thead>\n",
       "    <tr style=\"text-align: right;\">\n",
       "      <th></th>\n",
       "      <th>video_name</th>\n",
       "      <th>class_id</th>\n",
       "      <th>class_name</th>\n",
       "    </tr>\n",
       "  </thead>\n",
       "  <tbody>\n",
       "    <tr>\n",
       "      <th>53</th>\n",
       "      <td>WIN_20231127_20_12_12_Pro</td>\n",
       "      <td>1164</td>\n",
       "      <td>me</td>\n",
       "    </tr>\n",
       "    <tr>\n",
       "      <th>349</th>\n",
       "      <td>WIN_20231127_19_28_18_Pro</td>\n",
       "      <td>259</td>\n",
       "      <td>baby</td>\n",
       "    </tr>\n",
       "    <tr>\n",
       "      <th>156</th>\n",
       "      <td>WIN_20231127_20_14_35_Pro</td>\n",
       "      <td>566</td>\n",
       "      <td>my</td>\n",
       "    </tr>\n",
       "    <tr>\n",
       "      <th>59</th>\n",
       "      <td>WIN_20231127_20_11_14_Pro</td>\n",
       "      <td>1164</td>\n",
       "      <td>me</td>\n",
       "    </tr>\n",
       "    <tr>\n",
       "      <th>348</th>\n",
       "      <td>WIN_20231127_19_29_12_Pro</td>\n",
       "      <td>259</td>\n",
       "      <td>baby</td>\n",
       "    </tr>\n",
       "    <tr>\n",
       "      <th>205</th>\n",
       "      <td>WIN_20231127_20_25_52_Pro</td>\n",
       "      <td>179</td>\n",
       "      <td>you</td>\n",
       "    </tr>\n",
       "    <tr>\n",
       "      <th>270</th>\n",
       "      <td>63188</td>\n",
       "      <td>1999</td>\n",
       "      <td>whistle</td>\n",
       "    </tr>\n",
       "    <tr>\n",
       "      <th>93</th>\n",
       "      <td>WIN_20231127_19_37_10_Pro</td>\n",
       "      <td>35</td>\n",
       "      <td>can</td>\n",
       "    </tr>\n",
       "    <tr>\n",
       "      <th>125</th>\n",
       "      <td>WIN_20231127_00_26_25_Pro</td>\n",
       "      <td>1721</td>\n",
       "      <td>due</td>\n",
       "    </tr>\n",
       "    <tr>\n",
       "      <th>248</th>\n",
       "      <td>WIN_20231127_20_21_39_Pro</td>\n",
       "      <td>1999</td>\n",
       "      <td>whistle</td>\n",
       "    </tr>\n",
       "    <tr>\n",
       "      <th>352</th>\n",
       "      <td>WIN_20231127_19_28_55_Pro</td>\n",
       "      <td>259</td>\n",
       "      <td>baby</td>\n",
       "    </tr>\n",
       "    <tr>\n",
       "      <th>170</th>\n",
       "      <td>WIN_20231127_20_14_14_Pro</td>\n",
       "      <td>566</td>\n",
       "      <td>my</td>\n",
       "    </tr>\n",
       "    <tr>\n",
       "      <th>310</th>\n",
       "      <td>WIN_20231127_19_40_43_Pro</td>\n",
       "      <td>159</td>\n",
       "      <td>know</td>\n",
       "    </tr>\n",
       "    <tr>\n",
       "      <th>26</th>\n",
       "      <td>WIN_20231127_19_45_30_Pro</td>\n",
       "      <td>1805</td>\n",
       "      <td>let</td>\n",
       "    </tr>\n",
       "    <tr>\n",
       "      <th>278</th>\n",
       "      <td>WIN_20231127_20_21_04_Pro</td>\n",
       "      <td>1999</td>\n",
       "      <td>whistle</td>\n",
       "    </tr>\n",
       "    <tr>\n",
       "      <th>15</th>\n",
       "      <td>WIN_20231127_19_44_58_Pro</td>\n",
       "      <td>1805</td>\n",
       "      <td>let</td>\n",
       "    </tr>\n",
       "    <tr>\n",
       "      <th>263</th>\n",
       "      <td>WIN_20231127_20_19_21_Pro</td>\n",
       "      <td>1999</td>\n",
       "      <td>whistle</td>\n",
       "    </tr>\n",
       "    <tr>\n",
       "      <th>212</th>\n",
       "      <td>WIN_20231127_20_25_31_Pro</td>\n",
       "      <td>179</td>\n",
       "      <td>you</td>\n",
       "    </tr>\n",
       "    <tr>\n",
       "      <th>182</th>\n",
       "      <td>WIN_20231127_20_14_26_Pro</td>\n",
       "      <td>566</td>\n",
       "      <td>my</td>\n",
       "    </tr>\n",
       "    <tr>\n",
       "      <th>299</th>\n",
       "      <td>WIN_20231127_19_32_27_Pro</td>\n",
       "      <td>1636</td>\n",
       "      <td>blow</td>\n",
       "    </tr>\n",
       "  </tbody>\n",
       "</table>\n",
       "</div>"
      ],
      "text/plain": [
       "                    video_name  class_id class_name\n",
       "53   WIN_20231127_20_12_12_Pro      1164         me\n",
       "349  WIN_20231127_19_28_18_Pro       259       baby\n",
       "156  WIN_20231127_20_14_35_Pro       566         my\n",
       "59   WIN_20231127_20_11_14_Pro      1164         me\n",
       "348  WIN_20231127_19_29_12_Pro       259       baby\n",
       "205  WIN_20231127_20_25_52_Pro       179        you\n",
       "270                      63188      1999    whistle\n",
       "93   WIN_20231127_19_37_10_Pro        35        can\n",
       "125  WIN_20231127_00_26_25_Pro      1721        due\n",
       "248  WIN_20231127_20_21_39_Pro      1999    whistle\n",
       "352  WIN_20231127_19_28_55_Pro       259       baby\n",
       "170  WIN_20231127_20_14_14_Pro       566         my\n",
       "310  WIN_20231127_19_40_43_Pro       159       know\n",
       "26   WIN_20231127_19_45_30_Pro      1805        let\n",
       "278  WIN_20231127_20_21_04_Pro      1999    whistle\n",
       "15   WIN_20231127_19_44_58_Pro      1805        let\n",
       "263  WIN_20231127_20_19_21_Pro      1999    whistle\n",
       "212  WIN_20231127_20_25_31_Pro       179        you\n",
       "182  WIN_20231127_20_14_26_Pro       566         my\n",
       "299  WIN_20231127_19_32_27_Pro      1636       blow"
      ]
     },
     "execution_count": 56,
     "metadata": {},
     "output_type": "execute_result"
    }
   ],
   "source": [
    "source_folder = os.path.join('data', 'internal', 'preprocessed_videos')\n",
    "\n",
    "def create_dataframe(videos_root):\n",
    "    data = []\n",
    "    \n",
    "    classes_to_extract = os.listdir(videos_root)\n",
    "    \n",
    "    classes_data = get_classes_indexes(class_file_name=\"data/raw/dataset/wlasl_class_list.txt\", classes_to_extract=classes_to_extract)\n",
    "\n",
    "    CLASS_TO_IDX = {class_name : idx for (idx, class_name) in  classes_data}\n",
    "    IDX_TO_CLASS = {idx : class_name for (idx, class_name) in  classes_data}\n",
    "    \n",
    "    for class_name in os.listdir(videos_root):\n",
    "        class_path = os.path.join(videos_root, class_name)\n",
    "        for name in os.listdir(class_path):\n",
    "            name = Path(name).stem\n",
    "            data.append([name, CLASS_TO_IDX[class_name], class_name])\n",
    "    return pd.DataFrame(data, columns=['video_name', 'class_id', 'class_name'])\n",
    "\n",
    "dataset = create_dataframe(source_folder)\n",
    "\n",
    "dataset.sample(20)"
   ]
  },
  {
   "cell_type": "code",
   "execution_count": 57,
   "metadata": {},
   "outputs": [
    {
     "name": "stdout",
     "output_type": "stream",
     "text": [
      "Maximum frame count: 168\n"
     ]
    }
   ],
   "source": [
    "import cv2\n",
    "\n",
    "max_frame_count = 0\n",
    "\n",
    "for key, row in dataset.iterrows():\n",
    "    class_name = row['class_name']\n",
    "    file_name = row['video_name']\n",
    "    file_path = os.path.join(source_folder, class_name, file_name+'.mp4')\n",
    "    cap = cv2.VideoCapture(file_path)\n",
    "    length = int(cap.get(cv2.CAP_PROP_FRAME_COUNT))\n",
    "    max_frame_count = max(max_frame_count, length)\n",
    "    \n",
    "print('Maximum frame count:',max_frame_count)"
   ]
  },
  {
   "cell_type": "code",
   "execution_count": 58,
   "metadata": {},
   "outputs": [],
   "source": [
    "IDX_TO_CLASS = [ c_id for i, c_id in enumerate(set(dataset.class_id))]\n",
    "CLASS_TO_IDX = { c_id: i for i, c_id in enumerate(IDX_TO_CLASS)}"
   ]
  },
  {
   "cell_type": "code",
   "execution_count": 59,
   "metadata": {
    "id": "mo19lj56lIbi"
   },
   "outputs": [],
   "source": [
    "from os.path import exists\n",
    "import torch.nn.functional as F\n",
    "\n",
    "class ASLDataset(Dataset):\n",
    "    \"\"\"\n",
    "    A custom dataset class for loading American Sign Language (ASL) videos and their corresponding labels.\n",
    "\n",
    "    Args:\n",
    "        tensors_folder (str): Path to the folder containing the .pt arrays (converted videos).\n",
    "        dataset_df (DataFrame): Pandas dataframe with information about videos\n",
    "        max_frame_count (int): Maximum length of video in frames.\n",
    "        ohe (OneHotEncoder): Required to encode class id to one hot numeric array.\n",
    "\n",
    "    Attributes:\n",
    "        tensors_folder (str): Path to the folder containing the .pt arrays (converted videos).\n",
    "        name_with_label (dict): A dictionary mapping video names to their labels.\n",
    "        classes (list): A list of class names.\n",
    "    \"\"\"\n",
    "\n",
    "    def __init__(self, tensors_folder: str, dataset_df: pd.DataFrame, max_frame_count: int) -> None:\n",
    "        # Default frame (set of points) to insert in short videos to make all videos equal in length\n",
    "        default_frame = [0] * (21 * 3 * 2 + 33 * 3)\n",
    "        \n",
    "        self.tensor_sequences = []\n",
    "        self.targets = []\n",
    "        for i, row in dataset_df.iterrows():\n",
    "            path_to_tensor = tensors_folder + '/' + row[\"video_name\"] + '.pt'\n",
    "            \n",
    "            if not exists(path_to_tensor):\n",
    "                continue\n",
    "            \n",
    "            # Open the video file using OpenCV\n",
    "            tensor = torch.load(path_to_tensor)\n",
    "\n",
    "            # Change length of video (not a video but sequence of frames with points coordinates in each frame)\n",
    "            # pad_right = [default_frame for _ in range(0, max_frame_count - tensor.shape[0])]\n",
    "            # pad_right = torch.tensor(pad_right)\n",
    "            # self.tensor_sequences.append(torch.cat((pad_right, F.normalize(tensor.float(), dim=1))))\n",
    "            self.tensor_sequences.append(F.normalize(tensor.float(), dim=1))\n",
    "            self.targets.append(CLASS_TO_IDX[dataset_df[\"class_id\"][i]])\n",
    "        self.targets = torch.tensor(self.targets)\n",
    "            \n",
    "            \n",
    "    def __len__(self):\n",
    "        \"\"\"\n",
    "        Returns the number of videos in the dataset.\n",
    "\n",
    "        Returns:\n",
    "            int: The number of videos in the dataset.\n",
    "        \"\"\"\n",
    "        return len(self.targets)\n",
    "\n",
    "    def __getitem__(self, index):\n",
    "        \"\"\"\n",
    "        Retrieves a video and its corresponding label from the dataset.\n",
    "\n",
    "        Args:\n",
    "            index (int): The index of the video to retrieve.\n",
    "\n",
    "        Returns:\n",
    "            tuple: A tuple containing the video frames as a PyTorch tensor and the label.\n",
    "        \"\"\"\n",
    "\n",
    "        return self.tensor_sequences[index].float(), self.targets[index].long()\n"
   ]
  },
  {
   "cell_type": "code",
   "execution_count": 60,
   "metadata": {},
   "outputs": [],
   "source": [
    "def read_classes(path):\n",
    "    classes = dict()\n",
    "    with open(path, 'r') as file:\n",
    "        for line in file:\n",
    "            line = line.strip().split('\\t')\n",
    "            key = int(line[0])\n",
    "            value = line[1]\n",
    "            classes[key] = value\n",
    "    return classes"
   ]
  },
  {
   "cell_type": "code",
   "execution_count": 61,
   "metadata": {},
   "outputs": [],
   "source": [
    "from sklearn.model_selection import train_test_split\n",
    "\n",
    "train, test = train_test_split(dataset, test_size=0.2, random_state=42)"
   ]
  },
  {
   "cell_type": "code",
   "execution_count": 62,
   "metadata": {
    "pycharm": {
     "name": "#%%\n"
    }
   },
   "outputs": [],
   "source": [
    "classes = read_classes('data/raw/dataset/wlasl_class_list.txt')\n",
    "\n",
    "train_dataset = ASLDataset('data/internal/features', train, max_frame_count)\n",
    "#val_dataset = ASLDataset('data/internal/features', val, max_frame_count)\n",
    "test_dataset = ASLDataset('data/internal/features', test, max_frame_count)"
   ]
  },
  {
   "cell_type": "code",
   "execution_count": 63,
   "metadata": {},
   "outputs": [
    {
     "name": "stdout",
     "output_type": "stream",
     "text": [
      "Train size: 284\n",
      "Test size: 71\n"
     ]
    }
   ],
   "source": [
    "# Create dataloaders\n",
    "batch_size = 1\n",
    "\n",
    "train_dataloader = DataLoader(train_dataset, batch_size=batch_size, shuffle=True)\n",
    "# val_dataloader = DataLoader(val_dataset, batch_size=batch_size, shuffle=True)\n",
    "test_dataloader = DataLoader(test_dataset, batch_size=batch_size, shuffle=False)\n",
    "\n",
    "print(f\"Train size: {len(train_dataset)}\")\n",
    "#print(f\"Validation size: {len(val_dataset)}\")\n",
    "print(f\"Test size: {len(test_dataset)}\")"
   ]
  },
  {
   "cell_type": "markdown",
   "metadata": {
    "pycharm": {
     "name": "#%%\n"
    }
   },
   "source": [
    "## Model"
   ]
  },
  {
   "cell_type": "code",
   "execution_count": 64,
   "metadata": {},
   "outputs": [],
   "source": [
    "import matplotlib.pyplot as plt"
   ]
  },
  {
   "cell_type": "code",
   "execution_count": null,
   "metadata": {},
   "outputs": [],
   "source": [
    "dropout = 0.4"
   ]
  },
  {
   "cell_type": "code",
   "execution_count": 65,
   "metadata": {},
   "outputs": [],
   "source": [
    "import torch.nn as nn\n",
    "\n",
    "class SequenceModel(nn.Module):\n",
    "    def __init__(self, input_size, output_size) -> None:\n",
    "        super().__init__()\n",
    "        self.lstm1 = nn.Sequential(\n",
    "            nn.LSTM(input_size, 64, 1, batch_first=True, dropout=dropout),\n",
    "        )\n",
    "        self.lstm2 = nn.Sequential(\n",
    "            nn.LSTM(64, 128, 1, batch_first=True, dropout=dropout),\n",
    "        )\n",
    "        self.lstm3 = nn.Sequential(\n",
    "            nn.LSTM(128, 64, 1, batch_first=True, bidirectional=True, dropout=dropout),\n",
    "        )\n",
    "        self.relu1 = nn.ReLU()\n",
    "        self.relu2 = nn.ReLU()\n",
    "        self.relu3 = nn.ReLU()\n",
    "        self.linear = nn.Sequential(\n",
    "            nn.Linear(64 * 2, 32),\n",
    "            nn.ReLU(),\n",
    "            nn.Linear(32, output_size),\n",
    "        )\n",
    "\n",
    "    def forward(self, x):\n",
    "        x, _ = self.lstm1(x)\n",
    "        x = self.relu1(x)\n",
    "        x, _ = self.lstm2(x)\n",
    "        x = self.relu2(x)\n",
    "        #x, _ = self.lstm3(x)\n",
    "        #x = self.relu3(x)\n",
    "        x = self.linear(x[:,-1,:])\n",
    "\n",
    "        return x"
   ]
  },
  {
   "cell_type": "markdown",
   "metadata": {},
   "source": [
    "## Training"
   ]
  },
  {
   "cell_type": "code",
   "execution_count": 66,
   "metadata": {},
   "outputs": [],
   "source": [
    "from sklearn.metrics import f1_score, accuracy_score\n",
    "from tqdm import tqdm\n",
    "\n",
    "\n",
    "def train_model(model: nn.Module, epochs: int, criterion, optimizer, ckpt_path='models/best.pt'):\n",
    "    \"\"\"\n",
    "    Function that trains model using number of epochs, loss function, optimizer.\n",
    "    Can use validation or test data set for evaluation.\n",
    "    Calculates f1 score.\n",
    "\n",
    "    Parameter\n",
    "    ---------\n",
    "    model : nn.Module\n",
    "      Model to train.\n",
    "    epochs: int\n",
    "      Number of train epochs\n",
    "    criterion\n",
    "      The loss function from pytorch\n",
    "    optimizer\n",
    "      The optimizer from pytorch\n",
    "    \"\"\"\n",
    "\n",
    "    model.train()\n",
    "    model.to(device)\n",
    "\n",
    "    history = {'train_losses': [], 'test_losses': [],\n",
    "               'train_scores': [], 'test_scores': []}\n",
    "\n",
    "    # Train the model\n",
    "    for epoch in range(epochs):\n",
    "        model.train()\n",
    "\n",
    "        predicted_train = []\n",
    "        true_train = []\n",
    "\n",
    "        train_loss = 0.0\n",
    "\n",
    "        bar = tqdm(train_dataloader)\n",
    "        iterations = 0\n",
    "\n",
    "        for inputs, targets in bar:\n",
    "          \n",
    "            inputs, targets = inputs.to(device), targets.to(device)\n",
    "\n",
    "            # Zero the gradients\n",
    "            optimizer.zero_grad()\n",
    "            # Forward pass\n",
    "            outputs = model(inputs)\n",
    "            loss = criterion(outputs, targets)\n",
    "\n",
    "            train_loss += loss.item()\n",
    "\n",
    "            # Backward pass\n",
    "            loss.backward()\n",
    "            optimizer.step()\n",
    "\n",
    "            # Get predicted classes and true classes from data\n",
    "            predictions = torch.argmax(outputs, dim=1)\n",
    "            for item in predictions:\n",
    "                predicted_train.append(item.cpu().numpy())\n",
    "            for item in targets:\n",
    "                true_train.append(item.cpu().numpy())\n",
    "            iterations += 1\n",
    "            bar.set_postfix(\n",
    "                ({\"loss\": f\"{train_loss/(iterations*train_dataloader.batch_size)}\"}))\n",
    "\n",
    "        # Computing loss\n",
    "        train_loss /= len(train_dataset)\n",
    "        # Computing f1 score\n",
    "        train_f1 = f1_score(true_train, predicted_train, average=\"macro\")\n",
    "\n",
    "        # Printing information in the end of train loop\n",
    "        test_loss, test_f1 = test_model(model, criterion, test_dataloader)\n",
    "\n",
    "        history['train_losses'].append(train_loss)\n",
    "        history['test_losses'].append(test_loss)\n",
    "        history['train_scores'].append(train_f1)\n",
    "        history['test_scores'].append(test_f1)\n",
    "\n",
    "        if test_f1 > max(history['test_scores']):\n",
    "            torch.save(model.state_dict(), ckpt_path)\n",
    "\n",
    "        print(f\"Epoch {epoch+1} train (loss: {train_loss:.4f}, f1 score: {train_f1:.4f}) test (loss: {test_loss:.4f}, f1 score: {test_f1:.4f})\")\n",
    "\n",
    "    return history\n",
    "\n",
    "\n",
    "def test_model(model: nn.Module, criterion, test_dataloader: DataLoader):\n",
    "    \"\"\"\n",
    "    Function that evaluates model on specified dataloader\n",
    "    by specified loss function.\n",
    "\n",
    "    Parameter\n",
    "    ---------\n",
    "    model : nn.Module\n",
    "      Model to train.\n",
    "    criterion\n",
    "      The loss function from pytorch\n",
    "    test_dataloader: DataLoader\n",
    "      The dataset for testing model\n",
    "\n",
    "    Returns\n",
    "    -------\n",
    "    float: loss of model on given dataset\n",
    "    float: f1 score of model on given dataset\n",
    "    \"\"\"\n",
    "\n",
    "    model.eval()\n",
    "    model.to(device)\n",
    "\n",
    "    # Test loss value\n",
    "    test_loss = 0.0\n",
    "\n",
    "    # Lists for calculation f1 score\n",
    "    predicted_test = []\n",
    "    true_test = []\n",
    "\n",
    "    with torch.no_grad():\n",
    "        for inputs, targets in test_dataloader:\n",
    "            inputs, targets = inputs.to(device), targets.to(device)\n",
    "\n",
    "            # Forward pass\n",
    "            outputs = model(inputs)\n",
    "            test_loss += criterion(outputs, targets)\n",
    "\n",
    "            # Get predicted classes and true classes from data\n",
    "            predictions = torch.argmax(outputs, dim=1)\n",
    "            for item in predictions:\n",
    "                predicted_test.append(item.cpu().numpy())\n",
    "            for item in targets:\n",
    "                true_test.append(item.cpu().numpy())\n",
    "\n",
    "    # Computation of test loss\n",
    "    test_loss /= len(test_dataloader)\n",
    "\n",
    "    # Computation of f1 score\n",
    "    test_f1 = f1_score(true_test, predicted_test, average=\"macro\")\n",
    "    return test_loss.item(), test_f1"
   ]
  },
  {
   "cell_type": "code",
   "execution_count": 67,
   "metadata": {},
   "outputs": [
    {
     "name": "stderr",
     "output_type": "stream",
     "text": [
      "/home/dmitrii/anaconda3/envs/detoxification_env/lib/python3.9/site-packages/torch/nn/modules/rnn.py:82: UserWarning: dropout option adds dropout after all but last recurrent layer, so non-zero dropout expects num_layers greater than 1, but got dropout=0.3 and num_layers=1\n",
      "  warnings.warn(\"dropout option adds dropout after all but last \"\n"
     ]
    }
   ],
   "source": [
    "model = SequenceModel(input_size=225, output_size=len(IDX_TO_CLASS))\n",
    "#model = LSTM_ResNet34(fc_size=225, num_classes=len(IDX_TO_CLASS), sample_duration=16)\n",
    "criterion = nn.CrossEntropyLoss()\n",
    "optimizer = torch.optim.Adam(model.parameters(), lr=1e-4)"
   ]
  },
  {
   "cell_type": "code",
   "execution_count": 68,
   "metadata": {},
   "outputs": [
    {
     "name": "stderr",
     "output_type": "stream",
     "text": [
      "  6%|▌         | 17/284 [00:00<00:01, 169.00it/s, loss=2.4473053336143495]"
     ]
    },
    {
     "name": "stderr",
     "output_type": "stream",
     "text": [
      "100%|██████████| 284/284 [00:01<00:00, 187.41it/s, loss=2.4952948244524675]\n"
     ]
    },
    {
     "name": "stdout",
     "output_type": "stream",
     "text": [
      "Epoch 1 train (loss: 2.4953, f1 score: 0.0169) test (loss: 2.4939, f1 score: 0.0187)\n"
     ]
    },
    {
     "name": "stderr",
     "output_type": "stream",
     "text": [
      "100%|██████████| 284/284 [00:01<00:00, 230.06it/s, loss=2.4784457943808866]\n"
     ]
    },
    {
     "name": "stdout",
     "output_type": "stream",
     "text": [
      "Epoch 2 train (loss: 2.4784, f1 score: 0.0287) test (loss: 2.4873, f1 score: 0.0169)\n"
     ]
    },
    {
     "name": "stderr",
     "output_type": "stream",
     "text": [
      "100%|██████████| 284/284 [00:01<00:00, 215.11it/s, loss=2.4476281803258706]\n"
     ]
    },
    {
     "name": "stdout",
     "output_type": "stream",
     "text": [
      "Epoch 3 train (loss: 2.4476, f1 score: 0.0197) test (loss: 2.4946, f1 score: 0.0169)\n"
     ]
    },
    {
     "name": "stderr",
     "output_type": "stream",
     "text": [
      "100%|██████████| 284/284 [00:01<00:00, 182.69it/s, loss=2.437131320926505] \n"
     ]
    },
    {
     "name": "stdout",
     "output_type": "stream",
     "text": [
      "Epoch 4 train (loss: 2.4371, f1 score: 0.0197) test (loss: 2.4973, f1 score: 0.0169)\n"
     ]
    },
    {
     "name": "stderr",
     "output_type": "stream",
     "text": [
      "100%|██████████| 284/284 [00:01<00:00, 211.51it/s, loss=2.4335454962622953]\n"
     ]
    },
    {
     "name": "stdout",
     "output_type": "stream",
     "text": [
      "Epoch 5 train (loss: 2.4335, f1 score: 0.0197) test (loss: 2.4959, f1 score: 0.0169)\n"
     ]
    },
    {
     "name": "stderr",
     "output_type": "stream",
     "text": [
      "100%|██████████| 284/284 [00:01<00:00, 186.74it/s, loss=2.430514030473333] \n"
     ]
    },
    {
     "name": "stdout",
     "output_type": "stream",
     "text": [
      "Epoch 6 train (loss: 2.4305, f1 score: 0.0197) test (loss: 2.4913, f1 score: 0.0169)\n"
     ]
    },
    {
     "name": "stderr",
     "output_type": "stream",
     "text": [
      "100%|██████████| 284/284 [00:01<00:00, 184.79it/s, loss=2.4277260740038376]\n"
     ]
    },
    {
     "name": "stdout",
     "output_type": "stream",
     "text": [
      "Epoch 7 train (loss: 2.4277, f1 score: 0.0197) test (loss: 2.4906, f1 score: 0.0169)\n"
     ]
    },
    {
     "name": "stderr",
     "output_type": "stream",
     "text": [
      "100%|██████████| 284/284 [00:01<00:00, 179.28it/s, loss=2.424876956452786] \n"
     ]
    },
    {
     "name": "stdout",
     "output_type": "stream",
     "text": [
      "Epoch 8 train (loss: 2.4249, f1 score: 0.0197) test (loss: 2.4889, f1 score: 0.0169)\n"
     ]
    },
    {
     "name": "stderr",
     "output_type": "stream",
     "text": [
      "100%|██████████| 284/284 [00:01<00:00, 191.16it/s, loss=2.4230602572501545]\n"
     ]
    },
    {
     "name": "stdout",
     "output_type": "stream",
     "text": [
      "Epoch 9 train (loss: 2.4231, f1 score: 0.0197) test (loss: 2.4866, f1 score: 0.0169)\n"
     ]
    },
    {
     "name": "stderr",
     "output_type": "stream",
     "text": [
      "100%|██████████| 284/284 [00:01<00:00, 186.04it/s, loss=2.420776189213068] \n"
     ]
    },
    {
     "name": "stdout",
     "output_type": "stream",
     "text": [
      "Epoch 10 train (loss: 2.4208, f1 score: 0.0197) test (loss: 2.4856, f1 score: 0.0169)\n"
     ]
    },
    {
     "name": "stderr",
     "output_type": "stream",
     "text": [
      "100%|██████████| 284/284 [00:01<00:00, 209.83it/s, loss=2.419245502898391] \n"
     ]
    },
    {
     "name": "stdout",
     "output_type": "stream",
     "text": [
      "Epoch 11 train (loss: 2.4192, f1 score: 0.0197) test (loss: 2.4849, f1 score: 0.0169)\n"
     ]
    },
    {
     "name": "stderr",
     "output_type": "stream",
     "text": [
      "100%|██████████| 284/284 [00:01<00:00, 225.27it/s, loss=2.4168841712911364]\n"
     ]
    },
    {
     "name": "stdout",
     "output_type": "stream",
     "text": [
      "Epoch 12 train (loss: 2.4169, f1 score: 0.0197) test (loss: 2.4811, f1 score: 0.0169)\n"
     ]
    },
    {
     "name": "stderr",
     "output_type": "stream",
     "text": [
      "100%|██████████| 284/284 [00:01<00:00, 204.11it/s, loss=2.415482436267423] \n"
     ]
    },
    {
     "name": "stdout",
     "output_type": "stream",
     "text": [
      "Epoch 13 train (loss: 2.4155, f1 score: 0.0197) test (loss: 2.4791, f1 score: 0.0169)\n"
     ]
    },
    {
     "name": "stderr",
     "output_type": "stream",
     "text": [
      "100%|██████████| 284/284 [00:01<00:00, 195.01it/s, loss=2.414759937726276] \n"
     ]
    },
    {
     "name": "stdout",
     "output_type": "stream",
     "text": [
      "Epoch 14 train (loss: 2.4148, f1 score: 0.0197) test (loss: 2.4792, f1 score: 0.0169)\n"
     ]
    },
    {
     "name": "stderr",
     "output_type": "stream",
     "text": [
      "100%|██████████| 284/284 [00:01<00:00, 227.33it/s, loss=2.4126725112888177]\n"
     ]
    },
    {
     "name": "stdout",
     "output_type": "stream",
     "text": [
      "Epoch 15 train (loss: 2.4127, f1 score: 0.0197) test (loss: 2.4782, f1 score: 0.0169)\n"
     ]
    },
    {
     "name": "stderr",
     "output_type": "stream",
     "text": [
      "100%|██████████| 284/284 [00:01<00:00, 188.07it/s, loss=2.4113545451365725]\n"
     ]
    },
    {
     "name": "stdout",
     "output_type": "stream",
     "text": [
      "Epoch 16 train (loss: 2.4114, f1 score: 0.0197) test (loss: 2.4751, f1 score: 0.0169)\n"
     ]
    },
    {
     "name": "stderr",
     "output_type": "stream",
     "text": [
      "100%|██████████| 284/284 [00:01<00:00, 165.98it/s, loss=2.4097929760603836]\n"
     ]
    },
    {
     "name": "stdout",
     "output_type": "stream",
     "text": [
      "Epoch 17 train (loss: 2.4098, f1 score: 0.0197) test (loss: 2.4701, f1 score: 0.0169)\n"
     ]
    },
    {
     "name": "stderr",
     "output_type": "stream",
     "text": [
      "100%|██████████| 284/284 [00:01<00:00, 159.28it/s, loss=2.409079056390574] \n"
     ]
    },
    {
     "name": "stdout",
     "output_type": "stream",
     "text": [
      "Epoch 18 train (loss: 2.4091, f1 score: 0.0197) test (loss: 2.4727, f1 score: 0.0169)\n"
     ]
    },
    {
     "name": "stderr",
     "output_type": "stream",
     "text": [
      "100%|██████████| 284/284 [00:01<00:00, 165.06it/s, loss=2.4087922040005805]\n"
     ]
    },
    {
     "name": "stdout",
     "output_type": "stream",
     "text": [
      "Epoch 19 train (loss: 2.4088, f1 score: 0.0197) test (loss: 2.4677, f1 score: 0.0169)\n"
     ]
    },
    {
     "name": "stderr",
     "output_type": "stream",
     "text": [
      "100%|██████████| 284/284 [00:01<00:00, 159.61it/s, loss=2.394655496301785] \n"
     ]
    },
    {
     "name": "stdout",
     "output_type": "stream",
     "text": [
      "Epoch 20 train (loss: 2.3947, f1 score: 0.0197) test (loss: 2.4312, f1 score: 0.0169)\n"
     ]
    },
    {
     "name": "stderr",
     "output_type": "stream",
     "text": [
      "100%|██████████| 284/284 [00:01<00:00, 159.73it/s, loss=2.3670147128508123]\n"
     ]
    },
    {
     "name": "stdout",
     "output_type": "stream",
     "text": [
      "Epoch 21 train (loss: 2.3670, f1 score: 0.0487) test (loss: 2.4072, f1 score: 0.0651)\n"
     ]
    },
    {
     "name": "stderr",
     "output_type": "stream",
     "text": [
      "100%|██████████| 284/284 [00:01<00:00, 151.46it/s, loss=2.411738394431665] \n"
     ]
    },
    {
     "name": "stdout",
     "output_type": "stream",
     "text": [
      "Epoch 22 train (loss: 2.4117, f1 score: 0.0475) test (loss: 2.4599, f1 score: 0.0169)\n"
     ]
    },
    {
     "name": "stderr",
     "output_type": "stream",
     "text": [
      "100%|██████████| 284/284 [00:01<00:00, 150.11it/s, loss=2.3498505786271164]\n"
     ]
    },
    {
     "name": "stdout",
     "output_type": "stream",
     "text": [
      "Epoch 23 train (loss: 2.3499, f1 score: 0.0407) test (loss: 2.3938, f1 score: 0.0785)\n"
     ]
    },
    {
     "name": "stderr",
     "output_type": "stream",
     "text": [
      "100%|██████████| 284/284 [00:01<00:00, 152.74it/s, loss=2.31159179269428]  \n"
     ]
    },
    {
     "name": "stdout",
     "output_type": "stream",
     "text": [
      "Epoch 24 train (loss: 2.3116, f1 score: 0.0824) test (loss: 2.3239, f1 score: 0.0687)\n"
     ]
    },
    {
     "name": "stderr",
     "output_type": "stream",
     "text": [
      "100%|██████████| 284/284 [00:01<00:00, 155.85it/s, loss=2.3057710838989474]\n"
     ]
    },
    {
     "name": "stdout",
     "output_type": "stream",
     "text": [
      "Epoch 25 train (loss: 2.3058, f1 score: 0.0673) test (loss: 2.3242, f1 score: 0.0690)\n"
     ]
    },
    {
     "name": "stderr",
     "output_type": "stream",
     "text": [
      "100%|██████████| 284/284 [00:01<00:00, 149.73it/s, loss=2.27580435888868]  \n"
     ]
    },
    {
     "name": "stdout",
     "output_type": "stream",
     "text": [
      "Epoch 26 train (loss: 2.2758, f1 score: 0.0616) test (loss: 2.2597, f1 score: 0.0701)\n"
     ]
    },
    {
     "name": "stderr",
     "output_type": "stream",
     "text": [
      "100%|██████████| 284/284 [00:01<00:00, 174.08it/s, loss=2.222618384680278] \n"
     ]
    },
    {
     "name": "stdout",
     "output_type": "stream",
     "text": [
      "Epoch 27 train (loss: 2.2226, f1 score: 0.0723) test (loss: 2.2192, f1 score: 0.0730)\n"
     ]
    },
    {
     "name": "stderr",
     "output_type": "stream",
     "text": [
      "100%|██████████| 284/284 [00:01<00:00, 191.56it/s, loss=2.222017443935636] \n"
     ]
    },
    {
     "name": "stdout",
     "output_type": "stream",
     "text": [
      "Epoch 28 train (loss: 2.2220, f1 score: 0.0851) test (loss: 2.2401, f1 score: 0.0769)\n"
     ]
    },
    {
     "name": "stderr",
     "output_type": "stream",
     "text": [
      "100%|██████████| 284/284 [00:01<00:00, 172.34it/s, loss=2.226879787696919] \n"
     ]
    },
    {
     "name": "stdout",
     "output_type": "stream",
     "text": [
      "Epoch 29 train (loss: 2.2269, f1 score: 0.0753) test (loss: 2.3433, f1 score: 0.0923)\n"
     ]
    },
    {
     "name": "stderr",
     "output_type": "stream",
     "text": [
      "100%|██████████| 284/284 [00:01<00:00, 159.05it/s, loss=2.1401250055977994]\n"
     ]
    },
    {
     "name": "stdout",
     "output_type": "stream",
     "text": [
      "Epoch 30 train (loss: 2.1401, f1 score: 0.0706) test (loss: 2.3302, f1 score: 0.0590)\n"
     ]
    },
    {
     "name": "stderr",
     "output_type": "stream",
     "text": [
      "100%|██████████| 284/284 [00:01<00:00, 151.62it/s, loss=2.103585933295774] \n"
     ]
    },
    {
     "name": "stdout",
     "output_type": "stream",
     "text": [
      "Epoch 31 train (loss: 2.1036, f1 score: 0.0683) test (loss: 2.0746, f1 score: 0.0673)\n"
     ]
    },
    {
     "name": "stderr",
     "output_type": "stream",
     "text": [
      "100%|██████████| 284/284 [00:01<00:00, 163.25it/s, loss=2.0698554154852746]\n"
     ]
    },
    {
     "name": "stdout",
     "output_type": "stream",
     "text": [
      "Epoch 32 train (loss: 2.0699, f1 score: 0.0674) test (loss: 2.0618, f1 score: 0.0683)\n"
     ]
    },
    {
     "name": "stderr",
     "output_type": "stream",
     "text": [
      "100%|██████████| 284/284 [00:01<00:00, 216.72it/s, loss=2.0169472988222688]\n"
     ]
    },
    {
     "name": "stdout",
     "output_type": "stream",
     "text": [
      "Epoch 33 train (loss: 2.0169, f1 score: 0.0806) test (loss: 2.0324, f1 score: 0.1137)\n"
     ]
    },
    {
     "name": "stderr",
     "output_type": "stream",
     "text": [
      "100%|██████████| 284/284 [00:01<00:00, 191.10it/s, loss=1.983401141536068] \n"
     ]
    },
    {
     "name": "stdout",
     "output_type": "stream",
     "text": [
      "Epoch 34 train (loss: 1.9834, f1 score: 0.0889) test (loss: 2.0280, f1 score: 0.1082)\n"
     ]
    },
    {
     "name": "stderr",
     "output_type": "stream",
     "text": [
      "100%|██████████| 284/284 [00:01<00:00, 174.23it/s, loss=2.018704910933132] \n"
     ]
    },
    {
     "name": "stdout",
     "output_type": "stream",
     "text": [
      "Epoch 35 train (loss: 2.0187, f1 score: 0.0739) test (loss: 2.0233, f1 score: 0.0680)\n"
     ]
    },
    {
     "name": "stderr",
     "output_type": "stream",
     "text": [
      "100%|██████████| 284/284 [00:01<00:00, 157.13it/s, loss=1.9864786481353598]\n"
     ]
    },
    {
     "name": "stdout",
     "output_type": "stream",
     "text": [
      "Epoch 36 train (loss: 1.9865, f1 score: 0.0700) test (loss: 2.0309, f1 score: 0.0716)\n"
     ]
    },
    {
     "name": "stderr",
     "output_type": "stream",
     "text": [
      "100%|██████████| 284/284 [00:01<00:00, 164.29it/s, loss=1.9573586230546656]\n"
     ]
    },
    {
     "name": "stdout",
     "output_type": "stream",
     "text": [
      "Epoch 37 train (loss: 1.9574, f1 score: 0.0770) test (loss: 2.0024, f1 score: 0.0923)\n"
     ]
    },
    {
     "name": "stderr",
     "output_type": "stream",
     "text": [
      "100%|██████████| 284/284 [00:01<00:00, 143.92it/s, loss=1.9253198546423038]\n"
     ]
    },
    {
     "name": "stdout",
     "output_type": "stream",
     "text": [
      "Epoch 38 train (loss: 1.9253, f1 score: 0.0802) test (loss: 1.9734, f1 score: 0.0794)\n"
     ]
    },
    {
     "name": "stderr",
     "output_type": "stream",
     "text": [
      "100%|██████████| 284/284 [00:01<00:00, 153.74it/s, loss=1.9259327922908354]\n"
     ]
    },
    {
     "name": "stdout",
     "output_type": "stream",
     "text": [
      "Epoch 39 train (loss: 1.9259, f1 score: 0.0880) test (loss: 2.0213, f1 score: 0.0887)\n"
     ]
    },
    {
     "name": "stderr",
     "output_type": "stream",
     "text": [
      "100%|██████████| 284/284 [00:01<00:00, 151.91it/s, loss=1.8890922787323805]\n"
     ]
    },
    {
     "name": "stdout",
     "output_type": "stream",
     "text": [
      "Epoch 40 train (loss: 1.8891, f1 score: 0.0749) test (loss: 1.9413, f1 score: 0.0823)\n"
     ]
    },
    {
     "name": "stderr",
     "output_type": "stream",
     "text": [
      "100%|██████████| 284/284 [00:01<00:00, 148.98it/s, loss=1.8805276654975516]\n"
     ]
    },
    {
     "name": "stdout",
     "output_type": "stream",
     "text": [
      "Epoch 41 train (loss: 1.8805, f1 score: 0.0701) test (loss: 2.4794, f1 score: 0.0446)\n"
     ]
    },
    {
     "name": "stderr",
     "output_type": "stream",
     "text": [
      "100%|██████████| 284/284 [00:01<00:00, 151.68it/s, loss=1.871978287545728] \n"
     ]
    },
    {
     "name": "stdout",
     "output_type": "stream",
     "text": [
      "Epoch 42 train (loss: 1.8720, f1 score: 0.0673) test (loss: 1.9310, f1 score: 0.0716)\n"
     ]
    },
    {
     "name": "stderr",
     "output_type": "stream",
     "text": [
      "100%|██████████| 284/284 [00:01<00:00, 158.98it/s, loss=1.8536889112331498]\n"
     ]
    },
    {
     "name": "stdout",
     "output_type": "stream",
     "text": [
      "Epoch 43 train (loss: 1.8537, f1 score: 0.0926) test (loss: 1.8996, f1 score: 0.0850)\n"
     ]
    },
    {
     "name": "stderr",
     "output_type": "stream",
     "text": [
      "100%|██████████| 284/284 [00:01<00:00, 153.08it/s, loss=1.862922210088918] \n"
     ]
    },
    {
     "name": "stdout",
     "output_type": "stream",
     "text": [
      "Epoch 44 train (loss: 1.8629, f1 score: 0.0795) test (loss: 1.9228, f1 score: 0.0850)\n"
     ]
    },
    {
     "name": "stderr",
     "output_type": "stream",
     "text": [
      "100%|██████████| 284/284 [00:01<00:00, 191.85it/s, loss=1.839776852601011] \n"
     ]
    },
    {
     "name": "stdout",
     "output_type": "stream",
     "text": [
      "Epoch 45 train (loss: 1.8398, f1 score: 0.1093) test (loss: 1.8955, f1 score: 0.0850)\n"
     ]
    },
    {
     "name": "stderr",
     "output_type": "stream",
     "text": [
      "100%|██████████| 284/284 [00:01<00:00, 207.50it/s, loss=1.840134493481945] \n"
     ]
    },
    {
     "name": "stdout",
     "output_type": "stream",
     "text": [
      "Epoch 46 train (loss: 1.8401, f1 score: 0.0965) test (loss: 1.8795, f1 score: 0.1002)\n"
     ]
    },
    {
     "name": "stderr",
     "output_type": "stream",
     "text": [
      "100%|██████████| 284/284 [00:01<00:00, 166.71it/s, loss=1.820277257284648] \n"
     ]
    },
    {
     "name": "stdout",
     "output_type": "stream",
     "text": [
      "Epoch 47 train (loss: 1.8203, f1 score: 0.1025) test (loss: 1.8710, f1 score: 0.1046)\n"
     ]
    },
    {
     "name": "stderr",
     "output_type": "stream",
     "text": [
      "100%|██████████| 284/284 [00:01<00:00, 206.90it/s, loss=1.8112181391514524]\n"
     ]
    },
    {
     "name": "stdout",
     "output_type": "stream",
     "text": [
      "Epoch 48 train (loss: 1.8112, f1 score: 0.1028) test (loss: 1.9245, f1 score: 0.1317)\n"
     ]
    },
    {
     "name": "stderr",
     "output_type": "stream",
     "text": [
      "100%|██████████| 284/284 [00:01<00:00, 203.21it/s, loss=1.8067720545009829]\n"
     ]
    },
    {
     "name": "stdout",
     "output_type": "stream",
     "text": [
      "Epoch 49 train (loss: 1.8068, f1 score: 0.1036) test (loss: 1.8484, f1 score: 0.1151)\n"
     ]
    },
    {
     "name": "stderr",
     "output_type": "stream",
     "text": [
      "100%|██████████| 284/284 [00:01<00:00, 205.68it/s, loss=1.800132369491416] \n"
     ]
    },
    {
     "name": "stdout",
     "output_type": "stream",
     "text": [
      "Epoch 50 train (loss: 1.8001, f1 score: 0.1155) test (loss: 2.3656, f1 score: 0.0824)\n"
     ]
    },
    {
     "name": "stderr",
     "output_type": "stream",
     "text": [
      "100%|██████████| 284/284 [00:01<00:00, 185.34it/s, loss=1.9044440183001505]\n"
     ]
    },
    {
     "name": "stdout",
     "output_type": "stream",
     "text": [
      "Epoch 51 train (loss: 1.9044, f1 score: 0.0675) test (loss: 2.0584, f1 score: 0.1033)\n"
     ]
    },
    {
     "name": "stderr",
     "output_type": "stream",
     "text": [
      "100%|██████████| 284/284 [00:01<00:00, 163.00it/s, loss=1.8339496855164918]\n"
     ]
    },
    {
     "name": "stdout",
     "output_type": "stream",
     "text": [
      "Epoch 52 train (loss: 1.8339, f1 score: 0.1024) test (loss: 1.9024, f1 score: 0.1375)\n"
     ]
    },
    {
     "name": "stderr",
     "output_type": "stream",
     "text": [
      "100%|██████████| 284/284 [00:01<00:00, 153.64it/s, loss=1.7824686706905635]\n"
     ]
    },
    {
     "name": "stdout",
     "output_type": "stream",
     "text": [
      "Epoch 53 train (loss: 1.7825, f1 score: 0.1345) test (loss: 1.8294, f1 score: 0.1597)\n"
     ]
    },
    {
     "name": "stderr",
     "output_type": "stream",
     "text": [
      "100%|██████████| 284/284 [00:01<00:00, 171.13it/s, loss=1.7902813914795996]\n"
     ]
    },
    {
     "name": "stdout",
     "output_type": "stream",
     "text": [
      "Epoch 54 train (loss: 1.7903, f1 score: 0.1321) test (loss: 1.8083, f1 score: 0.1528)\n"
     ]
    },
    {
     "name": "stderr",
     "output_type": "stream",
     "text": [
      "100%|██████████| 284/284 [00:01<00:00, 151.13it/s, loss=1.764045795084725] \n"
     ]
    },
    {
     "name": "stdout",
     "output_type": "stream",
     "text": [
      "Epoch 55 train (loss: 1.7640, f1 score: 0.1457) test (loss: 1.8181, f1 score: 0.1470)\n"
     ]
    },
    {
     "name": "stderr",
     "output_type": "stream",
     "text": [
      "100%|██████████| 284/284 [00:01<00:00, 147.67it/s, loss=1.7647697199398362]\n"
     ]
    },
    {
     "name": "stdout",
     "output_type": "stream",
     "text": [
      "Epoch 56 train (loss: 1.7648, f1 score: 0.1422) test (loss: 1.8235, f1 score: 0.1532)\n"
     ]
    },
    {
     "name": "stderr",
     "output_type": "stream",
     "text": [
      "100%|██████████| 284/284 [00:01<00:00, 154.78it/s, loss=1.7431053410113697]\n"
     ]
    },
    {
     "name": "stdout",
     "output_type": "stream",
     "text": [
      "Epoch 57 train (loss: 1.7431, f1 score: 0.1513) test (loss: 1.7891, f1 score: 0.1698)\n"
     ]
    },
    {
     "name": "stderr",
     "output_type": "stream",
     "text": [
      "100%|██████████| 284/284 [00:01<00:00, 154.91it/s, loss=1.7456836750809575]\n"
     ]
    },
    {
     "name": "stdout",
     "output_type": "stream",
     "text": [
      "Epoch 58 train (loss: 1.7457, f1 score: 0.1528) test (loss: 1.8383, f1 score: 0.1465)\n"
     ]
    },
    {
     "name": "stderr",
     "output_type": "stream",
     "text": [
      "100%|██████████| 284/284 [00:01<00:00, 155.40it/s, loss=1.730648588966316] \n"
     ]
    },
    {
     "name": "stdout",
     "output_type": "stream",
     "text": [
      "Epoch 59 train (loss: 1.7306, f1 score: 0.1597) test (loss: 1.8925, f1 score: 0.1385)\n"
     ]
    },
    {
     "name": "stderr",
     "output_type": "stream",
     "text": [
      "100%|██████████| 284/284 [00:01<00:00, 154.26it/s, loss=1.7119836962558854]\n"
     ]
    },
    {
     "name": "stdout",
     "output_type": "stream",
     "text": [
      "Epoch 60 train (loss: 1.7120, f1 score: 0.1686) test (loss: 1.8106, f1 score: 0.1303)\n"
     ]
    },
    {
     "name": "stderr",
     "output_type": "stream",
     "text": [
      "100%|██████████| 284/284 [00:01<00:00, 158.78it/s, loss=1.7291243009164299]\n"
     ]
    },
    {
     "name": "stdout",
     "output_type": "stream",
     "text": [
      "Epoch 61 train (loss: 1.7291, f1 score: 0.1676) test (loss: 1.8698, f1 score: 0.1263)\n"
     ]
    },
    {
     "name": "stderr",
     "output_type": "stream",
     "text": [
      "100%|██████████| 284/284 [00:01<00:00, 168.43it/s, loss=1.6934418397050508]\n"
     ]
    },
    {
     "name": "stdout",
     "output_type": "stream",
     "text": [
      "Epoch 62 train (loss: 1.6934, f1 score: 0.1835) test (loss: 1.7682, f1 score: 0.1996)\n"
     ]
    },
    {
     "name": "stderr",
     "output_type": "stream",
     "text": [
      "100%|██████████| 284/284 [00:01<00:00, 161.46it/s, loss=1.7030074625787601]\n"
     ]
    },
    {
     "name": "stdout",
     "output_type": "stream",
     "text": [
      "Epoch 63 train (loss: 1.7030, f1 score: 0.1849) test (loss: 1.9114, f1 score: 0.0834)\n"
     ]
    },
    {
     "name": "stderr",
     "output_type": "stream",
     "text": [
      "100%|██████████| 284/284 [00:01<00:00, 150.36it/s, loss=1.7244679776715561]\n"
     ]
    },
    {
     "name": "stdout",
     "output_type": "stream",
     "text": [
      "Epoch 64 train (loss: 1.7245, f1 score: 0.1916) test (loss: 1.8709, f1 score: 0.2126)\n"
     ]
    },
    {
     "name": "stderr",
     "output_type": "stream",
     "text": [
      "100%|██████████| 284/284 [00:01<00:00, 157.02it/s, loss=1.6919967989686509]\n"
     ]
    },
    {
     "name": "stdout",
     "output_type": "stream",
     "text": [
      "Epoch 65 train (loss: 1.6920, f1 score: 0.1737) test (loss: 1.9464, f1 score: 0.1897)\n"
     ]
    },
    {
     "name": "stderr",
     "output_type": "stream",
     "text": [
      "100%|██████████| 284/284 [00:01<00:00, 167.68it/s, loss=1.6577315886675472]\n"
     ]
    },
    {
     "name": "stdout",
     "output_type": "stream",
     "text": [
      "Epoch 66 train (loss: 1.6577, f1 score: 0.1888) test (loss: 1.8018, f1 score: 0.1447)\n"
     ]
    },
    {
     "name": "stderr",
     "output_type": "stream",
     "text": [
      "100%|██████████| 284/284 [00:01<00:00, 165.88it/s, loss=1.6108165874447622]\n"
     ]
    },
    {
     "name": "stdout",
     "output_type": "stream",
     "text": [
      "Epoch 67 train (loss: 1.6108, f1 score: 0.2036) test (loss: 1.7678, f1 score: 0.1464)\n"
     ]
    },
    {
     "name": "stderr",
     "output_type": "stream",
     "text": [
      "100%|██████████| 284/284 [00:01<00:00, 162.26it/s, loss=1.5980682513663467]\n"
     ]
    },
    {
     "name": "stdout",
     "output_type": "stream",
     "text": [
      "Epoch 68 train (loss: 1.5981, f1 score: 0.2061) test (loss: 1.7800, f1 score: 0.1548)\n"
     ]
    },
    {
     "name": "stderr",
     "output_type": "stream",
     "text": [
      "100%|██████████| 284/284 [00:01<00:00, 158.14it/s, loss=1.5891339103101005]\n"
     ]
    },
    {
     "name": "stdout",
     "output_type": "stream",
     "text": [
      "Epoch 69 train (loss: 1.5891, f1 score: 0.2030) test (loss: 1.7783, f1 score: 0.1583)\n"
     ]
    },
    {
     "name": "stderr",
     "output_type": "stream",
     "text": [
      "100%|██████████| 284/284 [00:01<00:00, 174.89it/s, loss=1.5751131170652282]\n"
     ]
    },
    {
     "name": "stdout",
     "output_type": "stream",
     "text": [
      "Epoch 70 train (loss: 1.5751, f1 score: 0.1997) test (loss: 1.8339, f1 score: 0.1108)\n"
     ]
    },
    {
     "name": "stderr",
     "output_type": "stream",
     "text": [
      "100%|██████████| 284/284 [00:01<00:00, 175.29it/s, loss=1.6889895994058797]\n"
     ]
    },
    {
     "name": "stdout",
     "output_type": "stream",
     "text": [
      "Epoch 71 train (loss: 1.6890, f1 score: 0.1886) test (loss: 2.1904, f1 score: 0.0883)\n"
     ]
    },
    {
     "name": "stderr",
     "output_type": "stream",
     "text": [
      "100%|██████████| 284/284 [00:01<00:00, 153.83it/s, loss=1.6487266805390237]\n"
     ]
    },
    {
     "name": "stdout",
     "output_type": "stream",
     "text": [
      "Epoch 72 train (loss: 1.6487, f1 score: 0.2124) test (loss: 1.8365, f1 score: 0.1540)\n"
     ]
    },
    {
     "name": "stderr",
     "output_type": "stream",
     "text": [
      "100%|██████████| 284/284 [00:01<00:00, 153.62it/s, loss=1.5529012875237935]\n"
     ]
    },
    {
     "name": "stdout",
     "output_type": "stream",
     "text": [
      "Epoch 73 train (loss: 1.5529, f1 score: 0.1990) test (loss: 1.7466, f1 score: 0.1908)\n"
     ]
    },
    {
     "name": "stderr",
     "output_type": "stream",
     "text": [
      "100%|██████████| 284/284 [00:01<00:00, 170.96it/s, loss=1.510209787269713] \n"
     ]
    },
    {
     "name": "stdout",
     "output_type": "stream",
     "text": [
      "Epoch 74 train (loss: 1.5102, f1 score: 0.2648) test (loss: 1.7110, f1 score: 0.1582)\n"
     ]
    },
    {
     "name": "stderr",
     "output_type": "stream",
     "text": [
      "100%|██████████| 284/284 [00:01<00:00, 162.76it/s, loss=1.471425892391675] \n"
     ]
    },
    {
     "name": "stdout",
     "output_type": "stream",
     "text": [
      "Epoch 75 train (loss: 1.4714, f1 score: 0.3044) test (loss: 1.7118, f1 score: 0.1696)\n"
     ]
    },
    {
     "name": "stderr",
     "output_type": "stream",
     "text": [
      "100%|██████████| 284/284 [00:01<00:00, 179.72it/s, loss=1.52940927236013]  \n"
     ]
    },
    {
     "name": "stdout",
     "output_type": "stream",
     "text": [
      "Epoch 76 train (loss: 1.5294, f1 score: 0.2860) test (loss: 1.8008, f1 score: 0.1416)\n"
     ]
    },
    {
     "name": "stderr",
     "output_type": "stream",
     "text": [
      "100%|██████████| 284/284 [00:01<00:00, 152.26it/s, loss=2.3366624962695886]\n"
     ]
    },
    {
     "name": "stdout",
     "output_type": "stream",
     "text": [
      "Epoch 77 train (loss: 2.3367, f1 score: 0.1491) test (loss: 2.2010, f1 score: 0.0807)\n"
     ]
    },
    {
     "name": "stderr",
     "output_type": "stream",
     "text": [
      "100%|██████████| 284/284 [00:01<00:00, 149.81it/s, loss=1.9404029376070264]\n"
     ]
    },
    {
     "name": "stdout",
     "output_type": "stream",
     "text": [
      "Epoch 78 train (loss: 1.9404, f1 score: 0.1506) test (loss: 1.9964, f1 score: 0.1413)\n"
     ]
    },
    {
     "name": "stderr",
     "output_type": "stream",
     "text": [
      "100%|██████████| 284/284 [00:01<00:00, 161.09it/s, loss=1.8070831030187473]\n"
     ]
    },
    {
     "name": "stdout",
     "output_type": "stream",
     "text": [
      "Epoch 79 train (loss: 1.8071, f1 score: 0.1293) test (loss: 1.8964, f1 score: 0.0767)\n"
     ]
    },
    {
     "name": "stderr",
     "output_type": "stream",
     "text": [
      "100%|██████████| 284/284 [00:01<00:00, 172.25it/s, loss=1.7120197805720316]\n"
     ]
    },
    {
     "name": "stdout",
     "output_type": "stream",
     "text": [
      "Epoch 80 train (loss: 1.7120, f1 score: 0.1378) test (loss: 1.8747, f1 score: 0.0982)\n"
     ]
    },
    {
     "name": "stderr",
     "output_type": "stream",
     "text": [
      "100%|██████████| 284/284 [00:01<00:00, 189.53it/s, loss=1.6744391800652088]\n"
     ]
    },
    {
     "name": "stdout",
     "output_type": "stream",
     "text": [
      "Epoch 81 train (loss: 1.6744, f1 score: 0.1393) test (loss: 1.8328, f1 score: 0.0952)\n"
     ]
    },
    {
     "name": "stderr",
     "output_type": "stream",
     "text": [
      "100%|██████████| 284/284 [00:01<00:00, 175.48it/s, loss=1.6357824806596193]\n"
     ]
    },
    {
     "name": "stdout",
     "output_type": "stream",
     "text": [
      "Epoch 82 train (loss: 1.6358, f1 score: 0.1486) test (loss: 1.8443, f1 score: 0.1715)\n"
     ]
    },
    {
     "name": "stderr",
     "output_type": "stream",
     "text": [
      "100%|██████████| 284/284 [00:01<00:00, 160.27it/s, loss=1.605703108117614] \n"
     ]
    },
    {
     "name": "stdout",
     "output_type": "stream",
     "text": [
      "Epoch 83 train (loss: 1.6057, f1 score: 0.2016) test (loss: 1.8390, f1 score: 0.1599)\n"
     ]
    },
    {
     "name": "stderr",
     "output_type": "stream",
     "text": [
      "100%|██████████| 284/284 [00:01<00:00, 171.02it/s, loss=1.5858825558507945]\n"
     ]
    },
    {
     "name": "stdout",
     "output_type": "stream",
     "text": [
      "Epoch 84 train (loss: 1.5859, f1 score: 0.2003) test (loss: 1.7783, f1 score: 0.1733)\n"
     ]
    },
    {
     "name": "stderr",
     "output_type": "stream",
     "text": [
      "100%|██████████| 284/284 [00:01<00:00, 153.93it/s, loss=1.673016369342804] \n"
     ]
    },
    {
     "name": "stdout",
     "output_type": "stream",
     "text": [
      "Epoch 85 train (loss: 1.6730, f1 score: 0.1670) test (loss: 1.7562, f1 score: 0.1650)\n"
     ]
    },
    {
     "name": "stderr",
     "output_type": "stream",
     "text": [
      "100%|██████████| 284/284 [00:01<00:00, 168.02it/s, loss=1.5608976294457073]\n"
     ]
    },
    {
     "name": "stdout",
     "output_type": "stream",
     "text": [
      "Epoch 86 train (loss: 1.5609, f1 score: 0.2097) test (loss: 1.7476, f1 score: 0.1639)\n"
     ]
    },
    {
     "name": "stderr",
     "output_type": "stream",
     "text": [
      "100%|██████████| 284/284 [00:01<00:00, 193.85it/s, loss=1.5247039473812345]\n"
     ]
    },
    {
     "name": "stdout",
     "output_type": "stream",
     "text": [
      "Epoch 87 train (loss: 1.5247, f1 score: 0.2118) test (loss: 1.7095, f1 score: 0.1758)\n"
     ]
    },
    {
     "name": "stderr",
     "output_type": "stream",
     "text": [
      "100%|██████████| 284/284 [00:01<00:00, 223.81it/s, loss=1.4934376906341231]\n"
     ]
    },
    {
     "name": "stdout",
     "output_type": "stream",
     "text": [
      "Epoch 88 train (loss: 1.4934, f1 score: 0.2314) test (loss: 1.7183, f1 score: 0.2042)\n"
     ]
    },
    {
     "name": "stderr",
     "output_type": "stream",
     "text": [
      "100%|██████████| 284/284 [00:01<00:00, 208.68it/s, loss=1.4459740916188335]\n"
     ]
    },
    {
     "name": "stdout",
     "output_type": "stream",
     "text": [
      "Epoch 89 train (loss: 1.4460, f1 score: 0.2326) test (loss: 1.7572, f1 score: 0.1690)\n"
     ]
    },
    {
     "name": "stderr",
     "output_type": "stream",
     "text": [
      "100%|██████████| 284/284 [00:01<00:00, 176.96it/s, loss=1.4649346512807926]\n"
     ]
    },
    {
     "name": "stdout",
     "output_type": "stream",
     "text": [
      "Epoch 90 train (loss: 1.4649, f1 score: 0.2334) test (loss: 1.5852, f1 score: 0.2183)\n"
     ]
    },
    {
     "name": "stderr",
     "output_type": "stream",
     "text": [
      "100%|██████████| 284/284 [00:01<00:00, 169.25it/s, loss=1.496988748580637] \n"
     ]
    },
    {
     "name": "stdout",
     "output_type": "stream",
     "text": [
      "Epoch 91 train (loss: 1.4970, f1 score: 0.2581) test (loss: 1.9364, f1 score: 0.1439)\n"
     ]
    },
    {
     "name": "stderr",
     "output_type": "stream",
     "text": [
      "100%|██████████| 284/284 [00:01<00:00, 152.69it/s, loss=1.4709606386826073]\n"
     ]
    },
    {
     "name": "stdout",
     "output_type": "stream",
     "text": [
      "Epoch 92 train (loss: 1.4710, f1 score: 0.3099) test (loss: 1.7837, f1 score: 0.2229)\n"
     ]
    },
    {
     "name": "stderr",
     "output_type": "stream",
     "text": [
      "100%|██████████| 284/284 [00:01<00:00, 151.75it/s, loss=1.3843954844583928]\n"
     ]
    },
    {
     "name": "stdout",
     "output_type": "stream",
     "text": [
      "Epoch 93 train (loss: 1.3844, f1 score: 0.3426) test (loss: 1.6297, f1 score: 0.2870)\n"
     ]
    },
    {
     "name": "stderr",
     "output_type": "stream",
     "text": [
      "100%|██████████| 284/284 [00:01<00:00, 156.44it/s, loss=1.3682892762229477]\n"
     ]
    },
    {
     "name": "stdout",
     "output_type": "stream",
     "text": [
      "Epoch 94 train (loss: 1.3683, f1 score: 0.3287) test (loss: 1.6105, f1 score: 0.2458)\n"
     ]
    },
    {
     "name": "stderr",
     "output_type": "stream",
     "text": [
      "100%|██████████| 284/284 [00:01<00:00, 166.30it/s, loss=1.3492786116163495]\n"
     ]
    },
    {
     "name": "stdout",
     "output_type": "stream",
     "text": [
      "Epoch 95 train (loss: 1.3493, f1 score: 0.4001) test (loss: 1.5699, f1 score: 0.2252)\n"
     ]
    },
    {
     "name": "stderr",
     "output_type": "stream",
     "text": [
      "100%|██████████| 284/284 [00:01<00:00, 159.77it/s, loss=1.3503872638856862]\n"
     ]
    },
    {
     "name": "stdout",
     "output_type": "stream",
     "text": [
      "Epoch 96 train (loss: 1.3504, f1 score: 0.3678) test (loss: 1.5911, f1 score: 0.3107)\n"
     ]
    },
    {
     "name": "stderr",
     "output_type": "stream",
     "text": [
      "100%|██████████| 284/284 [00:01<00:00, 158.75it/s, loss=1.2993086117883803]\n"
     ]
    },
    {
     "name": "stdout",
     "output_type": "stream",
     "text": [
      "Epoch 97 train (loss: 1.2993, f1 score: 0.4496) test (loss: 1.6878, f1 score: 0.2248)\n"
     ]
    },
    {
     "name": "stderr",
     "output_type": "stream",
     "text": [
      "100%|██████████| 284/284 [00:01<00:00, 159.53it/s, loss=1.3505626322937683]\n"
     ]
    },
    {
     "name": "stdout",
     "output_type": "stream",
     "text": [
      "Epoch 98 train (loss: 1.3506, f1 score: 0.3651) test (loss: 1.5401, f1 score: 0.2699)\n"
     ]
    },
    {
     "name": "stderr",
     "output_type": "stream",
     "text": [
      "100%|██████████| 284/284 [00:01<00:00, 156.56it/s, loss=1.2706688726452036]\n"
     ]
    },
    {
     "name": "stdout",
     "output_type": "stream",
     "text": [
      "Epoch 99 train (loss: 1.2707, f1 score: 0.4188) test (loss: 1.7951, f1 score: 0.2523)\n"
     ]
    },
    {
     "name": "stderr",
     "output_type": "stream",
     "text": [
      "100%|██████████| 284/284 [00:01<00:00, 156.84it/s, loss=1.2911588864427217]\n"
     ]
    },
    {
     "name": "stdout",
     "output_type": "stream",
     "text": [
      "Epoch 100 train (loss: 1.2912, f1 score: 0.4250) test (loss: 1.7190, f1 score: 0.2354)\n"
     ]
    },
    {
     "name": "stderr",
     "output_type": "stream",
     "text": [
      "100%|██████████| 284/284 [00:01<00:00, 199.14it/s, loss=1.4551740906817812]\n"
     ]
    },
    {
     "name": "stdout",
     "output_type": "stream",
     "text": [
      "Epoch 101 train (loss: 1.4552, f1 score: 0.3384) test (loss: 1.8081, f1 score: 0.2047)\n"
     ]
    },
    {
     "name": "stderr",
     "output_type": "stream",
     "text": [
      "100%|██████████| 284/284 [00:01<00:00, 196.64it/s, loss=1.3267506817486925]\n"
     ]
    },
    {
     "name": "stdout",
     "output_type": "stream",
     "text": [
      "Epoch 102 train (loss: 1.3268, f1 score: 0.3961) test (loss: 1.5774, f1 score: 0.2637)\n"
     ]
    },
    {
     "name": "stderr",
     "output_type": "stream",
     "text": [
      "100%|██████████| 284/284 [00:01<00:00, 195.32it/s, loss=1.2384665249518945]\n"
     ]
    },
    {
     "name": "stdout",
     "output_type": "stream",
     "text": [
      "Epoch 103 train (loss: 1.2385, f1 score: 0.4435) test (loss: 1.7262, f1 score: 0.2521)\n"
     ]
    },
    {
     "name": "stderr",
     "output_type": "stream",
     "text": [
      "100%|██████████| 284/284 [00:01<00:00, 217.07it/s, loss=1.2635592771038202]\n"
     ]
    },
    {
     "name": "stdout",
     "output_type": "stream",
     "text": [
      "Epoch 104 train (loss: 1.2636, f1 score: 0.4338) test (loss: 1.6069, f1 score: 0.3210)\n"
     ]
    },
    {
     "name": "stderr",
     "output_type": "stream",
     "text": [
      "100%|██████████| 284/284 [00:01<00:00, 214.61it/s, loss=1.2820643980948019]\n"
     ]
    },
    {
     "name": "stdout",
     "output_type": "stream",
     "text": [
      "Epoch 105 train (loss: 1.2821, f1 score: 0.3924) test (loss: 1.6160, f1 score: 0.2653)\n"
     ]
    },
    {
     "name": "stderr",
     "output_type": "stream",
     "text": [
      "100%|██████████| 284/284 [00:01<00:00, 184.62it/s, loss=1.2614662294656458]\n"
     ]
    },
    {
     "name": "stdout",
     "output_type": "stream",
     "text": [
      "Epoch 106 train (loss: 1.2615, f1 score: 0.4438) test (loss: 1.6886, f1 score: 0.2404)\n"
     ]
    },
    {
     "name": "stderr",
     "output_type": "stream",
     "text": [
      "100%|██████████| 284/284 [00:01<00:00, 224.60it/s, loss=1.197685009996656] \n"
     ]
    },
    {
     "name": "stdout",
     "output_type": "stream",
     "text": [
      "Epoch 107 train (loss: 1.1977, f1 score: 0.4682) test (loss: 1.7677, f1 score: 0.2268)\n"
     ]
    },
    {
     "name": "stderr",
     "output_type": "stream",
     "text": [
      "100%|██████████| 284/284 [00:01<00:00, 189.07it/s, loss=1.2288025350008212]\n"
     ]
    },
    {
     "name": "stdout",
     "output_type": "stream",
     "text": [
      "Epoch 108 train (loss: 1.2288, f1 score: 0.4360) test (loss: 1.7495, f1 score: 0.2441)\n"
     ]
    },
    {
     "name": "stderr",
     "output_type": "stream",
     "text": [
      "100%|██████████| 284/284 [00:01<00:00, 212.69it/s, loss=1.2276467483123423]\n"
     ]
    },
    {
     "name": "stdout",
     "output_type": "stream",
     "text": [
      "Epoch 109 train (loss: 1.2276, f1 score: 0.4182) test (loss: 1.5007, f1 score: 0.3338)\n"
     ]
    },
    {
     "name": "stderr",
     "output_type": "stream",
     "text": [
      "100%|██████████| 284/284 [00:01<00:00, 191.96it/s, loss=1.332421302060846] \n"
     ]
    },
    {
     "name": "stdout",
     "output_type": "stream",
     "text": [
      "Epoch 110 train (loss: 1.3324, f1 score: 0.4528) test (loss: 1.6724, f1 score: 0.2602)\n"
     ]
    },
    {
     "name": "stderr",
     "output_type": "stream",
     "text": [
      "100%|██████████| 284/284 [00:01<00:00, 192.49it/s, loss=1.3116657711880308]\n"
     ]
    },
    {
     "name": "stdout",
     "output_type": "stream",
     "text": [
      "Epoch 111 train (loss: 1.3117, f1 score: 0.4135) test (loss: 1.7384, f1 score: 0.2216)\n"
     ]
    },
    {
     "name": "stderr",
     "output_type": "stream",
     "text": [
      "100%|██████████| 284/284 [00:01<00:00, 192.79it/s, loss=1.1629550319532274]\n"
     ]
    },
    {
     "name": "stdout",
     "output_type": "stream",
     "text": [
      "Epoch 112 train (loss: 1.1630, f1 score: 0.4816) test (loss: 1.5796, f1 score: 0.2292)\n"
     ]
    },
    {
     "name": "stderr",
     "output_type": "stream",
     "text": [
      "100%|██████████| 284/284 [00:01<00:00, 162.47it/s, loss=1.1550980259625006]\n"
     ]
    },
    {
     "name": "stdout",
     "output_type": "stream",
     "text": [
      "Epoch 113 train (loss: 1.1551, f1 score: 0.4737) test (loss: 1.4463, f1 score: 0.3387)\n"
     ]
    },
    {
     "name": "stderr",
     "output_type": "stream",
     "text": [
      "100%|██████████| 284/284 [00:01<00:00, 190.29it/s, loss=1.1796542791203715]\n"
     ]
    },
    {
     "name": "stdout",
     "output_type": "stream",
     "text": [
      "Epoch 114 train (loss: 1.1797, f1 score: 0.4808) test (loss: 1.5529, f1 score: 0.3433)\n"
     ]
    },
    {
     "name": "stderr",
     "output_type": "stream",
     "text": [
      "100%|██████████| 284/284 [00:01<00:00, 184.11it/s, loss=1.2325999305491717]\n"
     ]
    },
    {
     "name": "stdout",
     "output_type": "stream",
     "text": [
      "Epoch 115 train (loss: 1.2326, f1 score: 0.4565) test (loss: 1.5280, f1 score: 0.3093)\n"
     ]
    },
    {
     "name": "stderr",
     "output_type": "stream",
     "text": [
      "100%|██████████| 284/284 [00:01<00:00, 194.89it/s, loss=1.1438332260914252]\n"
     ]
    },
    {
     "name": "stdout",
     "output_type": "stream",
     "text": [
      "Epoch 116 train (loss: 1.1438, f1 score: 0.4543) test (loss: 1.4267, f1 score: 0.3097)\n"
     ]
    },
    {
     "name": "stderr",
     "output_type": "stream",
     "text": [
      "100%|██████████| 284/284 [00:01<00:00, 206.99it/s, loss=1.1057537561676032]\n"
     ]
    },
    {
     "name": "stdout",
     "output_type": "stream",
     "text": [
      "Epoch 117 train (loss: 1.1058, f1 score: 0.5209) test (loss: 1.4172, f1 score: 0.3497)\n"
     ]
    },
    {
     "name": "stderr",
     "output_type": "stream",
     "text": [
      "100%|██████████| 284/284 [00:01<00:00, 197.13it/s, loss=1.0783325803636665]\n"
     ]
    },
    {
     "name": "stdout",
     "output_type": "stream",
     "text": [
      "Epoch 118 train (loss: 1.0783, f1 score: 0.4989) test (loss: 1.5733, f1 score: 0.3137)\n"
     ]
    },
    {
     "name": "stderr",
     "output_type": "stream",
     "text": [
      "100%|██████████| 284/284 [00:01<00:00, 199.65it/s, loss=1.1891511176043832]\n"
     ]
    },
    {
     "name": "stdout",
     "output_type": "stream",
     "text": [
      "Epoch 119 train (loss: 1.1892, f1 score: 0.4872) test (loss: 1.5213, f1 score: 0.2919)\n"
     ]
    },
    {
     "name": "stderr",
     "output_type": "stream",
     "text": [
      "100%|██████████| 284/284 [00:01<00:00, 224.39it/s, loss=1.1523274808177646]\n"
     ]
    },
    {
     "name": "stdout",
     "output_type": "stream",
     "text": [
      "Epoch 120 train (loss: 1.1523, f1 score: 0.4790) test (loss: 1.4584, f1 score: 0.3471)\n"
     ]
    },
    {
     "name": "stderr",
     "output_type": "stream",
     "text": [
      "100%|██████████| 284/284 [00:01<00:00, 204.61it/s, loss=1.1468937995673065]\n"
     ]
    },
    {
     "name": "stdout",
     "output_type": "stream",
     "text": [
      "Epoch 121 train (loss: 1.1469, f1 score: 0.4994) test (loss: 1.5409, f1 score: 0.3202)\n"
     ]
    },
    {
     "name": "stderr",
     "output_type": "stream",
     "text": [
      "100%|██████████| 284/284 [00:01<00:00, 221.50it/s, loss=1.0429203892257852]\n"
     ]
    },
    {
     "name": "stdout",
     "output_type": "stream",
     "text": [
      "Epoch 122 train (loss: 1.0429, f1 score: 0.5412) test (loss: 1.5908, f1 score: 0.3022)\n"
     ]
    },
    {
     "name": "stderr",
     "output_type": "stream",
     "text": [
      "100%|██████████| 284/284 [00:01<00:00, 204.47it/s, loss=1.1137858406758645]\n"
     ]
    },
    {
     "name": "stdout",
     "output_type": "stream",
     "text": [
      "Epoch 123 train (loss: 1.1138, f1 score: 0.5044) test (loss: 1.4937, f1 score: 0.2870)\n"
     ]
    },
    {
     "name": "stderr",
     "output_type": "stream",
     "text": [
      "100%|██████████| 284/284 [00:01<00:00, 202.63it/s, loss=1.0882514883619798]\n"
     ]
    },
    {
     "name": "stdout",
     "output_type": "stream",
     "text": [
      "Epoch 124 train (loss: 1.0883, f1 score: 0.4954) test (loss: 1.4371, f1 score: 0.3111)\n"
     ]
    },
    {
     "name": "stderr",
     "output_type": "stream",
     "text": [
      "100%|██████████| 284/284 [00:01<00:00, 177.68it/s, loss=1.0404565435060313]\n"
     ]
    },
    {
     "name": "stdout",
     "output_type": "stream",
     "text": [
      "Epoch 125 train (loss: 1.0405, f1 score: 0.5013) test (loss: 1.7176, f1 score: 0.2428)\n"
     ]
    },
    {
     "name": "stderr",
     "output_type": "stream",
     "text": [
      "100%|██████████| 284/284 [00:01<00:00, 190.75it/s, loss=1.088194549346054] \n"
     ]
    },
    {
     "name": "stdout",
     "output_type": "stream",
     "text": [
      "Epoch 126 train (loss: 1.0882, f1 score: 0.5204) test (loss: 1.6065, f1 score: 0.2441)\n"
     ]
    },
    {
     "name": "stderr",
     "output_type": "stream",
     "text": [
      "100%|██████████| 284/284 [00:01<00:00, 212.44it/s, loss=0.9994923463484771]\n"
     ]
    },
    {
     "name": "stdout",
     "output_type": "stream",
     "text": [
      "Epoch 127 train (loss: 0.9995, f1 score: 0.5398) test (loss: 1.5327, f1 score: 0.2983)\n"
     ]
    },
    {
     "name": "stderr",
     "output_type": "stream",
     "text": [
      "100%|██████████| 284/284 [00:01<00:00, 192.97it/s, loss=1.1213878487092508]\n"
     ]
    },
    {
     "name": "stdout",
     "output_type": "stream",
     "text": [
      "Epoch 128 train (loss: 1.1214, f1 score: 0.5154) test (loss: 1.4986, f1 score: 0.3668)\n"
     ]
    },
    {
     "name": "stderr",
     "output_type": "stream",
     "text": [
      "100%|██████████| 284/284 [00:01<00:00, 209.37it/s, loss=0.9997705493489621]\n"
     ]
    },
    {
     "name": "stdout",
     "output_type": "stream",
     "text": [
      "Epoch 129 train (loss: 0.9998, f1 score: 0.5707) test (loss: 1.5500, f1 score: 0.3364)\n"
     ]
    },
    {
     "name": "stderr",
     "output_type": "stream",
     "text": [
      "100%|██████████| 284/284 [00:01<00:00, 209.12it/s, loss=1.0316780967191912]\n"
     ]
    },
    {
     "name": "stdout",
     "output_type": "stream",
     "text": [
      "Epoch 130 train (loss: 1.0317, f1 score: 0.5693) test (loss: 1.4402, f1 score: 0.3779)\n"
     ]
    },
    {
     "name": "stderr",
     "output_type": "stream",
     "text": [
      "100%|██████████| 284/284 [00:01<00:00, 191.34it/s, loss=0.970805250527993] \n"
     ]
    },
    {
     "name": "stdout",
     "output_type": "stream",
     "text": [
      "Epoch 131 train (loss: 0.9708, f1 score: 0.5885) test (loss: 1.5078, f1 score: 0.3293)\n"
     ]
    },
    {
     "name": "stderr",
     "output_type": "stream",
     "text": [
      "100%|██████████| 284/284 [00:01<00:00, 193.03it/s, loss=1.0231942484076595]\n"
     ]
    },
    {
     "name": "stdout",
     "output_type": "stream",
     "text": [
      "Epoch 132 train (loss: 1.0232, f1 score: 0.5513) test (loss: 1.4208, f1 score: 0.3874)\n"
     ]
    },
    {
     "name": "stderr",
     "output_type": "stream",
     "text": [
      "100%|██████████| 284/284 [00:01<00:00, 210.03it/s, loss=0.9552535689107968]\n"
     ]
    },
    {
     "name": "stdout",
     "output_type": "stream",
     "text": [
      "Epoch 133 train (loss: 0.9553, f1 score: 0.5732) test (loss: 1.4362, f1 score: 0.3172)\n"
     ]
    },
    {
     "name": "stderr",
     "output_type": "stream",
     "text": [
      "100%|██████████| 284/284 [00:01<00:00, 211.94it/s, loss=1.0076679018076877]\n"
     ]
    },
    {
     "name": "stdout",
     "output_type": "stream",
     "text": [
      "Epoch 134 train (loss: 1.0077, f1 score: 0.5519) test (loss: 2.0388, f1 score: 0.2264)\n"
     ]
    },
    {
     "name": "stderr",
     "output_type": "stream",
     "text": [
      "100%|██████████| 284/284 [00:01<00:00, 192.55it/s, loss=1.1501448488938557]\n"
     ]
    },
    {
     "name": "stdout",
     "output_type": "stream",
     "text": [
      "Epoch 135 train (loss: 1.1501, f1 score: 0.5219) test (loss: 1.6109, f1 score: 0.3281)\n"
     ]
    },
    {
     "name": "stderr",
     "output_type": "stream",
     "text": [
      "100%|██████████| 284/284 [00:01<00:00, 183.12it/s, loss=0.978128877875041] \n"
     ]
    },
    {
     "name": "stdout",
     "output_type": "stream",
     "text": [
      "Epoch 136 train (loss: 0.9781, f1 score: 0.5745) test (loss: 1.3926, f1 score: 0.3520)\n"
     ]
    },
    {
     "name": "stderr",
     "output_type": "stream",
     "text": [
      "100%|██████████| 284/284 [00:01<00:00, 191.17it/s, loss=0.902749742578033] \n"
     ]
    },
    {
     "name": "stdout",
     "output_type": "stream",
     "text": [
      "Epoch 137 train (loss: 0.9027, f1 score: 0.6014) test (loss: 1.6085, f1 score: 0.3282)\n"
     ]
    },
    {
     "name": "stderr",
     "output_type": "stream",
     "text": [
      "100%|██████████| 284/284 [00:01<00:00, 212.79it/s, loss=0.9309320540337915]\n"
     ]
    },
    {
     "name": "stdout",
     "output_type": "stream",
     "text": [
      "Epoch 138 train (loss: 0.9309, f1 score: 0.5776) test (loss: 1.4353, f1 score: 0.3563)\n"
     ]
    },
    {
     "name": "stderr",
     "output_type": "stream",
     "text": [
      "100%|██████████| 284/284 [00:01<00:00, 189.31it/s, loss=0.9226731570883536]\n"
     ]
    },
    {
     "name": "stdout",
     "output_type": "stream",
     "text": [
      "Epoch 139 train (loss: 0.9227, f1 score: 0.5766) test (loss: 1.5057, f1 score: 0.2885)\n"
     ]
    },
    {
     "name": "stderr",
     "output_type": "stream",
     "text": [
      "100%|██████████| 284/284 [00:01<00:00, 214.90it/s, loss=0.9519027593532499]\n"
     ]
    },
    {
     "name": "stdout",
     "output_type": "stream",
     "text": [
      "Epoch 140 train (loss: 0.9519, f1 score: 0.5559) test (loss: 1.3961, f1 score: 0.3734)\n"
     ]
    },
    {
     "name": "stderr",
     "output_type": "stream",
     "text": [
      "100%|██████████| 284/284 [00:01<00:00, 180.72it/s, loss=0.962215022380713] \n"
     ]
    },
    {
     "name": "stdout",
     "output_type": "stream",
     "text": [
      "Epoch 141 train (loss: 0.9622, f1 score: 0.5950) test (loss: 1.4439, f1 score: 0.3617)\n"
     ]
    },
    {
     "name": "stderr",
     "output_type": "stream",
     "text": [
      "100%|██████████| 284/284 [00:01<00:00, 168.23it/s, loss=0.900471238865399] \n"
     ]
    },
    {
     "name": "stdout",
     "output_type": "stream",
     "text": [
      "Epoch 142 train (loss: 0.9005, f1 score: 0.6039) test (loss: 1.4189, f1 score: 0.3497)\n"
     ]
    },
    {
     "name": "stderr",
     "output_type": "stream",
     "text": [
      "100%|██████████| 284/284 [00:01<00:00, 170.93it/s, loss=0.9082454578085265]\n"
     ]
    },
    {
     "name": "stdout",
     "output_type": "stream",
     "text": [
      "Epoch 143 train (loss: 0.9082, f1 score: 0.6341) test (loss: 1.5529, f1 score: 0.3882)\n"
     ]
    },
    {
     "name": "stderr",
     "output_type": "stream",
     "text": [
      "100%|██████████| 284/284 [00:01<00:00, 174.41it/s, loss=0.9130190551333445]\n"
     ]
    },
    {
     "name": "stdout",
     "output_type": "stream",
     "text": [
      "Epoch 144 train (loss: 0.9130, f1 score: 0.6310) test (loss: 2.1824, f1 score: 0.3091)\n"
     ]
    },
    {
     "name": "stderr",
     "output_type": "stream",
     "text": [
      "100%|██████████| 284/284 [00:01<00:00, 174.54it/s, loss=1.7665482194385898]\n"
     ]
    },
    {
     "name": "stdout",
     "output_type": "stream",
     "text": [
      "Epoch 145 train (loss: 1.7665, f1 score: 0.3119) test (loss: 2.3834, f1 score: 0.1131)\n"
     ]
    },
    {
     "name": "stderr",
     "output_type": "stream",
     "text": [
      "100%|██████████| 284/284 [00:01<00:00, 162.78it/s, loss=1.4330819430695454]\n"
     ]
    },
    {
     "name": "stdout",
     "output_type": "stream",
     "text": [
      "Epoch 146 train (loss: 1.4331, f1 score: 0.3489) test (loss: 1.6414, f1 score: 0.2457)\n"
     ]
    },
    {
     "name": "stderr",
     "output_type": "stream",
     "text": [
      "100%|██████████| 284/284 [00:01<00:00, 189.98it/s, loss=1.1747917545513369]\n"
     ]
    },
    {
     "name": "stdout",
     "output_type": "stream",
     "text": [
      "Epoch 147 train (loss: 1.1748, f1 score: 0.4535) test (loss: 1.4448, f1 score: 0.3054)\n"
     ]
    },
    {
     "name": "stderr",
     "output_type": "stream",
     "text": [
      "100%|██████████| 284/284 [00:01<00:00, 157.77it/s, loss=0.9897077011705284]\n"
     ]
    },
    {
     "name": "stdout",
     "output_type": "stream",
     "text": [
      "Epoch 148 train (loss: 0.9897, f1 score: 0.5440) test (loss: 1.4688, f1 score: 0.3357)\n"
     ]
    },
    {
     "name": "stderr",
     "output_type": "stream",
     "text": [
      "100%|██████████| 284/284 [00:01<00:00, 180.62it/s, loss=0.9080587590349393]\n"
     ]
    },
    {
     "name": "stdout",
     "output_type": "stream",
     "text": [
      "Epoch 149 train (loss: 0.9081, f1 score: 0.6004) test (loss: 1.3332, f1 score: 0.3345)\n"
     ]
    },
    {
     "name": "stderr",
     "output_type": "stream",
     "text": [
      "100%|██████████| 284/284 [00:01<00:00, 201.88it/s, loss=1.1316694880140499]\n"
     ]
    },
    {
     "name": "stdout",
     "output_type": "stream",
     "text": [
      "Epoch 150 train (loss: 1.1317, f1 score: 0.5202) test (loss: 1.4811, f1 score: 0.3388)\n"
     ]
    },
    {
     "name": "stderr",
     "output_type": "stream",
     "text": [
      "100%|██████████| 284/284 [00:01<00:00, 191.68it/s, loss=0.9085746094269652]\n"
     ]
    },
    {
     "name": "stdout",
     "output_type": "stream",
     "text": [
      "Epoch 151 train (loss: 0.9086, f1 score: 0.5887) test (loss: 1.4010, f1 score: 0.3498)\n"
     ]
    },
    {
     "name": "stderr",
     "output_type": "stream",
     "text": [
      "100%|██████████| 284/284 [00:01<00:00, 195.44it/s, loss=0.9093415995298977]\n"
     ]
    },
    {
     "name": "stdout",
     "output_type": "stream",
     "text": [
      "Epoch 152 train (loss: 0.9093, f1 score: 0.6135) test (loss: 1.4924, f1 score: 0.3401)\n"
     ]
    },
    {
     "name": "stderr",
     "output_type": "stream",
     "text": [
      "100%|██████████| 284/284 [00:01<00:00, 175.99it/s, loss=0.8350816787758344]\n"
     ]
    },
    {
     "name": "stdout",
     "output_type": "stream",
     "text": [
      "Epoch 153 train (loss: 0.8351, f1 score: 0.6773) test (loss: 1.3969, f1 score: 0.4503)\n"
     ]
    },
    {
     "name": "stderr",
     "output_type": "stream",
     "text": [
      "100%|██████████| 284/284 [00:01<00:00, 192.74it/s, loss=0.8908254231365633]\n"
     ]
    },
    {
     "name": "stdout",
     "output_type": "stream",
     "text": [
      "Epoch 154 train (loss: 0.8908, f1 score: 0.6354) test (loss: 1.3423, f1 score: 0.4691)\n"
     ]
    },
    {
     "name": "stderr",
     "output_type": "stream",
     "text": [
      "100%|██████████| 284/284 [00:01<00:00, 161.09it/s, loss=0.8185425839636108]\n"
     ]
    },
    {
     "name": "stdout",
     "output_type": "stream",
     "text": [
      "Epoch 155 train (loss: 0.8185, f1 score: 0.6898) test (loss: 1.3665, f1 score: 0.4185)\n"
     ]
    },
    {
     "name": "stderr",
     "output_type": "stream",
     "text": [
      "100%|██████████| 284/284 [00:01<00:00, 198.02it/s, loss=0.8284408894013351]\n"
     ]
    },
    {
     "name": "stdout",
     "output_type": "stream",
     "text": [
      "Epoch 156 train (loss: 0.8284, f1 score: 0.6585) test (loss: 1.6058, f1 score: 0.4211)\n"
     ]
    },
    {
     "name": "stderr",
     "output_type": "stream",
     "text": [
      "100%|██████████| 284/284 [00:01<00:00, 215.59it/s, loss=0.8309773273346289]\n"
     ]
    },
    {
     "name": "stdout",
     "output_type": "stream",
     "text": [
      "Epoch 157 train (loss: 0.8310, f1 score: 0.6647) test (loss: 1.3863, f1 score: 0.4306)\n"
     ]
    },
    {
     "name": "stderr",
     "output_type": "stream",
     "text": [
      "100%|██████████| 284/284 [00:01<00:00, 199.39it/s, loss=1.429983275981856] \n"
     ]
    },
    {
     "name": "stdout",
     "output_type": "stream",
     "text": [
      "Epoch 158 train (loss: 1.4300, f1 score: 0.4594) test (loss: 2.0620, f1 score: 0.2680)\n"
     ]
    },
    {
     "name": "stderr",
     "output_type": "stream",
     "text": [
      "100%|██████████| 284/284 [00:01<00:00, 187.36it/s, loss=1.1730627384771344]\n"
     ]
    },
    {
     "name": "stdout",
     "output_type": "stream",
     "text": [
      "Epoch 159 train (loss: 1.1731, f1 score: 0.4798) test (loss: 1.8994, f1 score: 0.2696)\n"
     ]
    },
    {
     "name": "stderr",
     "output_type": "stream",
     "text": [
      "100%|██████████| 284/284 [00:01<00:00, 146.40it/s, loss=1.0214108232618637]\n"
     ]
    },
    {
     "name": "stdout",
     "output_type": "stream",
     "text": [
      "Epoch 160 train (loss: 1.0214, f1 score: 0.5230) test (loss: 1.6364, f1 score: 0.3017)\n"
     ]
    },
    {
     "name": "stderr",
     "output_type": "stream",
     "text": [
      "100%|██████████| 284/284 [00:01<00:00, 158.90it/s, loss=0.8966527281092925]\n"
     ]
    },
    {
     "name": "stdout",
     "output_type": "stream",
     "text": [
      "Epoch 161 train (loss: 0.8967, f1 score: 0.6342) test (loss: 1.5140, f1 score: 0.4440)\n"
     ]
    },
    {
     "name": "stderr",
     "output_type": "stream",
     "text": [
      "100%|██████████| 284/284 [00:01<00:00, 169.79it/s, loss=0.8241236771548718]\n"
     ]
    },
    {
     "name": "stdout",
     "output_type": "stream",
     "text": [
      "Epoch 162 train (loss: 0.8241, f1 score: 0.6782) test (loss: 1.4251, f1 score: 0.4076)\n"
     ]
    },
    {
     "name": "stderr",
     "output_type": "stream",
     "text": [
      "100%|██████████| 284/284 [00:01<00:00, 211.22it/s, loss=0.7451978857878229]\n"
     ]
    },
    {
     "name": "stdout",
     "output_type": "stream",
     "text": [
      "Epoch 163 train (loss: 0.7452, f1 score: 0.7138) test (loss: 1.3729, f1 score: 0.4567)\n"
     ]
    },
    {
     "name": "stderr",
     "output_type": "stream",
     "text": [
      "100%|██████████| 284/284 [00:01<00:00, 217.13it/s, loss=0.7394768780910633]\n"
     ]
    },
    {
     "name": "stdout",
     "output_type": "stream",
     "text": [
      "Epoch 164 train (loss: 0.7395, f1 score: 0.7363) test (loss: 1.3883, f1 score: 0.4579)\n"
     ]
    },
    {
     "name": "stderr",
     "output_type": "stream",
     "text": [
      "100%|██████████| 284/284 [00:01<00:00, 205.05it/s, loss=0.792313649594574] \n"
     ]
    },
    {
     "name": "stdout",
     "output_type": "stream",
     "text": [
      "Epoch 165 train (loss: 0.7923, f1 score: 0.6849) test (loss: 2.1546, f1 score: 0.1990)\n"
     ]
    },
    {
     "name": "stderr",
     "output_type": "stream",
     "text": [
      "100%|██████████| 284/284 [00:01<00:00, 216.11it/s, loss=0.8989878461342042]\n"
     ]
    },
    {
     "name": "stdout",
     "output_type": "stream",
     "text": [
      "Epoch 166 train (loss: 0.8990, f1 score: 0.6145) test (loss: 1.7784, f1 score: 0.2764)\n"
     ]
    },
    {
     "name": "stderr",
     "output_type": "stream",
     "text": [
      "100%|██████████| 284/284 [00:01<00:00, 213.86it/s, loss=0.9213429254046838]\n"
     ]
    },
    {
     "name": "stdout",
     "output_type": "stream",
     "text": [
      "Epoch 167 train (loss: 0.9213, f1 score: 0.6429) test (loss: 1.3664, f1 score: 0.4036)\n"
     ]
    },
    {
     "name": "stderr",
     "output_type": "stream",
     "text": [
      "100%|██████████| 284/284 [00:01<00:00, 203.89it/s, loss=0.8403980562358465]\n"
     ]
    },
    {
     "name": "stdout",
     "output_type": "stream",
     "text": [
      "Epoch 168 train (loss: 0.8404, f1 score: 0.6674) test (loss: 1.4486, f1 score: 0.4485)\n"
     ]
    },
    {
     "name": "stderr",
     "output_type": "stream",
     "text": [
      "100%|██████████| 284/284 [00:01<00:00, 208.65it/s, loss=0.7340025615314363]\n"
     ]
    },
    {
     "name": "stdout",
     "output_type": "stream",
     "text": [
      "Epoch 169 train (loss: 0.7340, f1 score: 0.7384) test (loss: 1.4399, f1 score: 0.4844)\n"
     ]
    },
    {
     "name": "stderr",
     "output_type": "stream",
     "text": [
      "100%|██████████| 284/284 [00:01<00:00, 194.04it/s, loss=0.7144730140022199]\n"
     ]
    },
    {
     "name": "stdout",
     "output_type": "stream",
     "text": [
      "Epoch 170 train (loss: 0.7145, f1 score: 0.7341) test (loss: 1.4362, f1 score: 0.4627)\n"
     ]
    },
    {
     "name": "stderr",
     "output_type": "stream",
     "text": [
      "100%|██████████| 284/284 [00:01<00:00, 208.54it/s, loss=0.686486388359901] \n"
     ]
    },
    {
     "name": "stdout",
     "output_type": "stream",
     "text": [
      "Epoch 171 train (loss: 0.6865, f1 score: 0.7548) test (loss: 1.5057, f1 score: 0.4338)\n"
     ]
    },
    {
     "name": "stderr",
     "output_type": "stream",
     "text": [
      "100%|██████████| 284/284 [00:01<00:00, 228.07it/s, loss=0.6891712711625536]\n"
     ]
    },
    {
     "name": "stdout",
     "output_type": "stream",
     "text": [
      "Epoch 172 train (loss: 0.6892, f1 score: 0.7508) test (loss: 1.4019, f1 score: 0.4371)\n"
     ]
    },
    {
     "name": "stderr",
     "output_type": "stream",
     "text": [
      "100%|██████████| 284/284 [00:01<00:00, 196.57it/s, loss=0.7791191845555121]\n"
     ]
    },
    {
     "name": "stdout",
     "output_type": "stream",
     "text": [
      "Epoch 173 train (loss: 0.7791, f1 score: 0.7047) test (loss: 1.9435, f1 score: 0.3762)\n"
     ]
    },
    {
     "name": "stderr",
     "output_type": "stream",
     "text": [
      "100%|██████████| 284/284 [00:01<00:00, 188.13it/s, loss=0.772385960143112] \n"
     ]
    },
    {
     "name": "stdout",
     "output_type": "stream",
     "text": [
      "Epoch 174 train (loss: 0.7724, f1 score: 0.6742) test (loss: 2.1339, f1 score: 0.2136)\n"
     ]
    },
    {
     "name": "stderr",
     "output_type": "stream",
     "text": [
      "100%|██████████| 284/284 [00:01<00:00, 202.87it/s, loss=0.7713280899686293]\n"
     ]
    },
    {
     "name": "stdout",
     "output_type": "stream",
     "text": [
      "Epoch 175 train (loss: 0.7713, f1 score: 0.6832) test (loss: 1.5473, f1 score: 0.4097)\n"
     ]
    },
    {
     "name": "stderr",
     "output_type": "stream",
     "text": [
      "100%|██████████| 284/284 [00:01<00:00, 212.28it/s, loss=0.7042365717819669]\n"
     ]
    },
    {
     "name": "stdout",
     "output_type": "stream",
     "text": [
      "Epoch 176 train (loss: 0.7042, f1 score: 0.7502) test (loss: 1.3756, f1 score: 0.4666)\n"
     ]
    },
    {
     "name": "stderr",
     "output_type": "stream",
     "text": [
      "100%|██████████| 284/284 [00:01<00:00, 217.93it/s, loss=1.592916696384864] \n"
     ]
    },
    {
     "name": "stdout",
     "output_type": "stream",
     "text": [
      "Epoch 177 train (loss: 1.5929, f1 score: 0.4577) test (loss: 2.1769, f1 score: 0.1130)\n"
     ]
    },
    {
     "name": "stderr",
     "output_type": "stream",
     "text": [
      "100%|██████████| 284/284 [00:01<00:00, 199.58it/s, loss=1.761686606647473] \n"
     ]
    },
    {
     "name": "stdout",
     "output_type": "stream",
     "text": [
      "Epoch 178 train (loss: 1.7617, f1 score: 0.2918) test (loss: 1.6466, f1 score: 0.3051)\n"
     ]
    },
    {
     "name": "stderr",
     "output_type": "stream",
     "text": [
      "100%|██████████| 284/284 [00:01<00:00, 214.62it/s, loss=1.4305733577676223]\n"
     ]
    },
    {
     "name": "stdout",
     "output_type": "stream",
     "text": [
      "Epoch 179 train (loss: 1.4306, f1 score: 0.4485) test (loss: 1.5927, f1 score: 0.3531)\n"
     ]
    },
    {
     "name": "stderr",
     "output_type": "stream",
     "text": [
      "100%|██████████| 284/284 [00:01<00:00, 228.54it/s, loss=0.9384175190098689]\n"
     ]
    },
    {
     "name": "stdout",
     "output_type": "stream",
     "text": [
      "Epoch 180 train (loss: 0.9384, f1 score: 0.6403) test (loss: 1.3368, f1 score: 0.4293)\n"
     ]
    },
    {
     "name": "stderr",
     "output_type": "stream",
     "text": [
      "100%|██████████| 284/284 [00:01<00:00, 210.14it/s, loss=0.7163586497674106]\n"
     ]
    },
    {
     "name": "stdout",
     "output_type": "stream",
     "text": [
      "Epoch 181 train (loss: 0.7164, f1 score: 0.7194) test (loss: 1.4617, f1 score: 0.3490)\n"
     ]
    },
    {
     "name": "stderr",
     "output_type": "stream",
     "text": [
      "100%|██████████| 284/284 [00:01<00:00, 201.22it/s, loss=0.8450309351926119]\n"
     ]
    },
    {
     "name": "stdout",
     "output_type": "stream",
     "text": [
      "Epoch 182 train (loss: 0.8450, f1 score: 0.6746) test (loss: 1.4001, f1 score: 0.3987)\n"
     ]
    },
    {
     "name": "stderr",
     "output_type": "stream",
     "text": [
      "100%|██████████| 284/284 [00:01<00:00, 189.06it/s, loss=0.7615505012250702]\n"
     ]
    },
    {
     "name": "stdout",
     "output_type": "stream",
     "text": [
      "Epoch 183 train (loss: 0.7616, f1 score: 0.7210) test (loss: 1.4059, f1 score: 0.4001)\n"
     ]
    },
    {
     "name": "stderr",
     "output_type": "stream",
     "text": [
      "100%|██████████| 284/284 [00:01<00:00, 206.17it/s, loss=0.7305763184394635]\n"
     ]
    },
    {
     "name": "stdout",
     "output_type": "stream",
     "text": [
      "Epoch 184 train (loss: 0.7306, f1 score: 0.7124) test (loss: 1.5416, f1 score: 0.3689)\n"
     ]
    },
    {
     "name": "stderr",
     "output_type": "stream",
     "text": [
      "100%|██████████| 284/284 [00:01<00:00, 199.11it/s, loss=0.660633734637268] \n"
     ]
    },
    {
     "name": "stdout",
     "output_type": "stream",
     "text": [
      "Epoch 185 train (loss: 0.6606, f1 score: 0.7284) test (loss: 1.3277, f1 score: 0.4880)\n"
     ]
    },
    {
     "name": "stderr",
     "output_type": "stream",
     "text": [
      "100%|██████████| 284/284 [00:01<00:00, 194.68it/s, loss=0.6344590338051949]\n"
     ]
    },
    {
     "name": "stdout",
     "output_type": "stream",
     "text": [
      "Epoch 186 train (loss: 0.6345, f1 score: 0.7575) test (loss: 1.3737, f1 score: 0.4328)\n"
     ]
    },
    {
     "name": "stderr",
     "output_type": "stream",
     "text": [
      "100%|██████████| 284/284 [00:01<00:00, 215.82it/s, loss=0.6534152067804211]\n"
     ]
    },
    {
     "name": "stdout",
     "output_type": "stream",
     "text": [
      "Epoch 187 train (loss: 0.6534, f1 score: 0.7301) test (loss: 1.3468, f1 score: 0.4432)\n"
     ]
    },
    {
     "name": "stderr",
     "output_type": "stream",
     "text": [
      "100%|██████████| 284/284 [00:01<00:00, 217.16it/s, loss=0.6723238708005405]\n"
     ]
    },
    {
     "name": "stdout",
     "output_type": "stream",
     "text": [
      "Epoch 188 train (loss: 0.6723, f1 score: 0.7237) test (loss: 1.3726, f1 score: 0.4501)\n"
     ]
    },
    {
     "name": "stderr",
     "output_type": "stream",
     "text": [
      "100%|██████████| 284/284 [00:01<00:00, 193.68it/s, loss=0.6064556518595823]\n"
     ]
    },
    {
     "name": "stdout",
     "output_type": "stream",
     "text": [
      "Epoch 189 train (loss: 0.6065, f1 score: 0.7747) test (loss: 1.3215, f1 score: 0.4766)\n"
     ]
    },
    {
     "name": "stderr",
     "output_type": "stream",
     "text": [
      "100%|██████████| 284/284 [00:01<00:00, 198.59it/s, loss=0.6985828144292177]\n"
     ]
    },
    {
     "name": "stdout",
     "output_type": "stream",
     "text": [
      "Epoch 190 train (loss: 0.6986, f1 score: 0.7295) test (loss: 1.4135, f1 score: 0.4273)\n"
     ]
    },
    {
     "name": "stderr",
     "output_type": "stream",
     "text": [
      "100%|██████████| 284/284 [00:01<00:00, 170.39it/s, loss=0.7606179754866261]\n"
     ]
    },
    {
     "name": "stdout",
     "output_type": "stream",
     "text": [
      "Epoch 191 train (loss: 0.7606, f1 score: 0.6963) test (loss: 1.3734, f1 score: 0.4490)\n"
     ]
    },
    {
     "name": "stderr",
     "output_type": "stream",
     "text": [
      "100%|██████████| 284/284 [00:01<00:00, 184.45it/s, loss=0.6115984488147456]\n"
     ]
    },
    {
     "name": "stdout",
     "output_type": "stream",
     "text": [
      "Epoch 192 train (loss: 0.6116, f1 score: 0.7420) test (loss: 1.3069, f1 score: 0.4784)\n"
     ]
    },
    {
     "name": "stderr",
     "output_type": "stream",
     "text": [
      "100%|██████████| 284/284 [00:01<00:00, 212.99it/s, loss=0.6033412576849821]\n"
     ]
    },
    {
     "name": "stdout",
     "output_type": "stream",
     "text": [
      "Epoch 193 train (loss: 0.6033, f1 score: 0.7966) test (loss: 1.4957, f1 score: 0.4484)\n"
     ]
    },
    {
     "name": "stderr",
     "output_type": "stream",
     "text": [
      "100%|██████████| 284/284 [00:01<00:00, 225.74it/s, loss=0.697436628299175] \n"
     ]
    },
    {
     "name": "stdout",
     "output_type": "stream",
     "text": [
      "Epoch 194 train (loss: 0.6974, f1 score: 0.7220) test (loss: 1.3813, f1 score: 0.4475)\n"
     ]
    },
    {
     "name": "stderr",
     "output_type": "stream",
     "text": [
      "100%|██████████| 284/284 [00:01<00:00, 185.90it/s, loss=0.6623929031455601]\n"
     ]
    },
    {
     "name": "stdout",
     "output_type": "stream",
     "text": [
      "Epoch 195 train (loss: 0.6624, f1 score: 0.7578) test (loss: 1.6066, f1 score: 0.4395)\n"
     ]
    },
    {
     "name": "stderr",
     "output_type": "stream",
     "text": [
      "100%|██████████| 284/284 [00:01<00:00, 206.26it/s, loss=0.5849664375763124]\n"
     ]
    },
    {
     "name": "stdout",
     "output_type": "stream",
     "text": [
      "Epoch 196 train (loss: 0.5850, f1 score: 0.7658) test (loss: 1.3222, f1 score: 0.4661)\n"
     ]
    },
    {
     "name": "stderr",
     "output_type": "stream",
     "text": [
      "100%|██████████| 284/284 [00:01<00:00, 223.27it/s, loss=0.5755564154348742]\n"
     ]
    },
    {
     "name": "stdout",
     "output_type": "stream",
     "text": [
      "Epoch 197 train (loss: 0.5756, f1 score: 0.7876) test (loss: 1.3552, f1 score: 0.4740)\n"
     ]
    },
    {
     "name": "stderr",
     "output_type": "stream",
     "text": [
      "100%|██████████| 284/284 [00:01<00:00, 212.32it/s, loss=0.7815196560171078]\n"
     ]
    },
    {
     "name": "stdout",
     "output_type": "stream",
     "text": [
      "Epoch 198 train (loss: 0.7815, f1 score: 0.7037) test (loss: 1.5293, f1 score: 0.4207)\n"
     ]
    },
    {
     "name": "stderr",
     "output_type": "stream",
     "text": [
      "100%|██████████| 284/284 [00:01<00:00, 213.62it/s, loss=0.77714648326649]  \n"
     ]
    },
    {
     "name": "stdout",
     "output_type": "stream",
     "text": [
      "Epoch 199 train (loss: 0.7771, f1 score: 0.6860) test (loss: 1.5079, f1 score: 0.4533)\n"
     ]
    },
    {
     "name": "stderr",
     "output_type": "stream",
     "text": [
      "100%|██████████| 284/284 [00:01<00:00, 190.19it/s, loss=0.6369404265801357]\n"
     ]
    },
    {
     "name": "stdout",
     "output_type": "stream",
     "text": [
      "Epoch 200 train (loss: 0.6369, f1 score: 0.7709) test (loss: 1.3586, f1 score: 0.4761)\n"
     ]
    },
    {
     "name": "stderr",
     "output_type": "stream",
     "text": [
      "100%|██████████| 284/284 [00:01<00:00, 167.04it/s, loss=0.6161800748275095]\n"
     ]
    },
    {
     "name": "stdout",
     "output_type": "stream",
     "text": [
      "Epoch 201 train (loss: 0.6162, f1 score: 0.7525) test (loss: 1.5691, f1 score: 0.4166)\n"
     ]
    },
    {
     "name": "stderr",
     "output_type": "stream",
     "text": [
      "100%|██████████| 284/284 [00:01<00:00, 166.47it/s, loss=0.6911653559786123]\n"
     ]
    },
    {
     "name": "stdout",
     "output_type": "stream",
     "text": [
      "Epoch 202 train (loss: 0.6912, f1 score: 0.7110) test (loss: 1.3665, f1 score: 0.4501)\n"
     ]
    },
    {
     "name": "stderr",
     "output_type": "stream",
     "text": [
      "100%|██████████| 284/284 [00:01<00:00, 171.69it/s, loss=0.623354958403121]  \n"
     ]
    },
    {
     "name": "stdout",
     "output_type": "stream",
     "text": [
      "Epoch 203 train (loss: 0.6234, f1 score: 0.7311) test (loss: 1.4471, f1 score: 0.4591)\n"
     ]
    },
    {
     "name": "stderr",
     "output_type": "stream",
     "text": [
      "100%|██████████| 284/284 [00:01<00:00, 175.31it/s, loss=0.6000824066233152]\n"
     ]
    },
    {
     "name": "stdout",
     "output_type": "stream",
     "text": [
      "Epoch 204 train (loss: 0.6001, f1 score: 0.7559) test (loss: 1.4091, f1 score: 0.4537)\n"
     ]
    },
    {
     "name": "stderr",
     "output_type": "stream",
     "text": [
      "100%|██████████| 284/284 [00:01<00:00, 204.72it/s, loss=0.5868417604393522]\n"
     ]
    },
    {
     "name": "stdout",
     "output_type": "stream",
     "text": [
      "Epoch 205 train (loss: 0.5868, f1 score: 0.7384) test (loss: 1.3735, f1 score: 0.5116)\n"
     ]
    },
    {
     "name": "stderr",
     "output_type": "stream",
     "text": [
      "100%|██████████| 284/284 [00:01<00:00, 200.35it/s, loss=0.6007292107875708] \n"
     ]
    },
    {
     "name": "stdout",
     "output_type": "stream",
     "text": [
      "Epoch 206 train (loss: 0.6007, f1 score: 0.7814) test (loss: 1.4866, f1 score: 0.4339)\n"
     ]
    },
    {
     "name": "stderr",
     "output_type": "stream",
     "text": [
      "100%|██████████| 284/284 [00:01<00:00, 165.50it/s, loss=0.6047204261789965]\n"
     ]
    },
    {
     "name": "stdout",
     "output_type": "stream",
     "text": [
      "Epoch 207 train (loss: 0.6047, f1 score: 0.7450) test (loss: 1.3279, f1 score: 0.5106)\n"
     ]
    },
    {
     "name": "stderr",
     "output_type": "stream",
     "text": [
      "100%|██████████| 284/284 [00:01<00:00, 167.25it/s, loss=0.558857207809588] \n"
     ]
    },
    {
     "name": "stdout",
     "output_type": "stream",
     "text": [
      "Epoch 208 train (loss: 0.5589, f1 score: 0.7705) test (loss: 1.8367, f1 score: 0.3884)\n"
     ]
    },
    {
     "name": "stderr",
     "output_type": "stream",
     "text": [
      "100%|██████████| 284/284 [00:01<00:00, 157.26it/s, loss=0.6731781669839901]\n"
     ]
    },
    {
     "name": "stdout",
     "output_type": "stream",
     "text": [
      "Epoch 209 train (loss: 0.6732, f1 score: 0.7676) test (loss: 1.2872, f1 score: 0.4970)\n"
     ]
    },
    {
     "name": "stderr",
     "output_type": "stream",
     "text": [
      "100%|██████████| 284/284 [00:01<00:00, 174.75it/s, loss=0.6599708167888539]\n"
     ]
    },
    {
     "name": "stdout",
     "output_type": "stream",
     "text": [
      "Epoch 210 train (loss: 0.6600, f1 score: 0.7307) test (loss: 1.4712, f1 score: 0.5196)\n"
     ]
    },
    {
     "name": "stderr",
     "output_type": "stream",
     "text": [
      "100%|██████████| 284/284 [00:01<00:00, 223.74it/s, loss=0.549559442352661] \n"
     ]
    },
    {
     "name": "stdout",
     "output_type": "stream",
     "text": [
      "Epoch 211 train (loss: 0.5496, f1 score: 0.7827) test (loss: 1.5563, f1 score: 0.3905)\n"
     ]
    },
    {
     "name": "stderr",
     "output_type": "stream",
     "text": [
      "100%|██████████| 284/284 [00:01<00:00, 219.10it/s, loss=0.5228872739277045] \n"
     ]
    },
    {
     "name": "stdout",
     "output_type": "stream",
     "text": [
      "Epoch 212 train (loss: 0.5229, f1 score: 0.8059) test (loss: 1.8967, f1 score: 0.3949)\n"
     ]
    },
    {
     "name": "stderr",
     "output_type": "stream",
     "text": [
      "100%|██████████| 284/284 [00:01<00:00, 201.26it/s, loss=0.5388418381745127]\n"
     ]
    },
    {
     "name": "stdout",
     "output_type": "stream",
     "text": [
      "Epoch 213 train (loss: 0.5388, f1 score: 0.7953) test (loss: 1.3554, f1 score: 0.4604)\n"
     ]
    },
    {
     "name": "stderr",
     "output_type": "stream",
     "text": [
      "100%|██████████| 284/284 [00:01<00:00, 169.41it/s, loss=0.7040200787465233]\n"
     ]
    },
    {
     "name": "stdout",
     "output_type": "stream",
     "text": [
      "Epoch 214 train (loss: 0.7040, f1 score: 0.7339) test (loss: 1.2684, f1 score: 0.5014)\n"
     ]
    },
    {
     "name": "stderr",
     "output_type": "stream",
     "text": [
      "100%|██████████| 284/284 [00:01<00:00, 164.37it/s, loss=0.5364891882316852]\n"
     ]
    },
    {
     "name": "stdout",
     "output_type": "stream",
     "text": [
      "Epoch 215 train (loss: 0.5365, f1 score: 0.7707) test (loss: 1.2983, f1 score: 0.4871)\n"
     ]
    },
    {
     "name": "stderr",
     "output_type": "stream",
     "text": [
      "100%|██████████| 284/284 [00:01<00:00, 185.30it/s, loss=0.6050406200417751]\n"
     ]
    },
    {
     "name": "stdout",
     "output_type": "stream",
     "text": [
      "Epoch 216 train (loss: 0.6050, f1 score: 0.7730) test (loss: 1.3696, f1 score: 0.4873)\n"
     ]
    },
    {
     "name": "stderr",
     "output_type": "stream",
     "text": [
      "100%|██████████| 284/284 [00:01<00:00, 206.09it/s, loss=0.5385763511310896]\n"
     ]
    },
    {
     "name": "stdout",
     "output_type": "stream",
     "text": [
      "Epoch 217 train (loss: 0.5386, f1 score: 0.7748) test (loss: 1.3550, f1 score: 0.4483)\n"
     ]
    },
    {
     "name": "stderr",
     "output_type": "stream",
     "text": [
      "100%|██████████| 284/284 [00:01<00:00, 191.32it/s, loss=0.8342607466464627]\n"
     ]
    },
    {
     "name": "stdout",
     "output_type": "stream",
     "text": [
      "Epoch 218 train (loss: 0.8343, f1 score: 0.6701) test (loss: 1.4303, f1 score: 0.4208)\n"
     ]
    },
    {
     "name": "stderr",
     "output_type": "stream",
     "text": [
      "100%|██████████| 284/284 [00:01<00:00, 187.17it/s, loss=0.5954307187348604]\n"
     ]
    },
    {
     "name": "stdout",
     "output_type": "stream",
     "text": [
      "Epoch 219 train (loss: 0.5954, f1 score: 0.7467) test (loss: 1.3492, f1 score: 0.4908)\n"
     ]
    },
    {
     "name": "stderr",
     "output_type": "stream",
     "text": [
      "100%|██████████| 284/284 [00:01<00:00, 158.91it/s, loss=0.5021136389179549]\n"
     ]
    },
    {
     "name": "stdout",
     "output_type": "stream",
     "text": [
      "Epoch 220 train (loss: 0.5021, f1 score: 0.8160) test (loss: 1.3992, f1 score: 0.4628)\n"
     ]
    },
    {
     "name": "stderr",
     "output_type": "stream",
     "text": [
      "100%|██████████| 284/284 [00:01<00:00, 164.46it/s, loss=0.5627813219145256]\n"
     ]
    },
    {
     "name": "stdout",
     "output_type": "stream",
     "text": [
      "Epoch 221 train (loss: 0.5628, f1 score: 0.7780) test (loss: 1.3783, f1 score: 0.4782)\n"
     ]
    },
    {
     "name": "stderr",
     "output_type": "stream",
     "text": [
      "100%|██████████| 284/284 [00:01<00:00, 161.23it/s, loss=0.5211484392278526] \n"
     ]
    },
    {
     "name": "stdout",
     "output_type": "stream",
     "text": [
      "Epoch 222 train (loss: 0.5211, f1 score: 0.7934) test (loss: 1.7270, f1 score: 0.4007)\n"
     ]
    },
    {
     "name": "stderr",
     "output_type": "stream",
     "text": [
      "100%|██████████| 284/284 [00:01<00:00, 165.30it/s, loss=0.46005320280764095]\n"
     ]
    },
    {
     "name": "stdout",
     "output_type": "stream",
     "text": [
      "Epoch 223 train (loss: 0.4601, f1 score: 0.8316) test (loss: 1.2610, f1 score: 0.5196)\n"
     ]
    },
    {
     "name": "stderr",
     "output_type": "stream",
     "text": [
      "100%|██████████| 284/284 [00:01<00:00, 165.43it/s, loss=0.5161999140105302] \n"
     ]
    },
    {
     "name": "stdout",
     "output_type": "stream",
     "text": [
      "Epoch 224 train (loss: 0.5162, f1 score: 0.8175) test (loss: 1.4598, f1 score: 0.4975)\n"
     ]
    },
    {
     "name": "stderr",
     "output_type": "stream",
     "text": [
      "100%|██████████| 284/284 [00:01<00:00, 172.92it/s, loss=0.5162258300549862] \n"
     ]
    },
    {
     "name": "stdout",
     "output_type": "stream",
     "text": [
      "Epoch 225 train (loss: 0.5162, f1 score: 0.8099) test (loss: 1.3727, f1 score: 0.4735)\n"
     ]
    },
    {
     "name": "stderr",
     "output_type": "stream",
     "text": [
      "100%|██████████| 284/284 [00:01<00:00, 182.49it/s, loss=0.4723528321688129] \n"
     ]
    },
    {
     "name": "stdout",
     "output_type": "stream",
     "text": [
      "Epoch 226 train (loss: 0.4724, f1 score: 0.8332) test (loss: 1.4086, f1 score: 0.4613)\n"
     ]
    },
    {
     "name": "stderr",
     "output_type": "stream",
     "text": [
      "100%|██████████| 284/284 [00:01<00:00, 170.10it/s, loss=0.641901915853607]  \n"
     ]
    },
    {
     "name": "stdout",
     "output_type": "stream",
     "text": [
      "Epoch 227 train (loss: 0.6419, f1 score: 0.7896) test (loss: 1.4846, f1 score: 0.4740)\n"
     ]
    },
    {
     "name": "stderr",
     "output_type": "stream",
     "text": [
      "100%|██████████| 284/284 [00:01<00:00, 210.54it/s, loss=0.6100582748415394]\n"
     ]
    },
    {
     "name": "stdout",
     "output_type": "stream",
     "text": [
      "Epoch 228 train (loss: 0.6101, f1 score: 0.7626) test (loss: 1.6040, f1 score: 0.4942)\n"
     ]
    },
    {
     "name": "stderr",
     "output_type": "stream",
     "text": [
      "100%|██████████| 284/284 [00:01<00:00, 192.49it/s, loss=0.5139771038797539] \n"
     ]
    },
    {
     "name": "stdout",
     "output_type": "stream",
     "text": [
      "Epoch 229 train (loss: 0.5140, f1 score: 0.8219) test (loss: 1.4126, f1 score: 0.5045)\n"
     ]
    },
    {
     "name": "stderr",
     "output_type": "stream",
     "text": [
      "100%|██████████| 284/284 [00:01<00:00, 195.62it/s, loss=0.5674056744425964] \n"
     ]
    },
    {
     "name": "stdout",
     "output_type": "stream",
     "text": [
      "Epoch 230 train (loss: 0.5674, f1 score: 0.8249) test (loss: 1.3359, f1 score: 0.5266)\n"
     ]
    },
    {
     "name": "stderr",
     "output_type": "stream",
     "text": [
      "100%|██████████| 284/284 [00:01<00:00, 188.28it/s, loss=0.553234918318479]  \n"
     ]
    },
    {
     "name": "stdout",
     "output_type": "stream",
     "text": [
      "Epoch 231 train (loss: 0.5532, f1 score: 0.7869) test (loss: 1.6229, f1 score: 0.3857)\n"
     ]
    },
    {
     "name": "stderr",
     "output_type": "stream",
     "text": [
      "100%|██████████| 284/284 [00:01<00:00, 202.43it/s, loss=0.6205756209502128] \n"
     ]
    },
    {
     "name": "stdout",
     "output_type": "stream",
     "text": [
      "Epoch 232 train (loss: 0.6206, f1 score: 0.7907) test (loss: 1.9761, f1 score: 0.3739)\n"
     ]
    },
    {
     "name": "stderr",
     "output_type": "stream",
     "text": [
      "100%|██████████| 284/284 [00:01<00:00, 210.58it/s, loss=0.5173711011474821]\n"
     ]
    },
    {
     "name": "stdout",
     "output_type": "stream",
     "text": [
      "Epoch 233 train (loss: 0.5174, f1 score: 0.8120) test (loss: 1.3029, f1 score: 0.5097)\n"
     ]
    },
    {
     "name": "stderr",
     "output_type": "stream",
     "text": [
      "100%|██████████| 284/284 [00:01<00:00, 214.19it/s, loss=0.417072816673194]  \n"
     ]
    },
    {
     "name": "stdout",
     "output_type": "stream",
     "text": [
      "Epoch 234 train (loss: 0.4171, f1 score: 0.8367) test (loss: 1.6914, f1 score: 0.4696)\n"
     ]
    },
    {
     "name": "stderr",
     "output_type": "stream",
     "text": [
      "100%|██████████| 284/284 [00:01<00:00, 213.67it/s, loss=0.4453084400435254] \n"
     ]
    },
    {
     "name": "stdout",
     "output_type": "stream",
     "text": [
      "Epoch 235 train (loss: 0.4453, f1 score: 0.8598) test (loss: 1.2746, f1 score: 0.5574)\n"
     ]
    },
    {
     "name": "stderr",
     "output_type": "stream",
     "text": [
      "100%|██████████| 284/284 [00:01<00:00, 220.32it/s, loss=0.6865641223988168] \n"
     ]
    },
    {
     "name": "stdout",
     "output_type": "stream",
     "text": [
      "Epoch 236 train (loss: 0.6866, f1 score: 0.7301) test (loss: 1.5786, f1 score: 0.4502)\n"
     ]
    },
    {
     "name": "stderr",
     "output_type": "stream",
     "text": [
      "100%|██████████| 284/284 [00:01<00:00, 179.23it/s, loss=0.5380289083425428] \n"
     ]
    },
    {
     "name": "stdout",
     "output_type": "stream",
     "text": [
      "Epoch 237 train (loss: 0.5380, f1 score: 0.7937) test (loss: 1.6119, f1 score: 0.4301)\n"
     ]
    },
    {
     "name": "stderr",
     "output_type": "stream",
     "text": [
      "100%|██████████| 284/284 [00:01<00:00, 213.23it/s, loss=0.4199776535945564] \n"
     ]
    },
    {
     "name": "stdout",
     "output_type": "stream",
     "text": [
      "Epoch 238 train (loss: 0.4200, f1 score: 0.8490) test (loss: 1.4730, f1 score: 0.4669)\n"
     ]
    },
    {
     "name": "stderr",
     "output_type": "stream",
     "text": [
      "100%|██████████| 284/284 [00:01<00:00, 211.97it/s, loss=0.3619026100381055] \n"
     ]
    },
    {
     "name": "stdout",
     "output_type": "stream",
     "text": [
      "Epoch 239 train (loss: 0.3619, f1 score: 0.8808) test (loss: 1.4920, f1 score: 0.4760)\n"
     ]
    },
    {
     "name": "stderr",
     "output_type": "stream",
     "text": [
      "100%|██████████| 284/284 [00:01<00:00, 213.86it/s, loss=0.4683657420182627] \n"
     ]
    },
    {
     "name": "stdout",
     "output_type": "stream",
     "text": [
      "Epoch 240 train (loss: 0.4684, f1 score: 0.8508) test (loss: 1.5760, f1 score: 0.4862)\n"
     ]
    },
    {
     "name": "stderr",
     "output_type": "stream",
     "text": [
      "100%|██████████| 284/284 [00:01<00:00, 195.62it/s, loss=0.3953475872658088] \n"
     ]
    },
    {
     "name": "stdout",
     "output_type": "stream",
     "text": [
      "Epoch 241 train (loss: 0.3953, f1 score: 0.9000) test (loss: 1.4811, f1 score: 0.4627)\n"
     ]
    },
    {
     "name": "stderr",
     "output_type": "stream",
     "text": [
      "100%|██████████| 284/284 [00:01<00:00, 201.21it/s, loss=0.5246027310667428]\n"
     ]
    },
    {
     "name": "stdout",
     "output_type": "stream",
     "text": [
      "Epoch 242 train (loss: 0.5246, f1 score: 0.8406) test (loss: 1.3936, f1 score: 0.5614)\n"
     ]
    },
    {
     "name": "stderr",
     "output_type": "stream",
     "text": [
      "100%|██████████| 284/284 [00:01<00:00, 208.15it/s, loss=0.4062748788003351] \n"
     ]
    },
    {
     "name": "stdout",
     "output_type": "stream",
     "text": [
      "Epoch 243 train (loss: 0.4063, f1 score: 0.8721) test (loss: 1.3293, f1 score: 0.5458)\n"
     ]
    },
    {
     "name": "stderr",
     "output_type": "stream",
     "text": [
      "100%|██████████| 284/284 [00:01<00:00, 168.15it/s, loss=0.794757563666716]  \n"
     ]
    },
    {
     "name": "stdout",
     "output_type": "stream",
     "text": [
      "Epoch 244 train (loss: 0.7948, f1 score: 0.7362) test (loss: 1.6787, f1 score: 0.3848)\n"
     ]
    },
    {
     "name": "stderr",
     "output_type": "stream",
     "text": [
      "100%|██████████| 284/284 [00:01<00:00, 225.18it/s, loss=0.7945789705607778]\n"
     ]
    },
    {
     "name": "stdout",
     "output_type": "stream",
     "text": [
      "Epoch 245 train (loss: 0.7946, f1 score: 0.6486) test (loss: 1.2540, f1 score: 0.5199)\n"
     ]
    },
    {
     "name": "stderr",
     "output_type": "stream",
     "text": [
      "100%|██████████| 284/284 [00:01<00:00, 186.10it/s, loss=0.49458279527566384]\n"
     ]
    },
    {
     "name": "stdout",
     "output_type": "stream",
     "text": [
      "Epoch 246 train (loss: 0.4946, f1 score: 0.8075) test (loss: 1.3561, f1 score: 0.4727)\n"
     ]
    },
    {
     "name": "stderr",
     "output_type": "stream",
     "text": [
      "100%|██████████| 284/284 [00:01<00:00, 197.69it/s, loss=0.45048458161304744]\n"
     ]
    },
    {
     "name": "stdout",
     "output_type": "stream",
     "text": [
      "Epoch 247 train (loss: 0.4505, f1 score: 0.8465) test (loss: 1.4243, f1 score: 0.5018)\n"
     ]
    },
    {
     "name": "stderr",
     "output_type": "stream",
     "text": [
      "100%|██████████| 284/284 [00:01<00:00, 212.23it/s, loss=0.42276156184748864]\n"
     ]
    },
    {
     "name": "stdout",
     "output_type": "stream",
     "text": [
      "Epoch 248 train (loss: 0.4228, f1 score: 0.8580) test (loss: 1.4914, f1 score: 0.4581)\n"
     ]
    },
    {
     "name": "stderr",
     "output_type": "stream",
     "text": [
      "100%|██████████| 284/284 [00:01<00:00, 207.81it/s, loss=0.36646273748581887]\n"
     ]
    },
    {
     "name": "stdout",
     "output_type": "stream",
     "text": [
      "Epoch 249 train (loss: 0.3665, f1 score: 0.8775) test (loss: 1.4814, f1 score: 0.5107)\n"
     ]
    },
    {
     "name": "stderr",
     "output_type": "stream",
     "text": [
      "100%|██████████| 284/284 [00:01<00:00, 194.11it/s, loss=0.41753061721101403]\n"
     ]
    },
    {
     "name": "stdout",
     "output_type": "stream",
     "text": [
      "Epoch 250 train (loss: 0.4175, f1 score: 0.8545) test (loss: 1.3169, f1 score: 0.5668)\n"
     ]
    },
    {
     "name": "stderr",
     "output_type": "stream",
     "text": [
      "100%|██████████| 284/284 [00:01<00:00, 199.23it/s, loss=0.337836243986139]  \n"
     ]
    },
    {
     "name": "stdout",
     "output_type": "stream",
     "text": [
      "Epoch 251 train (loss: 0.3378, f1 score: 0.8968) test (loss: 1.5241, f1 score: 0.4782)\n"
     ]
    },
    {
     "name": "stderr",
     "output_type": "stream",
     "text": [
      "100%|██████████| 284/284 [00:01<00:00, 205.06it/s, loss=0.3679671211030439] \n"
     ]
    },
    {
     "name": "stdout",
     "output_type": "stream",
     "text": [
      "Epoch 252 train (loss: 0.3680, f1 score: 0.8806) test (loss: 1.5534, f1 score: 0.4621)\n"
     ]
    },
    {
     "name": "stderr",
     "output_type": "stream",
     "text": [
      "100%|██████████| 284/284 [00:01<00:00, 188.78it/s, loss=0.4578459300625492] \n"
     ]
    },
    {
     "name": "stdout",
     "output_type": "stream",
     "text": [
      "Epoch 253 train (loss: 0.4578, f1 score: 0.8342) test (loss: 1.3745, f1 score: 0.5297)\n"
     ]
    },
    {
     "name": "stderr",
     "output_type": "stream",
     "text": [
      "100%|██████████| 284/284 [00:01<00:00, 149.53it/s, loss=0.4022568986508471] \n"
     ]
    },
    {
     "name": "stdout",
     "output_type": "stream",
     "text": [
      "Epoch 254 train (loss: 0.4023, f1 score: 0.8683) test (loss: 1.4144, f1 score: 0.5200)\n"
     ]
    },
    {
     "name": "stderr",
     "output_type": "stream",
     "text": [
      "100%|██████████| 284/284 [00:01<00:00, 163.22it/s, loss=0.43079998549795384]\n"
     ]
    },
    {
     "name": "stdout",
     "output_type": "stream",
     "text": [
      "Epoch 255 train (loss: 0.4308, f1 score: 0.8356) test (loss: 1.5153, f1 score: 0.4619)\n"
     ]
    },
    {
     "name": "stderr",
     "output_type": "stream",
     "text": [
      "100%|██████████| 284/284 [00:01<00:00, 143.51it/s, loss=0.45558891955658165]\n"
     ]
    },
    {
     "name": "stdout",
     "output_type": "stream",
     "text": [
      "Epoch 256 train (loss: 0.4556, f1 score: 0.8511) test (loss: 1.5003, f1 score: 0.4808)\n"
     ]
    },
    {
     "name": "stderr",
     "output_type": "stream",
     "text": [
      "100%|██████████| 284/284 [00:02<00:00, 133.27it/s, loss=0.3194000592101103] \n"
     ]
    },
    {
     "name": "stdout",
     "output_type": "stream",
     "text": [
      "Epoch 257 train (loss: 0.3194, f1 score: 0.8898) test (loss: 2.0460, f1 score: 0.3960)\n"
     ]
    },
    {
     "name": "stderr",
     "output_type": "stream",
     "text": [
      "100%|██████████| 284/284 [00:01<00:00, 164.73it/s, loss=0.6193386903426177]\n"
     ]
    },
    {
     "name": "stdout",
     "output_type": "stream",
     "text": [
      "Epoch 258 train (loss: 0.6193, f1 score: 0.7582) test (loss: 1.3708, f1 score: 0.4813)\n"
     ]
    },
    {
     "name": "stderr",
     "output_type": "stream",
     "text": [
      "100%|██████████| 284/284 [00:01<00:00, 185.19it/s, loss=0.5242476816072693]\n"
     ]
    },
    {
     "name": "stdout",
     "output_type": "stream",
     "text": [
      "Epoch 259 train (loss: 0.5242, f1 score: 0.8172) test (loss: 1.2552, f1 score: 0.5371)\n"
     ]
    },
    {
     "name": "stderr",
     "output_type": "stream",
     "text": [
      "100%|██████████| 284/284 [00:02<00:00, 106.44it/s, loss=0.3778067278924962] \n"
     ]
    },
    {
     "name": "stdout",
     "output_type": "stream",
     "text": [
      "Epoch 260 train (loss: 0.3778, f1 score: 0.8686) test (loss: 1.2033, f1 score: 0.5582)\n"
     ]
    },
    {
     "name": "stderr",
     "output_type": "stream",
     "text": [
      "100%|██████████| 284/284 [00:02<00:00, 112.15it/s, loss=0.3991095415270612] \n"
     ]
    },
    {
     "name": "stdout",
     "output_type": "stream",
     "text": [
      "Epoch 261 train (loss: 0.3991, f1 score: 0.8559) test (loss: 1.5567, f1 score: 0.5307)\n"
     ]
    },
    {
     "name": "stderr",
     "output_type": "stream",
     "text": [
      "100%|██████████| 284/284 [00:02<00:00, 100.18it/s, loss=0.3395646769245168] \n"
     ]
    },
    {
     "name": "stdout",
     "output_type": "stream",
     "text": [
      "Epoch 262 train (loss: 0.3396, f1 score: 0.8736) test (loss: 1.8379, f1 score: 0.4945)\n"
     ]
    },
    {
     "name": "stderr",
     "output_type": "stream",
     "text": [
      "100%|██████████| 284/284 [00:02<00:00, 103.33it/s, loss=0.47397217689685417]\n"
     ]
    },
    {
     "name": "stdout",
     "output_type": "stream",
     "text": [
      "Epoch 263 train (loss: 0.4740, f1 score: 0.8176) test (loss: 1.3866, f1 score: 0.5520)\n"
     ]
    },
    {
     "name": "stderr",
     "output_type": "stream",
     "text": [
      "100%|██████████| 284/284 [00:02<00:00, 98.45it/s, loss=0.463822977768231]   \n"
     ]
    },
    {
     "name": "stdout",
     "output_type": "stream",
     "text": [
      "Epoch 264 train (loss: 0.4638, f1 score: 0.8325) test (loss: 1.6324, f1 score: 0.5308)\n"
     ]
    },
    {
     "name": "stderr",
     "output_type": "stream",
     "text": [
      "100%|██████████| 284/284 [00:03<00:00, 93.93it/s, loss=0.33441529144257515] \n"
     ]
    },
    {
     "name": "stdout",
     "output_type": "stream",
     "text": [
      "Epoch 265 train (loss: 0.3344, f1 score: 0.8797) test (loss: 1.3387, f1 score: 0.5314)\n"
     ]
    },
    {
     "name": "stderr",
     "output_type": "stream",
     "text": [
      "100%|██████████| 284/284 [00:02<00:00, 101.73it/s, loss=0.33963181804800013]\n"
     ]
    },
    {
     "name": "stdout",
     "output_type": "stream",
     "text": [
      "Epoch 266 train (loss: 0.3396, f1 score: 0.8934) test (loss: 1.5095, f1 score: 0.5425)\n"
     ]
    },
    {
     "name": "stderr",
     "output_type": "stream",
     "text": [
      "100%|██████████| 284/284 [00:02<00:00, 102.15it/s, loss=0.5050802920997458] \n"
     ]
    },
    {
     "name": "stdout",
     "output_type": "stream",
     "text": [
      "Epoch 267 train (loss: 0.5051, f1 score: 0.8082) test (loss: 1.5823, f1 score: 0.4770)\n"
     ]
    },
    {
     "name": "stderr",
     "output_type": "stream",
     "text": [
      "100%|██████████| 284/284 [00:02<00:00, 102.59it/s, loss=0.5369921768228458] \n"
     ]
    },
    {
     "name": "stdout",
     "output_type": "stream",
     "text": [
      "Epoch 268 train (loss: 0.5370, f1 score: 0.8128) test (loss: 1.5326, f1 score: 0.4888)\n"
     ]
    },
    {
     "name": "stderr",
     "output_type": "stream",
     "text": [
      "100%|██████████| 284/284 [00:03<00:00, 80.35it/s, loss=0.334505871872903]  \n"
     ]
    },
    {
     "name": "stdout",
     "output_type": "stream",
     "text": [
      "Epoch 269 train (loss: 0.3345, f1 score: 0.8825) test (loss: 1.4774, f1 score: 0.5073)\n"
     ]
    },
    {
     "name": "stderr",
     "output_type": "stream",
     "text": [
      "100%|██████████| 284/284 [00:02<00:00, 102.98it/s, loss=0.3146869511192691] \n"
     ]
    },
    {
     "name": "stdout",
     "output_type": "stream",
     "text": [
      "Epoch 270 train (loss: 0.3147, f1 score: 0.8870) test (loss: 1.4121, f1 score: 0.5902)\n"
     ]
    },
    {
     "name": "stderr",
     "output_type": "stream",
     "text": [
      "100%|██████████| 284/284 [00:02<00:00, 100.75it/s, loss=0.2679774777465303] \n"
     ]
    },
    {
     "name": "stdout",
     "output_type": "stream",
     "text": [
      "Epoch 271 train (loss: 0.2680, f1 score: 0.9123) test (loss: 1.4655, f1 score: 0.5440)\n"
     ]
    },
    {
     "name": "stderr",
     "output_type": "stream",
     "text": [
      "100%|██████████| 284/284 [00:03<00:00, 84.37it/s, loss=0.4069086861514657] \n"
     ]
    },
    {
     "name": "stdout",
     "output_type": "stream",
     "text": [
      "Epoch 272 train (loss: 0.4069, f1 score: 0.8040) test (loss: 1.2726, f1 score: 0.6086)\n"
     ]
    },
    {
     "name": "stderr",
     "output_type": "stream",
     "text": [
      "100%|██████████| 284/284 [00:03<00:00, 87.46it/s, loss=0.30619179557772797]\n"
     ]
    },
    {
     "name": "stdout",
     "output_type": "stream",
     "text": [
      "Epoch 273 train (loss: 0.3062, f1 score: 0.9080) test (loss: 1.3736, f1 score: 0.5649)\n"
     ]
    },
    {
     "name": "stderr",
     "output_type": "stream",
     "text": [
      "100%|██████████| 284/284 [00:02<00:00, 106.55it/s, loss=0.48859373233805764]\n"
     ]
    },
    {
     "name": "stdout",
     "output_type": "stream",
     "text": [
      "Epoch 274 train (loss: 0.4886, f1 score: 0.8285) test (loss: 2.0231, f1 score: 0.3271)\n"
     ]
    },
    {
     "name": "stderr",
     "output_type": "stream",
     "text": [
      "100%|██████████| 284/284 [00:03<00:00, 84.90it/s, loss=0.6693787041028411]\n"
     ]
    },
    {
     "name": "stdout",
     "output_type": "stream",
     "text": [
      "Epoch 275 train (loss: 0.6694, f1 score: 0.7905) test (loss: 1.5147, f1 score: 0.5434)\n"
     ]
    },
    {
     "name": "stderr",
     "output_type": "stream",
     "text": [
      "100%|██████████| 284/284 [00:03<00:00, 86.76it/s, loss=0.8529128817592183] \n"
     ]
    },
    {
     "name": "stdout",
     "output_type": "stream",
     "text": [
      "Epoch 276 train (loss: 0.8529, f1 score: 0.7372) test (loss: 1.8213, f1 score: 0.4730)\n"
     ]
    },
    {
     "name": "stderr",
     "output_type": "stream",
     "text": [
      "100%|██████████| 284/284 [00:02<00:00, 100.71it/s, loss=0.4173988509647758] \n"
     ]
    },
    {
     "name": "stdout",
     "output_type": "stream",
     "text": [
      "Epoch 277 train (loss: 0.4174, f1 score: 0.8645) test (loss: 1.3975, f1 score: 0.5516)\n"
     ]
    },
    {
     "name": "stderr",
     "output_type": "stream",
     "text": [
      "100%|██████████| 284/284 [00:02<00:00, 96.55it/s, loss=0.36320784108870674] \n"
     ]
    },
    {
     "name": "stdout",
     "output_type": "stream",
     "text": [
      "Epoch 278 train (loss: 0.3632, f1 score: 0.8661) test (loss: 1.3397, f1 score: 0.6026)\n"
     ]
    },
    {
     "name": "stderr",
     "output_type": "stream",
     "text": [
      "100%|██████████| 284/284 [00:02<00:00, 112.31it/s, loss=0.2764697007336457] \n"
     ]
    },
    {
     "name": "stdout",
     "output_type": "stream",
     "text": [
      "Epoch 279 train (loss: 0.2765, f1 score: 0.9104) test (loss: 1.3613, f1 score: 0.5803)\n"
     ]
    },
    {
     "name": "stderr",
     "output_type": "stream",
     "text": [
      "100%|██████████| 284/284 [00:02<00:00, 104.89it/s, loss=0.28319932471855847]\n"
     ]
    },
    {
     "name": "stdout",
     "output_type": "stream",
     "text": [
      "Epoch 280 train (loss: 0.2832, f1 score: 0.9121) test (loss: 1.3449, f1 score: 0.6074)\n"
     ]
    },
    {
     "name": "stderr",
     "output_type": "stream",
     "text": [
      "100%|██████████| 284/284 [00:03<00:00, 93.16it/s, loss=0.2677779444263802]  \n"
     ]
    },
    {
     "name": "stdout",
     "output_type": "stream",
     "text": [
      "Epoch 281 train (loss: 0.2678, f1 score: 0.9156) test (loss: 1.3166, f1 score: 0.6356)\n"
     ]
    },
    {
     "name": "stderr",
     "output_type": "stream",
     "text": [
      "100%|██████████| 284/284 [00:03<00:00, 84.96it/s, loss=0.25929464218796977]\n"
     ]
    },
    {
     "name": "stdout",
     "output_type": "stream",
     "text": [
      "Epoch 282 train (loss: 0.2593, f1 score: 0.9240) test (loss: 1.5120, f1 score: 0.5666)\n"
     ]
    },
    {
     "name": "stderr",
     "output_type": "stream",
     "text": [
      "100%|██████████| 284/284 [00:03<00:00, 83.04it/s, loss=0.32296910618012115]\n"
     ]
    },
    {
     "name": "stdout",
     "output_type": "stream",
     "text": [
      "Epoch 283 train (loss: 0.3230, f1 score: 0.8953) test (loss: 1.4511, f1 score: 0.5551)\n"
     ]
    },
    {
     "name": "stderr",
     "output_type": "stream",
     "text": [
      "100%|██████████| 284/284 [00:03<00:00, 85.80it/s, loss=0.5261519875665995]\n"
     ]
    },
    {
     "name": "stdout",
     "output_type": "stream",
     "text": [
      "Epoch 284 train (loss: 0.5262, f1 score: 0.8369) test (loss: 1.6914, f1 score: 0.5189)\n"
     ]
    },
    {
     "name": "stderr",
     "output_type": "stream",
     "text": [
      "100%|██████████| 284/284 [00:03<00:00, 83.55it/s, loss=0.5367127572691304] \n"
     ]
    },
    {
     "name": "stdout",
     "output_type": "stream",
     "text": [
      "Epoch 285 train (loss: 0.5367, f1 score: 0.8112) test (loss: 1.6849, f1 score: 0.4433)\n"
     ]
    },
    {
     "name": "stderr",
     "output_type": "stream",
     "text": [
      "100%|██████████| 284/284 [00:03<00:00, 80.90it/s, loss=0.48832856686326714]\n"
     ]
    },
    {
     "name": "stdout",
     "output_type": "stream",
     "text": [
      "Epoch 286 train (loss: 0.4883, f1 score: 0.8115) test (loss: 1.5408, f1 score: 0.4792)\n"
     ]
    },
    {
     "name": "stderr",
     "output_type": "stream",
     "text": [
      "100%|██████████| 284/284 [00:03<00:00, 85.48it/s, loss=0.33106256836802295]\n"
     ]
    },
    {
     "name": "stdout",
     "output_type": "stream",
     "text": [
      "Epoch 287 train (loss: 0.3311, f1 score: 0.8632) test (loss: 1.6062, f1 score: 0.5067)\n"
     ]
    },
    {
     "name": "stderr",
     "output_type": "stream",
     "text": [
      "100%|██████████| 284/284 [00:03<00:00, 88.18it/s, loss=0.34012076803023966] \n"
     ]
    },
    {
     "name": "stdout",
     "output_type": "stream",
     "text": [
      "Epoch 288 train (loss: 0.3401, f1 score: 0.8835) test (loss: 1.6534, f1 score: 0.5134)\n"
     ]
    },
    {
     "name": "stderr",
     "output_type": "stream",
     "text": [
      "100%|██████████| 284/284 [00:03<00:00, 81.79it/s, loss=0.48820982133628615]\n"
     ]
    },
    {
     "name": "stdout",
     "output_type": "stream",
     "text": [
      "Epoch 289 train (loss: 0.4882, f1 score: 0.8596) test (loss: 1.4457, f1 score: 0.5283)\n"
     ]
    },
    {
     "name": "stderr",
     "output_type": "stream",
     "text": [
      "100%|██████████| 284/284 [00:03<00:00, 91.40it/s, loss=0.25424107380906563] \n"
     ]
    },
    {
     "name": "stdout",
     "output_type": "stream",
     "text": [
      "Epoch 290 train (loss: 0.2542, f1 score: 0.9060) test (loss: 1.2893, f1 score: 0.6147)\n"
     ]
    },
    {
     "name": "stderr",
     "output_type": "stream",
     "text": [
      "100%|██████████| 284/284 [00:03<00:00, 79.43it/s, loss=0.35093807279866873]\n"
     ]
    },
    {
     "name": "stdout",
     "output_type": "stream",
     "text": [
      "Epoch 291 train (loss: 0.3509, f1 score: 0.8763) test (loss: 1.4684, f1 score: 0.5061)\n"
     ]
    },
    {
     "name": "stderr",
     "output_type": "stream",
     "text": [
      "100%|██████████| 284/284 [00:03<00:00, 81.99it/s, loss=0.2582512658030372] \n"
     ]
    },
    {
     "name": "stdout",
     "output_type": "stream",
     "text": [
      "Epoch 292 train (loss: 0.2583, f1 score: 0.9042) test (loss: 1.4266, f1 score: 0.5716)\n"
     ]
    },
    {
     "name": "stderr",
     "output_type": "stream",
     "text": [
      "100%|██████████| 284/284 [00:03<00:00, 86.14it/s, loss=0.28501200892070544] \n"
     ]
    },
    {
     "name": "stdout",
     "output_type": "stream",
     "text": [
      "Epoch 293 train (loss: 0.2850, f1 score: 0.8887) test (loss: 1.4131, f1 score: 0.6020)\n"
     ]
    },
    {
     "name": "stderr",
     "output_type": "stream",
     "text": [
      "100%|██████████| 284/284 [00:02<00:00, 103.20it/s, loss=0.2977423445800398] \n"
     ]
    },
    {
     "name": "stdout",
     "output_type": "stream",
     "text": [
      "Epoch 294 train (loss: 0.2977, f1 score: 0.9030) test (loss: 1.5665, f1 score: 0.5787)\n"
     ]
    },
    {
     "name": "stderr",
     "output_type": "stream",
     "text": [
      "100%|██████████| 284/284 [00:02<00:00, 116.87it/s, loss=0.23693564606987885]\n"
     ]
    },
    {
     "name": "stdout",
     "output_type": "stream",
     "text": [
      "Epoch 295 train (loss: 0.2369, f1 score: 0.9122) test (loss: 1.6852, f1 score: 0.5348)\n"
     ]
    },
    {
     "name": "stderr",
     "output_type": "stream",
     "text": [
      "100%|██████████| 284/284 [00:02<00:00, 113.99it/s, loss=0.2726270811907737] \n"
     ]
    },
    {
     "name": "stdout",
     "output_type": "stream",
     "text": [
      "Epoch 296 train (loss: 0.2726, f1 score: 0.8893) test (loss: 1.4991, f1 score: 0.5793)\n"
     ]
    },
    {
     "name": "stderr",
     "output_type": "stream",
     "text": [
      "100%|██████████| 284/284 [00:02<00:00, 113.04it/s, loss=0.3442719920315373] \n"
     ]
    },
    {
     "name": "stdout",
     "output_type": "stream",
     "text": [
      "Epoch 297 train (loss: 0.3443, f1 score: 0.8922) test (loss: 1.6255, f1 score: 0.5024)\n"
     ]
    },
    {
     "name": "stderr",
     "output_type": "stream",
     "text": [
      "100%|██████████| 284/284 [00:02<00:00, 119.55it/s, loss=0.5252068641129881] \n"
     ]
    },
    {
     "name": "stdout",
     "output_type": "stream",
     "text": [
      "Epoch 298 train (loss: 0.5252, f1 score: 0.8545) test (loss: 1.5632, f1 score: 0.5252)\n"
     ]
    },
    {
     "name": "stderr",
     "output_type": "stream",
     "text": [
      "100%|██████████| 284/284 [00:02<00:00, 116.95it/s, loss=0.3082025213442533] \n"
     ]
    },
    {
     "name": "stdout",
     "output_type": "stream",
     "text": [
      "Epoch 299 train (loss: 0.3082, f1 score: 0.8835) test (loss: 1.5030, f1 score: 0.5436)\n"
     ]
    },
    {
     "name": "stderr",
     "output_type": "stream",
     "text": [
      "100%|██████████| 284/284 [00:02<00:00, 95.33it/s, loss=0.2905145938455744]  \n"
     ]
    },
    {
     "name": "stdout",
     "output_type": "stream",
     "text": [
      "Epoch 300 train (loss: 0.2905, f1 score: 0.9136) test (loss: 1.9830, f1 score: 0.4898)\n"
     ]
    },
    {
     "name": "stderr",
     "output_type": "stream",
     "text": [
      "100%|██████████| 284/284 [00:02<00:00, 103.23it/s, loss=0.3228915731494748] \n"
     ]
    },
    {
     "name": "stdout",
     "output_type": "stream",
     "text": [
      "Epoch 301 train (loss: 0.3229, f1 score: 0.8698) test (loss: 1.6776, f1 score: 0.5012)\n"
     ]
    },
    {
     "name": "stderr",
     "output_type": "stream",
     "text": [
      "100%|██████████| 284/284 [00:02<00:00, 111.15it/s, loss=0.2236410862484186] \n"
     ]
    },
    {
     "name": "stdout",
     "output_type": "stream",
     "text": [
      "Epoch 302 train (loss: 0.2236, f1 score: 0.9357) test (loss: 1.6926, f1 score: 0.4934)\n"
     ]
    },
    {
     "name": "stderr",
     "output_type": "stream",
     "text": [
      "100%|██████████| 284/284 [00:02<00:00, 104.34it/s, loss=0.1873405040405743] \n"
     ]
    },
    {
     "name": "stdout",
     "output_type": "stream",
     "text": [
      "Epoch 303 train (loss: 0.1873, f1 score: 0.9434) test (loss: 1.5563, f1 score: 0.5302)\n"
     ]
    },
    {
     "name": "stderr",
     "output_type": "stream",
     "text": [
      "100%|██████████| 284/284 [00:02<00:00, 97.22it/s, loss=0.21150165631986734] \n"
     ]
    },
    {
     "name": "stdout",
     "output_type": "stream",
     "text": [
      "Epoch 304 train (loss: 0.2115, f1 score: 0.9282) test (loss: 1.5280, f1 score: 0.5554)\n"
     ]
    },
    {
     "name": "stderr",
     "output_type": "stream",
     "text": [
      "100%|██████████| 284/284 [00:03<00:00, 94.57it/s, loss=0.2522631573300599]  \n"
     ]
    },
    {
     "name": "stdout",
     "output_type": "stream",
     "text": [
      "Epoch 305 train (loss: 0.2523, f1 score: 0.9289) test (loss: 1.6045, f1 score: 0.5077)\n"
     ]
    },
    {
     "name": "stderr",
     "output_type": "stream",
     "text": [
      "100%|██████████| 284/284 [00:02<00:00, 101.41it/s, loss=0.2794312017143402] \n"
     ]
    },
    {
     "name": "stdout",
     "output_type": "stream",
     "text": [
      "Epoch 306 train (loss: 0.2794, f1 score: 0.9070) test (loss: 1.4627, f1 score: 0.4885)\n"
     ]
    },
    {
     "name": "stderr",
     "output_type": "stream",
     "text": [
      "100%|██████████| 284/284 [00:02<00:00, 106.33it/s, loss=0.3132255758637641] \n"
     ]
    },
    {
     "name": "stdout",
     "output_type": "stream",
     "text": [
      "Epoch 307 train (loss: 0.3132, f1 score: 0.8973) test (loss: 1.6665, f1 score: 0.5668)\n"
     ]
    },
    {
     "name": "stderr",
     "output_type": "stream",
     "text": [
      "100%|██████████| 284/284 [00:03<00:00, 82.24it/s, loss=0.24301365468795347]\n"
     ]
    },
    {
     "name": "stdout",
     "output_type": "stream",
     "text": [
      "Epoch 308 train (loss: 0.2430, f1 score: 0.9057) test (loss: 1.7961, f1 score: 0.4652)\n"
     ]
    },
    {
     "name": "stderr",
     "output_type": "stream",
     "text": [
      "100%|██████████| 284/284 [00:04<00:00, 67.49it/s, loss=0.40554696938652596]\n"
     ]
    },
    {
     "name": "stdout",
     "output_type": "stream",
     "text": [
      "Epoch 309 train (loss: 0.4055, f1 score: 0.8724) test (loss: 1.9783, f1 score: 0.4252)\n"
     ]
    },
    {
     "name": "stderr",
     "output_type": "stream",
     "text": [
      "100%|██████████| 284/284 [00:03<00:00, 72.40it/s, loss=0.26243325027729003]\n"
     ]
    },
    {
     "name": "stdout",
     "output_type": "stream",
     "text": [
      "Epoch 310 train (loss: 0.2624, f1 score: 0.9058) test (loss: 1.4619, f1 score: 0.5575)\n"
     ]
    },
    {
     "name": "stderr",
     "output_type": "stream",
     "text": [
      "100%|██████████| 284/284 [00:02<00:00, 98.00it/s, loss=0.16954460449215078] \n"
     ]
    },
    {
     "name": "stdout",
     "output_type": "stream",
     "text": [
      "Epoch 311 train (loss: 0.1695, f1 score: 0.9568) test (loss: 1.6945, f1 score: 0.5322)\n"
     ]
    },
    {
     "name": "stderr",
     "output_type": "stream",
     "text": [
      "100%|██████████| 284/284 [00:03<00:00, 84.94it/s, loss=0.1981743122942903]  \n"
     ]
    },
    {
     "name": "stdout",
     "output_type": "stream",
     "text": [
      "Epoch 312 train (loss: 0.1982, f1 score: 0.9227) test (loss: 1.6581, f1 score: 0.4965)\n"
     ]
    },
    {
     "name": "stderr",
     "output_type": "stream",
     "text": [
      "100%|██████████| 284/284 [00:02<00:00, 104.05it/s, loss=0.3383624642943098] \n"
     ]
    },
    {
     "name": "stdout",
     "output_type": "stream",
     "text": [
      "Epoch 313 train (loss: 0.3384, f1 score: 0.8858) test (loss: 1.3479, f1 score: 0.6181)\n"
     ]
    },
    {
     "name": "stderr",
     "output_type": "stream",
     "text": [
      "100%|██████████| 284/284 [00:02<00:00, 98.51it/s, loss=0.17940584892853045] \n"
     ]
    },
    {
     "name": "stdout",
     "output_type": "stream",
     "text": [
      "Epoch 314 train (loss: 0.1794, f1 score: 0.9396) test (loss: 1.4098, f1 score: 0.5958)\n"
     ]
    },
    {
     "name": "stderr",
     "output_type": "stream",
     "text": [
      "100%|██████████| 284/284 [00:02<00:00, 99.20it/s, loss=0.37963999427435263] \n"
     ]
    },
    {
     "name": "stdout",
     "output_type": "stream",
     "text": [
      "Epoch 315 train (loss: 0.3796, f1 score: 0.8488) test (loss: 1.3846, f1 score: 0.5729)\n"
     ]
    },
    {
     "name": "stderr",
     "output_type": "stream",
     "text": [
      "100%|██████████| 284/284 [00:02<00:00, 112.30it/s, loss=0.2978407969422848] \n"
     ]
    },
    {
     "name": "stdout",
     "output_type": "stream",
     "text": [
      "Epoch 316 train (loss: 0.2978, f1 score: 0.8827) test (loss: 1.6607, f1 score: 0.4548)\n"
     ]
    },
    {
     "name": "stderr",
     "output_type": "stream",
     "text": [
      "100%|██████████| 284/284 [00:02<00:00, 118.89it/s, loss=0.2020911076007752] \n"
     ]
    },
    {
     "name": "stdout",
     "output_type": "stream",
     "text": [
      "Epoch 317 train (loss: 0.2021, f1 score: 0.9291) test (loss: 1.4828, f1 score: 0.5799)\n"
     ]
    },
    {
     "name": "stderr",
     "output_type": "stream",
     "text": [
      "100%|██████████| 284/284 [00:02<00:00, 107.78it/s, loss=0.5303610326577974]\n"
     ]
    },
    {
     "name": "stdout",
     "output_type": "stream",
     "text": [
      "Epoch 318 train (loss: 0.5304, f1 score: 0.8405) test (loss: 1.4428, f1 score: 0.5283)\n"
     ]
    },
    {
     "name": "stderr",
     "output_type": "stream",
     "text": [
      "100%|██████████| 284/284 [00:02<00:00, 102.39it/s, loss=0.29759809089181816]\n"
     ]
    },
    {
     "name": "stdout",
     "output_type": "stream",
     "text": [
      "Epoch 319 train (loss: 0.2976, f1 score: 0.8915) test (loss: 1.3648, f1 score: 0.6183)\n"
     ]
    },
    {
     "name": "stderr",
     "output_type": "stream",
     "text": [
      "100%|██████████| 284/284 [00:02<00:00, 106.74it/s, loss=0.3551822486038412] \n"
     ]
    },
    {
     "name": "stdout",
     "output_type": "stream",
     "text": [
      "Epoch 320 train (loss: 0.3552, f1 score: 0.8663) test (loss: 1.4975, f1 score: 0.5102)\n"
     ]
    },
    {
     "name": "stderr",
     "output_type": "stream",
     "text": [
      "100%|██████████| 284/284 [00:02<00:00, 104.17it/s, loss=0.17963806666027177]\n"
     ]
    },
    {
     "name": "stdout",
     "output_type": "stream",
     "text": [
      "Epoch 321 train (loss: 0.1796, f1 score: 0.9645) test (loss: 1.3378, f1 score: 0.5794)\n"
     ]
    },
    {
     "name": "stderr",
     "output_type": "stream",
     "text": [
      "100%|██████████| 284/284 [00:03<00:00, 89.15it/s, loss=0.1542743252701795]  \n"
     ]
    },
    {
     "name": "stdout",
     "output_type": "stream",
     "text": [
      "Epoch 322 train (loss: 0.1543, f1 score: 0.9565) test (loss: 1.3904, f1 score: 0.6048)\n"
     ]
    },
    {
     "name": "stderr",
     "output_type": "stream",
     "text": [
      "100%|██████████| 284/284 [00:02<00:00, 103.83it/s, loss=0.2990079225552544] \n"
     ]
    },
    {
     "name": "stdout",
     "output_type": "stream",
     "text": [
      "Epoch 323 train (loss: 0.2990, f1 score: 0.9249) test (loss: 1.5556, f1 score: 0.5198)\n"
     ]
    },
    {
     "name": "stderr",
     "output_type": "stream",
     "text": [
      "100%|██████████| 284/284 [00:02<00:00, 108.63it/s, loss=0.30489481482851566]\n"
     ]
    },
    {
     "name": "stdout",
     "output_type": "stream",
     "text": [
      "Epoch 324 train (loss: 0.3049, f1 score: 0.8901) test (loss: 1.8116, f1 score: 0.5228)\n"
     ]
    },
    {
     "name": "stderr",
     "output_type": "stream",
     "text": [
      "100%|██████████| 284/284 [00:02<00:00, 98.00it/s, loss=0.21341299964115024] \n"
     ]
    },
    {
     "name": "stdout",
     "output_type": "stream",
     "text": [
      "Epoch 325 train (loss: 0.2134, f1 score: 0.9421) test (loss: 1.5890, f1 score: 0.5485)\n"
     ]
    },
    {
     "name": "stderr",
     "output_type": "stream",
     "text": [
      "100%|██████████| 284/284 [00:02<00:00, 101.51it/s, loss=0.1486833984373321] \n"
     ]
    },
    {
     "name": "stdout",
     "output_type": "stream",
     "text": [
      "Epoch 326 train (loss: 0.1487, f1 score: 0.9635) test (loss: 1.4260, f1 score: 0.5750)\n"
     ]
    },
    {
     "name": "stderr",
     "output_type": "stream",
     "text": [
      "100%|██████████| 284/284 [00:02<00:00, 103.33it/s, loss=0.18810562360835012]\n"
     ]
    },
    {
     "name": "stdout",
     "output_type": "stream",
     "text": [
      "Epoch 327 train (loss: 0.1881, f1 score: 0.9361) test (loss: 1.8471, f1 score: 0.4798)\n"
     ]
    },
    {
     "name": "stderr",
     "output_type": "stream",
     "text": [
      "100%|██████████| 284/284 [00:02<00:00, 104.82it/s, loss=0.2597425080930919] \n"
     ]
    },
    {
     "name": "stdout",
     "output_type": "stream",
     "text": [
      "Epoch 328 train (loss: 0.2597, f1 score: 0.9269) test (loss: 1.4994, f1 score: 0.5887)\n"
     ]
    },
    {
     "name": "stderr",
     "output_type": "stream",
     "text": [
      "100%|██████████| 284/284 [00:02<00:00, 113.22it/s, loss=0.2430037820291981] \n"
     ]
    },
    {
     "name": "stdout",
     "output_type": "stream",
     "text": [
      "Epoch 329 train (loss: 0.2430, f1 score: 0.9096) test (loss: 1.6205, f1 score: 0.5851)\n"
     ]
    },
    {
     "name": "stderr",
     "output_type": "stream",
     "text": [
      "100%|██████████| 284/284 [00:02<00:00, 97.77it/s, loss=0.25220529818710624] \n"
     ]
    },
    {
     "name": "stdout",
     "output_type": "stream",
     "text": [
      "Epoch 330 train (loss: 0.2522, f1 score: 0.9008) test (loss: 1.6511, f1 score: 0.4759)\n"
     ]
    },
    {
     "name": "stderr",
     "output_type": "stream",
     "text": [
      "100%|██████████| 284/284 [00:02<00:00, 95.34it/s, loss=0.2055986623974963]  \n"
     ]
    },
    {
     "name": "stdout",
     "output_type": "stream",
     "text": [
      "Epoch 331 train (loss: 0.2056, f1 score: 0.9334) test (loss: 1.3145, f1 score: 0.6488)\n"
     ]
    },
    {
     "name": "stderr",
     "output_type": "stream",
     "text": [
      "100%|██████████| 284/284 [00:02<00:00, 106.15it/s, loss=0.12127630623929779]\n"
     ]
    },
    {
     "name": "stdout",
     "output_type": "stream",
     "text": [
      "Epoch 332 train (loss: 0.1213, f1 score: 0.9777) test (loss: 1.4466, f1 score: 0.5599)\n"
     ]
    },
    {
     "name": "stderr",
     "output_type": "stream",
     "text": [
      "100%|██████████| 284/284 [00:02<00:00, 117.02it/s, loss=0.1285717396629633] \n"
     ]
    },
    {
     "name": "stdout",
     "output_type": "stream",
     "text": [
      "Epoch 333 train (loss: 0.1286, f1 score: 0.9743) test (loss: 1.4798, f1 score: 0.6102)\n"
     ]
    },
    {
     "name": "stderr",
     "output_type": "stream",
     "text": [
      "100%|██████████| 284/284 [00:02<00:00, 121.82it/s, loss=0.12992071459548626]\n"
     ]
    },
    {
     "name": "stdout",
     "output_type": "stream",
     "text": [
      "Epoch 334 train (loss: 0.1299, f1 score: 0.9668) test (loss: 1.4595, f1 score: 0.6416)\n"
     ]
    },
    {
     "name": "stderr",
     "output_type": "stream",
     "text": [
      "100%|██████████| 284/284 [00:02<00:00, 116.41it/s, loss=0.6582676801177948]\n"
     ]
    },
    {
     "name": "stdout",
     "output_type": "stream",
     "text": [
      "Epoch 335 train (loss: 0.6583, f1 score: 0.7538) test (loss: 1.5139, f1 score: 0.5573)\n"
     ]
    },
    {
     "name": "stderr",
     "output_type": "stream",
     "text": [
      "100%|██████████| 284/284 [00:02<00:00, 114.34it/s, loss=0.17327429477328724]\n"
     ]
    },
    {
     "name": "stdout",
     "output_type": "stream",
     "text": [
      "Epoch 336 train (loss: 0.1733, f1 score: 0.9455) test (loss: 1.4821, f1 score: 0.5570)\n"
     ]
    },
    {
     "name": "stderr",
     "output_type": "stream",
     "text": [
      "100%|██████████| 284/284 [00:01<00:00, 203.25it/s, loss=0.11651399651784974]\n"
     ]
    },
    {
     "name": "stdout",
     "output_type": "stream",
     "text": [
      "Epoch 337 train (loss: 0.1165, f1 score: 0.9750) test (loss: 1.4559, f1 score: 0.6002)\n"
     ]
    },
    {
     "name": "stderr",
     "output_type": "stream",
     "text": [
      "100%|██████████| 284/284 [00:01<00:00, 193.71it/s, loss=0.08805519363410036]\n"
     ]
    },
    {
     "name": "stdout",
     "output_type": "stream",
     "text": [
      "Epoch 338 train (loss: 0.0881, f1 score: 0.9873) test (loss: 1.5337, f1 score: 0.5738)\n"
     ]
    },
    {
     "name": "stderr",
     "output_type": "stream",
     "text": [
      "100%|██████████| 284/284 [00:01<00:00, 194.04it/s, loss=0.09164333430735368]\n"
     ]
    },
    {
     "name": "stdout",
     "output_type": "stream",
     "text": [
      "Epoch 339 train (loss: 0.0916, f1 score: 0.9818) test (loss: 1.4029, f1 score: 0.6999)\n"
     ]
    },
    {
     "name": "stderr",
     "output_type": "stream",
     "text": [
      "100%|██████████| 284/284 [00:01<00:00, 193.61it/s, loss=0.2290497072152531] \n"
     ]
    },
    {
     "name": "stdout",
     "output_type": "stream",
     "text": [
      "Epoch 340 train (loss: 0.2290, f1 score: 0.9449) test (loss: 1.4764, f1 score: 0.6060)\n"
     ]
    },
    {
     "name": "stderr",
     "output_type": "stream",
     "text": [
      "100%|██████████| 284/284 [00:01<00:00, 196.95it/s, loss=0.21249545763351652]\n"
     ]
    },
    {
     "name": "stdout",
     "output_type": "stream",
     "text": [
      "Epoch 341 train (loss: 0.2125, f1 score: 0.9317) test (loss: 1.3320, f1 score: 0.6404)\n"
     ]
    },
    {
     "name": "stderr",
     "output_type": "stream",
     "text": [
      "100%|██████████| 284/284 [00:01<00:00, 204.70it/s, loss=0.28145461933011795]\n"
     ]
    },
    {
     "name": "stdout",
     "output_type": "stream",
     "text": [
      "Epoch 342 train (loss: 0.2815, f1 score: 0.9056) test (loss: 1.4081, f1 score: 0.6096)\n"
     ]
    },
    {
     "name": "stderr",
     "output_type": "stream",
     "text": [
      "100%|██████████| 284/284 [00:01<00:00, 193.56it/s, loss=0.14213654658311164]\n"
     ]
    },
    {
     "name": "stdout",
     "output_type": "stream",
     "text": [
      "Epoch 343 train (loss: 0.1421, f1 score: 0.9576) test (loss: 1.6258, f1 score: 0.5196)\n"
     ]
    },
    {
     "name": "stderr",
     "output_type": "stream",
     "text": [
      "100%|██████████| 284/284 [00:01<00:00, 214.67it/s, loss=0.14388583440982908]\n"
     ]
    },
    {
     "name": "stdout",
     "output_type": "stream",
     "text": [
      "Epoch 344 train (loss: 0.1439, f1 score: 0.9477) test (loss: 1.4814, f1 score: 0.5559)\n"
     ]
    },
    {
     "name": "stderr",
     "output_type": "stream",
     "text": [
      "100%|██████████| 284/284 [00:01<00:00, 209.72it/s, loss=0.13139594207734237]\n"
     ]
    },
    {
     "name": "stdout",
     "output_type": "stream",
     "text": [
      "Epoch 345 train (loss: 0.1314, f1 score: 0.9764) test (loss: 1.4340, f1 score: 0.5661)\n"
     ]
    },
    {
     "name": "stderr",
     "output_type": "stream",
     "text": [
      "100%|██████████| 284/284 [00:01<00:00, 203.65it/s, loss=0.380100248742219]  \n"
     ]
    },
    {
     "name": "stdout",
     "output_type": "stream",
     "text": [
      "Epoch 346 train (loss: 0.3801, f1 score: 0.8839) test (loss: 1.8567, f1 score: 0.5495)\n"
     ]
    },
    {
     "name": "stderr",
     "output_type": "stream",
     "text": [
      "100%|██████████| 284/284 [00:01<00:00, 209.59it/s, loss=0.2586114428499648] \n"
     ]
    },
    {
     "name": "stdout",
     "output_type": "stream",
     "text": [
      "Epoch 347 train (loss: 0.2586, f1 score: 0.9183) test (loss: 1.6575, f1 score: 0.5511)\n"
     ]
    },
    {
     "name": "stderr",
     "output_type": "stream",
     "text": [
      "100%|██████████| 284/284 [00:01<00:00, 223.12it/s, loss=0.27121039278703596]\n"
     ]
    },
    {
     "name": "stdout",
     "output_type": "stream",
     "text": [
      "Epoch 348 train (loss: 0.2712, f1 score: 0.9076) test (loss: 1.7690, f1 score: 0.5602)\n"
     ]
    },
    {
     "name": "stderr",
     "output_type": "stream",
     "text": [
      "100%|██████████| 284/284 [00:01<00:00, 209.20it/s, loss=0.12133665522068582]\n"
     ]
    },
    {
     "name": "stdout",
     "output_type": "stream",
     "text": [
      "Epoch 349 train (loss: 0.1213, f1 score: 0.9722) test (loss: 1.6830, f1 score: 0.5227)\n"
     ]
    },
    {
     "name": "stderr",
     "output_type": "stream",
     "text": [
      "100%|██████████| 284/284 [00:01<00:00, 192.73it/s, loss=0.0846888479911132] \n"
     ]
    },
    {
     "name": "stdout",
     "output_type": "stream",
     "text": [
      "Epoch 350 train (loss: 0.0847, f1 score: 0.9815) test (loss: 1.5105, f1 score: 0.5610)\n"
     ]
    },
    {
     "name": "stderr",
     "output_type": "stream",
     "text": [
      "100%|██████████| 284/284 [00:01<00:00, 219.98it/s, loss=0.06936863551906665] \n"
     ]
    },
    {
     "name": "stdout",
     "output_type": "stream",
     "text": [
      "Epoch 351 train (loss: 0.0694, f1 score: 0.9920) test (loss: 1.5520, f1 score: 0.5862)\n"
     ]
    },
    {
     "name": "stderr",
     "output_type": "stream",
     "text": [
      "100%|██████████| 284/284 [00:01<00:00, 223.68it/s, loss=0.06781479203581653] \n"
     ]
    },
    {
     "name": "stdout",
     "output_type": "stream",
     "text": [
      "Epoch 352 train (loss: 0.0678, f1 score: 0.9863) test (loss: 1.4447, f1 score: 0.6329)\n"
     ]
    },
    {
     "name": "stderr",
     "output_type": "stream",
     "text": [
      "100%|██████████| 284/284 [00:01<00:00, 209.61it/s, loss=0.06302152539629646] \n"
     ]
    },
    {
     "name": "stdout",
     "output_type": "stream",
     "text": [
      "Epoch 353 train (loss: 0.0630, f1 score: 0.9877) test (loss: 1.4737, f1 score: 0.6041)\n"
     ]
    },
    {
     "name": "stderr",
     "output_type": "stream",
     "text": [
      "100%|██████████| 284/284 [00:01<00:00, 207.68it/s, loss=0.05983968833330232] \n"
     ]
    },
    {
     "name": "stdout",
     "output_type": "stream",
     "text": [
      "Epoch 354 train (loss: 0.0598, f1 score: 0.9920) test (loss: 1.4226, f1 score: 0.6131)\n"
     ]
    },
    {
     "name": "stderr",
     "output_type": "stream",
     "text": [
      "100%|██████████| 284/284 [00:01<00:00, 202.15it/s, loss=0.3262164774318029]  \n"
     ]
    },
    {
     "name": "stdout",
     "output_type": "stream",
     "text": [
      "Epoch 355 train (loss: 0.3262, f1 score: 0.9116) test (loss: 2.5280, f1 score: 0.4608)\n"
     ]
    },
    {
     "name": "stderr",
     "output_type": "stream",
     "text": [
      "100%|██████████| 284/284 [00:01<00:00, 223.32it/s, loss=0.5460500673564728]\n"
     ]
    },
    {
     "name": "stdout",
     "output_type": "stream",
     "text": [
      "Epoch 356 train (loss: 0.5461, f1 score: 0.8210) test (loss: 1.6961, f1 score: 0.5853)\n"
     ]
    },
    {
     "name": "stderr",
     "output_type": "stream",
     "text": [
      "100%|██████████| 284/284 [00:01<00:00, 210.77it/s, loss=0.34853293956421366]\n"
     ]
    },
    {
     "name": "stdout",
     "output_type": "stream",
     "text": [
      "Epoch 357 train (loss: 0.3485, f1 score: 0.8970) test (loss: 1.6822, f1 score: 0.5392)\n"
     ]
    },
    {
     "name": "stderr",
     "output_type": "stream",
     "text": [
      "100%|██████████| 284/284 [00:01<00:00, 220.35it/s, loss=0.31424475680630076]\n"
     ]
    },
    {
     "name": "stdout",
     "output_type": "stream",
     "text": [
      "Epoch 358 train (loss: 0.3142, f1 score: 0.8820) test (loss: 2.0085, f1 score: 0.4839)\n"
     ]
    },
    {
     "name": "stderr",
     "output_type": "stream",
     "text": [
      "100%|██████████| 284/284 [00:01<00:00, 238.21it/s, loss=0.39532900613922833]\n"
     ]
    },
    {
     "name": "stdout",
     "output_type": "stream",
     "text": [
      "Epoch 359 train (loss: 0.3953, f1 score: 0.8571) test (loss: 1.5626, f1 score: 0.6624)\n"
     ]
    },
    {
     "name": "stderr",
     "output_type": "stream",
     "text": [
      "100%|██████████| 284/284 [00:01<00:00, 197.05it/s, loss=0.20289411682727365]\n"
     ]
    },
    {
     "name": "stdout",
     "output_type": "stream",
     "text": [
      "Epoch 360 train (loss: 0.2029, f1 score: 0.9059) test (loss: 1.4756, f1 score: 0.6521)\n"
     ]
    },
    {
     "name": "stderr",
     "output_type": "stream",
     "text": [
      "100%|██████████| 284/284 [00:01<00:00, 173.72it/s, loss=0.16480048531731983]\n"
     ]
    },
    {
     "name": "stdout",
     "output_type": "stream",
     "text": [
      "Epoch 361 train (loss: 0.1648, f1 score: 0.9475) test (loss: 1.6523, f1 score: 0.5685)\n"
     ]
    },
    {
     "name": "stderr",
     "output_type": "stream",
     "text": [
      "100%|██████████| 284/284 [00:01<00:00, 212.12it/s, loss=0.19323535315023446]\n"
     ]
    },
    {
     "name": "stdout",
     "output_type": "stream",
     "text": [
      "Epoch 362 train (loss: 0.1932, f1 score: 0.9345) test (loss: 1.6843, f1 score: 0.5975)\n"
     ]
    },
    {
     "name": "stderr",
     "output_type": "stream",
     "text": [
      "100%|██████████| 284/284 [00:01<00:00, 194.41it/s, loss=0.12051418236896239]\n"
     ]
    },
    {
     "name": "stdout",
     "output_type": "stream",
     "text": [
      "Epoch 363 train (loss: 0.1205, f1 score: 0.9659) test (loss: 1.6780, f1 score: 0.5491)\n"
     ]
    },
    {
     "name": "stderr",
     "output_type": "stream",
     "text": [
      "100%|██████████| 284/284 [00:01<00:00, 178.91it/s, loss=0.17528031748050535]\n"
     ]
    },
    {
     "name": "stdout",
     "output_type": "stream",
     "text": [
      "Epoch 364 train (loss: 0.1753, f1 score: 0.9462) test (loss: 1.6829, f1 score: 0.5899)\n"
     ]
    },
    {
     "name": "stderr",
     "output_type": "stream",
     "text": [
      "100%|██████████| 284/284 [00:01<00:00, 189.57it/s, loss=0.7715084352055039] \n"
     ]
    },
    {
     "name": "stdout",
     "output_type": "stream",
     "text": [
      "Epoch 365 train (loss: 0.7715, f1 score: 0.7532) test (loss: 2.3105, f1 score: 0.4453)\n"
     ]
    },
    {
     "name": "stderr",
     "output_type": "stream",
     "text": [
      "100%|██████████| 284/284 [00:01<00:00, 193.95it/s, loss=0.43245576271577413]\n"
     ]
    },
    {
     "name": "stdout",
     "output_type": "stream",
     "text": [
      "Epoch 366 train (loss: 0.4325, f1 score: 0.8515) test (loss: 2.1920, f1 score: 0.4768)\n"
     ]
    },
    {
     "name": "stderr",
     "output_type": "stream",
     "text": [
      "100%|██████████| 284/284 [00:01<00:00, 203.12it/s, loss=0.2709610027828398] \n"
     ]
    },
    {
     "name": "stdout",
     "output_type": "stream",
     "text": [
      "Epoch 367 train (loss: 0.2710, f1 score: 0.9167) test (loss: 1.7519, f1 score: 0.5777)\n"
     ]
    },
    {
     "name": "stderr",
     "output_type": "stream",
     "text": [
      "100%|██████████| 284/284 [00:01<00:00, 189.19it/s, loss=0.1481521343582795] \n"
     ]
    },
    {
     "name": "stdout",
     "output_type": "stream",
     "text": [
      "Epoch 368 train (loss: 0.1482, f1 score: 0.9594) test (loss: 1.6629, f1 score: 0.6008)\n"
     ]
    },
    {
     "name": "stderr",
     "output_type": "stream",
     "text": [
      "100%|██████████| 284/284 [00:01<00:00, 178.20it/s, loss=0.1377837498537855] \n"
     ]
    },
    {
     "name": "stdout",
     "output_type": "stream",
     "text": [
      "Epoch 369 train (loss: 0.1378, f1 score: 0.9607) test (loss: 1.9752, f1 score: 0.5201)\n"
     ]
    },
    {
     "name": "stderr",
     "output_type": "stream",
     "text": [
      "100%|██████████| 284/284 [00:01<00:00, 183.10it/s, loss=0.1731373831682222] \n"
     ]
    },
    {
     "name": "stdout",
     "output_type": "stream",
     "text": [
      "Epoch 370 train (loss: 0.1731, f1 score: 0.9677) test (loss: 1.6889, f1 score: 0.5729)\n"
     ]
    },
    {
     "name": "stderr",
     "output_type": "stream",
     "text": [
      "100%|██████████| 284/284 [00:01<00:00, 177.94it/s, loss=0.15643963462863328]\n"
     ]
    },
    {
     "name": "stdout",
     "output_type": "stream",
     "text": [
      "Epoch 371 train (loss: 0.1564, f1 score: 0.9489) test (loss: 1.7684, f1 score: 0.5832)\n"
     ]
    },
    {
     "name": "stderr",
     "output_type": "stream",
     "text": [
      "100%|██████████| 284/284 [00:01<00:00, 175.21it/s, loss=0.12538228656204653]\n"
     ]
    },
    {
     "name": "stdout",
     "output_type": "stream",
     "text": [
      "Epoch 372 train (loss: 0.1254, f1 score: 0.9734) test (loss: 1.9623, f1 score: 0.5312)\n"
     ]
    },
    {
     "name": "stderr",
     "output_type": "stream",
     "text": [
      "100%|██████████| 284/284 [00:01<00:00, 174.26it/s, loss=0.10230093606268909]\n"
     ]
    },
    {
     "name": "stdout",
     "output_type": "stream",
     "text": [
      "Epoch 373 train (loss: 0.1023, f1 score: 0.9803) test (loss: 1.9456, f1 score: 0.5053)\n"
     ]
    },
    {
     "name": "stderr",
     "output_type": "stream",
     "text": [
      "100%|██████████| 284/284 [00:01<00:00, 189.69it/s, loss=0.1347452058197773] \n"
     ]
    },
    {
     "name": "stdout",
     "output_type": "stream",
     "text": [
      "Epoch 374 train (loss: 0.1347, f1 score: 0.9685) test (loss: 1.8219, f1 score: 0.5862)\n"
     ]
    },
    {
     "name": "stderr",
     "output_type": "stream",
     "text": [
      "100%|██████████| 284/284 [00:01<00:00, 204.00it/s, loss=0.16023879498735227]\n"
     ]
    },
    {
     "name": "stdout",
     "output_type": "stream",
     "text": [
      "Epoch 375 train (loss: 0.1602, f1 score: 0.9434) test (loss: 1.8341, f1 score: 0.5741)\n"
     ]
    },
    {
     "name": "stderr",
     "output_type": "stream",
     "text": [
      "100%|██████████| 284/284 [00:01<00:00, 221.46it/s, loss=0.19325614529235524] \n"
     ]
    },
    {
     "name": "stdout",
     "output_type": "stream",
     "text": [
      "Epoch 376 train (loss: 0.1933, f1 score: 0.9469) test (loss: 1.8765, f1 score: 0.5583)\n"
     ]
    },
    {
     "name": "stderr",
     "output_type": "stream",
     "text": [
      "100%|██████████| 284/284 [00:01<00:00, 235.43it/s, loss=0.7035825469262216]\n"
     ]
    },
    {
     "name": "stdout",
     "output_type": "stream",
     "text": [
      "Epoch 377 train (loss: 0.7036, f1 score: 0.7805) test (loss: 3.7200, f1 score: 0.3067)\n"
     ]
    },
    {
     "name": "stderr",
     "output_type": "stream",
     "text": [
      "100%|██████████| 284/284 [00:01<00:00, 214.80it/s, loss=0.5385170804671157]\n"
     ]
    },
    {
     "name": "stdout",
     "output_type": "stream",
     "text": [
      "Epoch 378 train (loss: 0.5385, f1 score: 0.8423) test (loss: 1.6140, f1 score: 0.5495)\n"
     ]
    },
    {
     "name": "stderr",
     "output_type": "stream",
     "text": [
      "100%|██████████| 284/284 [00:01<00:00, 193.84it/s, loss=0.23119743805604948]\n"
     ]
    },
    {
     "name": "stdout",
     "output_type": "stream",
     "text": [
      "Epoch 379 train (loss: 0.2312, f1 score: 0.9304) test (loss: 1.3160, f1 score: 0.6391)\n"
     ]
    },
    {
     "name": "stderr",
     "output_type": "stream",
     "text": [
      "100%|██████████| 284/284 [00:01<00:00, 171.23it/s, loss=0.1731858675591123] \n"
     ]
    },
    {
     "name": "stdout",
     "output_type": "stream",
     "text": [
      "Epoch 380 train (loss: 0.1732, f1 score: 0.9488) test (loss: 1.5740, f1 score: 0.6772)\n"
     ]
    },
    {
     "name": "stderr",
     "output_type": "stream",
     "text": [
      "100%|██████████| 284/284 [00:01<00:00, 167.49it/s, loss=0.3049209907423036] \n"
     ]
    },
    {
     "name": "stdout",
     "output_type": "stream",
     "text": [
      "Epoch 381 train (loss: 0.3049, f1 score: 0.8858) test (loss: 1.5495, f1 score: 0.6714)\n"
     ]
    },
    {
     "name": "stderr",
     "output_type": "stream",
     "text": [
      "100%|██████████| 284/284 [00:01<00:00, 166.60it/s, loss=0.14586391721845565]\n"
     ]
    },
    {
     "name": "stdout",
     "output_type": "stream",
     "text": [
      "Epoch 382 train (loss: 0.1459, f1 score: 0.9622) test (loss: 1.5483, f1 score: 0.7434)\n"
     ]
    },
    {
     "name": "stderr",
     "output_type": "stream",
     "text": [
      "100%|██████████| 284/284 [00:01<00:00, 168.48it/s, loss=0.08161943121960806]\n"
     ]
    },
    {
     "name": "stdout",
     "output_type": "stream",
     "text": [
      "Epoch 383 train (loss: 0.0816, f1 score: 0.9818) test (loss: 1.4693, f1 score: 0.7209)\n"
     ]
    },
    {
     "name": "stderr",
     "output_type": "stream",
     "text": [
      "100%|██████████| 284/284 [00:01<00:00, 171.97it/s, loss=0.07434872505878111]\n"
     ]
    },
    {
     "name": "stdout",
     "output_type": "stream",
     "text": [
      "Epoch 384 train (loss: 0.0743, f1 score: 0.9866) test (loss: 1.5454, f1 score: 0.6221)\n"
     ]
    },
    {
     "name": "stderr",
     "output_type": "stream",
     "text": [
      "100%|██████████| 284/284 [00:01<00:00, 188.90it/s, loss=0.06381382355236934] \n"
     ]
    },
    {
     "name": "stdout",
     "output_type": "stream",
     "text": [
      "Epoch 385 train (loss: 0.0638, f1 score: 0.9870) test (loss: 1.4480, f1 score: 0.6304)\n"
     ]
    },
    {
     "name": "stderr",
     "output_type": "stream",
     "text": [
      "100%|██████████| 284/284 [00:01<00:00, 185.99it/s, loss=0.057003967957505564]\n"
     ]
    },
    {
     "name": "stdout",
     "output_type": "stream",
     "text": [
      "Epoch 386 train (loss: 0.0570, f1 score: 0.9948) test (loss: 1.4262, f1 score: 0.7311)\n"
     ]
    },
    {
     "name": "stderr",
     "output_type": "stream",
     "text": [
      "100%|██████████| 284/284 [00:01<00:00, 206.62it/s, loss=0.14853696012869477]\n"
     ]
    },
    {
     "name": "stdout",
     "output_type": "stream",
     "text": [
      "Epoch 387 train (loss: 0.1485, f1 score: 0.9469) test (loss: 1.4817, f1 score: 0.5943)\n"
     ]
    },
    {
     "name": "stderr",
     "output_type": "stream",
     "text": [
      "100%|██████████| 284/284 [00:01<00:00, 219.45it/s, loss=0.44530723334870526]\n"
     ]
    },
    {
     "name": "stdout",
     "output_type": "stream",
     "text": [
      "Epoch 388 train (loss: 0.4453, f1 score: 0.8408) test (loss: 1.5384, f1 score: 0.6134)\n"
     ]
    },
    {
     "name": "stderr",
     "output_type": "stream",
     "text": [
      "100%|██████████| 284/284 [00:01<00:00, 226.85it/s, loss=0.1497136200114127] \n"
     ]
    },
    {
     "name": "stdout",
     "output_type": "stream",
     "text": [
      "Epoch 389 train (loss: 0.1497, f1 score: 0.9381) test (loss: 1.5551, f1 score: 0.6053)\n"
     ]
    },
    {
     "name": "stderr",
     "output_type": "stream",
     "text": [
      "100%|██████████| 284/284 [00:01<00:00, 177.37it/s, loss=0.08828844357950902]\n"
     ]
    },
    {
     "name": "stdout",
     "output_type": "stream",
     "text": [
      "Epoch 390 train (loss: 0.0883, f1 score: 0.9789) test (loss: 1.7175, f1 score: 0.5272)\n"
     ]
    },
    {
     "name": "stderr",
     "output_type": "stream",
     "text": [
      "100%|██████████| 284/284 [00:01<00:00, 184.87it/s, loss=0.09552173971437888]\n"
     ]
    },
    {
     "name": "stdout",
     "output_type": "stream",
     "text": [
      "Epoch 391 train (loss: 0.0955, f1 score: 0.9617) test (loss: 1.4547, f1 score: 0.5956)\n"
     ]
    },
    {
     "name": "stderr",
     "output_type": "stream",
     "text": [
      "100%|██████████| 284/284 [00:01<00:00, 184.14it/s, loss=0.10255388155067996] \n"
     ]
    },
    {
     "name": "stdout",
     "output_type": "stream",
     "text": [
      "Epoch 392 train (loss: 0.1026, f1 score: 0.9778) test (loss: 1.5244, f1 score: 0.6298)\n"
     ]
    },
    {
     "name": "stderr",
     "output_type": "stream",
     "text": [
      "100%|██████████| 284/284 [00:01<00:00, 181.80it/s, loss=0.3077205583882767] \n"
     ]
    },
    {
     "name": "stdout",
     "output_type": "stream",
     "text": [
      "Epoch 393 train (loss: 0.3077, f1 score: 0.9239) test (loss: 1.7210, f1 score: 0.5528)\n"
     ]
    },
    {
     "name": "stderr",
     "output_type": "stream",
     "text": [
      "100%|██████████| 284/284 [00:01<00:00, 170.64it/s, loss=0.11232112987872056]\n"
     ]
    },
    {
     "name": "stdout",
     "output_type": "stream",
     "text": [
      "Epoch 394 train (loss: 0.1123, f1 score: 0.9664) test (loss: 1.6264, f1 score: 0.5357)\n"
     ]
    },
    {
     "name": "stderr",
     "output_type": "stream",
     "text": [
      "100%|██████████| 284/284 [00:01<00:00, 192.93it/s, loss=0.24415993731564015]\n"
     ]
    },
    {
     "name": "stdout",
     "output_type": "stream",
     "text": [
      "Epoch 395 train (loss: 0.2442, f1 score: 0.9375) test (loss: 1.6667, f1 score: 0.6298)\n"
     ]
    },
    {
     "name": "stderr",
     "output_type": "stream",
     "text": [
      "100%|██████████| 284/284 [00:01<00:00, 213.16it/s, loss=0.21497463070111952]\n"
     ]
    },
    {
     "name": "stdout",
     "output_type": "stream",
     "text": [
      "Epoch 396 train (loss: 0.2150, f1 score: 0.9409) test (loss: 1.5040, f1 score: 0.5623)\n"
     ]
    },
    {
     "name": "stderr",
     "output_type": "stream",
     "text": [
      "100%|██████████| 284/284 [00:01<00:00, 179.06it/s, loss=0.10023583297316037]\n"
     ]
    },
    {
     "name": "stdout",
     "output_type": "stream",
     "text": [
      "Epoch 397 train (loss: 0.1002, f1 score: 0.9691) test (loss: 1.5011, f1 score: 0.6295)\n"
     ]
    },
    {
     "name": "stderr",
     "output_type": "stream",
     "text": [
      "100%|██████████| 284/284 [00:01<00:00, 204.90it/s, loss=0.09031978790307234]\n"
     ]
    },
    {
     "name": "stdout",
     "output_type": "stream",
     "text": [
      "Epoch 398 train (loss: 0.0903, f1 score: 0.9620) test (loss: 1.3778, f1 score: 0.6260)\n"
     ]
    },
    {
     "name": "stderr",
     "output_type": "stream",
     "text": [
      "100%|██████████| 284/284 [00:01<00:00, 204.16it/s, loss=0.05180345148808966] \n"
     ]
    },
    {
     "name": "stdout",
     "output_type": "stream",
     "text": [
      "Epoch 399 train (loss: 0.0518, f1 score: 0.9898) test (loss: 1.7073, f1 score: 0.5384)\n"
     ]
    },
    {
     "name": "stderr",
     "output_type": "stream",
     "text": [
      "100%|██████████| 284/284 [00:01<00:00, 179.39it/s, loss=0.0447808563869945]  \n"
     ]
    },
    {
     "name": "stdout",
     "output_type": "stream",
     "text": [
      "Epoch 400 train (loss: 0.0448, f1 score: 0.9898) test (loss: 1.4730, f1 score: 0.6528)\n"
     ]
    },
    {
     "name": "stderr",
     "output_type": "stream",
     "text": [
      "100%|██████████| 284/284 [00:01<00:00, 182.33it/s, loss=0.04013222704877631] \n"
     ]
    },
    {
     "name": "stdout",
     "output_type": "stream",
     "text": [
      "Epoch 401 train (loss: 0.0401, f1 score: 0.9948) test (loss: 1.4131, f1 score: 0.6516)\n"
     ]
    },
    {
     "name": "stderr",
     "output_type": "stream",
     "text": [
      "100%|██████████| 284/284 [00:01<00:00, 179.30it/s, loss=0.04482912494223827] \n"
     ]
    },
    {
     "name": "stdout",
     "output_type": "stream",
     "text": [
      "Epoch 402 train (loss: 0.0448, f1 score: 0.9948) test (loss: 1.4432, f1 score: 0.6291)\n"
     ]
    },
    {
     "name": "stderr",
     "output_type": "stream",
     "text": [
      "100%|██████████| 284/284 [00:01<00:00, 206.47it/s, loss=0.0342625206685625]  \n"
     ]
    },
    {
     "name": "stdout",
     "output_type": "stream",
     "text": [
      "Epoch 403 train (loss: 0.0343, f1 score: 1.0000) test (loss: 1.5203, f1 score: 0.6390)\n"
     ]
    },
    {
     "name": "stderr",
     "output_type": "stream",
     "text": [
      "100%|██████████| 284/284 [00:01<00:00, 206.42it/s, loss=0.031790442487657805]\n"
     ]
    },
    {
     "name": "stdout",
     "output_type": "stream",
     "text": [
      "Epoch 404 train (loss: 0.0318, f1 score: 1.0000) test (loss: 1.5658, f1 score: 0.6058)\n"
     ]
    },
    {
     "name": "stderr",
     "output_type": "stream",
     "text": [
      "100%|██████████| 284/284 [00:01<00:00, 185.57it/s, loss=1.1777634540036597] \n"
     ]
    },
    {
     "name": "stdout",
     "output_type": "stream",
     "text": [
      "Epoch 405 train (loss: 1.1778, f1 score: 0.7642) test (loss: 4.1808, f1 score: 0.1915)\n"
     ]
    },
    {
     "name": "stderr",
     "output_type": "stream",
     "text": [
      "100%|██████████| 284/284 [00:01<00:00, 182.94it/s, loss=1.9752004721700411]\n"
     ]
    },
    {
     "name": "stdout",
     "output_type": "stream",
     "text": [
      "Epoch 406 train (loss: 1.9752, f1 score: 0.3880) test (loss: 2.0530, f1 score: 0.4036)\n"
     ]
    },
    {
     "name": "stderr",
     "output_type": "stream",
     "text": [
      "100%|██████████| 284/284 [00:01<00:00, 191.28it/s, loss=1.1953025395509747]\n"
     ]
    },
    {
     "name": "stdout",
     "output_type": "stream",
     "text": [
      "Epoch 407 train (loss: 1.1953, f1 score: 0.4901) test (loss: 1.7090, f1 score: 0.3699)\n"
     ]
    },
    {
     "name": "stderr",
     "output_type": "stream",
     "text": [
      "100%|██████████| 284/284 [00:01<00:00, 177.63it/s, loss=0.9645436391444273]\n"
     ]
    },
    {
     "name": "stdout",
     "output_type": "stream",
     "text": [
      "Epoch 408 train (loss: 0.9645, f1 score: 0.5678) test (loss: 1.5484, f1 score: 0.4858)\n"
     ]
    },
    {
     "name": "stderr",
     "output_type": "stream",
     "text": [
      "100%|██████████| 284/284 [00:01<00:00, 190.92it/s, loss=0.7407705791812705]\n"
     ]
    },
    {
     "name": "stdout",
     "output_type": "stream",
     "text": [
      "Epoch 409 train (loss: 0.7408, f1 score: 0.6583) test (loss: 1.5506, f1 score: 0.4481)\n"
     ]
    },
    {
     "name": "stderr",
     "output_type": "stream",
     "text": [
      "100%|██████████| 284/284 [00:01<00:00, 210.98it/s, loss=0.7348769675632021]\n"
     ]
    },
    {
     "name": "stdout",
     "output_type": "stream",
     "text": [
      "Epoch 410 train (loss: 0.7349, f1 score: 0.7055) test (loss: 1.5816, f1 score: 0.4297)\n"
     ]
    },
    {
     "name": "stderr",
     "output_type": "stream",
     "text": [
      "100%|██████████| 284/284 [00:01<00:00, 200.21it/s, loss=0.6340806366167437]\n"
     ]
    },
    {
     "name": "stdout",
     "output_type": "stream",
     "text": [
      "Epoch 411 train (loss: 0.6341, f1 score: 0.7856) test (loss: 1.4697, f1 score: 0.5105)\n"
     ]
    },
    {
     "name": "stderr",
     "output_type": "stream",
     "text": [
      "100%|██████████| 284/284 [00:01<00:00, 199.84it/s, loss=0.5710882951971143]\n"
     ]
    },
    {
     "name": "stdout",
     "output_type": "stream",
     "text": [
      "Epoch 412 train (loss: 0.5711, f1 score: 0.8141) test (loss: 1.3977, f1 score: 0.5289)\n"
     ]
    },
    {
     "name": "stderr",
     "output_type": "stream",
     "text": [
      "100%|██████████| 284/284 [00:01<00:00, 175.66it/s, loss=0.49559586055734206]\n"
     ]
    },
    {
     "name": "stdout",
     "output_type": "stream",
     "text": [
      "Epoch 413 train (loss: 0.4956, f1 score: 0.8427) test (loss: 1.4871, f1 score: 0.5143)\n"
     ]
    },
    {
     "name": "stderr",
     "output_type": "stream",
     "text": [
      "100%|██████████| 284/284 [00:01<00:00, 177.17it/s, loss=0.5420664236487323]\n"
     ]
    },
    {
     "name": "stdout",
     "output_type": "stream",
     "text": [
      "Epoch 414 train (loss: 0.5421, f1 score: 0.8021) test (loss: 1.3782, f1 score: 0.5346)\n"
     ]
    },
    {
     "name": "stderr",
     "output_type": "stream",
     "text": [
      "100%|██████████| 284/284 [00:01<00:00, 183.34it/s, loss=0.4605125434381861] \n"
     ]
    },
    {
     "name": "stdout",
     "output_type": "stream",
     "text": [
      "Epoch 415 train (loss: 0.4605, f1 score: 0.8453) test (loss: 1.4916, f1 score: 0.5714)\n"
     ]
    },
    {
     "name": "stderr",
     "output_type": "stream",
     "text": [
      "100%|██████████| 284/284 [00:01<00:00, 234.58it/s, loss=0.3840618198540744] \n"
     ]
    },
    {
     "name": "stdout",
     "output_type": "stream",
     "text": [
      "Epoch 416 train (loss: 0.3841, f1 score: 0.8631) test (loss: 1.4377, f1 score: 0.5778)\n"
     ]
    },
    {
     "name": "stderr",
     "output_type": "stream",
     "text": [
      "100%|██████████| 284/284 [00:01<00:00, 179.01it/s, loss=0.36083042090365164]\n"
     ]
    },
    {
     "name": "stdout",
     "output_type": "stream",
     "text": [
      "Epoch 417 train (loss: 0.3608, f1 score: 0.8769) test (loss: 1.4412, f1 score: 0.6492)\n"
     ]
    },
    {
     "name": "stderr",
     "output_type": "stream",
     "text": [
      "100%|██████████| 284/284 [00:01<00:00, 201.68it/s, loss=0.6085565595126803]\n"
     ]
    },
    {
     "name": "stdout",
     "output_type": "stream",
     "text": [
      "Epoch 418 train (loss: 0.6086, f1 score: 0.7918) test (loss: 1.3809, f1 score: 0.5853)\n"
     ]
    },
    {
     "name": "stderr",
     "output_type": "stream",
     "text": [
      "100%|██████████| 284/284 [00:01<00:00, 208.39it/s, loss=0.38534077311354414]\n"
     ]
    },
    {
     "name": "stdout",
     "output_type": "stream",
     "text": [
      "Epoch 419 train (loss: 0.3853, f1 score: 0.8660) test (loss: 1.2449, f1 score: 0.5992)\n"
     ]
    },
    {
     "name": "stderr",
     "output_type": "stream",
     "text": [
      "100%|██████████| 284/284 [00:01<00:00, 206.11it/s, loss=0.2998115551480892] \n"
     ]
    },
    {
     "name": "stdout",
     "output_type": "stream",
     "text": [
      "Epoch 420 train (loss: 0.2998, f1 score: 0.9029) test (loss: 1.2846, f1 score: 0.6228)\n"
     ]
    },
    {
     "name": "stderr",
     "output_type": "stream",
     "text": [
      "100%|██████████| 284/284 [00:01<00:00, 189.56it/s, loss=0.2759913268997531] \n"
     ]
    },
    {
     "name": "stdout",
     "output_type": "stream",
     "text": [
      "Epoch 421 train (loss: 0.2760, f1 score: 0.9245) test (loss: 1.1306, f1 score: 0.6657)\n"
     ]
    },
    {
     "name": "stderr",
     "output_type": "stream",
     "text": [
      "100%|██████████| 284/284 [00:01<00:00, 200.43it/s, loss=0.29874050974334315]\n"
     ]
    },
    {
     "name": "stdout",
     "output_type": "stream",
     "text": [
      "Epoch 422 train (loss: 0.2987, f1 score: 0.9111) test (loss: 1.3179, f1 score: 0.5921)\n"
     ]
    },
    {
     "name": "stderr",
     "output_type": "stream",
     "text": [
      "100%|██████████| 284/284 [00:01<00:00, 190.30it/s, loss=0.5104002201286945] \n"
     ]
    },
    {
     "name": "stdout",
     "output_type": "stream",
     "text": [
      "Epoch 423 train (loss: 0.5104, f1 score: 0.8139) test (loss: 1.2325, f1 score: 0.5881)\n"
     ]
    },
    {
     "name": "stderr",
     "output_type": "stream",
     "text": [
      "100%|██████████| 284/284 [00:01<00:00, 190.57it/s, loss=0.4420061981974458] \n"
     ]
    },
    {
     "name": "stdout",
     "output_type": "stream",
     "text": [
      "Epoch 424 train (loss: 0.4420, f1 score: 0.8589) test (loss: 2.1266, f1 score: 0.3848)\n"
     ]
    },
    {
     "name": "stderr",
     "output_type": "stream",
     "text": [
      "100%|██████████| 284/284 [00:01<00:00, 205.31it/s, loss=0.36382947728024717]\n"
     ]
    },
    {
     "name": "stdout",
     "output_type": "stream",
     "text": [
      "Epoch 425 train (loss: 0.3638, f1 score: 0.8764) test (loss: 1.2731, f1 score: 0.5597)\n"
     ]
    },
    {
     "name": "stderr",
     "output_type": "stream",
     "text": [
      "100%|██████████| 284/284 [00:01<00:00, 207.50it/s, loss=0.24059648217607132]\n"
     ]
    },
    {
     "name": "stdout",
     "output_type": "stream",
     "text": [
      "Epoch 426 train (loss: 0.2406, f1 score: 0.9320) test (loss: 1.2115, f1 score: 0.5843)\n"
     ]
    },
    {
     "name": "stderr",
     "output_type": "stream",
     "text": [
      "100%|██████████| 284/284 [00:01<00:00, 216.24it/s, loss=0.2536861863689051] \n"
     ]
    },
    {
     "name": "stdout",
     "output_type": "stream",
     "text": [
      "Epoch 427 train (loss: 0.2537, f1 score: 0.9295) test (loss: 1.3185, f1 score: 0.5790)\n"
     ]
    },
    {
     "name": "stderr",
     "output_type": "stream",
     "text": [
      "100%|██████████| 284/284 [00:01<00:00, 229.10it/s, loss=0.3326909224286308] \n"
     ]
    },
    {
     "name": "stdout",
     "output_type": "stream",
     "text": [
      "Epoch 428 train (loss: 0.3327, f1 score: 0.8911) test (loss: 1.2969, f1 score: 0.6042)\n"
     ]
    },
    {
     "name": "stderr",
     "output_type": "stream",
     "text": [
      "100%|██████████| 284/284 [00:01<00:00, 196.45it/s, loss=0.2040649202593248] \n"
     ]
    },
    {
     "name": "stdout",
     "output_type": "stream",
     "text": [
      "Epoch 429 train (loss: 0.2041, f1 score: 0.9279) test (loss: 1.2728, f1 score: 0.5986)\n"
     ]
    },
    {
     "name": "stderr",
     "output_type": "stream",
     "text": [
      "100%|██████████| 284/284 [00:01<00:00, 198.72it/s, loss=0.14466107802622966]\n"
     ]
    },
    {
     "name": "stdout",
     "output_type": "stream",
     "text": [
      "Epoch 430 train (loss: 0.1447, f1 score: 0.9736) test (loss: 1.2624, f1 score: 0.6174)\n"
     ]
    },
    {
     "name": "stderr",
     "output_type": "stream",
     "text": [
      "100%|██████████| 284/284 [00:01<00:00, 191.00it/s, loss=0.17059519973544168]\n"
     ]
    },
    {
     "name": "stdout",
     "output_type": "stream",
     "text": [
      "Epoch 431 train (loss: 0.1706, f1 score: 0.9595) test (loss: 1.4167, f1 score: 0.6051)\n"
     ]
    },
    {
     "name": "stderr",
     "output_type": "stream",
     "text": [
      "100%|██████████| 284/284 [00:01<00:00, 215.40it/s, loss=0.5402071234740605] \n"
     ]
    },
    {
     "name": "stdout",
     "output_type": "stream",
     "text": [
      "Epoch 432 train (loss: 0.5402, f1 score: 0.8399) test (loss: 1.5894, f1 score: 0.4771)\n"
     ]
    },
    {
     "name": "stderr",
     "output_type": "stream",
     "text": [
      "100%|██████████| 284/284 [00:01<00:00, 198.45it/s, loss=0.34231329902442514]\n"
     ]
    },
    {
     "name": "stdout",
     "output_type": "stream",
     "text": [
      "Epoch 433 train (loss: 0.3423, f1 score: 0.8942) test (loss: 1.3362, f1 score: 0.5888)\n"
     ]
    },
    {
     "name": "stderr",
     "output_type": "stream",
     "text": [
      "100%|██████████| 284/284 [00:01<00:00, 228.00it/s, loss=0.2038050942798473] \n"
     ]
    },
    {
     "name": "stdout",
     "output_type": "stream",
     "text": [
      "Epoch 434 train (loss: 0.2038, f1 score: 0.9479) test (loss: 1.3320, f1 score: 0.6206)\n"
     ]
    },
    {
     "name": "stderr",
     "output_type": "stream",
     "text": [
      "100%|██████████| 284/284 [00:01<00:00, 198.80it/s, loss=0.21509816485594854]\n"
     ]
    },
    {
     "name": "stdout",
     "output_type": "stream",
     "text": [
      "Epoch 435 train (loss: 0.2151, f1 score: 0.9340) test (loss: 1.4147, f1 score: 0.6073)\n"
     ]
    },
    {
     "name": "stderr",
     "output_type": "stream",
     "text": [
      "100%|██████████| 284/284 [00:01<00:00, 193.51it/s, loss=0.4432573307118654] \n"
     ]
    },
    {
     "name": "stdout",
     "output_type": "stream",
     "text": [
      "Epoch 436 train (loss: 0.4433, f1 score: 0.8465) test (loss: 1.2981, f1 score: 0.6228)\n"
     ]
    },
    {
     "name": "stderr",
     "output_type": "stream",
     "text": [
      "100%|██████████| 284/284 [00:01<00:00, 192.23it/s, loss=0.35899371714134454]\n"
     ]
    },
    {
     "name": "stdout",
     "output_type": "stream",
     "text": [
      "Epoch 437 train (loss: 0.3590, f1 score: 0.8654) test (loss: 1.5900, f1 score: 0.4704)\n"
     ]
    },
    {
     "name": "stderr",
     "output_type": "stream",
     "text": [
      "100%|██████████| 284/284 [00:01<00:00, 186.55it/s, loss=0.30255649937316775]\n"
     ]
    },
    {
     "name": "stdout",
     "output_type": "stream",
     "text": [
      "Epoch 438 train (loss: 0.3026, f1 score: 0.8874) test (loss: 1.2902, f1 score: 0.6204)\n"
     ]
    },
    {
     "name": "stderr",
     "output_type": "stream",
     "text": [
      "100%|██████████| 284/284 [00:01<00:00, 183.67it/s, loss=0.19600394500655607]\n"
     ]
    },
    {
     "name": "stdout",
     "output_type": "stream",
     "text": [
      "Epoch 439 train (loss: 0.1960, f1 score: 0.9509) test (loss: 1.1795, f1 score: 0.6095)\n"
     ]
    },
    {
     "name": "stderr",
     "output_type": "stream",
     "text": [
      "100%|██████████| 284/284 [00:01<00:00, 189.87it/s, loss=0.12653013868880472]\n"
     ]
    },
    {
     "name": "stdout",
     "output_type": "stream",
     "text": [
      "Epoch 440 train (loss: 0.1265, f1 score: 0.9755) test (loss: 1.2433, f1 score: 0.6226)\n"
     ]
    },
    {
     "name": "stderr",
     "output_type": "stream",
     "text": [
      "100%|██████████| 284/284 [00:01<00:00, 184.02it/s, loss=0.3770472243638106] \n"
     ]
    },
    {
     "name": "stdout",
     "output_type": "stream",
     "text": [
      "Epoch 441 train (loss: 0.3770, f1 score: 0.8637) test (loss: 1.6125, f1 score: 0.5535)\n"
     ]
    },
    {
     "name": "stderr",
     "output_type": "stream",
     "text": [
      "100%|██████████| 284/284 [00:01<00:00, 193.60it/s, loss=0.1509639673151443] \n"
     ]
    },
    {
     "name": "stdout",
     "output_type": "stream",
     "text": [
      "Epoch 442 train (loss: 0.1510, f1 score: 0.9598) test (loss: 1.5232, f1 score: 0.5377)\n"
     ]
    },
    {
     "name": "stderr",
     "output_type": "stream",
     "text": [
      "100%|██████████| 284/284 [00:01<00:00, 184.93it/s, loss=0.12289768168178032]\n"
     ]
    },
    {
     "name": "stdout",
     "output_type": "stream",
     "text": [
      "Epoch 443 train (loss: 0.1229, f1 score: 0.9636) test (loss: 1.1919, f1 score: 0.6178)\n"
     ]
    },
    {
     "name": "stderr",
     "output_type": "stream",
     "text": [
      "100%|██████████| 284/284 [00:01<00:00, 186.70it/s, loss=0.17152373205286672] \n"
     ]
    },
    {
     "name": "stdout",
     "output_type": "stream",
     "text": [
      "Epoch 444 train (loss: 0.1715, f1 score: 0.9743) test (loss: 1.4002, f1 score: 0.6001)\n"
     ]
    },
    {
     "name": "stderr",
     "output_type": "stream",
     "text": [
      "100%|██████████| 284/284 [00:01<00:00, 184.61it/s, loss=0.1297644324999132] \n"
     ]
    },
    {
     "name": "stdout",
     "output_type": "stream",
     "text": [
      "Epoch 445 train (loss: 0.1298, f1 score: 0.9738) test (loss: 1.1664, f1 score: 0.6245)\n"
     ]
    },
    {
     "name": "stderr",
     "output_type": "stream",
     "text": [
      "100%|██████████| 284/284 [00:01<00:00, 175.53it/s, loss=0.2557962839639234] \n"
     ]
    },
    {
     "name": "stdout",
     "output_type": "stream",
     "text": [
      "Epoch 446 train (loss: 0.2558, f1 score: 0.8972) test (loss: 1.4031, f1 score: 0.5874)\n"
     ]
    },
    {
     "name": "stderr",
     "output_type": "stream",
     "text": [
      "100%|██████████| 284/284 [00:01<00:00, 184.70it/s, loss=0.3535563078968012] \n"
     ]
    },
    {
     "name": "stdout",
     "output_type": "stream",
     "text": [
      "Epoch 447 train (loss: 0.3536, f1 score: 0.8907) test (loss: 1.1942, f1 score: 0.5777)\n"
     ]
    },
    {
     "name": "stderr",
     "output_type": "stream",
     "text": [
      "100%|██████████| 284/284 [00:01<00:00, 174.25it/s, loss=0.19230420481164376]\n"
     ]
    },
    {
     "name": "stdout",
     "output_type": "stream",
     "text": [
      "Epoch 448 train (loss: 0.1923, f1 score: 0.9334) test (loss: 1.4210, f1 score: 0.5976)\n"
     ]
    },
    {
     "name": "stderr",
     "output_type": "stream",
     "text": [
      "100%|██████████| 284/284 [00:01<00:00, 197.65it/s, loss=0.2150006597684565] \n"
     ]
    },
    {
     "name": "stdout",
     "output_type": "stream",
     "text": [
      "Epoch 449 train (loss: 0.2150, f1 score: 0.9292) test (loss: 1.5581, f1 score: 0.5149)\n"
     ]
    },
    {
     "name": "stderr",
     "output_type": "stream",
     "text": [
      "100%|██████████| 284/284 [00:01<00:00, 169.52it/s, loss=0.1888153189071782] \n"
     ]
    },
    {
     "name": "stdout",
     "output_type": "stream",
     "text": [
      "Epoch 450 train (loss: 0.1888, f1 score: 0.9359) test (loss: 1.4200, f1 score: 0.6176)\n"
     ]
    },
    {
     "name": "stderr",
     "output_type": "stream",
     "text": [
      "100%|██████████| 284/284 [00:01<00:00, 186.68it/s, loss=0.19330136465649841]\n"
     ]
    },
    {
     "name": "stdout",
     "output_type": "stream",
     "text": [
      "Epoch 451 train (loss: 0.1933, f1 score: 0.9345) test (loss: 1.0936, f1 score: 0.6627)\n"
     ]
    },
    {
     "name": "stderr",
     "output_type": "stream",
     "text": [
      "100%|██████████| 284/284 [00:01<00:00, 187.35it/s, loss=0.15876827258075601]\n"
     ]
    },
    {
     "name": "stdout",
     "output_type": "stream",
     "text": [
      "Epoch 452 train (loss: 0.1588, f1 score: 0.9604) test (loss: 1.0976, f1 score: 0.6263)\n"
     ]
    },
    {
     "name": "stderr",
     "output_type": "stream",
     "text": [
      "100%|██████████| 284/284 [00:01<00:00, 185.37it/s, loss=0.0912444512359798] \n"
     ]
    },
    {
     "name": "stdout",
     "output_type": "stream",
     "text": [
      "Epoch 453 train (loss: 0.0912, f1 score: 0.9749) test (loss: 1.0360, f1 score: 0.6800)\n"
     ]
    },
    {
     "name": "stderr",
     "output_type": "stream",
     "text": [
      "100%|██████████| 284/284 [00:01<00:00, 176.49it/s, loss=0.11876068733678474]\n"
     ]
    },
    {
     "name": "stdout",
     "output_type": "stream",
     "text": [
      "Epoch 454 train (loss: 0.1188, f1 score: 0.9553) test (loss: 1.3092, f1 score: 0.6833)\n"
     ]
    },
    {
     "name": "stderr",
     "output_type": "stream",
     "text": [
      "100%|██████████| 284/284 [00:01<00:00, 189.03it/s, loss=0.09194238326007265]\n"
     ]
    },
    {
     "name": "stdout",
     "output_type": "stream",
     "text": [
      "Epoch 455 train (loss: 0.0919, f1 score: 0.9612) test (loss: 1.2197, f1 score: 0.6851)\n"
     ]
    },
    {
     "name": "stderr",
     "output_type": "stream",
     "text": [
      "100%|██████████| 284/284 [00:01<00:00, 180.55it/s, loss=0.06829259560679571]\n"
     ]
    },
    {
     "name": "stdout",
     "output_type": "stream",
     "text": [
      "Epoch 456 train (loss: 0.0683, f1 score: 0.9847) test (loss: 1.3830, f1 score: 0.6029)\n"
     ]
    },
    {
     "name": "stderr",
     "output_type": "stream",
     "text": [
      "100%|██████████| 284/284 [00:01<00:00, 180.99it/s, loss=0.09057483377023666] \n"
     ]
    },
    {
     "name": "stdout",
     "output_type": "stream",
     "text": [
      "Epoch 457 train (loss: 0.0906, f1 score: 0.9864) test (loss: 2.3914, f1 score: 0.4588)\n"
     ]
    },
    {
     "name": "stderr",
     "output_type": "stream",
     "text": [
      "100%|██████████| 284/284 [00:01<00:00, 190.90it/s, loss=0.45338934301693834]\n"
     ]
    },
    {
     "name": "stdout",
     "output_type": "stream",
     "text": [
      "Epoch 458 train (loss: 0.4534, f1 score: 0.8678) test (loss: 1.4327, f1 score: 0.5831)\n"
     ]
    },
    {
     "name": "stderr",
     "output_type": "stream",
     "text": [
      "100%|██████████| 284/284 [00:01<00:00, 175.78it/s, loss=0.12846609064653305]\n"
     ]
    },
    {
     "name": "stdout",
     "output_type": "stream",
     "text": [
      "Epoch 459 train (loss: 0.1285, f1 score: 0.9532) test (loss: 1.4109, f1 score: 0.5779)\n"
     ]
    },
    {
     "name": "stderr",
     "output_type": "stream",
     "text": [
      "100%|██████████| 284/284 [00:01<00:00, 198.88it/s, loss=0.14230842568377086]\n"
     ]
    },
    {
     "name": "stdout",
     "output_type": "stream",
     "text": [
      "Epoch 460 train (loss: 0.1423, f1 score: 0.9533) test (loss: 1.3626, f1 score: 0.5900)\n"
     ]
    },
    {
     "name": "stderr",
     "output_type": "stream",
     "text": [
      "100%|██████████| 284/284 [00:01<00:00, 191.68it/s, loss=0.16241512781018916]\n"
     ]
    },
    {
     "name": "stdout",
     "output_type": "stream",
     "text": [
      "Epoch 461 train (loss: 0.1624, f1 score: 0.9498) test (loss: 1.8458, f1 score: 0.5425)\n"
     ]
    },
    {
     "name": "stderr",
     "output_type": "stream",
     "text": [
      "100%|██████████| 284/284 [00:01<00:00, 204.69it/s, loss=0.24498131413842408]\n"
     ]
    },
    {
     "name": "stdout",
     "output_type": "stream",
     "text": [
      "Epoch 462 train (loss: 0.2450, f1 score: 0.9332) test (loss: 1.9019, f1 score: 0.5523)\n"
     ]
    },
    {
     "name": "stderr",
     "output_type": "stream",
     "text": [
      "100%|██████████| 284/284 [00:01<00:00, 186.71it/s, loss=0.27999877215044994]\n"
     ]
    },
    {
     "name": "stdout",
     "output_type": "stream",
     "text": [
      "Epoch 463 train (loss: 0.2800, f1 score: 0.9009) test (loss: 1.4333, f1 score: 0.6096)\n"
     ]
    },
    {
     "name": "stderr",
     "output_type": "stream",
     "text": [
      "100%|██████████| 284/284 [00:01<00:00, 187.78it/s, loss=0.07801013696499326]\n"
     ]
    },
    {
     "name": "stdout",
     "output_type": "stream",
     "text": [
      "Epoch 464 train (loss: 0.0780, f1 score: 0.9885) test (loss: 1.3392, f1 score: 0.6156)\n"
     ]
    },
    {
     "name": "stderr",
     "output_type": "stream",
     "text": [
      "100%|██████████| 284/284 [00:01<00:00, 195.42it/s, loss=0.04751289923327752] \n"
     ]
    },
    {
     "name": "stdout",
     "output_type": "stream",
     "text": [
      "Epoch 465 train (loss: 0.0475, f1 score: 0.9972) test (loss: 1.3571, f1 score: 0.5955)\n"
     ]
    },
    {
     "name": "stderr",
     "output_type": "stream",
     "text": [
      "100%|██████████| 284/284 [00:01<00:00, 189.62it/s, loss=0.038094996844424904]\n"
     ]
    },
    {
     "name": "stdout",
     "output_type": "stream",
     "text": [
      "Epoch 466 train (loss: 0.0381, f1 score: 1.0000) test (loss: 1.3573, f1 score: 0.6161)\n"
     ]
    },
    {
     "name": "stderr",
     "output_type": "stream",
     "text": [
      "100%|██████████| 284/284 [00:01<00:00, 177.94it/s, loss=0.03382569689198699] \n"
     ]
    },
    {
     "name": "stdout",
     "output_type": "stream",
     "text": [
      "Epoch 467 train (loss: 0.0338, f1 score: 0.9972) test (loss: 1.3591, f1 score: 0.6054)\n"
     ]
    },
    {
     "name": "stderr",
     "output_type": "stream",
     "text": [
      "100%|██████████| 284/284 [00:01<00:00, 184.07it/s, loss=0.030035001852116744]\n"
     ]
    },
    {
     "name": "stdout",
     "output_type": "stream",
     "text": [
      "Epoch 468 train (loss: 0.0300, f1 score: 1.0000) test (loss: 1.3526, f1 score: 0.6007)\n"
     ]
    },
    {
     "name": "stderr",
     "output_type": "stream",
     "text": [
      "100%|██████████| 284/284 [00:01<00:00, 185.66it/s, loss=0.027745792911548665]\n"
     ]
    },
    {
     "name": "stdout",
     "output_type": "stream",
     "text": [
      "Epoch 469 train (loss: 0.0277, f1 score: 1.0000) test (loss: 1.3572, f1 score: 0.6007)\n"
     ]
    },
    {
     "name": "stderr",
     "output_type": "stream",
     "text": [
      "100%|██████████| 284/284 [00:01<00:00, 188.91it/s, loss=0.029081400246097063]\n"
     ]
    },
    {
     "name": "stdout",
     "output_type": "stream",
     "text": [
      "Epoch 470 train (loss: 0.0291, f1 score: 1.0000) test (loss: 1.4200, f1 score: 0.5839)\n"
     ]
    },
    {
     "name": "stderr",
     "output_type": "stream",
     "text": [
      "100%|██████████| 284/284 [00:01<00:00, 192.28it/s, loss=0.10181250991578489] \n"
     ]
    },
    {
     "name": "stdout",
     "output_type": "stream",
     "text": [
      "Epoch 471 train (loss: 0.1018, f1 score: 0.9669) test (loss: 2.0625, f1 score: 0.5834)\n"
     ]
    },
    {
     "name": "stderr",
     "output_type": "stream",
     "text": [
      "100%|██████████| 284/284 [00:01<00:00, 195.15it/s, loss=1.0387186971648832] \n"
     ]
    },
    {
     "name": "stdout",
     "output_type": "stream",
     "text": [
      "Epoch 472 train (loss: 1.0387, f1 score: 0.7387) test (loss: 1.8411, f1 score: 0.4939)\n"
     ]
    },
    {
     "name": "stderr",
     "output_type": "stream",
     "text": [
      "100%|██████████| 284/284 [00:01<00:00, 171.76it/s, loss=0.468233512102095]  \n"
     ]
    },
    {
     "name": "stdout",
     "output_type": "stream",
     "text": [
      "Epoch 473 train (loss: 0.4682, f1 score: 0.8459) test (loss: 1.5785, f1 score: 0.5042)\n"
     ]
    },
    {
     "name": "stderr",
     "output_type": "stream",
     "text": [
      "100%|██████████| 284/284 [00:01<00:00, 195.12it/s, loss=0.11585472172788594]\n"
     ]
    },
    {
     "name": "stdout",
     "output_type": "stream",
     "text": [
      "Epoch 474 train (loss: 0.1159, f1 score: 0.9729) test (loss: 1.3378, f1 score: 0.6088)\n"
     ]
    },
    {
     "name": "stderr",
     "output_type": "stream",
     "text": [
      "100%|██████████| 284/284 [00:01<00:00, 177.06it/s, loss=0.08226469608964923]\n"
     ]
    },
    {
     "name": "stdout",
     "output_type": "stream",
     "text": [
      "Epoch 475 train (loss: 0.0823, f1 score: 0.9862) test (loss: 1.2808, f1 score: 0.6644)\n"
     ]
    },
    {
     "name": "stderr",
     "output_type": "stream",
     "text": [
      "100%|██████████| 284/284 [00:01<00:00, 191.00it/s, loss=0.06019412210821108] \n"
     ]
    },
    {
     "name": "stdout",
     "output_type": "stream",
     "text": [
      "Epoch 476 train (loss: 0.0602, f1 score: 0.9934) test (loss: 1.3815, f1 score: 0.5547)\n"
     ]
    },
    {
     "name": "stderr",
     "output_type": "stream",
     "text": [
      "100%|██████████| 284/284 [00:01<00:00, 195.51it/s, loss=0.23903824305768506] \n"
     ]
    },
    {
     "name": "stdout",
     "output_type": "stream",
     "text": [
      "Epoch 477 train (loss: 0.2390, f1 score: 0.9381) test (loss: 1.6355, f1 score: 0.4828)\n"
     ]
    },
    {
     "name": "stderr",
     "output_type": "stream",
     "text": [
      "100%|██████████| 284/284 [00:01<00:00, 210.12it/s, loss=0.21565644443690987]\n"
     ]
    },
    {
     "name": "stdout",
     "output_type": "stream",
     "text": [
      "Epoch 478 train (loss: 0.2157, f1 score: 0.9202) test (loss: 1.5986, f1 score: 0.5721)\n"
     ]
    },
    {
     "name": "stderr",
     "output_type": "stream",
     "text": [
      "100%|██████████| 284/284 [00:01<00:00, 219.76it/s, loss=0.06659462186589864]\n"
     ]
    },
    {
     "name": "stdout",
     "output_type": "stream",
     "text": [
      "Epoch 479 train (loss: 0.0666, f1 score: 0.9822) test (loss: 1.3788, f1 score: 0.6084)\n"
     ]
    },
    {
     "name": "stderr",
     "output_type": "stream",
     "text": [
      "100%|██████████| 284/284 [00:01<00:00, 217.68it/s, loss=0.037090350887705376]\n"
     ]
    },
    {
     "name": "stdout",
     "output_type": "stream",
     "text": [
      "Epoch 480 train (loss: 0.0371, f1 score: 1.0000) test (loss: 1.3105, f1 score: 0.6225)\n"
     ]
    },
    {
     "name": "stderr",
     "output_type": "stream",
     "text": [
      "100%|██████████| 284/284 [00:01<00:00, 203.72it/s, loss=0.030765758028817952]\n"
     ]
    },
    {
     "name": "stdout",
     "output_type": "stream",
     "text": [
      "Epoch 481 train (loss: 0.0308, f1 score: 1.0000) test (loss: 1.3295, f1 score: 0.6055)\n"
     ]
    },
    {
     "name": "stderr",
     "output_type": "stream",
     "text": [
      "100%|██████████| 284/284 [00:01<00:00, 208.62it/s, loss=0.028433371484476392]\n"
     ]
    },
    {
     "name": "stdout",
     "output_type": "stream",
     "text": [
      "Epoch 482 train (loss: 0.0284, f1 score: 1.0000) test (loss: 1.3067, f1 score: 0.6251)\n"
     ]
    },
    {
     "name": "stderr",
     "output_type": "stream",
     "text": [
      "100%|██████████| 284/284 [00:01<00:00, 219.24it/s, loss=0.025199756245161603]\n"
     ]
    },
    {
     "name": "stdout",
     "output_type": "stream",
     "text": [
      "Epoch 483 train (loss: 0.0252, f1 score: 1.0000) test (loss: 1.2826, f1 score: 0.6096)\n"
     ]
    },
    {
     "name": "stderr",
     "output_type": "stream",
     "text": [
      "100%|██████████| 284/284 [00:01<00:00, 233.58it/s, loss=0.02290922752745502] \n"
     ]
    },
    {
     "name": "stdout",
     "output_type": "stream",
     "text": [
      "Epoch 484 train (loss: 0.0229, f1 score: 1.0000) test (loss: 1.2825, f1 score: 0.5956)\n"
     ]
    },
    {
     "name": "stderr",
     "output_type": "stream",
     "text": [
      "100%|██████████| 284/284 [00:01<00:00, 211.29it/s, loss=0.021587649115580986]\n"
     ]
    },
    {
     "name": "stdout",
     "output_type": "stream",
     "text": [
      "Epoch 485 train (loss: 0.0216, f1 score: 1.0000) test (loss: 1.3237, f1 score: 0.5854)\n"
     ]
    },
    {
     "name": "stderr",
     "output_type": "stream",
     "text": [
      "100%|██████████| 284/284 [00:01<00:00, 227.66it/s, loss=0.019802192734344533]\n"
     ]
    },
    {
     "name": "stdout",
     "output_type": "stream",
     "text": [
      "Epoch 486 train (loss: 0.0198, f1 score: 1.0000) test (loss: 1.3466, f1 score: 0.6112)\n"
     ]
    },
    {
     "name": "stderr",
     "output_type": "stream",
     "text": [
      "100%|██████████| 284/284 [00:01<00:00, 197.61it/s, loss=0.018713944878930907]\n"
     ]
    },
    {
     "name": "stdout",
     "output_type": "stream",
     "text": [
      "Epoch 487 train (loss: 0.0187, f1 score: 1.0000) test (loss: 1.3368, f1 score: 0.6080)\n"
     ]
    },
    {
     "name": "stderr",
     "output_type": "stream",
     "text": [
      "100%|██████████| 284/284 [00:01<00:00, 218.27it/s, loss=0.017217617402833715]\n"
     ]
    },
    {
     "name": "stdout",
     "output_type": "stream",
     "text": [
      "Epoch 488 train (loss: 0.0172, f1 score: 1.0000) test (loss: 1.3409, f1 score: 0.6018)\n"
     ]
    },
    {
     "name": "stderr",
     "output_type": "stream",
     "text": [
      "100%|██████████| 284/284 [00:01<00:00, 217.75it/s, loss=0.015952796338726177]\n"
     ]
    },
    {
     "name": "stdout",
     "output_type": "stream",
     "text": [
      "Epoch 489 train (loss: 0.0160, f1 score: 1.0000) test (loss: 1.3327, f1 score: 0.6112)\n"
     ]
    },
    {
     "name": "stderr",
     "output_type": "stream",
     "text": [
      "100%|██████████| 284/284 [00:01<00:00, 198.67it/s, loss=0.015351899903641462]\n"
     ]
    },
    {
     "name": "stdout",
     "output_type": "stream",
     "text": [
      "Epoch 490 train (loss: 0.0154, f1 score: 0.9972) test (loss: 1.3075, f1 score: 0.6363)\n"
     ]
    },
    {
     "name": "stderr",
     "output_type": "stream",
     "text": [
      "100%|██████████| 284/284 [00:01<00:00, 184.57it/s, loss=0.8068658888858946] \n"
     ]
    },
    {
     "name": "stdout",
     "output_type": "stream",
     "text": [
      "Epoch 491 train (loss: 0.8069, f1 score: 0.7775) test (loss: 1.9310, f1 score: 0.4980)\n"
     ]
    },
    {
     "name": "stderr",
     "output_type": "stream",
     "text": [
      "100%|██████████| 284/284 [00:01<00:00, 210.58it/s, loss=0.3401679841274376] \n"
     ]
    },
    {
     "name": "stdout",
     "output_type": "stream",
     "text": [
      "Epoch 492 train (loss: 0.3402, f1 score: 0.8729) test (loss: 1.4402, f1 score: 0.6553)\n"
     ]
    },
    {
     "name": "stderr",
     "output_type": "stream",
     "text": [
      "100%|██████████| 284/284 [00:01<00:00, 198.21it/s, loss=0.12343430140344294]\n"
     ]
    },
    {
     "name": "stdout",
     "output_type": "stream",
     "text": [
      "Epoch 493 train (loss: 0.1234, f1 score: 0.9614) test (loss: 1.4703, f1 score: 0.6592)\n"
     ]
    },
    {
     "name": "stderr",
     "output_type": "stream",
     "text": [
      "100%|██████████| 284/284 [00:01<00:00, 208.56it/s, loss=0.06556893789256975]\n"
     ]
    },
    {
     "name": "stdout",
     "output_type": "stream",
     "text": [
      "Epoch 494 train (loss: 0.0656, f1 score: 0.9694) test (loss: 1.4143, f1 score: 0.6767)\n"
     ]
    },
    {
     "name": "stderr",
     "output_type": "stream",
     "text": [
      "100%|██████████| 284/284 [00:01<00:00, 204.33it/s, loss=0.03561660276215956] \n"
     ]
    },
    {
     "name": "stdout",
     "output_type": "stream",
     "text": [
      "Epoch 495 train (loss: 0.0356, f1 score: 1.0000) test (loss: 1.4944, f1 score: 0.6231)\n"
     ]
    },
    {
     "name": "stderr",
     "output_type": "stream",
     "text": [
      "100%|██████████| 284/284 [00:01<00:00, 199.08it/s, loss=0.03020045400923446] \n"
     ]
    },
    {
     "name": "stdout",
     "output_type": "stream",
     "text": [
      "Epoch 496 train (loss: 0.0302, f1 score: 1.0000) test (loss: 1.5117, f1 score: 0.6606)\n"
     ]
    },
    {
     "name": "stderr",
     "output_type": "stream",
     "text": [
      "100%|██████████| 284/284 [00:01<00:00, 202.90it/s, loss=0.06648494903093309] \n"
     ]
    },
    {
     "name": "stdout",
     "output_type": "stream",
     "text": [
      "Epoch 497 train (loss: 0.0665, f1 score: 0.9862) test (loss: 1.3973, f1 score: 0.6744)\n"
     ]
    },
    {
     "name": "stderr",
     "output_type": "stream",
     "text": [
      "100%|██████████| 284/284 [00:01<00:00, 214.18it/s, loss=0.12034305243205252]\n"
     ]
    },
    {
     "name": "stdout",
     "output_type": "stream",
     "text": [
      "Epoch 498 train (loss: 0.1203, f1 score: 0.9587) test (loss: 1.3674, f1 score: 0.6646)\n"
     ]
    },
    {
     "name": "stderr",
     "output_type": "stream",
     "text": [
      "100%|██████████| 284/284 [00:01<00:00, 204.70it/s, loss=0.22562646346525814]\n"
     ]
    },
    {
     "name": "stdout",
     "output_type": "stream",
     "text": [
      "Epoch 499 train (loss: 0.2256, f1 score: 0.9366) test (loss: 1.3848, f1 score: 0.6539)\n"
     ]
    },
    {
     "name": "stderr",
     "output_type": "stream",
     "text": [
      "100%|██████████| 284/284 [00:01<00:00, 191.86it/s, loss=0.07731092912571269]\n"
     ]
    },
    {
     "name": "stdout",
     "output_type": "stream",
     "text": [
      "Epoch 500 train (loss: 0.0773, f1 score: 0.9788) test (loss: 1.3661, f1 score: 0.6675)\n"
     ]
    }
   ],
   "source": [
    "history = train_model(model, 500, criterion, optimizer, ckpt_path='models/simple_lstm/best.pt')"
   ]
  },
  {
   "cell_type": "code",
   "execution_count": 69,
   "metadata": {},
   "outputs": [
    {
     "name": "stdout",
     "output_type": "stream",
     "text": [
      "Best F1 score: 0.7433505205951026\n"
     ]
    }
   ],
   "source": [
    "print(f\"Best F1 score: {max(history['test_scores'])}\")"
   ]
  },
  {
   "cell_type": "markdown",
   "metadata": {},
   "source": [
    "# Results visualization"
   ]
  },
  {
   "cell_type": "code",
   "execution_count": 70,
   "metadata": {},
   "outputs": [],
   "source": [
    "from matplotlib import pyplot as plt"
   ]
  },
  {
   "cell_type": "code",
   "execution_count": 71,
   "metadata": {},
   "outputs": [
    {
     "data": {
      "image/png": "[encoded data removed]",
      "text/plain": [
       "<Figure size 640x480 with 1 Axes>"
      ]
     },
     "metadata": {},
     "output_type": "display_data"
    }
   ],
   "source": [
    "plt.plot(history['train_losses'], label='Train Loss')\n",
    "plt.plot(history['test_losses'], label='Test Loss')\n",
    "plt.title(\"Losses\")\n",
    "plt.legend()\n",
    "plt.show()"
   ]
  },
  {
   "cell_type": "code",
   "execution_count": 72,
   "metadata": {},
   "outputs": [
    {
     "data": {
      "image/png": "[encoded data removed]",
      "text/plain": [
       "<Figure size 640x480 with 1 Axes>"
      ]
     },
     "metadata": {},
     "output_type": "display_data"
    }
   ],
   "source": [
    "plt.plot(history['train_scores'], label=\"Train F1\")\n",
    "plt.plot(history['test_scores'], label=\"Test F1\")\n",
    "plt.title(\"Scores\")\n",
    "plt.legend()\n",
    "plt.show()"
   ]
  }
 ],
 "metadata": {
  "colab": {
   "provenance": []
  },
  "kernelspec": {
   "display_name": "Python 3 (ipykernel)",
   "language": "python",
   "name": "python3"
  },
  "language_info": {
   "codemirror_mode": {
    "name": "ipython",
    "version": 3
   },
   "file_extension": ".py",
   "mimetype": "text/x-python",
   "name": "python",
   "nbconvert_exporter": "python",
   "pygments_lexer": "ipython3",
   "version": "3.9.18"
  }
 },
 "nbformat": 4,
 "nbformat_minor": 4
}
