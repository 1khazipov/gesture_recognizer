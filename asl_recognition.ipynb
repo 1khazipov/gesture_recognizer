{
 "cells": [
  {
   "cell_type": "markdown",
   "metadata": {},
   "source": [
    "## Device Stuff"
   ]
  },
  {
   "cell_type": "code",
   "execution_count": 100,
   "metadata": {},
   "outputs": [
    {
     "name": "stdout",
     "output_type": "stream",
     "text": [
      "cuda\n"
     ]
    }
   ],
   "source": [
    "import torch\n",
    "\n",
    "#Set up device\n",
    "use_cuda = torch.cuda.is_available()\n",
    "device = torch.device(\"cuda\" if use_cuda else \"cpu\")\n",
    "print(device)"
   ]
  },
  {
   "cell_type": "markdown",
   "metadata": {},
   "source": [
    "## Dataset"
   ]
  },
  {
   "cell_type": "code",
   "execution_count": 101,
   "metadata": {},
   "outputs": [],
   "source": [
    "import os\n",
    "from pathlib import Path\n",
    "import torch\n",
    "import numpy as np\n",
    "import pandas as pd\n",
    "from torch.utils.data import Dataset, DataLoader"
   ]
  },
  {
   "cell_type": "code",
   "execution_count": 102,
   "metadata": {},
   "outputs": [],
   "source": [
    "from utils import get_classes_indexes"
   ]
  },
  {
   "cell_type": "code",
   "execution_count": 103,
   "metadata": {},
   "outputs": [
    {
     "data": {
      "text/html": [
       "<div>\n",
       "<style scoped>\n",
       "    .dataframe tbody tr th:only-of-type {\n",
       "        vertical-align: middle;\n",
       "    }\n",
       "\n",
       "    .dataframe tbody tr th {\n",
       "        vertical-align: top;\n",
       "    }\n",
       "\n",
       "    .dataframe thead th {\n",
       "        text-align: right;\n",
       "    }\n",
       "</style>\n",
       "<table border=\"1\" class=\"dataframe\">\n",
       "  <thead>\n",
       "    <tr style=\"text-align: right;\">\n",
       "      <th></th>\n",
       "      <th>video_name</th>\n",
       "      <th>class_id</th>\n",
       "      <th>class_name</th>\n",
       "    </tr>\n",
       "  </thead>\n",
       "  <tbody>\n",
       "    <tr>\n",
       "      <th>43</th>\n",
       "      <td>06787</td>\n",
       "      <td>1636</td>\n",
       "      <td>blow</td>\n",
       "    </tr>\n",
       "    <tr>\n",
       "      <th>16</th>\n",
       "      <td>WIN_20231127_00_27_20_Pro</td>\n",
       "      <td>632</td>\n",
       "      <td>airplane</td>\n",
       "    </tr>\n",
       "    <tr>\n",
       "      <th>300</th>\n",
       "      <td>WIN_20231127_20_21_15_Pro</td>\n",
       "      <td>1999</td>\n",
       "      <td>whistle</td>\n",
       "    </tr>\n",
       "    <tr>\n",
       "      <th>13</th>\n",
       "      <td>WIN_20231127_00_27_05_Pro</td>\n",
       "      <td>632</td>\n",
       "      <td>airplane</td>\n",
       "    </tr>\n",
       "    <tr>\n",
       "      <th>131</th>\n",
       "      <td>WIN_20231127_19_39_47_Pro</td>\n",
       "      <td>159</td>\n",
       "      <td>know</td>\n",
       "    </tr>\n",
       "    <tr>\n",
       "      <th>201</th>\n",
       "      <td>WIN_20231127_20_10_29_Pro</td>\n",
       "      <td>1164</td>\n",
       "      <td>me</td>\n",
       "    </tr>\n",
       "    <tr>\n",
       "      <th>321</th>\n",
       "      <td>WIN_20231127_20_24_47_Pro</td>\n",
       "      <td>179</td>\n",
       "      <td>you</td>\n",
       "    </tr>\n",
       "    <tr>\n",
       "      <th>40</th>\n",
       "      <td>WIN_20231127_19_29_18_Pro</td>\n",
       "      <td>259</td>\n",
       "      <td>baby</td>\n",
       "    </tr>\n",
       "    <tr>\n",
       "      <th>231</th>\n",
       "      <td>69404</td>\n",
       "      <td>566</td>\n",
       "      <td>my</td>\n",
       "    </tr>\n",
       "    <tr>\n",
       "      <th>61</th>\n",
       "      <td>WIN_20231127_19_33_47_Pro</td>\n",
       "      <td>1636</td>\n",
       "      <td>blow</td>\n",
       "    </tr>\n",
       "    <tr>\n",
       "      <th>341</th>\n",
       "      <td>WIN_20231127_20_26_43_Pro</td>\n",
       "      <td>179</td>\n",
       "      <td>you</td>\n",
       "    </tr>\n",
       "    <tr>\n",
       "      <th>208</th>\n",
       "      <td>WIN_20231127_20_11_10_Pro</td>\n",
       "      <td>1164</td>\n",
       "      <td>me</td>\n",
       "    </tr>\n",
       "    <tr>\n",
       "      <th>257</th>\n",
       "      <td>WIN_20231127_20_16_12_Pro</td>\n",
       "      <td>566</td>\n",
       "      <td>my</td>\n",
       "    </tr>\n",
       "    <tr>\n",
       "      <th>160</th>\n",
       "      <td>WIN_20231127_19_43_23_Pro</td>\n",
       "      <td>1805</td>\n",
       "      <td>let</td>\n",
       "    </tr>\n",
       "    <tr>\n",
       "      <th>10</th>\n",
       "      <td>WIN_20231127_00_24_55_Pro</td>\n",
       "      <td>632</td>\n",
       "      <td>airplane</td>\n",
       "    </tr>\n",
       "    <tr>\n",
       "      <th>106</th>\n",
       "      <td>WIN_20231127_00_26_50_Pro</td>\n",
       "      <td>1721</td>\n",
       "      <td>due</td>\n",
       "    </tr>\n",
       "    <tr>\n",
       "      <th>299</th>\n",
       "      <td>WIN_20231127_20_21_09_Pro</td>\n",
       "      <td>1999</td>\n",
       "      <td>whistle</td>\n",
       "    </tr>\n",
       "    <tr>\n",
       "      <th>349</th>\n",
       "      <td>WIN_20231127_20_27_31_Pro</td>\n",
       "      <td>179</td>\n",
       "      <td>you</td>\n",
       "    </tr>\n",
       "    <tr>\n",
       "      <th>97</th>\n",
       "      <td>17965</td>\n",
       "      <td>1721</td>\n",
       "      <td>due</td>\n",
       "    </tr>\n",
       "    <tr>\n",
       "      <th>90</th>\n",
       "      <td>WIN_20231127_19_37_59_Pro</td>\n",
       "      <td>35</td>\n",
       "      <td>can</td>\n",
       "    </tr>\n",
       "  </tbody>\n",
       "</table>\n",
       "</div>"
      ],
      "text/plain": [
       "                    video_name  class_id class_name\n",
       "43                       06787      1636       blow\n",
       "16   WIN_20231127_00_27_20_Pro       632   airplane\n",
       "300  WIN_20231127_20_21_15_Pro      1999    whistle\n",
       "13   WIN_20231127_00_27_05_Pro       632   airplane\n",
       "131  WIN_20231127_19_39_47_Pro       159       know\n",
       "201  WIN_20231127_20_10_29_Pro      1164         me\n",
       "321  WIN_20231127_20_24_47_Pro       179        you\n",
       "40   WIN_20231127_19_29_18_Pro       259       baby\n",
       "231                      69404       566         my\n",
       "61   WIN_20231127_19_33_47_Pro      1636       blow\n",
       "341  WIN_20231127_20_26_43_Pro       179        you\n",
       "208  WIN_20231127_20_11_10_Pro      1164         me\n",
       "257  WIN_20231127_20_16_12_Pro       566         my\n",
       "160  WIN_20231127_19_43_23_Pro      1805        let\n",
       "10   WIN_20231127_00_24_55_Pro       632   airplane\n",
       "106  WIN_20231127_00_26_50_Pro      1721        due\n",
       "299  WIN_20231127_20_21_09_Pro      1999    whistle\n",
       "349  WIN_20231127_20_27_31_Pro       179        you\n",
       "97                       17965      1721        due\n",
       "90   WIN_20231127_19_37_59_Pro        35        can"
      ]
     },
     "execution_count": 103,
     "metadata": {},
     "output_type": "execute_result"
    }
   ],
   "source": [
    "source_folder = os.path.join('data', 'internal', 'preprocessed_videos')\n",
    "\n",
    "def create_dataframe(videos_root):\n",
    "    data = []\n",
    "    \n",
    "    classes_to_extract = os.listdir(videos_root)\n",
    "    \n",
    "    classes_data = get_classes_indexes(class_file_name=\"data/raw/dataset/wlasl_class_list.txt\", classes_to_extract=classes_to_extract)\n",
    "\n",
    "    CLASS_TO_IDX = {class_name : idx for (idx, class_name) in  classes_data}\n",
    "    IDX_TO_CLASS = {idx : class_name for (idx, class_name) in  classes_data}\n",
    "    \n",
    "    for class_name in os.listdir(videos_root):\n",
    "        class_path = os.path.join(videos_root, class_name)\n",
    "        for name in os.listdir(class_path):\n",
    "            name = Path(name).stem\n",
    "            data.append([name, CLASS_TO_IDX[class_name], class_name])\n",
    "    return pd.DataFrame(data, columns=['video_name', 'class_id', 'class_name'])\n",
    "\n",
    "dataset = create_dataframe(source_folder)\n",
    "\n",
    "dataset.sample(20)"
   ]
  },
  {
   "cell_type": "code",
   "execution_count": 104,
   "metadata": {},
   "outputs": [
    {
     "name": "stdout",
     "output_type": "stream",
     "text": [
      "Maximum frame count: 168\n"
     ]
    }
   ],
   "source": [
    "import cv2\n",
    "\n",
    "max_frame_count = 0\n",
    "\n",
    "for key, row in dataset.iterrows():\n",
    "    class_name = row['class_name']\n",
    "    file_name = row['video_name']\n",
    "    file_path = os.path.join(source_folder, class_name, file_name+'.mp4')\n",
    "    cap = cv2.VideoCapture(file_path)\n",
    "    length = int(cap.get(cv2.CAP_PROP_FRAME_COUNT))\n",
    "    max_frame_count = max(max_frame_count, length)\n",
    "    \n",
    "print('Maximum frame count:',max_frame_count)"
   ]
  },
  {
   "cell_type": "code",
   "execution_count": 105,
   "metadata": {},
   "outputs": [],
   "source": [
    "IDX_TO_CLASS = [ c_id for i, c_id in enumerate(set(dataset.class_id))]\n",
    "CLASS_TO_IDX = { c_id: i for i, c_id in enumerate(IDX_TO_CLASS)}"
   ]
  },
  {
   "cell_type": "code",
   "execution_count": 106,
   "metadata": {
    "id": "mo19lj56lIbi"
   },
   "outputs": [],
   "source": [
    "from os.path import exists\n",
    "import torch.nn.functional as F\n",
    "\n",
    "class ASLDataset(Dataset):\n",
    "    \"\"\"\n",
    "    A custom dataset class for loading American Sign Language (ASL) videos and their corresponding labels.\n",
    "\n",
    "    Args:\n",
    "        tensors_folder (str): Path to the folder containing the .pt arrays (converted videos).\n",
    "        dataset_df (DataFrame): Pandas dataframe with information about videos\n",
    "        max_frame_count (int): Maximum length of video in frames.\n",
    "        ohe (OneHotEncoder): Required to encode class id to one hot numeric array.\n",
    "\n",
    "    Attributes:\n",
    "        tensors_folder (str): Path to the folder containing the .pt arrays (converted videos).\n",
    "        name_with_label (dict): A dictionary mapping video names to their labels.\n",
    "        classes (list): A list of class names.\n",
    "    \"\"\"\n",
    "\n",
    "    def __init__(self, tensors_folder: str, dataset_df: pd.DataFrame, max_frame_count: int) -> None:\n",
    "        # Default frame (set of points) to insert in short videos to make all videos equal in length\n",
    "        default_frame = [0] * (21 * 3 * 2 + 33 * 3)\n",
    "        \n",
    "        self.tensor_sequences = []\n",
    "        self.targets = []\n",
    "        for i, row in dataset_df.iterrows():\n",
    "            path_to_tensor = tensors_folder + '/' + row[\"video_name\"] + '.pt'\n",
    "            \n",
    "            if not exists(path_to_tensor):\n",
    "                continue\n",
    "            \n",
    "            # Open the video file using OpenCV\n",
    "            tensor = torch.load(path_to_tensor)\n",
    "\n",
    "            # Change length of video (not a video but sequence of frames with points coordinates in each frame)\n",
    "            # pad_right = [default_frame for _ in range(0, max_frame_count - tensor.shape[0])]\n",
    "            # pad_right = torch.tensor(pad_right)\n",
    "            # self.tensor_sequences.append(torch.cat((pad_right, F.normalize(tensor.float(), dim=1))))\n",
    "            self.tensor_sequences.append(F.normalize(tensor.float(), dim=1))\n",
    "            self.targets.append(CLASS_TO_IDX[dataset_df[\"class_id\"][i]])\n",
    "        self.targets = torch.tensor(self.targets)\n",
    "            \n",
    "            \n",
    "    def __len__(self):\n",
    "        \"\"\"\n",
    "        Returns the number of videos in the dataset.\n",
    "\n",
    "        Returns:\n",
    "            int: The number of videos in the dataset.\n",
    "        \"\"\"\n",
    "        return len(self.targets)\n",
    "\n",
    "    def __getitem__(self, index):\n",
    "        \"\"\"\n",
    "        Retrieves a video and its corresponding label from the dataset.\n",
    "\n",
    "        Args:\n",
    "            index (int): The index of the video to retrieve.\n",
    "\n",
    "        Returns:\n",
    "            tuple: A tuple containing the video frames as a PyTorch tensor and the label.\n",
    "        \"\"\"\n",
    "\n",
    "        return self.tensor_sequences[index].float(), self.targets[index].long()\n"
   ]
  },
  {
   "cell_type": "code",
   "execution_count": 107,
   "metadata": {},
   "outputs": [],
   "source": [
    "def read_classes(path):\n",
    "    classes = dict()\n",
    "    with open(path, 'r') as file:\n",
    "        for line in file:\n",
    "            line = line.strip().split('\\t')\n",
    "            key = int(line[0])\n",
    "            value = line[1]\n",
    "            classes[key] = value\n",
    "    return classes"
   ]
  },
  {
   "cell_type": "code",
   "execution_count": 108,
   "metadata": {},
   "outputs": [],
   "source": [
    "from sklearn.model_selection import train_test_split\n",
    "\n",
    "train, test = train_test_split(dataset, test_size=0.2, random_state=42)"
   ]
  },
  {
   "cell_type": "code",
   "execution_count": 109,
   "metadata": {
    "pycharm": {
     "name": "#%%\n"
    }
   },
   "outputs": [],
   "source": [
    "classes = read_classes('data/raw/dataset/wlasl_class_list.txt')\n",
    "\n",
    "train_dataset = ASLDataset('data/internal/features', train, max_frame_count)\n",
    "#val_dataset = ASLDataset('data/internal/features', val, max_frame_count)\n",
    "test_dataset = ASLDataset('data/internal/features', test, max_frame_count)"
   ]
  },
  {
   "cell_type": "code",
   "execution_count": 110,
   "metadata": {},
   "outputs": [
    {
     "name": "stdout",
     "output_type": "stream",
     "text": [
      "Train size: 284\n",
      "Test size: 71\n"
     ]
    }
   ],
   "source": [
    "# Create dataloaders\n",
    "batch_size = 1\n",
    "\n",
    "train_dataloader = DataLoader(train_dataset, batch_size=batch_size, shuffle=True)\n",
    "# val_dataloader = DataLoader(val_dataset, batch_size=batch_size, shuffle=True)\n",
    "test_dataloader = DataLoader(test_dataset, batch_size=batch_size, shuffle=False)\n",
    "\n",
    "print(f\"Train size: {len(train_dataset)}\")\n",
    "#print(f\"Validation size: {len(val_dataset)}\")\n",
    "print(f\"Test size: {len(test_dataset)}\")"
   ]
  },
  {
   "cell_type": "markdown",
   "metadata": {
    "pycharm": {
     "name": "#%%\n"
    }
   },
   "source": [
    "## Model"
   ]
  },
  {
   "cell_type": "code",
   "execution_count": 111,
   "metadata": {},
   "outputs": [],
   "source": [
    "import torch.nn as nn\n",
    "\n",
    "class SequenceModel(nn.Module):\n",
    "    def __init__(self, input_size, output_size) -> None:\n",
    "        super().__init__()\n",
    "        self.lstm = nn.Sequential(\n",
    "            nn.LSTM(input_size, 64, 1, batch_first=True, bidirectional=True),\n",
    "        )\n",
    "        self.linear = nn.Sequential(\n",
    "            nn.Linear(64 * 2, 16),\n",
    "            nn.ReLU(),\n",
    "            nn.Linear(16, output_size),\n",
    "        )\n",
    "\n",
    "    def forward(self, x):\n",
    "        x, _ = self.lstm(x)\n",
    "        x = self.linear(x[:,-1,:])\n",
    "\n",
    "        return x"
   ]
  },
  {
   "cell_type": "markdown",
   "metadata": {},
   "source": [
    "## Training"
   ]
  },
  {
   "cell_type": "code",
   "execution_count": 112,
   "metadata": {},
   "outputs": [],
   "source": [
    "from sklearn.metrics import f1_score, accuracy_score\n",
    "from tqdm import tqdm\n",
    "\n",
    "\n",
    "def train_model(model: nn.Module, epochs: int, criterion, optimizer, ckpt_path='models/best.pt'):\n",
    "    \"\"\"\n",
    "    Function that trains model using number of epochs, loss function, optimizer.\n",
    "    Can use validation or test data set for evaluation.\n",
    "    Calculates f1 score.\n",
    "\n",
    "    Parameter\n",
    "    ---------\n",
    "    model : nn.Module\n",
    "      Model to train.\n",
    "    epochs: int\n",
    "      Number of train epochs\n",
    "    criterion\n",
    "      The loss function from pytorch\n",
    "    optimizer\n",
    "      The optimizer from pytorch\n",
    "    \"\"\"\n",
    "\n",
    "    model.train()\n",
    "    model.to(device)\n",
    "\n",
    "    history = {'train_losses': [], 'test_losses': [],\n",
    "               'train_scores': [], 'test_scores': []}\n",
    "\n",
    "    # Train the model\n",
    "    for epoch in range(epochs):\n",
    "        model.train()\n",
    "\n",
    "        predicted_train = []\n",
    "        true_train = []\n",
    "\n",
    "        train_loss = 0.0\n",
    "\n",
    "        bar = tqdm(train_dataloader)\n",
    "        iterations = 0\n",
    "\n",
    "        for inputs, targets in bar:\n",
    "          \n",
    "            inputs, targets = inputs.to(device), targets.to(device)\n",
    "\n",
    "            # Zero the gradients\n",
    "            optimizer.zero_grad()\n",
    "\n",
    "            # Forward pass\n",
    "            outputs = model(inputs)\n",
    "            loss = criterion(outputs, targets)\n",
    "\n",
    "            train_loss += loss.item()\n",
    "\n",
    "            # Backward pass\n",
    "            loss.backward()\n",
    "            optimizer.step()\n",
    "\n",
    "            # Get predicted classes and true classes from data\n",
    "            predictions = torch.argmax(outputs, dim=1)\n",
    "            for item in predictions:\n",
    "                predicted_train.append(item.cpu().numpy())\n",
    "            for item in targets:\n",
    "                true_train.append(item.cpu().numpy())\n",
    "            iterations += 1\n",
    "            bar.set_postfix(\n",
    "                ({\"loss\": f\"{train_loss/(iterations*train_dataloader.batch_size)}\"}))\n",
    "\n",
    "        # Computing loss\n",
    "        train_loss /= len(train_dataset)\n",
    "        # Computing f1 score\n",
    "        train_f1 = f1_score(true_train, predicted_train, average=\"macro\")\n",
    "\n",
    "        # Printing information in the end of train loop\n",
    "        test_loss, test_f1 = test_model(model, criterion, test_dataloader)\n",
    "\n",
    "        history['train_losses'].append(train_loss)\n",
    "        history['test_losses'].append(test_loss)\n",
    "        history['train_scores'].append(train_f1)\n",
    "        history['test_scores'].append(test_f1)\n",
    "\n",
    "        if test_f1 > max(history['test_scores']):\n",
    "            torch.save(model.state_dict(), ckpt_path)\n",
    "\n",
    "        print(f\"Epoch {epoch+1} train (loss: {train_loss:.4f}, f1 score: {train_f1:.4f}) test (loss: {test_loss:.4f}, f1 score: {test_f1:.4f})\")\n",
    "\n",
    "    return history\n",
    "\n",
    "\n",
    "def test_model(model: nn.Module, criterion, test_dataloader: DataLoader):\n",
    "    \"\"\"\n",
    "    Function that evaluates model on specified dataloader\n",
    "    by specified loss function.\n",
    "\n",
    "    Parameter\n",
    "    ---------\n",
    "    model : nn.Module\n",
    "      Model to train.\n",
    "    criterion\n",
    "      The loss function from pytorch\n",
    "    test_dataloader: DataLoader\n",
    "      The dataset for testing model\n",
    "\n",
    "    Returns\n",
    "    -------\n",
    "    float: loss of model on given dataset\n",
    "    float: f1 score of model on given dataset\n",
    "    \"\"\"\n",
    "\n",
    "    model.eval()\n",
    "    model.to(device)\n",
    "\n",
    "    # Test loss value\n",
    "    test_loss = 0.0\n",
    "\n",
    "    # Lists for calculation f1 score\n",
    "    predicted_test = []\n",
    "    true_test = []\n",
    "\n",
    "    with torch.no_grad():\n",
    "        for inputs, targets in test_dataloader:\n",
    "            inputs, targets = inputs.to(device), targets.to(device)\n",
    "\n",
    "            # Forward pass\n",
    "            outputs = model(inputs)\n",
    "            test_loss += criterion(outputs, targets)\n",
    "\n",
    "            # Get predicted classes and true classes from data\n",
    "            predictions = torch.argmax(outputs, dim=1)\n",
    "            for item in predictions:\n",
    "                predicted_test.append(item.cpu().numpy())\n",
    "            for item in targets:\n",
    "                true_test.append(item.cpu().numpy())\n",
    "\n",
    "    # Computation of test loss\n",
    "    test_loss /= len(test_dataloader)\n",
    "\n",
    "    # Computation of f1 score\n",
    "    test_f1 = f1_score(true_test, predicted_test, average=\"macro\")\n",
    "    return test_loss.item(), test_f1"
   ]
  },
  {
   "cell_type": "code",
   "execution_count": 120,
   "metadata": {},
   "outputs": [],
   "source": [
    "model = SequenceModel(input_size=225, output_size=len(IDX_TO_CLASS))\n",
    "criterion = nn.CrossEntropyLoss()\n",
    "optimizer = torch.optim.Adam(model.parameters(), lr=0.001)"
   ]
  },
  {
   "cell_type": "code",
   "execution_count": 121,
   "metadata": {},
   "outputs": [
    {
     "name": "stderr",
     "output_type": "stream",
     "text": [
      "100%|██████████| 284/284 [00:01<00:00, 174.14it/s, loss=2.459211399857427] \n"
     ]
    },
    {
     "name": "stdout",
     "output_type": "stream",
     "text": [
      "Epoch 1 train (loss: 2.4592, f1 score: 0.0350) test (loss: 2.4646, f1 score: 0.0110)\n"
     ]
    },
    {
     "name": "stderr",
     "output_type": "stream",
     "text": [
      "100%|██████████| 284/284 [00:01<00:00, 203.86it/s, loss=2.4250944298757635]\n"
     ]
    },
    {
     "name": "stdout",
     "output_type": "stream",
     "text": [
      "Epoch 2 train (loss: 2.4251, f1 score: 0.0271) test (loss: 2.4374, f1 score: 0.0285)\n"
     ]
    },
    {
     "name": "stderr",
     "output_type": "stream",
     "text": [
      "100%|██████████| 284/284 [00:01<00:00, 205.16it/s, loss=2.412460806504102] \n"
     ]
    },
    {
     "name": "stdout",
     "output_type": "stream",
     "text": [
      "Epoch 3 train (loss: 2.4125, f1 score: 0.0320) test (loss: 2.4244, f1 score: 0.0274)\n"
     ]
    },
    {
     "name": "stderr",
     "output_type": "stream",
     "text": [
      "100%|██████████| 284/284 [00:01<00:00, 200.38it/s, loss=2.405267320888143] \n"
     ]
    },
    {
     "name": "stdout",
     "output_type": "stream",
     "text": [
      "Epoch 4 train (loss: 2.4053, f1 score: 0.0371) test (loss: 2.4256, f1 score: 0.0278)\n"
     ]
    },
    {
     "name": "stderr",
     "output_type": "stream",
     "text": [
      "100%|██████████| 284/284 [00:01<00:00, 188.53it/s, loss=2.3913853684781303]\n"
     ]
    },
    {
     "name": "stdout",
     "output_type": "stream",
     "text": [
      "Epoch 5 train (loss: 2.3914, f1 score: 0.0495) test (loss: 2.4375, f1 score: 0.0094)\n"
     ]
    },
    {
     "name": "stderr",
     "output_type": "stream",
     "text": [
      "100%|██████████| 284/284 [00:01<00:00, 204.49it/s, loss=2.4019270820516936]\n"
     ]
    },
    {
     "name": "stdout",
     "output_type": "stream",
     "text": [
      "Epoch 6 train (loss: 2.4019, f1 score: 0.0517) test (loss: 2.4255, f1 score: 0.0256)\n"
     ]
    },
    {
     "name": "stderr",
     "output_type": "stream",
     "text": [
      "100%|██████████| 284/284 [00:01<00:00, 207.10it/s, loss=2.389644258039098] \n"
     ]
    },
    {
     "name": "stdout",
     "output_type": "stream",
     "text": [
      "Epoch 7 train (loss: 2.3896, f1 score: 0.0407) test (loss: 2.4424, f1 score: 0.0256)\n"
     ]
    },
    {
     "name": "stderr",
     "output_type": "stream",
     "text": [
      "100%|██████████| 284/284 [00:01<00:00, 212.39it/s, loss=2.366644461389998] \n"
     ]
    },
    {
     "name": "stdout",
     "output_type": "stream",
     "text": [
      "Epoch 8 train (loss: 2.3666, f1 score: 0.0592) test (loss: 2.4323, f1 score: 0.0248)\n"
     ]
    },
    {
     "name": "stderr",
     "output_type": "stream",
     "text": [
      "100%|██████████| 284/284 [00:01<00:00, 209.11it/s, loss=2.3492089417618764]\n"
     ]
    },
    {
     "name": "stdout",
     "output_type": "stream",
     "text": [
      "Epoch 9 train (loss: 2.3492, f1 score: 0.0711) test (loss: 2.4226, f1 score: 0.0445)\n"
     ]
    },
    {
     "name": "stderr",
     "output_type": "stream",
     "text": [
      "100%|██████████| 284/284 [00:01<00:00, 215.65it/s, loss=2.3367444083724225]\n"
     ]
    },
    {
     "name": "stdout",
     "output_type": "stream",
     "text": [
      "Epoch 10 train (loss: 2.3367, f1 score: 0.0596) test (loss: 2.4323, f1 score: 0.0278)\n"
     ]
    },
    {
     "name": "stderr",
     "output_type": "stream",
     "text": [
      "100%|██████████| 284/284 [00:01<00:00, 208.96it/s, loss=2.319374925443824] \n"
     ]
    },
    {
     "name": "stdout",
     "output_type": "stream",
     "text": [
      "Epoch 11 train (loss: 2.3194, f1 score: 0.0622) test (loss: 2.4228, f1 score: 0.0676)\n"
     ]
    },
    {
     "name": "stderr",
     "output_type": "stream",
     "text": [
      "100%|██████████| 284/284 [00:01<00:00, 204.22it/s, loss=2.295916542620726] \n"
     ]
    },
    {
     "name": "stdout",
     "output_type": "stream",
     "text": [
      "Epoch 12 train (loss: 2.2959, f1 score: 0.0646) test (loss: 2.4356, f1 score: 0.0244)\n"
     ]
    },
    {
     "name": "stderr",
     "output_type": "stream",
     "text": [
      "100%|██████████| 284/284 [00:01<00:00, 204.66it/s, loss=2.2811811364872354]\n"
     ]
    },
    {
     "name": "stdout",
     "output_type": "stream",
     "text": [
      "Epoch 13 train (loss: 2.2812, f1 score: 0.0604) test (loss: 2.4330, f1 score: 0.0418)\n"
     ]
    },
    {
     "name": "stderr",
     "output_type": "stream",
     "text": [
      "100%|██████████| 284/284 [00:01<00:00, 207.15it/s, loss=2.280980788276229] \n"
     ]
    },
    {
     "name": "stdout",
     "output_type": "stream",
     "text": [
      "Epoch 14 train (loss: 2.2810, f1 score: 0.0628) test (loss: 2.4240, f1 score: 0.0696)\n"
     ]
    },
    {
     "name": "stderr",
     "output_type": "stream",
     "text": [
      "100%|██████████| 284/284 [00:01<00:00, 207.58it/s, loss=2.2555616217809664]\n"
     ]
    },
    {
     "name": "stdout",
     "output_type": "stream",
     "text": [
      "Epoch 15 train (loss: 2.2556, f1 score: 0.0665) test (loss: 2.3801, f1 score: 0.0651)\n"
     ]
    },
    {
     "name": "stderr",
     "output_type": "stream",
     "text": [
      "100%|██████████| 284/284 [00:01<00:00, 214.47it/s, loss=2.2460830717439384]\n"
     ]
    },
    {
     "name": "stdout",
     "output_type": "stream",
     "text": [
      "Epoch 16 train (loss: 2.2461, f1 score: 0.0671) test (loss: 2.3770, f1 score: 0.0503)\n"
     ]
    },
    {
     "name": "stderr",
     "output_type": "stream",
     "text": [
      "100%|██████████| 284/284 [00:01<00:00, 209.48it/s, loss=2.221852083231362] \n"
     ]
    },
    {
     "name": "stdout",
     "output_type": "stream",
     "text": [
      "Epoch 17 train (loss: 2.2219, f1 score: 0.0712) test (loss: 2.4005, f1 score: 0.0872)\n"
     ]
    },
    {
     "name": "stderr",
     "output_type": "stream",
     "text": [
      "100%|██████████| 284/284 [00:01<00:00, 215.53it/s, loss=2.2057922009221267]\n"
     ]
    },
    {
     "name": "stdout",
     "output_type": "stream",
     "text": [
      "Epoch 18 train (loss: 2.2058, f1 score: 0.1034) test (loss: 2.3452, f1 score: 0.0905)\n"
     ]
    },
    {
     "name": "stderr",
     "output_type": "stream",
     "text": [
      "100%|██████████| 284/284 [00:01<00:00, 204.51it/s, loss=2.1719773460809195]\n"
     ]
    },
    {
     "name": "stdout",
     "output_type": "stream",
     "text": [
      "Epoch 19 train (loss: 2.1720, f1 score: 0.0871) test (loss: 2.2854, f1 score: 0.0730)\n"
     ]
    },
    {
     "name": "stderr",
     "output_type": "stream",
     "text": [
      "100%|██████████| 284/284 [00:01<00:00, 205.15it/s, loss=2.1760703894558926]\n"
     ]
    },
    {
     "name": "stdout",
     "output_type": "stream",
     "text": [
      "Epoch 20 train (loss: 2.1761, f1 score: 0.1176) test (loss: 2.3308, f1 score: 0.0925)\n"
     ]
    },
    {
     "name": "stderr",
     "output_type": "stream",
     "text": [
      "100%|██████████| 284/284 [00:01<00:00, 200.65it/s, loss=2.1707310412131564]\n"
     ]
    },
    {
     "name": "stdout",
     "output_type": "stream",
     "text": [
      "Epoch 21 train (loss: 2.1707, f1 score: 0.0981) test (loss: 2.3269, f1 score: 0.0777)\n"
     ]
    },
    {
     "name": "stderr",
     "output_type": "stream",
     "text": [
      "100%|██████████| 284/284 [00:01<00:00, 207.41it/s, loss=2.146795194333708] \n"
     ]
    },
    {
     "name": "stdout",
     "output_type": "stream",
     "text": [
      "Epoch 22 train (loss: 2.1468, f1 score: 0.0996) test (loss: 2.2891, f1 score: 0.0807)\n"
     ]
    },
    {
     "name": "stderr",
     "output_type": "stream",
     "text": [
      "100%|██████████| 284/284 [00:01<00:00, 202.17it/s, loss=2.1351586737683124]\n"
     ]
    },
    {
     "name": "stdout",
     "output_type": "stream",
     "text": [
      "Epoch 23 train (loss: 2.1352, f1 score: 0.1075) test (loss: 2.2938, f1 score: 0.0768)\n"
     ]
    },
    {
     "name": "stderr",
     "output_type": "stream",
     "text": [
      "100%|██████████| 284/284 [00:01<00:00, 202.63it/s, loss=2.109844913260198] \n"
     ]
    },
    {
     "name": "stdout",
     "output_type": "stream",
     "text": [
      "Epoch 24 train (loss: 2.1098, f1 score: 0.0995) test (loss: 2.3008, f1 score: 0.0748)\n"
     ]
    },
    {
     "name": "stderr",
     "output_type": "stream",
     "text": [
      "100%|██████████| 284/284 [00:01<00:00, 192.68it/s, loss=2.110920976480128] \n"
     ]
    },
    {
     "name": "stdout",
     "output_type": "stream",
     "text": [
      "Epoch 25 train (loss: 2.1109, f1 score: 0.1083) test (loss: 2.2864, f1 score: 0.0822)\n"
     ]
    },
    {
     "name": "stderr",
     "output_type": "stream",
     "text": [
      "100%|██████████| 284/284 [00:01<00:00, 192.66it/s, loss=2.0787668241791324]\n"
     ]
    },
    {
     "name": "stdout",
     "output_type": "stream",
     "text": [
      "Epoch 26 train (loss: 2.0788, f1 score: 0.1119) test (loss: 2.2766, f1 score: 0.0806)\n"
     ]
    },
    {
     "name": "stderr",
     "output_type": "stream",
     "text": [
      "100%|██████████| 284/284 [00:01<00:00, 191.25it/s, loss=2.0814926538249137]\n"
     ]
    },
    {
     "name": "stdout",
     "output_type": "stream",
     "text": [
      "Epoch 27 train (loss: 2.0815, f1 score: 0.1304) test (loss: 2.2398, f1 score: 0.0768)\n"
     ]
    },
    {
     "name": "stderr",
     "output_type": "stream",
     "text": [
      "100%|██████████| 284/284 [00:01<00:00, 193.91it/s, loss=2.06107257390526]  \n"
     ]
    },
    {
     "name": "stdout",
     "output_type": "stream",
     "text": [
      "Epoch 28 train (loss: 2.0611, f1 score: 0.1320) test (loss: 2.2558, f1 score: 0.1205)\n"
     ]
    },
    {
     "name": "stderr",
     "output_type": "stream",
     "text": [
      "100%|██████████| 284/284 [00:01<00:00, 192.83it/s, loss=2.0481288350174123]\n"
     ]
    },
    {
     "name": "stdout",
     "output_type": "stream",
     "text": [
      "Epoch 29 train (loss: 2.0481, f1 score: 0.1309) test (loss: 2.2489, f1 score: 0.1126)\n"
     ]
    },
    {
     "name": "stderr",
     "output_type": "stream",
     "text": [
      "100%|██████████| 284/284 [00:01<00:00, 191.10it/s, loss=2.0327505383797932]\n"
     ]
    },
    {
     "name": "stdout",
     "output_type": "stream",
     "text": [
      "Epoch 30 train (loss: 2.0328, f1 score: 0.1505) test (loss: 2.2491, f1 score: 0.0731)\n"
     ]
    },
    {
     "name": "stderr",
     "output_type": "stream",
     "text": [
      "100%|██████████| 284/284 [00:01<00:00, 196.97it/s, loss=2.0213215695300573]\n"
     ]
    },
    {
     "name": "stdout",
     "output_type": "stream",
     "text": [
      "Epoch 31 train (loss: 2.0213, f1 score: 0.1515) test (loss: 2.2309, f1 score: 0.1169)\n"
     ]
    },
    {
     "name": "stderr",
     "output_type": "stream",
     "text": [
      "100%|██████████| 284/284 [00:01<00:00, 197.76it/s, loss=2.011160586239167] \n"
     ]
    },
    {
     "name": "stdout",
     "output_type": "stream",
     "text": [
      "Epoch 32 train (loss: 2.0112, f1 score: 0.2011) test (loss: 2.2175, f1 score: 0.1164)\n"
     ]
    },
    {
     "name": "stderr",
     "output_type": "stream",
     "text": [
      "100%|██████████| 284/284 [00:01<00:00, 203.03it/s, loss=1.9894229906125807]\n"
     ]
    },
    {
     "name": "stdout",
     "output_type": "stream",
     "text": [
      "Epoch 33 train (loss: 1.9894, f1 score: 0.2118) test (loss: 2.2137, f1 score: 0.1393)\n"
     ]
    },
    {
     "name": "stderr",
     "output_type": "stream",
     "text": [
      "100%|██████████| 284/284 [00:01<00:00, 199.71it/s, loss=1.9300403860463222]\n"
     ]
    },
    {
     "name": "stdout",
     "output_type": "stream",
     "text": [
      "Epoch 34 train (loss: 1.9300, f1 score: 0.2255) test (loss: 1.9810, f1 score: 0.1158)\n"
     ]
    },
    {
     "name": "stderr",
     "output_type": "stream",
     "text": [
      "100%|██████████| 284/284 [00:01<00:00, 197.32it/s, loss=1.8071822529317627]\n"
     ]
    },
    {
     "name": "stdout",
     "output_type": "stream",
     "text": [
      "Epoch 35 train (loss: 1.8072, f1 score: 0.2266) test (loss: 1.8222, f1 score: 0.2009)\n"
     ]
    },
    {
     "name": "stderr",
     "output_type": "stream",
     "text": [
      "100%|██████████| 284/284 [00:01<00:00, 206.57it/s, loss=1.6566334600284907]\n"
     ]
    },
    {
     "name": "stdout",
     "output_type": "stream",
     "text": [
      "Epoch 36 train (loss: 1.6566, f1 score: 0.3123) test (loss: 1.9100, f1 score: 0.2408)\n"
     ]
    },
    {
     "name": "stderr",
     "output_type": "stream",
     "text": [
      "100%|██████████| 284/284 [00:01<00:00, 197.44it/s, loss=1.6461046779082276]\n"
     ]
    },
    {
     "name": "stdout",
     "output_type": "stream",
     "text": [
      "Epoch 37 train (loss: 1.6461, f1 score: 0.3211) test (loss: 1.6914, f1 score: 0.2289)\n"
     ]
    },
    {
     "name": "stderr",
     "output_type": "stream",
     "text": [
      "100%|██████████| 284/284 [00:01<00:00, 197.15it/s, loss=1.5303372100100552]\n"
     ]
    },
    {
     "name": "stdout",
     "output_type": "stream",
     "text": [
      "Epoch 38 train (loss: 1.5303, f1 score: 0.3312) test (loss: 1.6680, f1 score: 0.2661)\n"
     ]
    },
    {
     "name": "stderr",
     "output_type": "stream",
     "text": [
      "100%|██████████| 284/284 [00:01<00:00, 206.87it/s, loss=1.4976786850676151]\n"
     ]
    },
    {
     "name": "stdout",
     "output_type": "stream",
     "text": [
      "Epoch 39 train (loss: 1.4977, f1 score: 0.3314) test (loss: 1.6279, f1 score: 0.2518)\n"
     ]
    },
    {
     "name": "stderr",
     "output_type": "stream",
     "text": [
      "100%|██████████| 284/284 [00:01<00:00, 200.56it/s, loss=1.474516288219938] \n"
     ]
    },
    {
     "name": "stdout",
     "output_type": "stream",
     "text": [
      "Epoch 40 train (loss: 1.4745, f1 score: 0.3625) test (loss: 1.5957, f1 score: 0.3209)\n"
     ]
    },
    {
     "name": "stderr",
     "output_type": "stream",
     "text": [
      "100%|██████████| 284/284 [00:01<00:00, 197.58it/s, loss=1.492086546744784] \n"
     ]
    },
    {
     "name": "stdout",
     "output_type": "stream",
     "text": [
      "Epoch 41 train (loss: 1.4921, f1 score: 0.3920) test (loss: 1.6672, f1 score: 0.2716)\n"
     ]
    },
    {
     "name": "stderr",
     "output_type": "stream",
     "text": [
      "100%|██████████| 284/284 [00:01<00:00, 194.77it/s, loss=1.434811560660076] \n"
     ]
    },
    {
     "name": "stdout",
     "output_type": "stream",
     "text": [
      "Epoch 42 train (loss: 1.4348, f1 score: 0.3572) test (loss: 1.5509, f1 score: 0.3470)\n"
     ]
    },
    {
     "name": "stderr",
     "output_type": "stream",
     "text": [
      "100%|██████████| 284/284 [00:01<00:00, 190.85it/s, loss=1.4140876084238185]\n"
     ]
    },
    {
     "name": "stdout",
     "output_type": "stream",
     "text": [
      "Epoch 43 train (loss: 1.4141, f1 score: 0.3817) test (loss: 1.5911, f1 score: 0.3298)\n"
     ]
    },
    {
     "name": "stderr",
     "output_type": "stream",
     "text": [
      "100%|██████████| 284/284 [00:01<00:00, 194.99it/s, loss=1.3867722227251236]\n"
     ]
    },
    {
     "name": "stdout",
     "output_type": "stream",
     "text": [
      "Epoch 44 train (loss: 1.3868, f1 score: 0.3824) test (loss: 1.5794, f1 score: 0.3108)\n"
     ]
    },
    {
     "name": "stderr",
     "output_type": "stream",
     "text": [
      "100%|██████████| 284/284 [00:01<00:00, 195.33it/s, loss=1.3699643661425462]\n"
     ]
    },
    {
     "name": "stdout",
     "output_type": "stream",
     "text": [
      "Epoch 45 train (loss: 1.3700, f1 score: 0.3933) test (loss: 1.5707, f1 score: 0.2927)\n"
     ]
    },
    {
     "name": "stderr",
     "output_type": "stream",
     "text": [
      "100%|██████████| 284/284 [00:01<00:00, 196.74it/s, loss=1.3830275357058142]\n"
     ]
    },
    {
     "name": "stdout",
     "output_type": "stream",
     "text": [
      "Epoch 46 train (loss: 1.3830, f1 score: 0.4247) test (loss: 1.5631, f1 score: 0.3475)\n"
     ]
    },
    {
     "name": "stderr",
     "output_type": "stream",
     "text": [
      "100%|██████████| 284/284 [00:01<00:00, 199.51it/s, loss=1.308234304963598] \n"
     ]
    },
    {
     "name": "stdout",
     "output_type": "stream",
     "text": [
      "Epoch 47 train (loss: 1.3082, f1 score: 0.4358) test (loss: 1.4223, f1 score: 0.4093)\n"
     ]
    },
    {
     "name": "stderr",
     "output_type": "stream",
     "text": [
      "100%|██████████| 284/284 [00:01<00:00, 195.03it/s, loss=1.3034666188513782]\n"
     ]
    },
    {
     "name": "stdout",
     "output_type": "stream",
     "text": [
      "Epoch 48 train (loss: 1.3035, f1 score: 0.4531) test (loss: 1.4477, f1 score: 0.4352)\n"
     ]
    },
    {
     "name": "stderr",
     "output_type": "stream",
     "text": [
      "100%|██████████| 284/284 [00:01<00:00, 202.14it/s, loss=1.233900783360529] \n"
     ]
    },
    {
     "name": "stdout",
     "output_type": "stream",
     "text": [
      "Epoch 49 train (loss: 1.2339, f1 score: 0.4626) test (loss: 1.4485, f1 score: 0.3994)\n"
     ]
    },
    {
     "name": "stderr",
     "output_type": "stream",
     "text": [
      "100%|██████████| 284/284 [00:01<00:00, 202.24it/s, loss=1.2092465148946847]\n"
     ]
    },
    {
     "name": "stdout",
     "output_type": "stream",
     "text": [
      "Epoch 50 train (loss: 1.2092, f1 score: 0.5071) test (loss: 1.4941, f1 score: 0.2633)\n"
     ]
    },
    {
     "name": "stderr",
     "output_type": "stream",
     "text": [
      "100%|██████████| 284/284 [00:01<00:00, 193.00it/s, loss=1.212946499697864] \n"
     ]
    },
    {
     "name": "stdout",
     "output_type": "stream",
     "text": [
      "Epoch 51 train (loss: 1.2129, f1 score: 0.5078) test (loss: 1.3099, f1 score: 0.5124)\n"
     ]
    },
    {
     "name": "stderr",
     "output_type": "stream",
     "text": [
      "100%|██████████| 284/284 [00:01<00:00, 204.87it/s, loss=1.1758180789806894]\n"
     ]
    },
    {
     "name": "stdout",
     "output_type": "stream",
     "text": [
      "Epoch 52 train (loss: 1.1758, f1 score: 0.5194) test (loss: 1.3145, f1 score: 0.4637)\n"
     ]
    },
    {
     "name": "stderr",
     "output_type": "stream",
     "text": [
      "100%|██████████| 284/284 [00:01<00:00, 197.42it/s, loss=1.1436499707338492]\n"
     ]
    },
    {
     "name": "stdout",
     "output_type": "stream",
     "text": [
      "Epoch 53 train (loss: 1.1436, f1 score: 0.5040) test (loss: 1.3847, f1 score: 0.4594)\n"
     ]
    },
    {
     "name": "stderr",
     "output_type": "stream",
     "text": [
      "100%|██████████| 284/284 [00:01<00:00, 198.76it/s, loss=1.153611200691109] \n"
     ]
    },
    {
     "name": "stdout",
     "output_type": "stream",
     "text": [
      "Epoch 54 train (loss: 1.1536, f1 score: 0.5200) test (loss: 1.4155, f1 score: 0.4512)\n"
     ]
    },
    {
     "name": "stderr",
     "output_type": "stream",
     "text": [
      "100%|██████████| 284/284 [00:01<00:00, 203.04it/s, loss=1.1003818768994804]\n"
     ]
    },
    {
     "name": "stdout",
     "output_type": "stream",
     "text": [
      "Epoch 55 train (loss: 1.1004, f1 score: 0.5504) test (loss: 1.2990, f1 score: 0.5355)\n"
     ]
    },
    {
     "name": "stderr",
     "output_type": "stream",
     "text": [
      "100%|██████████| 284/284 [00:01<00:00, 199.52it/s, loss=1.085394545218868] \n"
     ]
    },
    {
     "name": "stdout",
     "output_type": "stream",
     "text": [
      "Epoch 56 train (loss: 1.0854, f1 score: 0.5740) test (loss: 1.2793, f1 score: 0.5511)\n"
     ]
    },
    {
     "name": "stderr",
     "output_type": "stream",
     "text": [
      "100%|██████████| 284/284 [00:01<00:00, 191.33it/s, loss=1.1231327193795744]\n"
     ]
    },
    {
     "name": "stdout",
     "output_type": "stream",
     "text": [
      "Epoch 57 train (loss: 1.1231, f1 score: 0.5140) test (loss: 1.2394, f1 score: 0.5123)\n"
     ]
    },
    {
     "name": "stderr",
     "output_type": "stream",
     "text": [
      "100%|██████████| 284/284 [00:01<00:00, 192.53it/s, loss=1.0484651036471995]\n"
     ]
    },
    {
     "name": "stdout",
     "output_type": "stream",
     "text": [
      "Epoch 58 train (loss: 1.0485, f1 score: 0.5439) test (loss: 1.3292, f1 score: 0.4690)\n"
     ]
    },
    {
     "name": "stderr",
     "output_type": "stream",
     "text": [
      "100%|██████████| 284/284 [00:01<00:00, 189.31it/s, loss=1.045916508953743] \n"
     ]
    },
    {
     "name": "stdout",
     "output_type": "stream",
     "text": [
      "Epoch 59 train (loss: 1.0459, f1 score: 0.5641) test (loss: 1.3285, f1 score: 0.4712)\n"
     ]
    },
    {
     "name": "stderr",
     "output_type": "stream",
     "text": [
      "100%|██████████| 284/284 [00:01<00:00, 195.10it/s, loss=0.9756040338682614]\n"
     ]
    },
    {
     "name": "stdout",
     "output_type": "stream",
     "text": [
      "Epoch 60 train (loss: 0.9756, f1 score: 0.5673) test (loss: 1.3650, f1 score: 0.4296)\n"
     ]
    },
    {
     "name": "stderr",
     "output_type": "stream",
     "text": [
      "100%|██████████| 284/284 [00:01<00:00, 195.61it/s, loss=0.9449217252279173]\n"
     ]
    },
    {
     "name": "stdout",
     "output_type": "stream",
     "text": [
      "Epoch 61 train (loss: 0.9449, f1 score: 0.5880) test (loss: 1.3391, f1 score: 0.4791)\n"
     ]
    },
    {
     "name": "stderr",
     "output_type": "stream",
     "text": [
      "100%|██████████| 284/284 [00:01<00:00, 194.38it/s, loss=0.9520892512682878]\n"
     ]
    },
    {
     "name": "stdout",
     "output_type": "stream",
     "text": [
      "Epoch 62 train (loss: 0.9521, f1 score: 0.6052) test (loss: 1.2229, f1 score: 0.5592)\n"
     ]
    },
    {
     "name": "stderr",
     "output_type": "stream",
     "text": [
      "100%|██████████| 284/284 [00:01<00:00, 195.34it/s, loss=0.9313735749119971]\n"
     ]
    },
    {
     "name": "stdout",
     "output_type": "stream",
     "text": [
      "Epoch 63 train (loss: 0.9314, f1 score: 0.6089) test (loss: 1.2798, f1 score: 0.4706)\n"
     ]
    },
    {
     "name": "stderr",
     "output_type": "stream",
     "text": [
      "100%|██████████| 284/284 [00:01<00:00, 191.86it/s, loss=1.0053152291310794]\n"
     ]
    },
    {
     "name": "stdout",
     "output_type": "stream",
     "text": [
      "Epoch 64 train (loss: 1.0053, f1 score: 0.5475) test (loss: 1.2331, f1 score: 0.5319)\n"
     ]
    },
    {
     "name": "stderr",
     "output_type": "stream",
     "text": [
      "100%|██████████| 284/284 [00:01<00:00, 196.36it/s, loss=0.8923007869063286]\n"
     ]
    },
    {
     "name": "stdout",
     "output_type": "stream",
     "text": [
      "Epoch 65 train (loss: 0.8923, f1 score: 0.5932) test (loss: 1.2451, f1 score: 0.5130)\n"
     ]
    },
    {
     "name": "stderr",
     "output_type": "stream",
     "text": [
      "100%|██████████| 284/284 [00:01<00:00, 194.92it/s, loss=0.9217150346843302]\n"
     ]
    },
    {
     "name": "stdout",
     "output_type": "stream",
     "text": [
      "Epoch 66 train (loss: 0.9217, f1 score: 0.6226) test (loss: 1.1636, f1 score: 0.5305)\n"
     ]
    },
    {
     "name": "stderr",
     "output_type": "stream",
     "text": [
      "100%|██████████| 284/284 [00:01<00:00, 200.60it/s, loss=1.077947056796533] \n"
     ]
    },
    {
     "name": "stdout",
     "output_type": "stream",
     "text": [
      "Epoch 67 train (loss: 1.0779, f1 score: 0.5662) test (loss: 1.4402, f1 score: 0.4802)\n"
     ]
    },
    {
     "name": "stderr",
     "output_type": "stream",
     "text": [
      "100%|██████████| 284/284 [00:01<00:00, 200.16it/s, loss=0.8711483645118432]\n"
     ]
    },
    {
     "name": "stdout",
     "output_type": "stream",
     "text": [
      "Epoch 68 train (loss: 0.8711, f1 score: 0.6195) test (loss: 1.4114, f1 score: 0.3963)\n"
     ]
    },
    {
     "name": "stderr",
     "output_type": "stream",
     "text": [
      "100%|██████████| 284/284 [00:01<00:00, 201.83it/s, loss=0.931487213966968] \n"
     ]
    },
    {
     "name": "stdout",
     "output_type": "stream",
     "text": [
      "Epoch 69 train (loss: 0.9315, f1 score: 0.5783) test (loss: 1.2973, f1 score: 0.4637)\n"
     ]
    },
    {
     "name": "stderr",
     "output_type": "stream",
     "text": [
      "100%|██████████| 284/284 [00:01<00:00, 205.44it/s, loss=0.9466843343877667]\n"
     ]
    },
    {
     "name": "stdout",
     "output_type": "stream",
     "text": [
      "Epoch 70 train (loss: 0.9467, f1 score: 0.5838) test (loss: 1.2570, f1 score: 0.5435)\n"
     ]
    },
    {
     "name": "stderr",
     "output_type": "stream",
     "text": [
      "100%|██████████| 284/284 [00:01<00:00, 195.37it/s, loss=0.837504850467667] \n"
     ]
    },
    {
     "name": "stdout",
     "output_type": "stream",
     "text": [
      "Epoch 71 train (loss: 0.8375, f1 score: 0.6713) test (loss: 1.1925, f1 score: 0.5079)\n"
     ]
    },
    {
     "name": "stderr",
     "output_type": "stream",
     "text": [
      "100%|██████████| 284/284 [00:01<00:00, 194.44it/s, loss=0.8659090252058633]\n"
     ]
    },
    {
     "name": "stdout",
     "output_type": "stream",
     "text": [
      "Epoch 72 train (loss: 0.8659, f1 score: 0.6645) test (loss: 1.1836, f1 score: 0.5289)\n"
     ]
    },
    {
     "name": "stderr",
     "output_type": "stream",
     "text": [
      "100%|██████████| 284/284 [00:01<00:00, 203.19it/s, loss=1.1236327802221304]\n"
     ]
    },
    {
     "name": "stdout",
     "output_type": "stream",
     "text": [
      "Epoch 73 train (loss: 1.1236, f1 score: 0.5870) test (loss: 1.6440, f1 score: 0.3363)\n"
     ]
    },
    {
     "name": "stderr",
     "output_type": "stream",
     "text": [
      "100%|██████████| 284/284 [00:01<00:00, 198.60it/s, loss=1.0338507044398797]\n"
     ]
    },
    {
     "name": "stdout",
     "output_type": "stream",
     "text": [
      "Epoch 74 train (loss: 1.0339, f1 score: 0.5629) test (loss: 1.2724, f1 score: 0.5467)\n"
     ]
    },
    {
     "name": "stderr",
     "output_type": "stream",
     "text": [
      "100%|██████████| 284/284 [00:01<00:00, 197.58it/s, loss=0.8735342480022539]\n"
     ]
    },
    {
     "name": "stdout",
     "output_type": "stream",
     "text": [
      "Epoch 75 train (loss: 0.8735, f1 score: 0.6510) test (loss: 1.2704, f1 score: 0.4800)\n"
     ]
    },
    {
     "name": "stderr",
     "output_type": "stream",
     "text": [
      "100%|██████████| 284/284 [00:01<00:00, 200.51it/s, loss=0.8061285376455307]\n"
     ]
    },
    {
     "name": "stdout",
     "output_type": "stream",
     "text": [
      "Epoch 76 train (loss: 0.8061, f1 score: 0.6682) test (loss: 1.1871, f1 score: 0.5532)\n"
     ]
    },
    {
     "name": "stderr",
     "output_type": "stream",
     "text": [
      "100%|██████████| 284/284 [00:01<00:00, 197.52it/s, loss=0.9072097925433207]\n"
     ]
    },
    {
     "name": "stdout",
     "output_type": "stream",
     "text": [
      "Epoch 77 train (loss: 0.9072, f1 score: 0.6183) test (loss: 1.2208, f1 score: 0.5361)\n"
     ]
    },
    {
     "name": "stderr",
     "output_type": "stream",
     "text": [
      "100%|██████████| 284/284 [00:01<00:00, 202.18it/s, loss=0.8160282942576295]\n"
     ]
    },
    {
     "name": "stdout",
     "output_type": "stream",
     "text": [
      "Epoch 78 train (loss: 0.8160, f1 score: 0.6701) test (loss: 1.3789, f1 score: 0.5454)\n"
     ]
    },
    {
     "name": "stderr",
     "output_type": "stream",
     "text": [
      "100%|██████████| 284/284 [00:01<00:00, 202.62it/s, loss=0.8213239902504195]\n"
     ]
    },
    {
     "name": "stdout",
     "output_type": "stream",
     "text": [
      "Epoch 79 train (loss: 0.8213, f1 score: 0.6454) test (loss: 1.4615, f1 score: 0.4283)\n"
     ]
    },
    {
     "name": "stderr",
     "output_type": "stream",
     "text": [
      "100%|██████████| 284/284 [00:01<00:00, 190.77it/s, loss=0.8585545608608223]\n"
     ]
    },
    {
     "name": "stdout",
     "output_type": "stream",
     "text": [
      "Epoch 80 train (loss: 0.8586, f1 score: 0.6590) test (loss: 1.0380, f1 score: 0.5618)\n"
     ]
    },
    {
     "name": "stderr",
     "output_type": "stream",
     "text": [
      "100%|██████████| 284/284 [00:01<00:00, 199.48it/s, loss=0.7624323818411245]\n"
     ]
    },
    {
     "name": "stdout",
     "output_type": "stream",
     "text": [
      "Epoch 81 train (loss: 0.7624, f1 score: 0.6974) test (loss: 1.1638, f1 score: 0.4332)\n"
     ]
    },
    {
     "name": "stderr",
     "output_type": "stream",
     "text": [
      "100%|██████████| 284/284 [00:01<00:00, 209.76it/s, loss=0.8467167293690604]\n"
     ]
    },
    {
     "name": "stdout",
     "output_type": "stream",
     "text": [
      "Epoch 82 train (loss: 0.8467, f1 score: 0.6506) test (loss: 1.1593, f1 score: 0.5703)\n"
     ]
    },
    {
     "name": "stderr",
     "output_type": "stream",
     "text": [
      "100%|██████████| 284/284 [00:01<00:00, 199.18it/s, loss=0.7257170004353688]\n"
     ]
    },
    {
     "name": "stdout",
     "output_type": "stream",
     "text": [
      "Epoch 83 train (loss: 0.7257, f1 score: 0.7235) test (loss: 1.1083, f1 score: 0.4945)\n"
     ]
    },
    {
     "name": "stderr",
     "output_type": "stream",
     "text": [
      "100%|██████████| 284/284 [00:01<00:00, 206.74it/s, loss=0.657440164540468] \n"
     ]
    },
    {
     "name": "stdout",
     "output_type": "stream",
     "text": [
      "Epoch 84 train (loss: 0.6574, f1 score: 0.7381) test (loss: 1.2579, f1 score: 0.4589)\n"
     ]
    },
    {
     "name": "stderr",
     "output_type": "stream",
     "text": [
      "100%|██████████| 284/284 [00:01<00:00, 201.13it/s, loss=0.6563266264246023]\n"
     ]
    },
    {
     "name": "stdout",
     "output_type": "stream",
     "text": [
      "Epoch 85 train (loss: 0.6563, f1 score: 0.7415) test (loss: 1.0608, f1 score: 0.4857)\n"
     ]
    },
    {
     "name": "stderr",
     "output_type": "stream",
     "text": [
      "100%|██████████| 284/284 [00:01<00:00, 204.01it/s, loss=0.6061779551530211]\n"
     ]
    },
    {
     "name": "stdout",
     "output_type": "stream",
     "text": [
      "Epoch 86 train (loss: 0.6062, f1 score: 0.7414) test (loss: 1.1885, f1 score: 0.4486)\n"
     ]
    },
    {
     "name": "stderr",
     "output_type": "stream",
     "text": [
      "100%|██████████| 284/284 [00:01<00:00, 195.82it/s, loss=0.8097364852220496]\n"
     ]
    },
    {
     "name": "stdout",
     "output_type": "stream",
     "text": [
      "Epoch 87 train (loss: 0.8097, f1 score: 0.6947) test (loss: 1.3497, f1 score: 0.5347)\n"
     ]
    },
    {
     "name": "stderr",
     "output_type": "stream",
     "text": [
      "100%|██████████| 284/284 [00:01<00:00, 199.65it/s, loss=0.6830278903067204]\n"
     ]
    },
    {
     "name": "stdout",
     "output_type": "stream",
     "text": [
      "Epoch 88 train (loss: 0.6830, f1 score: 0.7376) test (loss: 1.2263, f1 score: 0.4416)\n"
     ]
    },
    {
     "name": "stderr",
     "output_type": "stream",
     "text": [
      "100%|██████████| 284/284 [00:01<00:00, 192.52it/s, loss=0.7325546616478495]\n"
     ]
    },
    {
     "name": "stdout",
     "output_type": "stream",
     "text": [
      "Epoch 89 train (loss: 0.7326, f1 score: 0.7022) test (loss: 1.3670, f1 score: 0.4503)\n"
     ]
    },
    {
     "name": "stderr",
     "output_type": "stream",
     "text": [
      "100%|██████████| 284/284 [00:01<00:00, 185.06it/s, loss=0.7050062194768901]\n"
     ]
    },
    {
     "name": "stdout",
     "output_type": "stream",
     "text": [
      "Epoch 90 train (loss: 0.7050, f1 score: 0.7086) test (loss: 1.1515, f1 score: 0.5105)\n"
     ]
    },
    {
     "name": "stderr",
     "output_type": "stream",
     "text": [
      "100%|██████████| 284/284 [00:01<00:00, 188.68it/s, loss=0.6393591547581616]\n"
     ]
    },
    {
     "name": "stdout",
     "output_type": "stream",
     "text": [
      "Epoch 91 train (loss: 0.6394, f1 score: 0.7531) test (loss: 1.2492, f1 score: 0.4936)\n"
     ]
    },
    {
     "name": "stderr",
     "output_type": "stream",
     "text": [
      "100%|██████████| 284/284 [00:01<00:00, 188.77it/s, loss=0.6232033200106177]\n"
     ]
    },
    {
     "name": "stdout",
     "output_type": "stream",
     "text": [
      "Epoch 92 train (loss: 0.6232, f1 score: 0.7284) test (loss: 1.1574, f1 score: 0.5151)\n"
     ]
    },
    {
     "name": "stderr",
     "output_type": "stream",
     "text": [
      "100%|██████████| 284/284 [00:01<00:00, 188.24it/s, loss=0.6273799144665376]\n"
     ]
    },
    {
     "name": "stdout",
     "output_type": "stream",
     "text": [
      "Epoch 93 train (loss: 0.6274, f1 score: 0.7469) test (loss: 1.2545, f1 score: 0.4801)\n"
     ]
    },
    {
     "name": "stderr",
     "output_type": "stream",
     "text": [
      "100%|██████████| 284/284 [00:01<00:00, 183.26it/s, loss=0.6053883520575588] \n"
     ]
    },
    {
     "name": "stdout",
     "output_type": "stream",
     "text": [
      "Epoch 94 train (loss: 0.6054, f1 score: 0.7442) test (loss: 1.4163, f1 score: 0.4085)\n"
     ]
    },
    {
     "name": "stderr",
     "output_type": "stream",
     "text": [
      "100%|██████████| 284/284 [00:01<00:00, 183.50it/s, loss=0.5582273398627672]\n"
     ]
    },
    {
     "name": "stdout",
     "output_type": "stream",
     "text": [
      "Epoch 95 train (loss: 0.5582, f1 score: 0.7466) test (loss: 1.4095, f1 score: 0.4867)\n"
     ]
    },
    {
     "name": "stderr",
     "output_type": "stream",
     "text": [
      "100%|██████████| 284/284 [00:01<00:00, 182.52it/s, loss=0.5521875370501271]\n"
     ]
    },
    {
     "name": "stdout",
     "output_type": "stream",
     "text": [
      "Epoch 96 train (loss: 0.5522, f1 score: 0.8022) test (loss: 1.2121, f1 score: 0.4989)\n"
     ]
    },
    {
     "name": "stderr",
     "output_type": "stream",
     "text": [
      "100%|██████████| 284/284 [00:01<00:00, 188.82it/s, loss=0.5858839980483794]\n"
     ]
    },
    {
     "name": "stdout",
     "output_type": "stream",
     "text": [
      "Epoch 97 train (loss: 0.5859, f1 score: 0.7436) test (loss: 1.3419, f1 score: 0.4795)\n"
     ]
    },
    {
     "name": "stderr",
     "output_type": "stream",
     "text": [
      "100%|██████████| 284/284 [00:01<00:00, 204.58it/s, loss=0.5432289890923643]\n"
     ]
    },
    {
     "name": "stdout",
     "output_type": "stream",
     "text": [
      "Epoch 98 train (loss: 0.5432, f1 score: 0.7642) test (loss: 1.3828, f1 score: 0.4254)\n"
     ]
    },
    {
     "name": "stderr",
     "output_type": "stream",
     "text": [
      "100%|██████████| 284/284 [00:01<00:00, 199.91it/s, loss=0.554014433842254] \n"
     ]
    },
    {
     "name": "stdout",
     "output_type": "stream",
     "text": [
      "Epoch 99 train (loss: 0.5540, f1 score: 0.7740) test (loss: 1.2233, f1 score: 0.4760)\n"
     ]
    },
    {
     "name": "stderr",
     "output_type": "stream",
     "text": [
      "100%|██████████| 284/284 [00:01<00:00, 199.55it/s, loss=0.511836144896093]  \n"
     ]
    },
    {
     "name": "stdout",
     "output_type": "stream",
     "text": [
      "Epoch 100 train (loss: 0.5118, f1 score: 0.8056) test (loss: 1.4154, f1 score: 0.5226)\n"
     ]
    },
    {
     "name": "stderr",
     "output_type": "stream",
     "text": [
      "100%|██████████| 284/284 [00:01<00:00, 200.07it/s, loss=0.6453044308910252]\n"
     ]
    },
    {
     "name": "stdout",
     "output_type": "stream",
     "text": [
      "Epoch 101 train (loss: 0.6453, f1 score: 0.7674) test (loss: 1.3461, f1 score: 0.6118)\n"
     ]
    },
    {
     "name": "stderr",
     "output_type": "stream",
     "text": [
      "100%|██████████| 284/284 [00:01<00:00, 197.30it/s, loss=0.5574423728913886] \n"
     ]
    },
    {
     "name": "stdout",
     "output_type": "stream",
     "text": [
      "Epoch 102 train (loss: 0.5574, f1 score: 0.8037) test (loss: 1.2340, f1 score: 0.6258)\n"
     ]
    },
    {
     "name": "stderr",
     "output_type": "stream",
     "text": [
      "100%|██████████| 284/284 [00:01<00:00, 192.90it/s, loss=0.5411124502609543]\n"
     ]
    },
    {
     "name": "stdout",
     "output_type": "stream",
     "text": [
      "Epoch 103 train (loss: 0.5411, f1 score: 0.7686) test (loss: 1.2091, f1 score: 0.5405)\n"
     ]
    },
    {
     "name": "stderr",
     "output_type": "stream",
     "text": [
      "100%|██████████| 284/284 [00:01<00:00, 200.40it/s, loss=0.5547574076519826] \n"
     ]
    },
    {
     "name": "stdout",
     "output_type": "stream",
     "text": [
      "Epoch 104 train (loss: 0.5548, f1 score: 0.7783) test (loss: 1.2125, f1 score: 0.5694)\n"
     ]
    },
    {
     "name": "stderr",
     "output_type": "stream",
     "text": [
      "100%|██████████| 284/284 [00:01<00:00, 202.07it/s, loss=0.41104076687411756]\n"
     ]
    },
    {
     "name": "stdout",
     "output_type": "stream",
     "text": [
      "Epoch 105 train (loss: 0.4110, f1 score: 0.8246) test (loss: 1.2139, f1 score: 0.5254)\n"
     ]
    },
    {
     "name": "stderr",
     "output_type": "stream",
     "text": [
      "100%|██████████| 284/284 [00:01<00:00, 195.32it/s, loss=0.6474642010430665] \n"
     ]
    },
    {
     "name": "stdout",
     "output_type": "stream",
     "text": [
      "Epoch 106 train (loss: 0.6475, f1 score: 0.7482) test (loss: 1.2351, f1 score: 0.5603)\n"
     ]
    },
    {
     "name": "stderr",
     "output_type": "stream",
     "text": [
      "100%|██████████| 284/284 [00:01<00:00, 206.14it/s, loss=0.553267423297167]  \n"
     ]
    },
    {
     "name": "stdout",
     "output_type": "stream",
     "text": [
      "Epoch 107 train (loss: 0.5533, f1 score: 0.7889) test (loss: 1.3055, f1 score: 0.5449)\n"
     ]
    },
    {
     "name": "stderr",
     "output_type": "stream",
     "text": [
      "100%|██████████| 284/284 [00:01<00:00, 197.08it/s, loss=0.42604497835249355]\n"
     ]
    },
    {
     "name": "stdout",
     "output_type": "stream",
     "text": [
      "Epoch 108 train (loss: 0.4260, f1 score: 0.8315) test (loss: 1.3123, f1 score: 0.5464)\n"
     ]
    },
    {
     "name": "stderr",
     "output_type": "stream",
     "text": [
      "100%|██████████| 284/284 [00:01<00:00, 201.04it/s, loss=0.39962074559236854]\n"
     ]
    },
    {
     "name": "stdout",
     "output_type": "stream",
     "text": [
      "Epoch 109 train (loss: 0.3996, f1 score: 0.8673) test (loss: 1.3486, f1 score: 0.5102)\n"
     ]
    },
    {
     "name": "stderr",
     "output_type": "stream",
     "text": [
      "100%|██████████| 284/284 [00:01<00:00, 199.25it/s, loss=0.42165648260458805]\n"
     ]
    },
    {
     "name": "stdout",
     "output_type": "stream",
     "text": [
      "Epoch 110 train (loss: 0.4217, f1 score: 0.8367) test (loss: 1.3445, f1 score: 0.5354)\n"
     ]
    },
    {
     "name": "stderr",
     "output_type": "stream",
     "text": [
      "100%|██████████| 284/284 [00:01<00:00, 199.71it/s, loss=0.4558245809527672] \n"
     ]
    },
    {
     "name": "stdout",
     "output_type": "stream",
     "text": [
      "Epoch 111 train (loss: 0.4558, f1 score: 0.8052) test (loss: 1.3408, f1 score: 0.5194)\n"
     ]
    },
    {
     "name": "stderr",
     "output_type": "stream",
     "text": [
      "100%|██████████| 284/284 [00:01<00:00, 201.95it/s, loss=0.3836253288228735] \n"
     ]
    },
    {
     "name": "stdout",
     "output_type": "stream",
     "text": [
      "Epoch 112 train (loss: 0.3836, f1 score: 0.8499) test (loss: 1.1841, f1 score: 0.5914)\n"
     ]
    },
    {
     "name": "stderr",
     "output_type": "stream",
     "text": [
      "100%|██████████| 284/284 [00:01<00:00, 201.95it/s, loss=0.36277631935434995]\n"
     ]
    },
    {
     "name": "stdout",
     "output_type": "stream",
     "text": [
      "Epoch 113 train (loss: 0.3628, f1 score: 0.8409) test (loss: 1.3885, f1 score: 0.5689)\n"
     ]
    },
    {
     "name": "stderr",
     "output_type": "stream",
     "text": [
      "100%|██████████| 284/284 [00:01<00:00, 202.79it/s, loss=0.3266425506482565] \n"
     ]
    },
    {
     "name": "stdout",
     "output_type": "stream",
     "text": [
      "Epoch 114 train (loss: 0.3266, f1 score: 0.8566) test (loss: 1.5110, f1 score: 0.5790)\n"
     ]
    },
    {
     "name": "stderr",
     "output_type": "stream",
     "text": [
      "100%|██████████| 284/284 [00:01<00:00, 202.15it/s, loss=0.35445331630655064]\n"
     ]
    },
    {
     "name": "stdout",
     "output_type": "stream",
     "text": [
      "Epoch 115 train (loss: 0.3545, f1 score: 0.8979) test (loss: 1.3938, f1 score: 0.5552)\n"
     ]
    },
    {
     "name": "stderr",
     "output_type": "stream",
     "text": [
      "100%|██████████| 284/284 [00:01<00:00, 199.56it/s, loss=0.43048254863027413]\n"
     ]
    },
    {
     "name": "stdout",
     "output_type": "stream",
     "text": [
      "Epoch 116 train (loss: 0.4305, f1 score: 0.8206) test (loss: 1.3549, f1 score: 0.5789)\n"
     ]
    },
    {
     "name": "stderr",
     "output_type": "stream",
     "text": [
      "100%|██████████| 284/284 [00:01<00:00, 201.88it/s, loss=0.4078200082807803] \n"
     ]
    },
    {
     "name": "stdout",
     "output_type": "stream",
     "text": [
      "Epoch 117 train (loss: 0.4078, f1 score: 0.8675) test (loss: 1.3203, f1 score: 0.5605)\n"
     ]
    },
    {
     "name": "stderr",
     "output_type": "stream",
     "text": [
      "100%|██████████| 284/284 [00:01<00:00, 199.63it/s, loss=0.3031447398457652] \n"
     ]
    },
    {
     "name": "stdout",
     "output_type": "stream",
     "text": [
      "Epoch 118 train (loss: 0.3031, f1 score: 0.8913) test (loss: 1.2837, f1 score: 0.5664)\n"
     ]
    },
    {
     "name": "stderr",
     "output_type": "stream",
     "text": [
      "100%|██████████| 284/284 [00:01<00:00, 197.32it/s, loss=0.31641312665792803]\n"
     ]
    },
    {
     "name": "stdout",
     "output_type": "stream",
     "text": [
      "Epoch 119 train (loss: 0.3164, f1 score: 0.8857) test (loss: 1.4747, f1 score: 0.5545)\n"
     ]
    },
    {
     "name": "stderr",
     "output_type": "stream",
     "text": [
      "100%|██████████| 284/284 [00:01<00:00, 199.68it/s, loss=0.27691719740964094]\n"
     ]
    },
    {
     "name": "stdout",
     "output_type": "stream",
     "text": [
      "Epoch 120 train (loss: 0.2769, f1 score: 0.8880) test (loss: 1.3127, f1 score: 0.5978)\n"
     ]
    },
    {
     "name": "stderr",
     "output_type": "stream",
     "text": [
      "100%|██████████| 284/284 [00:01<00:00, 199.72it/s, loss=0.2640591260864005] \n"
     ]
    },
    {
     "name": "stdout",
     "output_type": "stream",
     "text": [
      "Epoch 121 train (loss: 0.2641, f1 score: 0.9173) test (loss: 1.4464, f1 score: 0.5759)\n"
     ]
    },
    {
     "name": "stderr",
     "output_type": "stream",
     "text": [
      "100%|██████████| 284/284 [00:01<00:00, 190.79it/s, loss=0.2612740330396648] \n"
     ]
    },
    {
     "name": "stdout",
     "output_type": "stream",
     "text": [
      "Epoch 122 train (loss: 0.2613, f1 score: 0.8873) test (loss: 1.3339, f1 score: 0.6013)\n"
     ]
    },
    {
     "name": "stderr",
     "output_type": "stream",
     "text": [
      "100%|██████████| 284/284 [00:01<00:00, 188.77it/s, loss=0.4977950067334949] \n"
     ]
    },
    {
     "name": "stdout",
     "output_type": "stream",
     "text": [
      "Epoch 123 train (loss: 0.4978, f1 score: 0.8296) test (loss: 1.1170, f1 score: 0.5700)\n"
     ]
    },
    {
     "name": "stderr",
     "output_type": "stream",
     "text": [
      "100%|██████████| 284/284 [00:01<00:00, 187.03it/s, loss=0.435750388665825]  \n"
     ]
    },
    {
     "name": "stdout",
     "output_type": "stream",
     "text": [
      "Epoch 124 train (loss: 0.4358, f1 score: 0.8246) test (loss: 1.4126, f1 score: 0.5242)\n"
     ]
    },
    {
     "name": "stderr",
     "output_type": "stream",
     "text": [
      "100%|██████████| 284/284 [00:01<00:00, 191.77it/s, loss=0.39369890015653475]\n"
     ]
    },
    {
     "name": "stdout",
     "output_type": "stream",
     "text": [
      "Epoch 125 train (loss: 0.3937, f1 score: 0.8524) test (loss: 1.6258, f1 score: 0.5096)\n"
     ]
    },
    {
     "name": "stderr",
     "output_type": "stream",
     "text": [
      "100%|██████████| 284/284 [00:01<00:00, 195.51it/s, loss=0.25330591495310756]\n"
     ]
    },
    {
     "name": "stdout",
     "output_type": "stream",
     "text": [
      "Epoch 126 train (loss: 0.2533, f1 score: 0.9101) test (loss: 1.3478, f1 score: 0.5833)\n"
     ]
    },
    {
     "name": "stderr",
     "output_type": "stream",
     "text": [
      "100%|██████████| 284/284 [00:01<00:00, 188.19it/s, loss=0.4196614918113431] \n"
     ]
    },
    {
     "name": "stdout",
     "output_type": "stream",
     "text": [
      "Epoch 127 train (loss: 0.4197, f1 score: 0.8802) test (loss: 1.6168, f1 score: 0.5155)\n"
     ]
    },
    {
     "name": "stderr",
     "output_type": "stream",
     "text": [
      "100%|██████████| 284/284 [00:01<00:00, 192.12it/s, loss=0.4831339228439645] \n"
     ]
    },
    {
     "name": "stdout",
     "output_type": "stream",
     "text": [
      "Epoch 128 train (loss: 0.4831, f1 score: 0.8317) test (loss: 1.2736, f1 score: 0.5932)\n"
     ]
    },
    {
     "name": "stderr",
     "output_type": "stream",
     "text": [
      "100%|██████████| 284/284 [00:01<00:00, 193.41it/s, loss=0.2917867347476229] \n"
     ]
    },
    {
     "name": "stdout",
     "output_type": "stream",
     "text": [
      "Epoch 129 train (loss: 0.2918, f1 score: 0.8930) test (loss: 1.2860, f1 score: 0.6236)\n"
     ]
    },
    {
     "name": "stderr",
     "output_type": "stream",
     "text": [
      "100%|██████████| 284/284 [00:01<00:00, 199.34it/s, loss=0.2752012624447725] \n"
     ]
    },
    {
     "name": "stdout",
     "output_type": "stream",
     "text": [
      "Epoch 130 train (loss: 0.2752, f1 score: 0.9007) test (loss: 1.3593, f1 score: 0.5254)\n"
     ]
    },
    {
     "name": "stderr",
     "output_type": "stream",
     "text": [
      "100%|██████████| 284/284 [00:01<00:00, 197.29it/s, loss=0.18715417051708103]\n"
     ]
    },
    {
     "name": "stdout",
     "output_type": "stream",
     "text": [
      "Epoch 131 train (loss: 0.1872, f1 score: 0.9238) test (loss: 1.4833, f1 score: 0.5347)\n"
     ]
    },
    {
     "name": "stderr",
     "output_type": "stream",
     "text": [
      "100%|██████████| 284/284 [00:01<00:00, 195.83it/s, loss=0.17070545102500495]\n"
     ]
    },
    {
     "name": "stdout",
     "output_type": "stream",
     "text": [
      "Epoch 132 train (loss: 0.1707, f1 score: 0.9446) test (loss: 1.6391, f1 score: 0.5218)\n"
     ]
    },
    {
     "name": "stderr",
     "output_type": "stream",
     "text": [
      "100%|██████████| 284/284 [00:01<00:00, 196.74it/s, loss=0.3622615927931715] \n"
     ]
    },
    {
     "name": "stdout",
     "output_type": "stream",
     "text": [
      "Epoch 133 train (loss: 0.3623, f1 score: 0.8642) test (loss: 1.2262, f1 score: 0.6338)\n"
     ]
    },
    {
     "name": "stderr",
     "output_type": "stream",
     "text": [
      "100%|██████████| 284/284 [00:01<00:00, 194.97it/s, loss=0.2953413355668397] \n"
     ]
    },
    {
     "name": "stdout",
     "output_type": "stream",
     "text": [
      "Epoch 134 train (loss: 0.2953, f1 score: 0.8881) test (loss: 1.3478, f1 score: 0.6139)\n"
     ]
    },
    {
     "name": "stderr",
     "output_type": "stream",
     "text": [
      "100%|██████████| 284/284 [00:01<00:00, 198.02it/s, loss=0.2635615429103958] \n"
     ]
    },
    {
     "name": "stdout",
     "output_type": "stream",
     "text": [
      "Epoch 135 train (loss: 0.2636, f1 score: 0.9129) test (loss: 1.5109, f1 score: 0.5102)\n"
     ]
    },
    {
     "name": "stderr",
     "output_type": "stream",
     "text": [
      "100%|██████████| 284/284 [00:01<00:00, 199.20it/s, loss=0.23758979138697406]\n"
     ]
    },
    {
     "name": "stdout",
     "output_type": "stream",
     "text": [
      "Epoch 136 train (loss: 0.2376, f1 score: 0.9189) test (loss: 1.2058, f1 score: 0.6525)\n"
     ]
    },
    {
     "name": "stderr",
     "output_type": "stream",
     "text": [
      "100%|██████████| 284/284 [00:01<00:00, 195.08it/s, loss=0.3451663498140527] \n"
     ]
    },
    {
     "name": "stdout",
     "output_type": "stream",
     "text": [
      "Epoch 137 train (loss: 0.3452, f1 score: 0.8411) test (loss: 1.5912, f1 score: 0.5996)\n"
     ]
    },
    {
     "name": "stderr",
     "output_type": "stream",
     "text": [
      "100%|██████████| 284/284 [00:01<00:00, 193.14it/s, loss=0.28094142605211125]\n"
     ]
    },
    {
     "name": "stdout",
     "output_type": "stream",
     "text": [
      "Epoch 138 train (loss: 0.2809, f1 score: 0.8844) test (loss: 1.6004, f1 score: 0.5620)\n"
     ]
    },
    {
     "name": "stderr",
     "output_type": "stream",
     "text": [
      "100%|██████████| 284/284 [00:01<00:00, 192.77it/s, loss=0.20218692775624347]\n"
     ]
    },
    {
     "name": "stdout",
     "output_type": "stream",
     "text": [
      "Epoch 139 train (loss: 0.2022, f1 score: 0.9296) test (loss: 1.3814, f1 score: 0.6622)\n"
     ]
    },
    {
     "name": "stderr",
     "output_type": "stream",
     "text": [
      "100%|██████████| 284/284 [00:01<00:00, 186.98it/s, loss=0.16204658103624175]\n"
     ]
    },
    {
     "name": "stdout",
     "output_type": "stream",
     "text": [
      "Epoch 140 train (loss: 0.1620, f1 score: 0.9664) test (loss: 1.4598, f1 score: 0.6469)\n"
     ]
    },
    {
     "name": "stderr",
     "output_type": "stream",
     "text": [
      "100%|██████████| 284/284 [00:01<00:00, 188.50it/s, loss=0.127047578646934]  \n"
     ]
    },
    {
     "name": "stdout",
     "output_type": "stream",
     "text": [
      "Epoch 141 train (loss: 0.1270, f1 score: 0.9680) test (loss: 1.5409, f1 score: 0.5478)\n"
     ]
    },
    {
     "name": "stderr",
     "output_type": "stream",
     "text": [
      "100%|██████████| 284/284 [00:01<00:00, 192.70it/s, loss=0.21357251811834413]\n"
     ]
    },
    {
     "name": "stdout",
     "output_type": "stream",
     "text": [
      "Epoch 142 train (loss: 0.2136, f1 score: 0.9290) test (loss: 1.2859, f1 score: 0.6472)\n"
     ]
    },
    {
     "name": "stderr",
     "output_type": "stream",
     "text": [
      "100%|██████████| 284/284 [00:01<00:00, 194.79it/s, loss=0.3722296194939737] \n"
     ]
    },
    {
     "name": "stdout",
     "output_type": "stream",
     "text": [
      "Epoch 143 train (loss: 0.3722, f1 score: 0.8594) test (loss: 1.4835, f1 score: 0.5348)\n"
     ]
    },
    {
     "name": "stderr",
     "output_type": "stream",
     "text": [
      "100%|██████████| 284/284 [00:01<00:00, 190.34it/s, loss=0.25392625500749283]\n"
     ]
    },
    {
     "name": "stdout",
     "output_type": "stream",
     "text": [
      "Epoch 144 train (loss: 0.2539, f1 score: 0.9250) test (loss: 1.4586, f1 score: 0.6075)\n"
     ]
    },
    {
     "name": "stderr",
     "output_type": "stream",
     "text": [
      "100%|██████████| 284/284 [00:01<00:00, 190.71it/s, loss=0.23109331004504327]\n"
     ]
    },
    {
     "name": "stdout",
     "output_type": "stream",
     "text": [
      "Epoch 145 train (loss: 0.2311, f1 score: 0.9130) test (loss: 1.4390, f1 score: 0.5931)\n"
     ]
    },
    {
     "name": "stderr",
     "output_type": "stream",
     "text": [
      "100%|██████████| 284/284 [00:01<00:00, 193.62it/s, loss=0.15652456844415857]\n"
     ]
    },
    {
     "name": "stdout",
     "output_type": "stream",
     "text": [
      "Epoch 146 train (loss: 0.1565, f1 score: 0.9525) test (loss: 1.2486, f1 score: 0.5962)\n"
     ]
    },
    {
     "name": "stderr",
     "output_type": "stream",
     "text": [
      "100%|██████████| 284/284 [00:01<00:00, 201.60it/s, loss=0.1398055053160328] \n"
     ]
    },
    {
     "name": "stdout",
     "output_type": "stream",
     "text": [
      "Epoch 147 train (loss: 0.1398, f1 score: 0.9561) test (loss: 1.7696, f1 score: 0.5859)\n"
     ]
    },
    {
     "name": "stderr",
     "output_type": "stream",
     "text": [
      "100%|██████████| 284/284 [00:01<00:00, 194.99it/s, loss=0.17629103058052478]\n"
     ]
    },
    {
     "name": "stdout",
     "output_type": "stream",
     "text": [
      "Epoch 148 train (loss: 0.1763, f1 score: 0.9542) test (loss: 1.7295, f1 score: 0.5775)\n"
     ]
    },
    {
     "name": "stderr",
     "output_type": "stream",
     "text": [
      "100%|██████████| 284/284 [00:01<00:00, 195.20it/s, loss=0.09975605189730474]\n"
     ]
    },
    {
     "name": "stdout",
     "output_type": "stream",
     "text": [
      "Epoch 149 train (loss: 0.0998, f1 score: 0.9705) test (loss: 1.5778, f1 score: 0.6057)\n"
     ]
    },
    {
     "name": "stderr",
     "output_type": "stream",
     "text": [
      "100%|██████████| 284/284 [00:01<00:00, 199.90it/s, loss=0.1676084428479082] \n"
     ]
    },
    {
     "name": "stdout",
     "output_type": "stream",
     "text": [
      "Epoch 150 train (loss: 0.1676, f1 score: 0.9476) test (loss: 1.4372, f1 score: 0.5749)\n"
     ]
    },
    {
     "name": "stderr",
     "output_type": "stream",
     "text": [
      "100%|██████████| 284/284 [00:01<00:00, 199.19it/s, loss=0.4224014200621574] \n"
     ]
    },
    {
     "name": "stdout",
     "output_type": "stream",
     "text": [
      "Epoch 151 train (loss: 0.4224, f1 score: 0.8529) test (loss: 1.2708, f1 score: 0.7063)\n"
     ]
    },
    {
     "name": "stderr",
     "output_type": "stream",
     "text": [
      "100%|██████████| 284/284 [00:01<00:00, 197.46it/s, loss=0.24633373083169074]\n"
     ]
    },
    {
     "name": "stdout",
     "output_type": "stream",
     "text": [
      "Epoch 152 train (loss: 0.2463, f1 score: 0.9189) test (loss: 1.4479, f1 score: 0.6474)\n"
     ]
    },
    {
     "name": "stderr",
     "output_type": "stream",
     "text": [
      "100%|██████████| 284/284 [00:01<00:00, 192.57it/s, loss=0.19215577040196083]\n"
     ]
    },
    {
     "name": "stdout",
     "output_type": "stream",
     "text": [
      "Epoch 153 train (loss: 0.1922, f1 score: 0.9373) test (loss: 1.3532, f1 score: 0.5872)\n"
     ]
    },
    {
     "name": "stderr",
     "output_type": "stream",
     "text": [
      "100%|██████████| 284/284 [00:01<00:00, 189.28it/s, loss=0.09694493135181584]\n"
     ]
    },
    {
     "name": "stdout",
     "output_type": "stream",
     "text": [
      "Epoch 154 train (loss: 0.0969, f1 score: 0.9767) test (loss: 1.3806, f1 score: 0.6059)\n"
     ]
    },
    {
     "name": "stderr",
     "output_type": "stream",
     "text": [
      "100%|██████████| 284/284 [00:01<00:00, 192.19it/s, loss=0.11501670013757588]\n"
     ]
    },
    {
     "name": "stdout",
     "output_type": "stream",
     "text": [
      "Epoch 155 train (loss: 0.1150, f1 score: 0.9706) test (loss: 1.4991, f1 score: 0.6264)\n"
     ]
    },
    {
     "name": "stderr",
     "output_type": "stream",
     "text": [
      "100%|██████████| 284/284 [00:01<00:00, 190.78it/s, loss=0.10261198973670566]\n"
     ]
    },
    {
     "name": "stdout",
     "output_type": "stream",
     "text": [
      "Epoch 156 train (loss: 0.1026, f1 score: 0.9635) test (loss: 1.5013, f1 score: 0.6015)\n"
     ]
    },
    {
     "name": "stderr",
     "output_type": "stream",
     "text": [
      "100%|██████████| 284/284 [00:01<00:00, 188.43it/s, loss=0.1328934501178236] \n"
     ]
    },
    {
     "name": "stdout",
     "output_type": "stream",
     "text": [
      "Epoch 157 train (loss: 0.1329, f1 score: 0.9613) test (loss: 1.6193, f1 score: 0.6284)\n"
     ]
    },
    {
     "name": "stderr",
     "output_type": "stream",
     "text": [
      "100%|██████████| 284/284 [00:01<00:00, 178.78it/s, loss=0.20405394184966957]\n"
     ]
    },
    {
     "name": "stdout",
     "output_type": "stream",
     "text": [
      "Epoch 158 train (loss: 0.2041, f1 score: 0.9177) test (loss: 1.2850, f1 score: 0.6030)\n"
     ]
    },
    {
     "name": "stderr",
     "output_type": "stream",
     "text": [
      "100%|██████████| 284/284 [00:01<00:00, 191.27it/s, loss=0.10752325809616337]\n"
     ]
    },
    {
     "name": "stdout",
     "output_type": "stream",
     "text": [
      "Epoch 159 train (loss: 0.1075, f1 score: 0.9652) test (loss: 1.4343, f1 score: 0.6698)\n"
     ]
    },
    {
     "name": "stderr",
     "output_type": "stream",
     "text": [
      "100%|██████████| 284/284 [00:01<00:00, 192.87it/s, loss=0.19335575059385135]\n"
     ]
    },
    {
     "name": "stdout",
     "output_type": "stream",
     "text": [
      "Epoch 160 train (loss: 0.1934, f1 score: 0.9395) test (loss: 1.9883, f1 score: 0.5856)\n"
     ]
    },
    {
     "name": "stderr",
     "output_type": "stream",
     "text": [
      "100%|██████████| 284/284 [00:01<00:00, 190.24it/s, loss=0.21782891588552214]\n"
     ]
    },
    {
     "name": "stdout",
     "output_type": "stream",
     "text": [
      "Epoch 161 train (loss: 0.2178, f1 score: 0.9215) test (loss: 1.5819, f1 score: 0.5107)\n"
     ]
    },
    {
     "name": "stderr",
     "output_type": "stream",
     "text": [
      "100%|██████████| 284/284 [00:01<00:00, 194.25it/s, loss=0.17631370858083448]\n"
     ]
    },
    {
     "name": "stdout",
     "output_type": "stream",
     "text": [
      "Epoch 162 train (loss: 0.1763, f1 score: 0.9404) test (loss: 1.5853, f1 score: 0.6691)\n"
     ]
    },
    {
     "name": "stderr",
     "output_type": "stream",
     "text": [
      "100%|██████████| 284/284 [00:01<00:00, 188.38it/s, loss=0.14060281327074078]\n"
     ]
    },
    {
     "name": "stdout",
     "output_type": "stream",
     "text": [
      "Epoch 163 train (loss: 0.1406, f1 score: 0.9548) test (loss: 1.5615, f1 score: 0.6846)\n"
     ]
    },
    {
     "name": "stderr",
     "output_type": "stream",
     "text": [
      "100%|██████████| 284/284 [00:01<00:00, 201.54it/s, loss=0.05802396577043292] \n"
     ]
    },
    {
     "name": "stdout",
     "output_type": "stream",
     "text": [
      "Epoch 164 train (loss: 0.0580, f1 score: 0.9873) test (loss: 1.3922, f1 score: 0.6891)\n"
     ]
    },
    {
     "name": "stderr",
     "output_type": "stream",
     "text": [
      "100%|██████████| 284/284 [00:01<00:00, 197.56it/s, loss=0.08116129403628881] \n"
     ]
    },
    {
     "name": "stdout",
     "output_type": "stream",
     "text": [
      "Epoch 165 train (loss: 0.0812, f1 score: 0.9752) test (loss: 1.6460, f1 score: 0.6809)\n"
     ]
    },
    {
     "name": "stderr",
     "output_type": "stream",
     "text": [
      "100%|██████████| 284/284 [00:01<00:00, 195.50it/s, loss=0.09799915344640628]\n"
     ]
    },
    {
     "name": "stdout",
     "output_type": "stream",
     "text": [
      "Epoch 166 train (loss: 0.0980, f1 score: 0.9675) test (loss: 1.5326, f1 score: 0.6782)\n"
     ]
    },
    {
     "name": "stderr",
     "output_type": "stream",
     "text": [
      "100%|██████████| 284/284 [00:01<00:00, 190.83it/s, loss=0.05971484089155625] \n"
     ]
    },
    {
     "name": "stdout",
     "output_type": "stream",
     "text": [
      "Epoch 167 train (loss: 0.0597, f1 score: 0.9846) test (loss: 1.4692, f1 score: 0.7011)\n"
     ]
    },
    {
     "name": "stderr",
     "output_type": "stream",
     "text": [
      "100%|██████████| 284/284 [00:01<00:00, 197.38it/s, loss=0.05313439625245779] \n"
     ]
    },
    {
     "name": "stdout",
     "output_type": "stream",
     "text": [
      "Epoch 168 train (loss: 0.0531, f1 score: 0.9825) test (loss: 1.6624, f1 score: 0.5763)\n"
     ]
    },
    {
     "name": "stderr",
     "output_type": "stream",
     "text": [
      "100%|██████████| 284/284 [00:01<00:00, 195.12it/s, loss=0.45589978220770067]\n"
     ]
    },
    {
     "name": "stdout",
     "output_type": "stream",
     "text": [
      "Epoch 169 train (loss: 0.4559, f1 score: 0.8966) test (loss: 2.4812, f1 score: 0.5428)\n"
     ]
    },
    {
     "name": "stderr",
     "output_type": "stream",
     "text": [
      "100%|██████████| 284/284 [00:01<00:00, 195.61it/s, loss=0.4659142864494742] \n"
     ]
    },
    {
     "name": "stdout",
     "output_type": "stream",
     "text": [
      "Epoch 170 train (loss: 0.4659, f1 score: 0.8278) test (loss: 1.5112, f1 score: 0.6120)\n"
     ]
    },
    {
     "name": "stderr",
     "output_type": "stream",
     "text": [
      "100%|██████████| 284/284 [00:01<00:00, 192.14it/s, loss=0.11613150620250579]\n"
     ]
    },
    {
     "name": "stdout",
     "output_type": "stream",
     "text": [
      "Epoch 171 train (loss: 0.1161, f1 score: 0.9831) test (loss: 1.4754, f1 score: 0.6227)\n"
     ]
    },
    {
     "name": "stderr",
     "output_type": "stream",
     "text": [
      "100%|██████████| 284/284 [00:01<00:00, 199.20it/s, loss=0.06211266069610413] \n"
     ]
    },
    {
     "name": "stdout",
     "output_type": "stream",
     "text": [
      "Epoch 172 train (loss: 0.0621, f1 score: 0.9818) test (loss: 1.6264, f1 score: 0.6208)\n"
     ]
    },
    {
     "name": "stderr",
     "output_type": "stream",
     "text": [
      "100%|██████████| 284/284 [00:01<00:00, 191.35it/s, loss=0.05852655649869121] \n"
     ]
    },
    {
     "name": "stdout",
     "output_type": "stream",
     "text": [
      "Epoch 173 train (loss: 0.0585, f1 score: 0.9911) test (loss: 1.7793, f1 score: 0.5922)\n"
     ]
    },
    {
     "name": "stderr",
     "output_type": "stream",
     "text": [
      "100%|██████████| 284/284 [00:01<00:00, 191.94it/s, loss=0.11201436521015931]\n"
     ]
    },
    {
     "name": "stdout",
     "output_type": "stream",
     "text": [
      "Epoch 174 train (loss: 0.1120, f1 score: 0.9740) test (loss: 1.8169, f1 score: 0.5901)\n"
     ]
    },
    {
     "name": "stderr",
     "output_type": "stream",
     "text": [
      "100%|██████████| 284/284 [00:01<00:00, 191.20it/s, loss=0.042977166742970516]\n"
     ]
    },
    {
     "name": "stdout",
     "output_type": "stream",
     "text": [
      "Epoch 175 train (loss: 0.0430, f1 score: 0.9924) test (loss: 1.5119, f1 score: 0.6469)\n"
     ]
    },
    {
     "name": "stderr",
     "output_type": "stream",
     "text": [
      "100%|██████████| 284/284 [00:01<00:00, 190.79it/s, loss=0.02739104483046657] \n"
     ]
    },
    {
     "name": "stdout",
     "output_type": "stream",
     "text": [
      "Epoch 176 train (loss: 0.0274, f1 score: 1.0000) test (loss: 1.6219, f1 score: 0.6507)\n"
     ]
    },
    {
     "name": "stderr",
     "output_type": "stream",
     "text": [
      "100%|██████████| 284/284 [00:01<00:00, 195.47it/s, loss=0.029662727326717365]\n"
     ]
    },
    {
     "name": "stdout",
     "output_type": "stream",
     "text": [
      "Epoch 177 train (loss: 0.0297, f1 score: 0.9939) test (loss: 1.5470, f1 score: 0.5819)\n"
     ]
    },
    {
     "name": "stderr",
     "output_type": "stream",
     "text": [
      "100%|██████████| 284/284 [00:01<00:00, 197.41it/s, loss=0.02454639213574794] \n"
     ]
    },
    {
     "name": "stdout",
     "output_type": "stream",
     "text": [
      "Epoch 178 train (loss: 0.0245, f1 score: 0.9924) test (loss: 1.5957, f1 score: 0.6003)\n"
     ]
    },
    {
     "name": "stderr",
     "output_type": "stream",
     "text": [
      "100%|██████████| 284/284 [00:01<00:00, 199.59it/s, loss=0.36823940748153494]\n"
     ]
    },
    {
     "name": "stdout",
     "output_type": "stream",
     "text": [
      "Epoch 179 train (loss: 0.3682, f1 score: 0.8852) test (loss: 1.7787, f1 score: 0.5704)\n"
     ]
    },
    {
     "name": "stderr",
     "output_type": "stream",
     "text": [
      "100%|██████████| 284/284 [00:01<00:00, 199.72it/s, loss=0.40311033536010626]\n"
     ]
    },
    {
     "name": "stdout",
     "output_type": "stream",
     "text": [
      "Epoch 180 train (loss: 0.4031, f1 score: 0.8544) test (loss: 1.8208, f1 score: 0.5876)\n"
     ]
    },
    {
     "name": "stderr",
     "output_type": "stream",
     "text": [
      "100%|██████████| 284/284 [00:01<00:00, 199.66it/s, loss=0.2838670879021227] \n"
     ]
    },
    {
     "name": "stdout",
     "output_type": "stream",
     "text": [
      "Epoch 181 train (loss: 0.2839, f1 score: 0.8770) test (loss: 1.4322, f1 score: 0.6558)\n"
     ]
    },
    {
     "name": "stderr",
     "output_type": "stream",
     "text": [
      "100%|██████████| 284/284 [00:01<00:00, 202.05it/s, loss=0.11798447925027598]\n"
     ]
    },
    {
     "name": "stdout",
     "output_type": "stream",
     "text": [
      "Epoch 182 train (loss: 0.1180, f1 score: 0.9653) test (loss: 1.3501, f1 score: 0.6945)\n"
     ]
    },
    {
     "name": "stderr",
     "output_type": "stream",
     "text": [
      "100%|██████████| 284/284 [00:01<00:00, 197.25it/s, loss=0.04334144954504807] \n"
     ]
    },
    {
     "name": "stdout",
     "output_type": "stream",
     "text": [
      "Epoch 183 train (loss: 0.0433, f1 score: 0.9924) test (loss: 1.5994, f1 score: 0.6792)\n"
     ]
    },
    {
     "name": "stderr",
     "output_type": "stream",
     "text": [
      "100%|██████████| 284/284 [00:01<00:00, 193.66it/s, loss=0.03267518438595058] \n"
     ]
    },
    {
     "name": "stdout",
     "output_type": "stream",
     "text": [
      "Epoch 184 train (loss: 0.0327, f1 score: 1.0000) test (loss: 1.4496, f1 score: 0.6587)\n"
     ]
    },
    {
     "name": "stderr",
     "output_type": "stream",
     "text": [
      "100%|██████████| 284/284 [00:01<00:00, 202.55it/s, loss=0.04220592963184559] \n"
     ]
    },
    {
     "name": "stdout",
     "output_type": "stream",
     "text": [
      "Epoch 185 train (loss: 0.0422, f1 score: 0.9908) test (loss: 1.4790, f1 score: 0.6351)\n"
     ]
    },
    {
     "name": "stderr",
     "output_type": "stream",
     "text": [
      "100%|██████████| 284/284 [00:01<00:00, 189.64it/s, loss=0.021563410831363462]\n"
     ]
    },
    {
     "name": "stdout",
     "output_type": "stream",
     "text": [
      "Epoch 186 train (loss: 0.0216, f1 score: 1.0000) test (loss: 1.5316, f1 score: 0.6346)\n"
     ]
    },
    {
     "name": "stderr",
     "output_type": "stream",
     "text": [
      "100%|██████████| 284/284 [00:01<00:00, 185.43it/s, loss=0.0191462120794063]  \n"
     ]
    },
    {
     "name": "stdout",
     "output_type": "stream",
     "text": [
      "Epoch 187 train (loss: 0.0191, f1 score: 1.0000) test (loss: 1.5108, f1 score: 0.6166)\n"
     ]
    },
    {
     "name": "stderr",
     "output_type": "stream",
     "text": [
      "100%|██████████| 284/284 [00:01<00:00, 188.31it/s, loss=0.017865770046160884]\n"
     ]
    },
    {
     "name": "stdout",
     "output_type": "stream",
     "text": [
      "Epoch 188 train (loss: 0.0179, f1 score: 1.0000) test (loss: 1.5205, f1 score: 0.6867)\n"
     ]
    },
    {
     "name": "stderr",
     "output_type": "stream",
     "text": [
      "100%|██████████| 284/284 [00:01<00:00, 187.53it/s, loss=0.017690958412029584]\n"
     ]
    },
    {
     "name": "stdout",
     "output_type": "stream",
     "text": [
      "Epoch 189 train (loss: 0.0177, f1 score: 1.0000) test (loss: 1.8437, f1 score: 0.5535)\n"
     ]
    },
    {
     "name": "stderr",
     "output_type": "stream",
     "text": [
      "100%|██████████| 284/284 [00:01<00:00, 186.74it/s, loss=0.42722604618272825]\n"
     ]
    },
    {
     "name": "stdout",
     "output_type": "stream",
     "text": [
      "Epoch 190 train (loss: 0.4272, f1 score: 0.8550) test (loss: 1.8345, f1 score: 0.6055)\n"
     ]
    },
    {
     "name": "stderr",
     "output_type": "stream",
     "text": [
      "100%|██████████| 284/284 [00:01<00:00, 186.18it/s, loss=0.5751468824983919]\n"
     ]
    },
    {
     "name": "stdout",
     "output_type": "stream",
     "text": [
      "Epoch 191 train (loss: 0.5751, f1 score: 0.7924) test (loss: 1.6876, f1 score: 0.6150)\n"
     ]
    },
    {
     "name": "stderr",
     "output_type": "stream",
     "text": [
      "100%|██████████| 284/284 [00:01<00:00, 184.56it/s, loss=0.21713846399012723]\n"
     ]
    },
    {
     "name": "stdout",
     "output_type": "stream",
     "text": [
      "Epoch 192 train (loss: 0.2171, f1 score: 0.9233) test (loss: 1.9382, f1 score: 0.5742)\n"
     ]
    },
    {
     "name": "stderr",
     "output_type": "stream",
     "text": [
      "100%|██████████| 284/284 [00:01<00:00, 188.70it/s, loss=0.08342312350754115]\n"
     ]
    },
    {
     "name": "stdout",
     "output_type": "stream",
     "text": [
      "Epoch 193 train (loss: 0.0834, f1 score: 0.9865) test (loss: 1.8751, f1 score: 0.5974)\n"
     ]
    },
    {
     "name": "stderr",
     "output_type": "stream",
     "text": [
      "100%|██████████| 284/284 [00:01<00:00, 200.22it/s, loss=0.04687211696226397] \n"
     ]
    },
    {
     "name": "stdout",
     "output_type": "stream",
     "text": [
      "Epoch 194 train (loss: 0.0469, f1 score: 1.0000) test (loss: 2.0212, f1 score: 0.5563)\n"
     ]
    },
    {
     "name": "stderr",
     "output_type": "stream",
     "text": [
      "100%|██████████| 284/284 [00:01<00:00, 197.25it/s, loss=0.03643424833626981] \n"
     ]
    },
    {
     "name": "stdout",
     "output_type": "stream",
     "text": [
      "Epoch 195 train (loss: 0.0364, f1 score: 0.9969) test (loss: 1.9531, f1 score: 0.5498)\n"
     ]
    },
    {
     "name": "stderr",
     "output_type": "stream",
     "text": [
      "100%|██████████| 284/284 [00:01<00:00, 197.16it/s, loss=0.046477258483456595]\n"
     ]
    },
    {
     "name": "stdout",
     "output_type": "stream",
     "text": [
      "Epoch 196 train (loss: 0.0465, f1 score: 0.9895) test (loss: 1.6721, f1 score: 0.5964)\n"
     ]
    },
    {
     "name": "stderr",
     "output_type": "stream",
     "text": [
      "100%|██████████| 284/284 [00:01<00:00, 193.42it/s, loss=0.05799619371604307] \n"
     ]
    },
    {
     "name": "stdout",
     "output_type": "stream",
     "text": [
      "Epoch 197 train (loss: 0.0580, f1 score: 0.9865) test (loss: 2.1257, f1 score: 0.5735)\n"
     ]
    },
    {
     "name": "stderr",
     "output_type": "stream",
     "text": [
      "100%|██████████| 284/284 [00:01<00:00, 199.39it/s, loss=0.18823219595632473]\n"
     ]
    },
    {
     "name": "stdout",
     "output_type": "stream",
     "text": [
      "Epoch 198 train (loss: 0.1882, f1 score: 0.9424) test (loss: 1.7884, f1 score: 0.5371)\n"
     ]
    },
    {
     "name": "stderr",
     "output_type": "stream",
     "text": [
      "100%|██████████| 284/284 [00:01<00:00, 193.13it/s, loss=0.16691113496825327]\n"
     ]
    },
    {
     "name": "stdout",
     "output_type": "stream",
     "text": [
      "Epoch 199 train (loss: 0.1669, f1 score: 0.9409) test (loss: 1.8519, f1 score: 0.5920)\n"
     ]
    },
    {
     "name": "stderr",
     "output_type": "stream",
     "text": [
      "100%|██████████| 284/284 [00:01<00:00, 193.60it/s, loss=0.04842840119413203] \n"
     ]
    },
    {
     "name": "stdout",
     "output_type": "stream",
     "text": [
      "Epoch 200 train (loss: 0.0484, f1 score: 0.9908) test (loss: 1.6457, f1 score: 0.6628)\n"
     ]
    }
   ],
   "source": [
    "history = train_model(model, 200, criterion, optimizer, ckpt_path='models/simple_lstm/best.pt')"
   ]
  },
  {
   "cell_type": "code",
   "execution_count": 123,
   "metadata": {},
   "outputs": [
    {
     "name": "stdout",
     "output_type": "stream",
     "text": [
      "Best F1 score: 0.706307227630757\n"
     ]
    }
   ],
   "source": [
    "print(f\"Best F1 score: {max(history['test_scores'])}\")"
   ]
  },
  {
   "cell_type": "markdown",
   "metadata": {},
   "source": [
    "# Results visualization"
   ]
  },
  {
   "cell_type": "code",
   "execution_count": 124,
   "metadata": {},
   "outputs": [],
   "source": [
    "from matplotlib import pyplot as plt"
   ]
  },
  {
   "cell_type": "code",
   "execution_count": 125,
   "metadata": {},
   "outputs": [
    {
     "data": {
      "image/png": "[encoded data removed]",
      "text/plain": [
       "<Figure size 640x480 with 1 Axes>"
      ]
     },
     "metadata": {},
     "output_type": "display_data"
    }
   ],
   "source": [
    "plt.plot(history['train_losses'], label='Train Loss')\n",
    "plt.plot(history['test_losses'], label='Test Loss')\n",
    "plt.title(\"Losses\")\n",
    "plt.legend()\n",
    "plt.show()"
   ]
  },
  {
   "cell_type": "code",
   "execution_count": 126,
   "metadata": {},
   "outputs": [
    {
     "data": {
      "image/png": "[encoded data removed]",
      "text/plain": [
       "<Figure size 640x480 with 1 Axes>"
      ]
     },
     "metadata": {},
     "output_type": "display_data"
    }
   ],
   "source": [
    "plt.plot(history['train_scores'], label=\"Train F1\")\n",
    "plt.plot(history['test_scores'], label=\"Test F1\")\n",
    "plt.title(\"Scores\")\n",
    "plt.legend()\n",
    "plt.show()"
   ]
  }
 ],
 "metadata": {
  "colab": {
   "provenance": []
  },
  "kernelspec": {
   "display_name": "Python 3 (ipykernel)",
   "language": "python",
   "name": "python3"
  },
  "language_info": {
   "codemirror_mode": {
    "name": "ipython",
    "version": 3
   },
   "file_extension": ".py",
   "mimetype": "text/x-python",
   "name": "python",
   "nbconvert_exporter": "python",
   "pygments_lexer": "ipython3",
   "version": "3.11.4"
  }
 },
 "nbformat": 4,
 "nbformat_minor": 4
}
